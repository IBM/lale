{
 "cells": [
  {
   "cell_type": "markdown",
   "id": "64d35c82",
   "metadata": {},
   "source": [
    "# AI Automation for AI Fairness\n",
    "When AI models contribute to high-impact decisions such as whether or not someone gets a loan, we want them to be fair. Unfortunately, in current practice, AI models are often optimized primarily for accuracy, with little consideration for fairness. This notebook gives a hands-on example for how AI Automation can help build AI models that are both accurate and fair. This notebook is written for data scientists who have some familiarity with Python. No prior knowledge of AI Automation or AI Fairness is required, we will introduce the relevant concepts as we get to them.\n",
    "\n",
    "Bias in data leads to bias in models. AI models are increasingly consulted for consequential decisions about people, in domains including credit loans, hiring and retention, penal justice, medical, and more. Often, the model is trained from past decisions made by humans. If the decisions used for training were discriminatory, then your trained model will be too, unless you are careful. Being careful about bias is something you should do as a data scientist. Fortunately, you do not have to grapple with this issue alone. You can consult others about ethics. You can also ask yourself how your AI model may affect your (or your institution's) reputation. And ultimately, you must follow applicable laws and regulations.\n",
    "\n",
    "AI Fairness can be measured via several metrics, and you need to select the appropriate metrics based on the circumstances. For illustration purposes, this notebook uses one particular fairness metric called disparate impact. Disparate impact is defined as the ratio of the rate of favorable outcome for the unprivileged group to that of the privileged group. To make this definition more concrete, consider the case where a favorable outcome means getting a loan, the unprivileged group is women, and the privileged group is men. Then if your AI model were to let women get a loan in 30% of the cases and men in 60% of the cases, the disparate impact would be 30% / 60% = 0.5, indicating a gender bias towards men. The ideal value for disparate impact is 1, and you could define fairness for this metric as a band around 1, e.g., from 0.8 to 1.25.\n",
    "\n",
    "To get the best performance out of your AI model, you must experiment with its configuration. This means searching a high-dimensional space where some options are categorical, some are continuous, and some are even conditional. No configuration is optimal for all domains let alone all metrics, and searching them all by hand is impossible. In fact, in a high-dimensional space, even exhaustively enumerating all the valid combinations soon becomes impractical. Fortunately, you can use tools to automate the search, thus making you more productive at finding good models quickly. These productivity and quality improvements become compounded when you have to do the search over.\n",
    "\n",
    "AI Automation is a technology that assists data scientists in building AI models by automating some of the tedious steps. One AI automation technique is algorithm selection , which automatically chooses among alternative algorithms for a particular task. Another AI automation technique is hyperparameter tuning , which automatically configures the arguments of AI algorithms. You can use AI automation to optimize for a variety of metrics. This notebook shows you how to use AI automation to optimize for both accuracy and for fairness as measured by disparate impact.\n",
    "\n",
    "This Jupyter notebook uses the following open-source Python libraries. AIF360 is a collection of fairness metrics and bias mitigation algorithms. The pandas and scikit-learn libraries support data analysis and machine learning with data structures and a comprehensive collection of AI algorithms. The hyperopt library implements both algorithm selection and hyperparameter tuning for AI automation. And Lale is a library for semi-automated data science; this notebook uses Lale as the backbone for putting the other libraries together.\n",
    "\n",
    "Our starting point is a dataset and a task. For illustration purposes, we picked credit-g, also known as the German Credit dataset. Each row describes a person using several features that may help evaluate them as a potential loan applicant. The task is to classify people into either good or bad credit risks. We load the version of the dataset from OpenML along with some fairness metadata."
   ]
  },
  {
   "cell_type": "code",
   "execution_count": 1,
   "id": "6fa7bb8b",
   "metadata": {},
   "outputs": [],
   "source": [
    "from lale.lib.aif360 import fetch_creditg_df\n",
    "all_X, all_y, fairness_info = fetch_creditg_df(preprocess=True)"
   ]
  },
  {
   "cell_type": "markdown",
   "id": "dff6bc6b",
   "metadata": {},
   "source": [
    "# \n",
    "To see what the dataset looks like, we can use off-the-shelf functionality from pandas for inspecting a few rows. The creditg dataset has a single label column, class, to be pr"
   ]
  },
  {
   "cell_type": "code",
   "execution_count": 2,
   "id": "ef593cf1",
   "metadata": {},
   "outputs": [
    {
     "data": {
      "text/html": [
       "<div>\n",
       "<style scoped>\n",
       "    .dataframe tbody tr th:only-of-type {\n",
       "        vertical-align: middle;\n",
       "    }\n",
       "\n",
       "    .dataframe tbody tr th {\n",
       "        vertical-align: top;\n",
       "    }\n",
       "\n",
       "    .dataframe thead th {\n",
       "        text-align: right;\n",
       "    }\n",
       "</style>\n",
       "<table border=\"1\" class=\"dataframe\">\n",
       "  <thead>\n",
       "    <tr style=\"text-align: right;\">\n",
       "      <th></th>\n",
       "      <th>class</th>\n",
       "      <th>checking_status_0&lt;=X&lt;200</th>\n",
       "      <th>checking_status_&lt;0</th>\n",
       "      <th>checking_status_&gt;=200</th>\n",
       "      <th>checking_status_no checking</th>\n",
       "      <th>credit_history_all paid</th>\n",
       "      <th>credit_history_critical/other existing credit</th>\n",
       "      <th>credit_history_delayed previously</th>\n",
       "      <th>credit_history_existing paid</th>\n",
       "      <th>credit_history_no credits/all paid</th>\n",
       "      <th>purpose_business</th>\n",
       "      <th>purpose_domestic appliance</th>\n",
       "      <th>purpose_education</th>\n",
       "      <th>purpose_furniture/equipment</th>\n",
       "      <th>purpose_new car</th>\n",
       "      <th>purpose_other</th>\n",
       "      <th>purpose_radio/tv</th>\n",
       "      <th>purpose_repairs</th>\n",
       "      <th>purpose_retraining</th>\n",
       "      <th>purpose_used car</th>\n",
       "      <th>savings_status_100&lt;=X&lt;500</th>\n",
       "      <th>savings_status_500&lt;=X&lt;1000</th>\n",
       "      <th>savings_status_&lt;100</th>\n",
       "      <th>savings_status_&gt;=1000</th>\n",
       "      <th>savings_status_no known savings</th>\n",
       "      <th>employment_1&lt;=X&lt;4</th>\n",
       "      <th>employment_4&lt;=X&lt;7</th>\n",
       "      <th>employment_&lt;1</th>\n",
       "      <th>employment_&gt;=7</th>\n",
       "      <th>employment_unemployed</th>\n",
       "      <th>other_parties_co applicant</th>\n",
       "      <th>other_parties_guarantor</th>\n",
       "      <th>other_parties_none</th>\n",
       "      <th>property_magnitude_car</th>\n",
       "      <th>property_magnitude_life insurance</th>\n",
       "      <th>property_magnitude_no known property</th>\n",
       "      <th>property_magnitude_real estate</th>\n",
       "      <th>other_payment_plans_bank</th>\n",
       "      <th>other_payment_plans_none</th>\n",
       "      <th>other_payment_plans_stores</th>\n",
       "      <th>housing_for free</th>\n",
       "      <th>housing_own</th>\n",
       "      <th>housing_rent</th>\n",
       "      <th>job_high qualif/self emp/mgmt</th>\n",
       "      <th>job_skilled</th>\n",
       "      <th>job_unemp/unskilled non res</th>\n",
       "      <th>job_unskilled resident</th>\n",
       "      <th>own_telephone_none</th>\n",
       "      <th>own_telephone_yes</th>\n",
       "      <th>foreign_worker_no</th>\n",
       "      <th>foreign_worker_yes</th>\n",
       "      <th>duration</th>\n",
       "      <th>credit_amount</th>\n",
       "      <th>installment_commitment</th>\n",
       "      <th>residence_since</th>\n",
       "      <th>age</th>\n",
       "      <th>existing_credits</th>\n",
       "      <th>num_dependents</th>\n",
       "      <th>sex</th>\n",
       "    </tr>\n",
       "  </thead>\n",
       "  <tbody>\n",
       "    <tr>\n",
       "      <th>0</th>\n",
       "      <td>1</td>\n",
       "      <td>0.0</td>\n",
       "      <td>1.0</td>\n",
       "      <td>0.0</td>\n",
       "      <td>0.0</td>\n",
       "      <td>0.0</td>\n",
       "      <td>1.0</td>\n",
       "      <td>0.0</td>\n",
       "      <td>0.0</td>\n",
       "      <td>0.0</td>\n",
       "      <td>0.0</td>\n",
       "      <td>0.0</td>\n",
       "      <td>0.0</td>\n",
       "      <td>0.0</td>\n",
       "      <td>0.0</td>\n",
       "      <td>0.0</td>\n",
       "      <td>1.0</td>\n",
       "      <td>0.0</td>\n",
       "      <td>0.0</td>\n",
       "      <td>0.0</td>\n",
       "      <td>0.0</td>\n",
       "      <td>0.0</td>\n",
       "      <td>0.0</td>\n",
       "      <td>0.0</td>\n",
       "      <td>1.0</td>\n",
       "      <td>0.0</td>\n",
       "      <td>0.0</td>\n",
       "      <td>0.0</td>\n",
       "      <td>1.0</td>\n",
       "      <td>0.0</td>\n",
       "      <td>0.0</td>\n",
       "      <td>0.0</td>\n",
       "      <td>1.0</td>\n",
       "      <td>0.0</td>\n",
       "      <td>0.0</td>\n",
       "      <td>0.0</td>\n",
       "      <td>1.0</td>\n",
       "      <td>0.0</td>\n",
       "      <td>1.0</td>\n",
       "      <td>0.0</td>\n",
       "      <td>0.0</td>\n",
       "      <td>1.0</td>\n",
       "      <td>0.0</td>\n",
       "      <td>0.0</td>\n",
       "      <td>1.0</td>\n",
       "      <td>0.0</td>\n",
       "      <td>0.0</td>\n",
       "      <td>0.0</td>\n",
       "      <td>1.0</td>\n",
       "      <td>0.0</td>\n",
       "      <td>1.0</td>\n",
       "      <td>6.0</td>\n",
       "      <td>1169.0</td>\n",
       "      <td>4.0</td>\n",
       "      <td>4.0</td>\n",
       "      <td>1.0</td>\n",
       "      <td>2.0</td>\n",
       "      <td>1.0</td>\n",
       "      <td>1.0</td>\n",
       "    </tr>\n",
       "    <tr>\n",
       "      <th>1</th>\n",
       "      <td>0</td>\n",
       "      <td>1.0</td>\n",
       "      <td>0.0</td>\n",
       "      <td>0.0</td>\n",
       "      <td>0.0</td>\n",
       "      <td>0.0</td>\n",
       "      <td>0.0</td>\n",
       "      <td>0.0</td>\n",
       "      <td>1.0</td>\n",
       "      <td>0.0</td>\n",
       "      <td>0.0</td>\n",
       "      <td>0.0</td>\n",
       "      <td>0.0</td>\n",
       "      <td>0.0</td>\n",
       "      <td>0.0</td>\n",
       "      <td>0.0</td>\n",
       "      <td>1.0</td>\n",
       "      <td>0.0</td>\n",
       "      <td>0.0</td>\n",
       "      <td>0.0</td>\n",
       "      <td>0.0</td>\n",
       "      <td>0.0</td>\n",
       "      <td>1.0</td>\n",
       "      <td>0.0</td>\n",
       "      <td>0.0</td>\n",
       "      <td>1.0</td>\n",
       "      <td>0.0</td>\n",
       "      <td>0.0</td>\n",
       "      <td>0.0</td>\n",
       "      <td>0.0</td>\n",
       "      <td>0.0</td>\n",
       "      <td>0.0</td>\n",
       "      <td>1.0</td>\n",
       "      <td>0.0</td>\n",
       "      <td>0.0</td>\n",
       "      <td>0.0</td>\n",
       "      <td>1.0</td>\n",
       "      <td>0.0</td>\n",
       "      <td>1.0</td>\n",
       "      <td>0.0</td>\n",
       "      <td>0.0</td>\n",
       "      <td>1.0</td>\n",
       "      <td>0.0</td>\n",
       "      <td>0.0</td>\n",
       "      <td>1.0</td>\n",
       "      <td>0.0</td>\n",
       "      <td>0.0</td>\n",
       "      <td>1.0</td>\n",
       "      <td>0.0</td>\n",
       "      <td>0.0</td>\n",
       "      <td>1.0</td>\n",
       "      <td>48.0</td>\n",
       "      <td>5951.0</td>\n",
       "      <td>2.0</td>\n",
       "      <td>2.0</td>\n",
       "      <td>0.0</td>\n",
       "      <td>1.0</td>\n",
       "      <td>1.0</td>\n",
       "      <td>0.0</td>\n",
       "    </tr>\n",
       "    <tr>\n",
       "      <th>2</th>\n",
       "      <td>1</td>\n",
       "      <td>0.0</td>\n",
       "      <td>0.0</td>\n",
       "      <td>0.0</td>\n",
       "      <td>1.0</td>\n",
       "      <td>0.0</td>\n",
       "      <td>1.0</td>\n",
       "      <td>0.0</td>\n",
       "      <td>0.0</td>\n",
       "      <td>0.0</td>\n",
       "      <td>0.0</td>\n",
       "      <td>0.0</td>\n",
       "      <td>1.0</td>\n",
       "      <td>0.0</td>\n",
       "      <td>0.0</td>\n",
       "      <td>0.0</td>\n",
       "      <td>0.0</td>\n",
       "      <td>0.0</td>\n",
       "      <td>0.0</td>\n",
       "      <td>0.0</td>\n",
       "      <td>0.0</td>\n",
       "      <td>0.0</td>\n",
       "      <td>1.0</td>\n",
       "      <td>0.0</td>\n",
       "      <td>0.0</td>\n",
       "      <td>0.0</td>\n",
       "      <td>1.0</td>\n",
       "      <td>0.0</td>\n",
       "      <td>0.0</td>\n",
       "      <td>0.0</td>\n",
       "      <td>0.0</td>\n",
       "      <td>0.0</td>\n",
       "      <td>1.0</td>\n",
       "      <td>0.0</td>\n",
       "      <td>0.0</td>\n",
       "      <td>0.0</td>\n",
       "      <td>1.0</td>\n",
       "      <td>0.0</td>\n",
       "      <td>1.0</td>\n",
       "      <td>0.0</td>\n",
       "      <td>0.0</td>\n",
       "      <td>1.0</td>\n",
       "      <td>0.0</td>\n",
       "      <td>0.0</td>\n",
       "      <td>0.0</td>\n",
       "      <td>0.0</td>\n",
       "      <td>1.0</td>\n",
       "      <td>1.0</td>\n",
       "      <td>0.0</td>\n",
       "      <td>0.0</td>\n",
       "      <td>1.0</td>\n",
       "      <td>12.0</td>\n",
       "      <td>2096.0</td>\n",
       "      <td>2.0</td>\n",
       "      <td>3.0</td>\n",
       "      <td>1.0</td>\n",
       "      <td>1.0</td>\n",
       "      <td>2.0</td>\n",
       "      <td>1.0</td>\n",
       "    </tr>\n",
       "    <tr>\n",
       "      <th>3</th>\n",
       "      <td>1</td>\n",
       "      <td>0.0</td>\n",
       "      <td>1.0</td>\n",
       "      <td>0.0</td>\n",
       "      <td>0.0</td>\n",
       "      <td>0.0</td>\n",
       "      <td>0.0</td>\n",
       "      <td>0.0</td>\n",
       "      <td>1.0</td>\n",
       "      <td>0.0</td>\n",
       "      <td>0.0</td>\n",
       "      <td>0.0</td>\n",
       "      <td>0.0</td>\n",
       "      <td>1.0</td>\n",
       "      <td>0.0</td>\n",
       "      <td>0.0</td>\n",
       "      <td>0.0</td>\n",
       "      <td>0.0</td>\n",
       "      <td>0.0</td>\n",
       "      <td>0.0</td>\n",
       "      <td>0.0</td>\n",
       "      <td>0.0</td>\n",
       "      <td>1.0</td>\n",
       "      <td>0.0</td>\n",
       "      <td>0.0</td>\n",
       "      <td>0.0</td>\n",
       "      <td>1.0</td>\n",
       "      <td>0.0</td>\n",
       "      <td>0.0</td>\n",
       "      <td>0.0</td>\n",
       "      <td>0.0</td>\n",
       "      <td>1.0</td>\n",
       "      <td>0.0</td>\n",
       "      <td>0.0</td>\n",
       "      <td>1.0</td>\n",
       "      <td>0.0</td>\n",
       "      <td>0.0</td>\n",
       "      <td>0.0</td>\n",
       "      <td>1.0</td>\n",
       "      <td>0.0</td>\n",
       "      <td>1.0</td>\n",
       "      <td>0.0</td>\n",
       "      <td>0.0</td>\n",
       "      <td>0.0</td>\n",
       "      <td>1.0</td>\n",
       "      <td>0.0</td>\n",
       "      <td>0.0</td>\n",
       "      <td>1.0</td>\n",
       "      <td>0.0</td>\n",
       "      <td>0.0</td>\n",
       "      <td>1.0</td>\n",
       "      <td>42.0</td>\n",
       "      <td>7882.0</td>\n",
       "      <td>2.0</td>\n",
       "      <td>4.0</td>\n",
       "      <td>1.0</td>\n",
       "      <td>1.0</td>\n",
       "      <td>2.0</td>\n",
       "      <td>1.0</td>\n",
       "    </tr>\n",
       "    <tr>\n",
       "      <th>4</th>\n",
       "      <td>0</td>\n",
       "      <td>0.0</td>\n",
       "      <td>1.0</td>\n",
       "      <td>0.0</td>\n",
       "      <td>0.0</td>\n",
       "      <td>0.0</td>\n",
       "      <td>0.0</td>\n",
       "      <td>1.0</td>\n",
       "      <td>0.0</td>\n",
       "      <td>0.0</td>\n",
       "      <td>0.0</td>\n",
       "      <td>0.0</td>\n",
       "      <td>0.0</td>\n",
       "      <td>0.0</td>\n",
       "      <td>1.0</td>\n",
       "      <td>0.0</td>\n",
       "      <td>0.0</td>\n",
       "      <td>0.0</td>\n",
       "      <td>0.0</td>\n",
       "      <td>0.0</td>\n",
       "      <td>0.0</td>\n",
       "      <td>0.0</td>\n",
       "      <td>1.0</td>\n",
       "      <td>0.0</td>\n",
       "      <td>0.0</td>\n",
       "      <td>1.0</td>\n",
       "      <td>0.0</td>\n",
       "      <td>0.0</td>\n",
       "      <td>0.0</td>\n",
       "      <td>0.0</td>\n",
       "      <td>0.0</td>\n",
       "      <td>0.0</td>\n",
       "      <td>1.0</td>\n",
       "      <td>0.0</td>\n",
       "      <td>0.0</td>\n",
       "      <td>1.0</td>\n",
       "      <td>0.0</td>\n",
       "      <td>0.0</td>\n",
       "      <td>1.0</td>\n",
       "      <td>0.0</td>\n",
       "      <td>1.0</td>\n",
       "      <td>0.0</td>\n",
       "      <td>0.0</td>\n",
       "      <td>0.0</td>\n",
       "      <td>1.0</td>\n",
       "      <td>0.0</td>\n",
       "      <td>0.0</td>\n",
       "      <td>1.0</td>\n",
       "      <td>0.0</td>\n",
       "      <td>0.0</td>\n",
       "      <td>1.0</td>\n",
       "      <td>24.0</td>\n",
       "      <td>4870.0</td>\n",
       "      <td>3.0</td>\n",
       "      <td>4.0</td>\n",
       "      <td>1.0</td>\n",
       "      <td>2.0</td>\n",
       "      <td>2.0</td>\n",
       "      <td>1.0</td>\n",
       "    </tr>\n",
       "    <tr>\n",
       "      <th>...</th>\n",
       "      <td>...</td>\n",
       "      <td>...</td>\n",
       "      <td>...</td>\n",
       "      <td>...</td>\n",
       "      <td>...</td>\n",
       "      <td>...</td>\n",
       "      <td>...</td>\n",
       "      <td>...</td>\n",
       "      <td>...</td>\n",
       "      <td>...</td>\n",
       "      <td>...</td>\n",
       "      <td>...</td>\n",
       "      <td>...</td>\n",
       "      <td>...</td>\n",
       "      <td>...</td>\n",
       "      <td>...</td>\n",
       "      <td>...</td>\n",
       "      <td>...</td>\n",
       "      <td>...</td>\n",
       "      <td>...</td>\n",
       "      <td>...</td>\n",
       "      <td>...</td>\n",
       "      <td>...</td>\n",
       "      <td>...</td>\n",
       "      <td>...</td>\n",
       "      <td>...</td>\n",
       "      <td>...</td>\n",
       "      <td>...</td>\n",
       "      <td>...</td>\n",
       "      <td>...</td>\n",
       "      <td>...</td>\n",
       "      <td>...</td>\n",
       "      <td>...</td>\n",
       "      <td>...</td>\n",
       "      <td>...</td>\n",
       "      <td>...</td>\n",
       "      <td>...</td>\n",
       "      <td>...</td>\n",
       "      <td>...</td>\n",
       "      <td>...</td>\n",
       "      <td>...</td>\n",
       "      <td>...</td>\n",
       "      <td>...</td>\n",
       "      <td>...</td>\n",
       "      <td>...</td>\n",
       "      <td>...</td>\n",
       "      <td>...</td>\n",
       "      <td>...</td>\n",
       "      <td>...</td>\n",
       "      <td>...</td>\n",
       "      <td>...</td>\n",
       "      <td>...</td>\n",
       "      <td>...</td>\n",
       "      <td>...</td>\n",
       "      <td>...</td>\n",
       "      <td>...</td>\n",
       "      <td>...</td>\n",
       "      <td>...</td>\n",
       "      <td>...</td>\n",
       "    </tr>\n",
       "    <tr>\n",
       "      <th>995</th>\n",
       "      <td>1</td>\n",
       "      <td>0.0</td>\n",
       "      <td>0.0</td>\n",
       "      <td>0.0</td>\n",
       "      <td>1.0</td>\n",
       "      <td>0.0</td>\n",
       "      <td>0.0</td>\n",
       "      <td>0.0</td>\n",
       "      <td>1.0</td>\n",
       "      <td>0.0</td>\n",
       "      <td>0.0</td>\n",
       "      <td>0.0</td>\n",
       "      <td>0.0</td>\n",
       "      <td>1.0</td>\n",
       "      <td>0.0</td>\n",
       "      <td>0.0</td>\n",
       "      <td>0.0</td>\n",
       "      <td>0.0</td>\n",
       "      <td>0.0</td>\n",
       "      <td>0.0</td>\n",
       "      <td>0.0</td>\n",
       "      <td>0.0</td>\n",
       "      <td>1.0</td>\n",
       "      <td>0.0</td>\n",
       "      <td>0.0</td>\n",
       "      <td>0.0</td>\n",
       "      <td>1.0</td>\n",
       "      <td>0.0</td>\n",
       "      <td>0.0</td>\n",
       "      <td>0.0</td>\n",
       "      <td>0.0</td>\n",
       "      <td>0.0</td>\n",
       "      <td>1.0</td>\n",
       "      <td>0.0</td>\n",
       "      <td>0.0</td>\n",
       "      <td>0.0</td>\n",
       "      <td>1.0</td>\n",
       "      <td>0.0</td>\n",
       "      <td>1.0</td>\n",
       "      <td>0.0</td>\n",
       "      <td>0.0</td>\n",
       "      <td>1.0</td>\n",
       "      <td>0.0</td>\n",
       "      <td>0.0</td>\n",
       "      <td>0.0</td>\n",
       "      <td>0.0</td>\n",
       "      <td>1.0</td>\n",
       "      <td>1.0</td>\n",
       "      <td>0.0</td>\n",
       "      <td>0.0</td>\n",
       "      <td>1.0</td>\n",
       "      <td>12.0</td>\n",
       "      <td>1736.0</td>\n",
       "      <td>3.0</td>\n",
       "      <td>4.0</td>\n",
       "      <td>1.0</td>\n",
       "      <td>1.0</td>\n",
       "      <td>1.0</td>\n",
       "      <td>0.0</td>\n",
       "    </tr>\n",
       "    <tr>\n",
       "      <th>996</th>\n",
       "      <td>1</td>\n",
       "      <td>0.0</td>\n",
       "      <td>1.0</td>\n",
       "      <td>0.0</td>\n",
       "      <td>0.0</td>\n",
       "      <td>0.0</td>\n",
       "      <td>0.0</td>\n",
       "      <td>0.0</td>\n",
       "      <td>1.0</td>\n",
       "      <td>0.0</td>\n",
       "      <td>0.0</td>\n",
       "      <td>0.0</td>\n",
       "      <td>0.0</td>\n",
       "      <td>0.0</td>\n",
       "      <td>0.0</td>\n",
       "      <td>0.0</td>\n",
       "      <td>0.0</td>\n",
       "      <td>0.0</td>\n",
       "      <td>0.0</td>\n",
       "      <td>1.0</td>\n",
       "      <td>0.0</td>\n",
       "      <td>0.0</td>\n",
       "      <td>1.0</td>\n",
       "      <td>0.0</td>\n",
       "      <td>0.0</td>\n",
       "      <td>1.0</td>\n",
       "      <td>0.0</td>\n",
       "      <td>0.0</td>\n",
       "      <td>0.0</td>\n",
       "      <td>0.0</td>\n",
       "      <td>0.0</td>\n",
       "      <td>0.0</td>\n",
       "      <td>1.0</td>\n",
       "      <td>0.0</td>\n",
       "      <td>1.0</td>\n",
       "      <td>0.0</td>\n",
       "      <td>0.0</td>\n",
       "      <td>0.0</td>\n",
       "      <td>1.0</td>\n",
       "      <td>0.0</td>\n",
       "      <td>0.0</td>\n",
       "      <td>1.0</td>\n",
       "      <td>0.0</td>\n",
       "      <td>1.0</td>\n",
       "      <td>0.0</td>\n",
       "      <td>0.0</td>\n",
       "      <td>0.0</td>\n",
       "      <td>0.0</td>\n",
       "      <td>1.0</td>\n",
       "      <td>0.0</td>\n",
       "      <td>1.0</td>\n",
       "      <td>30.0</td>\n",
       "      <td>3857.0</td>\n",
       "      <td>4.0</td>\n",
       "      <td>4.0</td>\n",
       "      <td>1.0</td>\n",
       "      <td>1.0</td>\n",
       "      <td>1.0</td>\n",
       "      <td>1.0</td>\n",
       "    </tr>\n",
       "    <tr>\n",
       "      <th>997</th>\n",
       "      <td>1</td>\n",
       "      <td>0.0</td>\n",
       "      <td>0.0</td>\n",
       "      <td>0.0</td>\n",
       "      <td>1.0</td>\n",
       "      <td>0.0</td>\n",
       "      <td>0.0</td>\n",
       "      <td>0.0</td>\n",
       "      <td>1.0</td>\n",
       "      <td>0.0</td>\n",
       "      <td>0.0</td>\n",
       "      <td>0.0</td>\n",
       "      <td>0.0</td>\n",
       "      <td>0.0</td>\n",
       "      <td>0.0</td>\n",
       "      <td>0.0</td>\n",
       "      <td>1.0</td>\n",
       "      <td>0.0</td>\n",
       "      <td>0.0</td>\n",
       "      <td>0.0</td>\n",
       "      <td>0.0</td>\n",
       "      <td>0.0</td>\n",
       "      <td>1.0</td>\n",
       "      <td>0.0</td>\n",
       "      <td>0.0</td>\n",
       "      <td>0.0</td>\n",
       "      <td>0.0</td>\n",
       "      <td>0.0</td>\n",
       "      <td>1.0</td>\n",
       "      <td>0.0</td>\n",
       "      <td>0.0</td>\n",
       "      <td>0.0</td>\n",
       "      <td>1.0</td>\n",
       "      <td>1.0</td>\n",
       "      <td>0.0</td>\n",
       "      <td>0.0</td>\n",
       "      <td>0.0</td>\n",
       "      <td>0.0</td>\n",
       "      <td>1.0</td>\n",
       "      <td>0.0</td>\n",
       "      <td>0.0</td>\n",
       "      <td>1.0</td>\n",
       "      <td>0.0</td>\n",
       "      <td>0.0</td>\n",
       "      <td>1.0</td>\n",
       "      <td>0.0</td>\n",
       "      <td>0.0</td>\n",
       "      <td>1.0</td>\n",
       "      <td>0.0</td>\n",
       "      <td>0.0</td>\n",
       "      <td>1.0</td>\n",
       "      <td>12.0</td>\n",
       "      <td>804.0</td>\n",
       "      <td>4.0</td>\n",
       "      <td>4.0</td>\n",
       "      <td>1.0</td>\n",
       "      <td>1.0</td>\n",
       "      <td>1.0</td>\n",
       "      <td>1.0</td>\n",
       "    </tr>\n",
       "    <tr>\n",
       "      <th>998</th>\n",
       "      <td>0</td>\n",
       "      <td>0.0</td>\n",
       "      <td>1.0</td>\n",
       "      <td>0.0</td>\n",
       "      <td>0.0</td>\n",
       "      <td>0.0</td>\n",
       "      <td>0.0</td>\n",
       "      <td>0.0</td>\n",
       "      <td>1.0</td>\n",
       "      <td>0.0</td>\n",
       "      <td>0.0</td>\n",
       "      <td>0.0</td>\n",
       "      <td>0.0</td>\n",
       "      <td>0.0</td>\n",
       "      <td>0.0</td>\n",
       "      <td>0.0</td>\n",
       "      <td>1.0</td>\n",
       "      <td>0.0</td>\n",
       "      <td>0.0</td>\n",
       "      <td>0.0</td>\n",
       "      <td>0.0</td>\n",
       "      <td>0.0</td>\n",
       "      <td>1.0</td>\n",
       "      <td>0.0</td>\n",
       "      <td>0.0</td>\n",
       "      <td>1.0</td>\n",
       "      <td>0.0</td>\n",
       "      <td>0.0</td>\n",
       "      <td>0.0</td>\n",
       "      <td>0.0</td>\n",
       "      <td>0.0</td>\n",
       "      <td>0.0</td>\n",
       "      <td>1.0</td>\n",
       "      <td>0.0</td>\n",
       "      <td>0.0</td>\n",
       "      <td>1.0</td>\n",
       "      <td>0.0</td>\n",
       "      <td>0.0</td>\n",
       "      <td>1.0</td>\n",
       "      <td>0.0</td>\n",
       "      <td>1.0</td>\n",
       "      <td>0.0</td>\n",
       "      <td>0.0</td>\n",
       "      <td>0.0</td>\n",
       "      <td>1.0</td>\n",
       "      <td>0.0</td>\n",
       "      <td>0.0</td>\n",
       "      <td>0.0</td>\n",
       "      <td>1.0</td>\n",
       "      <td>0.0</td>\n",
       "      <td>1.0</td>\n",
       "      <td>45.0</td>\n",
       "      <td>1845.0</td>\n",
       "      <td>4.0</td>\n",
       "      <td>4.0</td>\n",
       "      <td>0.0</td>\n",
       "      <td>1.0</td>\n",
       "      <td>1.0</td>\n",
       "      <td>1.0</td>\n",
       "    </tr>\n",
       "    <tr>\n",
       "      <th>999</th>\n",
       "      <td>1</td>\n",
       "      <td>1.0</td>\n",
       "      <td>0.0</td>\n",
       "      <td>0.0</td>\n",
       "      <td>0.0</td>\n",
       "      <td>0.0</td>\n",
       "      <td>1.0</td>\n",
       "      <td>0.0</td>\n",
       "      <td>0.0</td>\n",
       "      <td>0.0</td>\n",
       "      <td>0.0</td>\n",
       "      <td>0.0</td>\n",
       "      <td>0.0</td>\n",
       "      <td>0.0</td>\n",
       "      <td>0.0</td>\n",
       "      <td>0.0</td>\n",
       "      <td>0.0</td>\n",
       "      <td>0.0</td>\n",
       "      <td>0.0</td>\n",
       "      <td>1.0</td>\n",
       "      <td>1.0</td>\n",
       "      <td>0.0</td>\n",
       "      <td>0.0</td>\n",
       "      <td>0.0</td>\n",
       "      <td>0.0</td>\n",
       "      <td>0.0</td>\n",
       "      <td>0.0</td>\n",
       "      <td>0.0</td>\n",
       "      <td>0.0</td>\n",
       "      <td>1.0</td>\n",
       "      <td>0.0</td>\n",
       "      <td>0.0</td>\n",
       "      <td>1.0</td>\n",
       "      <td>1.0</td>\n",
       "      <td>0.0</td>\n",
       "      <td>0.0</td>\n",
       "      <td>0.0</td>\n",
       "      <td>0.0</td>\n",
       "      <td>1.0</td>\n",
       "      <td>0.0</td>\n",
       "      <td>0.0</td>\n",
       "      <td>1.0</td>\n",
       "      <td>0.0</td>\n",
       "      <td>0.0</td>\n",
       "      <td>1.0</td>\n",
       "      <td>0.0</td>\n",
       "      <td>0.0</td>\n",
       "      <td>1.0</td>\n",
       "      <td>0.0</td>\n",
       "      <td>0.0</td>\n",
       "      <td>1.0</td>\n",
       "      <td>45.0</td>\n",
       "      <td>4576.0</td>\n",
       "      <td>3.0</td>\n",
       "      <td>4.0</td>\n",
       "      <td>1.0</td>\n",
       "      <td>1.0</td>\n",
       "      <td>1.0</td>\n",
       "      <td>1.0</td>\n",
       "    </tr>\n",
       "  </tbody>\n",
       "</table>\n",
       "<p>1000 rows × 59 columns</p>\n",
       "</div>"
      ],
      "text/plain": [
       "     class  checking_status_0<=X<200  checking_status_<0  \\\n",
       "0        1                       0.0                 1.0   \n",
       "1        0                       1.0                 0.0   \n",
       "2        1                       0.0                 0.0   \n",
       "3        1                       0.0                 1.0   \n",
       "4        0                       0.0                 1.0   \n",
       "..     ...                       ...                 ...   \n",
       "995      1                       0.0                 0.0   \n",
       "996      1                       0.0                 1.0   \n",
       "997      1                       0.0                 0.0   \n",
       "998      0                       0.0                 1.0   \n",
       "999      1                       1.0                 0.0   \n",
       "\n",
       "     checking_status_>=200  checking_status_no checking  \\\n",
       "0                      0.0                          0.0   \n",
       "1                      0.0                          0.0   \n",
       "2                      0.0                          1.0   \n",
       "3                      0.0                          0.0   \n",
       "4                      0.0                          0.0   \n",
       "..                     ...                          ...   \n",
       "995                    0.0                          1.0   \n",
       "996                    0.0                          0.0   \n",
       "997                    0.0                          1.0   \n",
       "998                    0.0                          0.0   \n",
       "999                    0.0                          0.0   \n",
       "\n",
       "     credit_history_all paid  credit_history_critical/other existing credit  \\\n",
       "0                        0.0                                            1.0   \n",
       "1                        0.0                                            0.0   \n",
       "2                        0.0                                            1.0   \n",
       "3                        0.0                                            0.0   \n",
       "4                        0.0                                            0.0   \n",
       "..                       ...                                            ...   \n",
       "995                      0.0                                            0.0   \n",
       "996                      0.0                                            0.0   \n",
       "997                      0.0                                            0.0   \n",
       "998                      0.0                                            0.0   \n",
       "999                      0.0                                            1.0   \n",
       "\n",
       "     credit_history_delayed previously  credit_history_existing paid  \\\n",
       "0                                  0.0                           0.0   \n",
       "1                                  0.0                           1.0   \n",
       "2                                  0.0                           0.0   \n",
       "3                                  0.0                           1.0   \n",
       "4                                  1.0                           0.0   \n",
       "..                                 ...                           ...   \n",
       "995                                0.0                           1.0   \n",
       "996                                0.0                           1.0   \n",
       "997                                0.0                           1.0   \n",
       "998                                0.0                           1.0   \n",
       "999                                0.0                           0.0   \n",
       "\n",
       "     credit_history_no credits/all paid  purpose_business  \\\n",
       "0                                   0.0               0.0   \n",
       "1                                   0.0               0.0   \n",
       "2                                   0.0               0.0   \n",
       "3                                   0.0               0.0   \n",
       "4                                   0.0               0.0   \n",
       "..                                  ...               ...   \n",
       "995                                 0.0               0.0   \n",
       "996                                 0.0               0.0   \n",
       "997                                 0.0               0.0   \n",
       "998                                 0.0               0.0   \n",
       "999                                 0.0               0.0   \n",
       "\n",
       "     purpose_domestic appliance  purpose_education  \\\n",
       "0                           0.0                0.0   \n",
       "1                           0.0                0.0   \n",
       "2                           0.0                1.0   \n",
       "3                           0.0                0.0   \n",
       "4                           0.0                0.0   \n",
       "..                          ...                ...   \n",
       "995                         0.0                0.0   \n",
       "996                         0.0                0.0   \n",
       "997                         0.0                0.0   \n",
       "998                         0.0                0.0   \n",
       "999                         0.0                0.0   \n",
       "\n",
       "     purpose_furniture/equipment  purpose_new car  purpose_other  \\\n",
       "0                            0.0              0.0            0.0   \n",
       "1                            0.0              0.0            0.0   \n",
       "2                            0.0              0.0            0.0   \n",
       "3                            1.0              0.0            0.0   \n",
       "4                            0.0              1.0            0.0   \n",
       "..                           ...              ...            ...   \n",
       "995                          1.0              0.0            0.0   \n",
       "996                          0.0              0.0            0.0   \n",
       "997                          0.0              0.0            0.0   \n",
       "998                          0.0              0.0            0.0   \n",
       "999                          0.0              0.0            0.0   \n",
       "\n",
       "     purpose_radio/tv  purpose_repairs  purpose_retraining  purpose_used car  \\\n",
       "0                 1.0              0.0                 0.0               0.0   \n",
       "1                 1.0              0.0                 0.0               0.0   \n",
       "2                 0.0              0.0                 0.0               0.0   \n",
       "3                 0.0              0.0                 0.0               0.0   \n",
       "4                 0.0              0.0                 0.0               0.0   \n",
       "..                ...              ...                 ...               ...   \n",
       "995               0.0              0.0                 0.0               0.0   \n",
       "996               0.0              0.0                 0.0               1.0   \n",
       "997               1.0              0.0                 0.0               0.0   \n",
       "998               1.0              0.0                 0.0               0.0   \n",
       "999               0.0              0.0                 0.0               1.0   \n",
       "\n",
       "     savings_status_100<=X<500  savings_status_500<=X<1000  \\\n",
       "0                          0.0                         0.0   \n",
       "1                          0.0                         0.0   \n",
       "2                          0.0                         0.0   \n",
       "3                          0.0                         0.0   \n",
       "4                          0.0                         0.0   \n",
       "..                         ...                         ...   \n",
       "995                        0.0                         0.0   \n",
       "996                        0.0                         0.0   \n",
       "997                        0.0                         0.0   \n",
       "998                        0.0                         0.0   \n",
       "999                        1.0                         0.0   \n",
       "\n",
       "     savings_status_<100  savings_status_>=1000  \\\n",
       "0                    0.0                    0.0   \n",
       "1                    1.0                    0.0   \n",
       "2                    1.0                    0.0   \n",
       "3                    1.0                    0.0   \n",
       "4                    1.0                    0.0   \n",
       "..                   ...                    ...   \n",
       "995                  1.0                    0.0   \n",
       "996                  1.0                    0.0   \n",
       "997                  1.0                    0.0   \n",
       "998                  1.0                    0.0   \n",
       "999                  0.0                    0.0   \n",
       "\n",
       "     savings_status_no known savings  employment_1<=X<4  employment_4<=X<7  \\\n",
       "0                                1.0                0.0                0.0   \n",
       "1                                0.0                1.0                0.0   \n",
       "2                                0.0                0.0                1.0   \n",
       "3                                0.0                0.0                1.0   \n",
       "4                                0.0                1.0                0.0   \n",
       "..                               ...                ...                ...   \n",
       "995                              0.0                0.0                1.0   \n",
       "996                              0.0                1.0                0.0   \n",
       "997                              0.0                0.0                0.0   \n",
       "998                              0.0                1.0                0.0   \n",
       "999                              0.0                0.0                0.0   \n",
       "\n",
       "     employment_<1  employment_>=7  employment_unemployed  \\\n",
       "0              0.0             1.0                    0.0   \n",
       "1              0.0             0.0                    0.0   \n",
       "2              0.0             0.0                    0.0   \n",
       "3              0.0             0.0                    0.0   \n",
       "4              0.0             0.0                    0.0   \n",
       "..             ...             ...                    ...   \n",
       "995            0.0             0.0                    0.0   \n",
       "996            0.0             0.0                    0.0   \n",
       "997            0.0             1.0                    0.0   \n",
       "998            0.0             0.0                    0.0   \n",
       "999            0.0             0.0                    1.0   \n",
       "\n",
       "     other_parties_co applicant  other_parties_guarantor  other_parties_none  \\\n",
       "0                           0.0                      0.0                 1.0   \n",
       "1                           0.0                      0.0                 1.0   \n",
       "2                           0.0                      0.0                 1.0   \n",
       "3                           0.0                      1.0                 0.0   \n",
       "4                           0.0                      0.0                 1.0   \n",
       "..                          ...                      ...                 ...   \n",
       "995                         0.0                      0.0                 1.0   \n",
       "996                         0.0                      0.0                 1.0   \n",
       "997                         0.0                      0.0                 1.0   \n",
       "998                         0.0                      0.0                 1.0   \n",
       "999                         0.0                      0.0                 1.0   \n",
       "\n",
       "     property_magnitude_car  property_magnitude_life insurance  \\\n",
       "0                       0.0                                0.0   \n",
       "1                       0.0                                0.0   \n",
       "2                       0.0                                0.0   \n",
       "3                       0.0                                1.0   \n",
       "4                       0.0                                0.0   \n",
       "..                      ...                                ...   \n",
       "995                     0.0                                0.0   \n",
       "996                     0.0                                1.0   \n",
       "997                     1.0                                0.0   \n",
       "998                     0.0                                0.0   \n",
       "999                     1.0                                0.0   \n",
       "\n",
       "     property_magnitude_no known property  property_magnitude_real estate  \\\n",
       "0                                     0.0                             1.0   \n",
       "1                                     0.0                             1.0   \n",
       "2                                     0.0                             1.0   \n",
       "3                                     0.0                             0.0   \n",
       "4                                     1.0                             0.0   \n",
       "..                                    ...                             ...   \n",
       "995                                   0.0                             1.0   \n",
       "996                                   0.0                             0.0   \n",
       "997                                   0.0                             0.0   \n",
       "998                                   1.0                             0.0   \n",
       "999                                   0.0                             0.0   \n",
       "\n",
       "     other_payment_plans_bank  other_payment_plans_none  \\\n",
       "0                         0.0                       1.0   \n",
       "1                         0.0                       1.0   \n",
       "2                         0.0                       1.0   \n",
       "3                         0.0                       1.0   \n",
       "4                         0.0                       1.0   \n",
       "..                        ...                       ...   \n",
       "995                       0.0                       1.0   \n",
       "996                       0.0                       1.0   \n",
       "997                       0.0                       1.0   \n",
       "998                       0.0                       1.0   \n",
       "999                       0.0                       1.0   \n",
       "\n",
       "     other_payment_plans_stores  housing_for free  housing_own  housing_rent  \\\n",
       "0                           0.0               0.0          1.0           0.0   \n",
       "1                           0.0               0.0          1.0           0.0   \n",
       "2                           0.0               0.0          1.0           0.0   \n",
       "3                           0.0               1.0          0.0           0.0   \n",
       "4                           0.0               1.0          0.0           0.0   \n",
       "..                          ...               ...          ...           ...   \n",
       "995                         0.0               0.0          1.0           0.0   \n",
       "996                         0.0               0.0          1.0           0.0   \n",
       "997                         0.0               0.0          1.0           0.0   \n",
       "998                         0.0               1.0          0.0           0.0   \n",
       "999                         0.0               0.0          1.0           0.0   \n",
       "\n",
       "     job_high qualif/self emp/mgmt  job_skilled  job_unemp/unskilled non res  \\\n",
       "0                              0.0          1.0                          0.0   \n",
       "1                              0.0          1.0                          0.0   \n",
       "2                              0.0          0.0                          0.0   \n",
       "3                              0.0          1.0                          0.0   \n",
       "4                              0.0          1.0                          0.0   \n",
       "..                             ...          ...                          ...   \n",
       "995                            0.0          0.0                          0.0   \n",
       "996                            1.0          0.0                          0.0   \n",
       "997                            0.0          1.0                          0.0   \n",
       "998                            0.0          1.0                          0.0   \n",
       "999                            0.0          1.0                          0.0   \n",
       "\n",
       "     job_unskilled resident  own_telephone_none  own_telephone_yes  \\\n",
       "0                       0.0                 0.0                1.0   \n",
       "1                       0.0                 1.0                0.0   \n",
       "2                       1.0                 1.0                0.0   \n",
       "3                       0.0                 1.0                0.0   \n",
       "4                       0.0                 1.0                0.0   \n",
       "..                      ...                 ...                ...   \n",
       "995                     1.0                 1.0                0.0   \n",
       "996                     0.0                 0.0                1.0   \n",
       "997                     0.0                 1.0                0.0   \n",
       "998                     0.0                 0.0                1.0   \n",
       "999                     0.0                 1.0                0.0   \n",
       "\n",
       "     foreign_worker_no  foreign_worker_yes  duration  credit_amount  \\\n",
       "0                  0.0                 1.0       6.0         1169.0   \n",
       "1                  0.0                 1.0      48.0         5951.0   \n",
       "2                  0.0                 1.0      12.0         2096.0   \n",
       "3                  0.0                 1.0      42.0         7882.0   \n",
       "4                  0.0                 1.0      24.0         4870.0   \n",
       "..                 ...                 ...       ...            ...   \n",
       "995                0.0                 1.0      12.0         1736.0   \n",
       "996                0.0                 1.0      30.0         3857.0   \n",
       "997                0.0                 1.0      12.0          804.0   \n",
       "998                0.0                 1.0      45.0         1845.0   \n",
       "999                0.0                 1.0      45.0         4576.0   \n",
       "\n",
       "     installment_commitment  residence_since  age  existing_credits  \\\n",
       "0                       4.0              4.0  1.0               2.0   \n",
       "1                       2.0              2.0  0.0               1.0   \n",
       "2                       2.0              3.0  1.0               1.0   \n",
       "3                       2.0              4.0  1.0               1.0   \n",
       "4                       3.0              4.0  1.0               2.0   \n",
       "..                      ...              ...  ...               ...   \n",
       "995                     3.0              4.0  1.0               1.0   \n",
       "996                     4.0              4.0  1.0               1.0   \n",
       "997                     4.0              4.0  1.0               1.0   \n",
       "998                     4.0              4.0  0.0               1.0   \n",
       "999                     3.0              4.0  1.0               1.0   \n",
       "\n",
       "     num_dependents  sex  \n",
       "0               1.0  1.0  \n",
       "1               1.0  0.0  \n",
       "2               2.0  1.0  \n",
       "3               2.0  1.0  \n",
       "4               2.0  1.0  \n",
       "..              ...  ...  \n",
       "995             1.0  0.0  \n",
       "996             1.0  1.0  \n",
       "997             1.0  1.0  \n",
       "998             1.0  1.0  \n",
       "999             1.0  1.0  \n",
       "\n",
       "[1000 rows x 59 columns]"
      ]
     },
     "execution_count": 2,
     "metadata": {},
     "output_type": "execute_result"
    }
   ],
   "source": [
    "import pandas as pd\n",
    "pd.options.display.max_columns = None\n",
    "pd.concat([all_y, all_X], axis=1)"
   ]
  },
  {
   "cell_type": "code",
   "execution_count": 3,
   "id": "05d7d125",
   "metadata": {},
   "outputs": [
    {
     "data": {
      "text/plain": [
       "{'favorable_labels': [1],\n",
       " 'protected_attributes': [{'feature': 'sex', 'reference_group': [1]},\n",
       "  {'feature': 'age', 'reference_group': [1]}]}"
      ]
     },
     "execution_count": 3,
     "metadata": {},
     "output_type": "execute_result"
    }
   ],
   "source": [
    "fairness_info"
   ]
  },
  {
   "cell_type": "code",
   "execution_count": 4,
   "id": "99855e5c",
   "metadata": {},
   "outputs": [
    {
     "data": {
      "text/markdown": [
       "```python\n",
       "{\n",
       "    \"favorable_labels\": [1],\n",
       "    \"protected_attributes\": [\n",
       "        {\"feature\": \"sex\", \"reference_group\": [1]},\n",
       "        {\"feature\": \"age\", \"reference_group\": [1]},\n",
       "    ],\n",
       "}\n",
       "```"
      ],
      "text/plain": [
       "<IPython.core.display.Markdown object>"
      ]
     },
     "metadata": {},
     "output_type": "display_data"
    }
   ],
   "source": [
    "import lale.pretty_print\n",
    "lale.pretty_print.ipython_display(fairness_info)"
   ]
  },
  {
   "cell_type": "markdown",
   "id": "d0b3a128",
   "metadata": {},
   "source": [
    "# \n",
    "A best practice for any machine-learning experiments is to split the data into a training set and a hold-out set. Doing so helps detect and prevent over-fitting. The fairness information induces groups in the dataset by outcomes and by privileged groups. We want the distribution of these groups to be similar for the training set and the holdout set. Therefore, we split the data in a stratified way."
   ]
  },
  {
   "cell_type": "code",
   "execution_count": 5,
   "id": "8e2dada8",
   "metadata": {},
   "outputs": [],
   "source": [
    "from lale.lib.aif360 import fair_stratified_train_test_split\n",
    "train_X, test_X, train_y, test_y = fair_stratified_train_test_split(\n",
    "    all_X, all_y, **fairness_info, test_size=0.33, random_state=42)"
   ]
  },
  {
   "cell_type": "markdown",
   "id": "ad70fcea",
   "metadata": {},
   "source": [
    "# \n",
    "Let's use the disparate_impact metric to measure how biased the training data and the test data are. At 0.75 and 0.73, they are far from the ideal value of 1.0."
   ]
  },
  {
   "cell_type": "code",
   "execution_count": 6,
   "id": "752ddd3c",
   "metadata": {},
   "outputs": [
    {
     "name": "stdout",
     "output_type": "stream",
     "text": [
      "disparate impact of training data 0.75, test data 0.73\n"
     ]
    }
   ],
   "source": [
    "from lale.lib.aif360 import disparate_impact\n",
    "disparate_impact_scorer = disparate_impact(**fairness_info)\n",
    "print(\"disparate impact of training data {:.2f}, test data {:.2f}\".format(\n",
    "    disparate_impact_scorer.scoring(X=train_X, y_pred=train_y),\n",
    "    disparate_impact_scorer.scoring(X=test_X, y_pred=test_y)))"
   ]
  },
  {
   "cell_type": "markdown",
   "id": "4c7b55f9",
   "metadata": {},
   "source": [
    "# \n",
    "Before we look at how to train a classifier that is optimized for both accuracy and disparate impact, we will set a baseline, by training a pipeline that is only optimized for accuracy. For this purpose, we import a few algorithms from scikit-learn and Lale: Project picks a subset of the feature columns, OneHotEncoder turns categoricals into numbers, ConcatFeatures combines sets of feature columns, and the three interpretable classifiers LR, Tree, and KNN make predictions."
   ]
  },
  {
   "cell_type": "code",
   "execution_count": 7,
   "id": "e2d57741",
   "metadata": {},
   "outputs": [],
   "source": [
    "from lale.lib.lale import Project\n",
    "from sklearn.preprocessing import OneHotEncoder\n",
    "from lale.lib.lale import ConcatFeatures\n",
    "from lale.lib.aif360 import PrejudiceRemover\n",
    "from sklearn.linear_model import LogisticRegression as LR\n",
    "from lale.lib.aif360 import logisticaix360\n",
    "from sklearn.tree import DecisionTreeClassifier as Tree"
   ]
  },
  {
   "cell_type": "code",
   "execution_count": 8,
   "id": "2e64abb6",
   "metadata": {},
   "outputs": [],
   "source": [
    "import lale\n",
    "lale.wrap_imported_operators()\n",
    "prep_to_numbers = (\n",
    "    (Project(columns={\"type\": \"string\"}) >> OneHotEncoder(handle_unknown=\"ignore\"))\n",
    "    & Project(columns={\"type\": \"number\"})\n",
    "    ) >> ConcatFeatures\n",
    "planned_orig = prep_to_numbers >> (PrejudiceRemover(**fairness_info)| logisticaix360(**fairness_info) |LR)"
   ]
  },
  {
   "cell_type": "code",
   "execution_count": 9,
   "id": "e358f9df",
   "metadata": {},
   "outputs": [
    {
     "name": "stdout",
     "output_type": "stream",
     "text": [
      "100%|███████████████████████████████████████████████| 10/10 [04:14<00:00, 25.48s/trial, best loss: -0.7418388319453343]\n"
     ]
    }
   ],
   "source": [
    "#Accuracy\n",
    "from lale.lib.lale import Hyperopt\n",
    "best_estimator = planned_orig.auto_configure(\n",
    "    train_X, train_y, optimizer=Hyperopt,verbose=True, cv=3, max_evals=10)"
   ]
  },
  {
   "cell_type": "code",
   "execution_count": 10,
   "id": "7cb5d41b",
   "metadata": {},
   "outputs": [
    {
     "data": {
      "text/markdown": [
       "```python\n",
       "project_0 = Project(columns={\"type\": \"string\"})\n",
       "one_hot_encoder = OneHotEncoder(handle_unknown=\"ignore\")\n",
       "project_1 = Project(columns={\"type\": \"number\"})\n",
       "lr = LR(\n",
       "    fit_intercept=False,\n",
       "    intercept_scaling=0.5926196753055677,\n",
       "    max_iter=876,\n",
       "    tol=0.007753646034635036,\n",
       ")\n",
       "pipeline = (\n",
       "    ((project_0 >> one_hot_encoder) & project_1) >> ConcatFeatures() >> lr\n",
       ")\n",
       "```"
      ],
      "text/plain": [
       "<IPython.core.display.Markdown object>"
      ]
     },
     "metadata": {},
     "output_type": "display_data"
    }
   ],
   "source": [
    "best_estimator.pretty_print(ipython_display=True, show_imports=False)"
   ]
  },
  {
   "cell_type": "markdown",
   "id": "1d7273e0",
   "metadata": {},
   "source": [
    "# \n",
    "Logistic regression  model gives the best result for the above scorer among LR|PrejudiceRemover| logisticaix360 "
   ]
  },
  {
   "cell_type": "code",
   "execution_count": 11,
   "id": "63e4dc1c",
   "metadata": {},
   "outputs": [
    {
     "name": "stdout",
     "output_type": "stream",
     "text": [
      "accuracy 73.0%\n"
     ]
    }
   ],
   "source": [
    "import sklearn.metrics\n",
    "accuracy_scorer = sklearn.metrics.make_scorer(sklearn.metrics.accuracy_score)\n",
    "print(f'accuracy {accuracy_scorer(best_estimator, test_X, test_y):.1%}')"
   ]
  },
  {
   "cell_type": "markdown",
   "id": "538ab076",
   "metadata": {},
   "source": [
    "# \n",
    "However, we would like our model to be not just accurate but also fair. We can use the same disparate_impact_scorer from before to evaluate the fairness of best_estimator."
   ]
  },
  {
   "cell_type": "code",
   "execution_count": 12,
   "id": "3c7b14d1",
   "metadata": {},
   "outputs": [
    {
     "name": "stdout",
     "output_type": "stream",
     "text": [
      "disparate impact 0.76\n"
     ]
    }
   ],
   "source": [
    "print(f'disparate impact {disparate_impact_scorer(best_estimator, test_X, test_y):.2f}')"
   ]
  },
  {
   "cell_type": "code",
   "execution_count": 13,
   "id": "5f822ce9",
   "metadata": {},
   "outputs": [],
   "source": [
    "planned_fairer =  LR|PrejudiceRemover(**fairness_info)| logisticaix360(**fairness_info) "
   ]
  },
  {
   "cell_type": "code",
   "execution_count": 14,
   "id": "99226797",
   "metadata": {},
   "outputs": [],
   "source": [
    "from lale.lib.aif360 import accuracy_and_disparate_impact\n",
    "combined_scorer = accuracy_and_disparate_impact(**fairness_info)"
   ]
  },
  {
   "cell_type": "code",
   "execution_count": 15,
   "id": "cacdd288",
   "metadata": {},
   "outputs": [
    {
     "data": {
      "text/plain": [
       "<lale.lib.aif360.util._AccuracyAndDisparateImpact at 0x1e961db8ca0>"
      ]
     },
     "execution_count": 15,
     "metadata": {},
     "output_type": "execute_result"
    }
   ],
   "source": [
    "combined_scorer"
   ]
  },
  {
   "cell_type": "code",
   "execution_count": 16,
   "id": "7c9be7b0",
   "metadata": {},
   "outputs": [],
   "source": [
    "from lale.lib.aif360 import FairStratifiedKFold\n",
    "fair_cv = FairStratifiedKFold(**fairness_info, n_splits=3)"
   ]
  },
  {
   "cell_type": "code",
   "execution_count": 17,
   "id": "8b2d47dd",
   "metadata": {},
   "outputs": [
    {
     "name": "stdout",
     "output_type": "stream",
     "text": [
      "\r",
      "  0%|                                                                           | 0/10 [00:00<?, ?trial/s, best loss=?]"
     ]
    },
    {
     "name": "stderr",
     "output_type": "stream",
     "text": [
      "there are 0 positives in the privileged group\n",
      "\n",
      "there are 0 positives in the unprivileged group\n",
      "\n",
      "The metric disparate_impact is ill-defined and returns 0.0. Check your fairness configuration. The set of predicted labels is {0}.\n",
      "\n",
      "there are 0 positives in the privileged group\n",
      "\n",
      "there are 0 positives in the unprivileged group\n",
      "\n",
      "The metric disparate_impact is ill-defined and returns 0.0. Check your fairness configuration. The set of predicted labels is {0}.\n",
      "\n"
     ]
    },
    {
     "name": "stdout",
     "output_type": "stream",
     "text": [
      " 40%|███████████████████▏                            | 4/10 [01:13<01:21, 13.57s/trial, best loss: 0.30000133461456324]"
     ]
    },
    {
     "name": "stderr",
     "output_type": "stream",
     "text": [
      "there are 0 positives in the privileged group\n",
      "\n",
      "there are 0 positives in the unprivileged group\n",
      "\n",
      "The metric disparate_impact is ill-defined and returns 0.0. Check your fairness configuration. The set of predicted labels is {0}.\n",
      "\n",
      "there are 0 positives in the privileged group\n",
      "\n",
      "there are 0 positives in the unprivileged group\n",
      "\n",
      "The metric disparate_impact is ill-defined and returns 0.0. Check your fairness configuration. The set of predicted labels is {0}.\n",
      "\n"
     ]
    },
    {
     "name": "stdout",
     "output_type": "stream",
     "text": [
      "\r",
      " 50%|████████████████████████                        | 5/10 [01:51<01:53, 22.60s/trial, best loss: 0.30000133461456324]"
     ]
    },
    {
     "name": "stderr",
     "output_type": "stream",
     "text": [
      "there are 0 positives in the privileged group\n",
      "\n",
      "there are 0 positives in the unprivileged group\n",
      "\n",
      "The metric disparate_impact is ill-defined and returns 0.0. Check your fairness configuration. The set of predicted labels is {0}.\n",
      "\n",
      "there are 0 positives in the privileged group\n",
      "\n",
      "there are 0 positives in the unprivileged group\n",
      "\n",
      "The metric disparate_impact is ill-defined and returns 0.0. Check your fairness configuration. The set of predicted labels is {0}.\n",
      "\n"
     ]
    },
    {
     "name": "stdout",
     "output_type": "stream",
     "text": [
      "100%|███████████████████████████████████████████████| 10/10 [02:55<00:00, 17.50s/trial, best loss: 0.30000133461456324]\n"
     ]
    }
   ],
   "source": [
    "trained_fairer = planned_fairer.auto_configure(\n",
    "    train_X, train_y, optimizer=Hyperopt, cv=fair_cv,verbose=True,\n",
    "    max_evals=10, scoring=combined_scorer, best_score=1.0)\n"
   ]
  },
  {
   "cell_type": "code",
   "execution_count": 18,
   "id": "fc7bc3c3",
   "metadata": {},
   "outputs": [
    {
     "name": "stdout",
     "output_type": "stream",
     "text": [
      "accuracy 70.0%\n",
      "disparate impact 1.00\n"
     ]
    }
   ],
   "source": [
    "print(f'accuracy {accuracy_scorer(trained_fairer, test_X, test_y):.1%}')\n",
    "print(f'disparate impact {disparate_impact_scorer(trained_fairer, test_X, test_y):.2f}')\n",
    "#trained_fairer.visualize()"
   ]
  },
  {
   "cell_type": "code",
   "execution_count": 19,
   "id": "6ea23cc5",
   "metadata": {},
   "outputs": [
    {
     "data": {
      "text/markdown": [
       "```python\n",
       "pipeline = logisticaix360(\n",
       "    favorable_labels=[1],\n",
       "    protected_attributes=[\n",
       "        {\"feature\": \"sex\", \"reference_group\": [1]},\n",
       "        {\"feature\": \"age\", \"reference_group\": [1]},\n",
       "    ],\n",
       "    lambda0=28061.60432549893,\n",
       "    lambda1=19696.767526190495,\n",
       ")\n",
       "```"
      ],
      "text/plain": [
       "<IPython.core.display.Markdown object>"
      ]
     },
     "metadata": {},
     "output_type": "display_data"
    }
   ],
   "source": [
    "trained_fairer.pretty_print(ipython_display=True, show_imports=False)"
   ]
  },
  {
   "cell_type": "markdown",
   "id": "664e77c6",
   "metadata": {},
   "source": [
    "# \n",
    "Logisticaix360 works best for the above scorer among LR|PrejudiceRemover| logisticaix360"
   ]
  },
  {
   "cell_type": "code",
   "execution_count": 20,
   "id": "e0e76c0b",
   "metadata": {},
   "outputs": [
    {
     "data": {
      "text/markdown": [
       "```python\n",
       "{\n",
       "    \"description\": \"Repair amount from 0 = none to 1 = full.\",\n",
       "    \"type\": \"number\",\n",
       "    \"minimum\": 0,\n",
       "    \"maximum\": 1,\n",
       "    \"default\": 1,\n",
       "}\n",
       "```"
      ],
      "text/plain": [
       "<IPython.core.display.Markdown object>"
      ]
     },
     "metadata": {},
     "output_type": "display_data"
    }
   ],
   "source": [
    "from lale.lib.aif360 import DisparateImpactRemover\n",
    "lale.pretty_print.ipython_display(\n",
    "    DisparateImpactRemover.hyperparam_schema('repair_level'))"
   ]
  },
  {
   "cell_type": "code",
   "execution_count": 21,
   "id": "66bd682a",
   "metadata": {},
   "outputs": [],
   "source": [
    "#Disparate Impact\n",
    "di_remover = DisparateImpactRemover(\n",
    "    **fairness_info, preparation=prep_to_numbers)\n",
    "\n",
    "planned_fairer = (di_remover >> (Tree|LR))|PrejudiceRemover(**fairness_info)| logisticaix360(**fairness_info)\n"
   ]
  },
  {
   "cell_type": "code",
   "execution_count": 22,
   "id": "e025ab98",
   "metadata": {},
   "outputs": [],
   "source": [
    "\n",
    "from lale.lib.aif360 import disparate_impact\n",
    "combined_scorer1 = disparate_impact(**fairness_info)"
   ]
  },
  {
   "cell_type": "code",
   "execution_count": 23,
   "id": "88482544",
   "metadata": {},
   "outputs": [],
   "source": [
    "from lale.lib.aif360 import FairStratifiedKFold\n",
    "fair_cv1 = FairStratifiedKFold(**fairness_info, n_splits=3)"
   ]
  },
  {
   "cell_type": "code",
   "execution_count": 24,
   "id": "ad77df63",
   "metadata": {},
   "outputs": [
    {
     "name": "stdout",
     "output_type": "stream",
     "text": [
      "\r",
      "  0%|                                                                           | 0/10 [00:00<?, ?trial/s, best loss=?]"
     ]
    },
    {
     "name": "stderr",
     "output_type": "stream",
     "text": [
      "there are 0 positives in the privileged group\n",
      "\n",
      "there are 0 positives in the unprivileged group\n",
      "\n",
      "The metric disparate_impact is ill-defined and returns 0.0. Check your fairness configuration. The set of predicted labels is {0}.\n",
      "\n",
      "there are 0 positives in the privileged group\n",
      "\n",
      "there are 0 positives in the unprivileged group\n",
      "\n",
      "The metric disparate_impact is ill-defined and returns 0.0. Check your fairness configuration. The set of predicted labels is {0}.\n",
      "\n"
     ]
    },
    {
     "name": "stdout",
     "output_type": "stream",
     "text": [
      " 40%|█████████████████████████▌                                      | 4/10 [01:17<01:53, 18.98s/trial, best loss: 0.0]"
     ]
    },
    {
     "name": "stderr",
     "output_type": "stream",
     "text": [
      "there are 0 positives in the privileged group\n",
      "\n",
      "there are 0 positives in the unprivileged group\n",
      "\n",
      "The metric disparate_impact is ill-defined and returns 0.0. Check your fairness configuration. The set of predicted labels is {0}.\n",
      "\n",
      "there are 0 positives in the privileged group\n",
      "\n",
      "there are 0 positives in the unprivileged group\n",
      "\n",
      "The metric disparate_impact is ill-defined and returns 0.0. Check your fairness configuration. The set of predicted labels is {0}.\n",
      "\n"
     ]
    },
    {
     "name": "stdout",
     "output_type": "stream",
     "text": [
      "\r",
      " 50%|████████████████████████████████                                | 5/10 [01:40<01:43, 20.63s/trial, best loss: 0.0]"
     ]
    },
    {
     "name": "stderr",
     "output_type": "stream",
     "text": [
      "there are 0 positives in the privileged group\n",
      "\n",
      "there are 0 positives in the unprivileged group\n",
      "\n",
      "The metric disparate_impact is ill-defined and returns 0.0. Check your fairness configuration. The set of predicted labels is {0}.\n",
      "\n",
      "there are 0 positives in the privileged group\n",
      "\n",
      "there are 0 positives in the unprivileged group\n",
      "\n",
      "The metric disparate_impact is ill-defined and returns 0.0. Check your fairness configuration. The set of predicted labels is {0}.\n",
      "\n"
     ]
    },
    {
     "name": "stdout",
     "output_type": "stream",
     "text": [
      "100%|███████████████████████████████████████████████████████████████| 10/10 [02:28<00:00, 14.89s/trial, best loss: 0.0]\n"
     ]
    }
   ],
   "source": [
    "trained_fairer1 = planned_fairer.auto_configure(\n",
    "    train_X, train_y, optimizer=Hyperopt, cv=fair_cv1,verbose=True,\n",
    "    max_evals=10, scoring=combined_scorer1, best_score=1.0)\n"
   ]
  },
  {
   "cell_type": "code",
   "execution_count": 25,
   "id": "ac54f3df",
   "metadata": {},
   "outputs": [
    {
     "name": "stdout",
     "output_type": "stream",
     "text": [
      "accuracy 70.0%\n",
      "disparate impact 1.00\n"
     ]
    }
   ],
   "source": [
    "print(f'accuracy {accuracy_scorer(trained_fairer1, test_X, test_y):.1%}')\n",
    "print(f'disparate impact {disparate_impact_scorer(trained_fairer1, test_X, test_y):.2f}')"
   ]
  },
  {
   "cell_type": "code",
   "execution_count": 26,
   "id": "00b67749",
   "metadata": {},
   "outputs": [
    {
     "data": {
      "text/markdown": [
       "```python\n",
       "pipeline = logisticaix360(\n",
       "    favorable_labels=[1],\n",
       "    protected_attributes=[\n",
       "        {\"feature\": \"sex\", \"reference_group\": [1]},\n",
       "        {\"feature\": \"age\", \"reference_group\": [1]},\n",
       "    ],\n",
       "    lambda0=28061.60432549893,\n",
       "    lambda1=19696.767526190495,\n",
       ")\n",
       "```"
      ],
      "text/plain": [
       "<IPython.core.display.Markdown object>"
      ]
     },
     "metadata": {},
     "output_type": "display_data"
    }
   ],
   "source": [
    "trained_fairer1.pretty_print(ipython_display=True, show_imports=False)"
   ]
  },
  {
   "cell_type": "markdown",
   "id": "774146b3",
   "metadata": {},
   "source": [
    "# \n",
    "logisticaix360 works best for(max_evals=10) the above acorer among LR|PrejudiceRemover| logisticaix360"
   ]
  },
  {
   "cell_type": "code",
   "execution_count": 27,
   "id": "fe47b9c6",
   "metadata": {},
   "outputs": [],
   "source": [
    "from lale.lib.aif360 import average_odds_difference\n",
    "combined_scorer2 = average_odds_difference(**fairness_info)"
   ]
  },
  {
   "cell_type": "code",
   "execution_count": 28,
   "id": "6e30cb96",
   "metadata": {},
   "outputs": [],
   "source": [
    "from lale.lib.aif360 import FairStratifiedKFold\n",
    "fair_cv2 = FairStratifiedKFold(**fairness_info, n_splits=3)"
   ]
  },
  {
   "cell_type": "code",
   "execution_count": 29,
   "id": "847dd892",
   "metadata": {},
   "outputs": [],
   "source": [
    "planned_fairer =  LR|PrejudiceRemover(**fairness_info)| logisticaix360(**fairness_info)"
   ]
  },
  {
   "cell_type": "code",
   "execution_count": 30,
   "id": "a60816b9",
   "metadata": {},
   "outputs": [
    {
     "name": "stdout",
     "output_type": "stream",
     "text": [
      "100%|███████████████████████████████████████████████████████████████| 10/10 [01:13<00:00,  7.32s/trial, best loss: 1.0]\n"
     ]
    }
   ],
   "source": [
    "trained_fairer2 = planned_fairer.auto_configure(\n",
    "    train_X, train_y, optimizer=Hyperopt, cv=fair_cv2,verbose=True,\n",
    "    max_evals=10, scoring=combined_scorer2, best_score=1.0)"
   ]
  },
  {
   "cell_type": "markdown",
   "id": "dc12fe98",
   "metadata": {},
   "source": [
    "# \n",
    "average odds difference is the average difference of the false  positive rate (false positives/negatives) and true  positive rate (true positives/positives) between  unprivileged and privileged groups."
   ]
  },
  {
   "cell_type": "code",
   "execution_count": 31,
   "id": "cd21f199",
   "metadata": {},
   "outputs": [],
   "source": [
    "average_odds_difference_scorer = average_odds_difference(**fairness_info)"
   ]
  },
  {
   "cell_type": "code",
   "execution_count": 32,
   "id": "265ed06e",
   "metadata": {},
   "outputs": [
    {
     "name": "stdout",
     "output_type": "stream",
     "text": [
      "average_odds_difference_scorer 0.0%\n"
     ]
    }
   ],
   "source": [
    "print(f'average_odds_difference_scorer {average_odds_difference_scorer(trained_fairer2, test_X, test_y):.1%}')\n"
   ]
  },
  {
   "cell_type": "code",
   "execution_count": 33,
   "id": "5217b1da",
   "metadata": {},
   "outputs": [
    {
     "data": {
      "text/markdown": [
       "```python\n",
       "pipeline = PrejudiceRemover(\n",
       "    favorable_labels=[1],\n",
       "    protected_attributes=[\n",
       "        {\"feature\": \"sex\", \"reference_group\": [1]},\n",
       "        {\"feature\": \"age\", \"reference_group\": [1]},\n",
       "    ],\n",
       "    eta=27283.69166514559,\n",
       ")\n",
       "```"
      ],
      "text/plain": [
       "<IPython.core.display.Markdown object>"
      ]
     },
     "metadata": {},
     "output_type": "display_data"
    }
   ],
   "source": [
    "trained_fairer2.pretty_print(ipython_display=True, show_imports=False)\n"
   ]
  },
  {
   "cell_type": "markdown",
   "id": "c3e670cf",
   "metadata": {},
   "source": [
    "# \n",
    "PrejudiceRemover model works best for (max_evals=10) the above scorer among LR|PrejudiceRemover| logisticaix360 "
   ]
  },
  {
   "cell_type": "code",
   "execution_count": 34,
   "id": "9eed73b2",
   "metadata": {},
   "outputs": [
    {
     "name": "stdout",
     "output_type": "stream",
     "text": [
      "100%|█████████████████████████████████████████████████| 10/10 [01:13<00:00,  7.37s/trial, best loss: 0.790953120953121]\n",
      "average_abs_odds_difference_scorer 14.2%\n"
     ]
    },
    {
     "data": {
      "text/markdown": [
       "```python\n",
       "pipeline = LR(\n",
       "    fit_intercept=False,\n",
       "    intercept_scaling=0.3240599822843736,\n",
       "    max_iter=839,\n",
       "    solver=\"newton-cg\",\n",
       "    tol=0.009200093064280898,\n",
       ")\n",
       "```"
      ],
      "text/plain": [
       "<IPython.core.display.Markdown object>"
      ]
     },
     "metadata": {},
     "output_type": "display_data"
    }
   ],
   "source": [
    "from lale.lib.aif360 import average_abs_odds_difference\n",
    "from lale.lib.lale import Hyperopt\n",
    "combined_scorer9 = average_abs_odds_difference(**fairness_info)\n",
    "from lale.lib.aif360 import FairStratifiedKFold\n",
    "fair_cv9 = FairStratifiedKFold(**fairness_info, n_splits=3)\n",
    "planned_fairer9 =  LR|PrejudiceRemover(**fairness_info)| logisticaix360(**fairness_info)\n",
    "trained_fairer9 = planned_fairer9.auto_configure(\n",
    "    train_X, train_y, optimizer=Hyperopt, cv=fair_cv9,verbose=True,\n",
    "    max_evals=10, scoring=combined_scorer9, best_score=1.0)\n",
    "average_abs_odds_difference_scorer = average_abs_odds_difference(**fairness_info)\n",
    "print(f'average_abs_odds_difference_scorer {average_abs_odds_difference_scorer(trained_fairer9, test_X, test_y):.1%}')\n",
    "trained_fairer9.pretty_print(ipython_display=True, show_imports=False)\n"
   ]
  },
  {
   "cell_type": "markdown",
   "id": "2b330712",
   "metadata": {},
   "source": [
    "# \n",
    "LR model  works best  for the above scorer among LR|PrejudiceRemover| logisticaix360"
   ]
  },
  {
   "cell_type": "code",
   "execution_count": 35,
   "id": "ffec6e71",
   "metadata": {},
   "outputs": [],
   "source": [
    "from lale.lib.aif360 import equal_opportunity_difference\n",
    "combined_scorer3 = equal_opportunity_difference(**fairness_info)"
   ]
  },
  {
   "cell_type": "code",
   "execution_count": 36,
   "id": "e55997b1",
   "metadata": {},
   "outputs": [
    {
     "data": {
      "text/plain": [
       "<lale.lib.aif360.util._ScorerFactory at 0x1e961dd3a30>"
      ]
     },
     "execution_count": 36,
     "metadata": {},
     "output_type": "execute_result"
    }
   ],
   "source": [
    "combined_scorer3"
   ]
  },
  {
   "cell_type": "code",
   "execution_count": 37,
   "id": "e35ee6be",
   "metadata": {},
   "outputs": [],
   "source": [
    "from lale.lib.aif360 import FairStratifiedKFold\n",
    "fair_cv3 = FairStratifiedKFold(**fairness_info, n_splits=3)"
   ]
  },
  {
   "cell_type": "code",
   "execution_count": 38,
   "id": "7d70cfa1",
   "metadata": {},
   "outputs": [],
   "source": [
    "planned_fairer =  LR|PrejudiceRemover(**fairness_info)| logisticaix360(**fairness_info)"
   ]
  },
  {
   "cell_type": "code",
   "execution_count": 39,
   "id": "9338ecb0",
   "metadata": {},
   "outputs": [
    {
     "name": "stdout",
     "output_type": "stream",
     "text": [
      "100%|████████████████████████████████████████████████| 10/10 [01:13<00:00,  7.33s/trial, best loss: 0.9943589743589744]\n"
     ]
    }
   ],
   "source": [
    "trained_fairer2 = planned_fairer.auto_configure(\n",
    "    train_X, train_y, optimizer=Hyperopt, cv=fair_cv2,verbose=True,\n",
    "    max_evals=10, scoring=combined_scorer3, best_score=1.0)"
   ]
  },
  {
   "cell_type": "markdown",
   "id": "e4250cfe",
   "metadata": {},
   "source": [
    "# \n",
    "equal opportunity difference is the difference  of true positive rates between  the unprivileged  and privileged  groups."
   ]
  },
  {
   "cell_type": "code",
   "execution_count": 40,
   "id": "401663f0",
   "metadata": {},
   "outputs": [
    {
     "name": "stdout",
     "output_type": "stream",
     "text": [
      "equal_opportunity_difference_scorer 0.0%\n"
     ]
    }
   ],
   "source": [
    "equal_opportunity_difference_scorer = equal_opportunity_difference(**fairness_info)\n",
    "print(f'equal_opportunity_difference_scorer {equal_opportunity_difference_scorer(trained_fairer2, test_X, test_y):.1%}')"
   ]
  },
  {
   "cell_type": "code",
   "execution_count": 41,
   "id": "91d74632",
   "metadata": {},
   "outputs": [
    {
     "data": {
      "text/markdown": [
       "```python\n",
       "pipeline = LR(\n",
       "    dual=True,\n",
       "    fit_intercept=False,\n",
       "    intercept_scaling=0.45366534380629886,\n",
       "    max_iter=196,\n",
       "    multi_class=\"ovr\",\n",
       "    solver=\"liblinear\",\n",
       "    tol=0.0002093662203197455,\n",
       ")\n",
       "```"
      ],
      "text/plain": [
       "<IPython.core.display.Markdown object>"
      ]
     },
     "metadata": {},
     "output_type": "display_data"
    }
   ],
   "source": [
    "trained_fairer2.pretty_print(ipython_display=True, show_imports=False)"
   ]
  },
  {
   "cell_type": "markdown",
   "id": "3c71ba32",
   "metadata": {},
   "source": [
    "# \n",
    " LR model works best for(max_evals=10) the above scorer among LR|PrejudiceRemover| logisticaix360 "
   ]
  },
  {
   "cell_type": "code",
   "execution_count": 42,
   "id": "778b7c80",
   "metadata": {},
   "outputs": [],
   "source": [
    "from lale.lib.aif360 import r2_and_disparate_impact\n",
    "combined_scorer4 = r2_and_disparate_impact(**fairness_info)"
   ]
  },
  {
   "cell_type": "code",
   "execution_count": 43,
   "id": "e728d38b",
   "metadata": {},
   "outputs": [],
   "source": [
    "from lale.lib.aif360 import FairStratifiedKFold\n",
    "fair_cv4 = FairStratifiedKFold(**fairness_info, n_splits=3)"
   ]
  },
  {
   "cell_type": "code",
   "execution_count": 44,
   "id": "56c30e77",
   "metadata": {},
   "outputs": [],
   "source": [
    "planned_fairer4 =  LR|PrejudiceRemover(**fairness_info)| logisticaix360(**fairness_info)"
   ]
  },
  {
   "cell_type": "code",
   "execution_count": 45,
   "id": "c2376f71",
   "metadata": {},
   "outputs": [
    {
     "name": "stdout",
     "output_type": "stream",
     "text": [
      "\r",
      "  0%|                                                                           | 0/10 [00:00<?, ?trial/s, best loss=?]"
     ]
    },
    {
     "name": "stderr",
     "output_type": "stream",
     "text": [
      "there are 0 positives in the privileged group\n",
      "\n",
      "there are 0 positives in the unprivileged group\n",
      "\n",
      "The metric disparate_impact is ill-defined and returns 0.0. Check your fairness configuration. The set of predicted labels is {0}.\n",
      "\n",
      "unexpected result -0.42948717948717885 for r2 -0.42948717948717907\n",
      "\n",
      "there are 0 positives in the privileged group\n",
      "\n",
      "there are 0 positives in the unprivileged group\n",
      "\n",
      "The metric disparate_impact is ill-defined and returns 0.0. Check your fairness configuration. The set of predicted labels is {0}.\n",
      "\n"
     ]
    },
    {
     "name": "stdout",
     "output_type": "stream",
     "text": [
      "\r",
      " 10%|████▌                                        | 1/10 [00:22<03:26, 22.99s/trial, best loss: 2.2685489775901924e+38]"
     ]
    },
    {
     "name": "stderr",
     "output_type": "stream",
     "text": [
      "unexpected result -0.4267515923566876 for r2 -0.4267515923566878\n",
      "\n",
      "unexpected result -0.42948717948717885 for r2 -0.42948717948717907\n",
      "\n"
     ]
    },
    {
     "name": "stdout",
     "output_type": "stream",
     "text": [
      "\r",
      " 20%|█████████▊                                       | 2/10 [00:28<01:40, 12.57s/trial, best loss: 1.4285753171103486]"
     ]
    },
    {
     "name": "stderr",
     "output_type": "stream",
     "text": [
      "unexpected result -0.4267515923566876 for r2 -0.4267515923566878\n",
      "\n",
      "unexpected result -0.42948717948717885 for r2 -0.42948717948717907\n",
      "\n"
     ]
    },
    {
     "name": "stdout",
     "output_type": "stream",
     "text": [
      "\r",
      " 30%|██████████████▋                                  | 3/10 [00:33<01:04,  9.27s/trial, best loss: 1.4285753171103486]"
     ]
    },
    {
     "name": "stderr",
     "output_type": "stream",
     "text": [
      "unexpected result -0.4267515923566876 for r2 -0.4267515923566878\n",
      "\n",
      "unexpected result -0.42948717948717885 for r2 -0.42948717948717907\n",
      "\n"
     ]
    },
    {
     "name": "stdout",
     "output_type": "stream",
     "text": [
      "\r",
      " 40%|███████████████████▌                             | 4/10 [00:34<00:35,  5.88s/trial, best loss: 1.4285753171103486]"
     ]
    },
    {
     "name": "stderr",
     "output_type": "stream",
     "text": [
      "there are 0 positives in the privileged group\n",
      "\n",
      "there are 0 positives in the unprivileged group\n",
      "\n",
      "The metric disparate_impact is ill-defined and returns 0.0. Check your fairness configuration. The set of predicted labels is {0}.\n",
      "\n",
      "unexpected result -0.42948717948717885 for r2 -0.42948717948717907\n",
      "\n",
      "there are 0 positives in the privileged group\n",
      "\n",
      "there are 0 positives in the unprivileged group\n",
      "\n",
      "The metric disparate_impact is ill-defined and returns 0.0. Check your fairness configuration. The set of predicted labels is {0}.\n",
      "\n"
     ]
    },
    {
     "name": "stdout",
     "output_type": "stream",
     "text": [
      "\r",
      " 50%|████████████████████████▌                        | 5/10 [00:58<01:03, 12.66s/trial, best loss: 1.4285753171103486]"
     ]
    },
    {
     "name": "stderr",
     "output_type": "stream",
     "text": [
      "there are 0 positives in the privileged group\n",
      "\n",
      "there are 0 positives in the unprivileged group\n",
      "\n",
      "The metric disparate_impact is ill-defined and returns 0.0. Check your fairness configuration. The set of predicted labels is {0}.\n",
      "\n",
      "unexpected result -0.42948717948717885 for r2 -0.42948717948717907\n",
      "\n",
      "there are 0 positives in the privileged group\n",
      "\n",
      "there are 0 positives in the unprivileged group\n",
      "\n",
      "The metric disparate_impact is ill-defined and returns 0.0. Check your fairness configuration. The set of predicted labels is {0}.\n",
      "\n"
     ]
    },
    {
     "name": "stdout",
     "output_type": "stream",
     "text": [
      "\r",
      " 60%|█████████████████████████████▍                   | 6/10 [01:22<01:05, 16.29s/trial, best loss: 1.4285753171103486]"
     ]
    },
    {
     "name": "stderr",
     "output_type": "stream",
     "text": [
      "unexpected result -0.4267515923566876 for r2 -0.4267515923566878\n",
      "\n",
      "unexpected result -0.42948717948717885 for r2 -0.42948717948717907\n",
      "\n"
     ]
    },
    {
     "name": "stdout",
     "output_type": "stream",
     "text": [
      "\r",
      " 70%|██████████████████████████████████▎              | 7/10 [01:23<00:33, 11.22s/trial, best loss: 1.4285753171103486]"
     ]
    },
    {
     "name": "stderr",
     "output_type": "stream",
     "text": [
      "unexpected result -0.4267515923566876 for r2 -0.4267515923566878\n",
      "\n",
      "unexpected result -0.42948717948717885 for r2 -0.42948717948717907\n",
      "\n"
     ]
    },
    {
     "name": "stdout",
     "output_type": "stream",
     "text": [
      " 90%|████████████████████████████████████████████     | 9/10 [01:29<00:06,  6.75s/trial, best loss: 1.4285753171103486]"
     ]
    },
    {
     "name": "stderr",
     "output_type": "stream",
     "text": [
      "unexpected result -0.4267515923566876 for r2 -0.4267515923566878\n",
      "\n",
      "unexpected result -0.42948717948717885 for r2 -0.42948717948717907\n",
      "\n"
     ]
    },
    {
     "name": "stdout",
     "output_type": "stream",
     "text": [
      "100%|████████████████████████████████████████████████| 10/10 [01:30<00:00,  9.04s/trial, best loss: 1.4285753171103486]\n"
     ]
    }
   ],
   "source": [
    "trained_fairer4 = planned_fairer4.auto_configure(\n",
    "    train_X, train_y, optimizer=Hyperopt, cv=fair_cv4,verbose=True,\n",
    "    max_evals=10, scoring=combined_scorer4, best_score=1.0)"
   ]
  },
  {
   "cell_type": "code",
   "execution_count": 46,
   "id": "a994b364",
   "metadata": {},
   "outputs": [
    {
     "name": "stdout",
     "output_type": "stream",
     "text": [
      "r2_and_disparate_impact_scorer -42.9%\n"
     ]
    }
   ],
   "source": [
    "r2_and_disparate_impact_scorer = r2_and_disparate_impact(**fairness_info)\n",
    "print(f'r2_and_disparate_impact_scorer {r2_and_disparate_impact_scorer(trained_fairer4, test_X, test_y):.1%}')"
   ]
  },
  {
   "cell_type": "code",
   "execution_count": 47,
   "id": "4c40b7c7",
   "metadata": {},
   "outputs": [
    {
     "data": {
      "text/markdown": [
       "```python\n",
       "pipeline = logisticaix360(\n",
       "    favorable_labels=[1],\n",
       "    protected_attributes=[\n",
       "        {\"feature\": \"sex\", \"reference_group\": [1]},\n",
       "        {\"feature\": \"age\", \"reference_group\": [1]},\n",
       "    ],\n",
       "    lambda0=28061.60432549893,\n",
       "    lambda1=19696.767526190495,\n",
       ")\n",
       "```"
      ],
      "text/plain": [
       "<IPython.core.display.Markdown object>"
      ]
     },
     "metadata": {},
     "output_type": "display_data"
    }
   ],
   "source": [
    "trained_fairer4.pretty_print(ipython_display=True, show_imports=False)"
   ]
  },
  {
   "cell_type": "markdown",
   "id": "c43004b7",
   "metadata": {},
   "source": [
    "# \n",
    "Logisticaix360 works best for the above scorer among  LR|PrejudiceRemover| logisticaix360"
   ]
  },
  {
   "cell_type": "code",
   "execution_count": 48,
   "id": "f37015ae",
   "metadata": {},
   "outputs": [],
   "source": [
    "from lale.lib.aif360 import statistical_parity_difference\n",
    "combined_scorer5 = statistical_parity_difference(**fairness_info)"
   ]
  },
  {
   "cell_type": "code",
   "execution_count": 49,
   "id": "5f1cde1b",
   "metadata": {},
   "outputs": [
    {
     "data": {
      "text/plain": [
       "<lale.lib.aif360.util._ScorerFactory at 0x1e96439dac0>"
      ]
     },
     "execution_count": 49,
     "metadata": {},
     "output_type": "execute_result"
    }
   ],
   "source": [
    "combined_scorer5"
   ]
  },
  {
   "cell_type": "code",
   "execution_count": 50,
   "id": "684b4f16",
   "metadata": {},
   "outputs": [],
   "source": [
    "from lale.lib.aif360 import FairStratifiedKFold\n",
    "fair_cv5 = FairStratifiedKFold(**fairness_info, n_splits=3)"
   ]
  },
  {
   "cell_type": "code",
   "execution_count": 51,
   "id": "4f08ed2c",
   "metadata": {},
   "outputs": [],
   "source": [
    "planned_fairer5 =  LR|PrejudiceRemover(**fairness_info)| logisticaix360(**fairness_info)"
   ]
  },
  {
   "cell_type": "code",
   "execution_count": 52,
   "id": "5ea3d978",
   "metadata": {},
   "outputs": [
    {
     "name": "stdout",
     "output_type": "stream",
     "text": [
      "100%|███████████████████████████████████████████████████████████████| 10/10 [01:10<00:00,  7.09s/trial, best loss: 1.0]\n"
     ]
    }
   ],
   "source": [
    "trained_fairer5 = planned_fairer5.auto_configure(\n",
    "    train_X, train_y, optimizer=Hyperopt, cv=fair_cv5,verbose=True,\n",
    "    max_evals=10, scoring=combined_scorer5, best_score=1.0)"
   ]
  },
  {
   "cell_type": "code",
   "execution_count": 53,
   "id": "e3cacb69",
   "metadata": {},
   "outputs": [
    {
     "name": "stdout",
     "output_type": "stream",
     "text": [
      "statistical_parity_difference_scorer 0.0%\n"
     ]
    }
   ],
   "source": [
    "statistical_parity_difference_scorer = statistical_parity_difference(**fairness_info)\n",
    "print(f'statistical_parity_difference_scorer {statistical_parity_difference_scorer(trained_fairer5, test_X, test_y):.1%}')"
   ]
  },
  {
   "cell_type": "code",
   "execution_count": 54,
   "id": "c92551f9",
   "metadata": {},
   "outputs": [
    {
     "data": {
      "text/markdown": [
       "```python\n",
       "pipeline = PrejudiceRemover(\n",
       "    favorable_labels=[1],\n",
       "    protected_attributes=[\n",
       "        {\"feature\": \"sex\", \"reference_group\": [1]},\n",
       "        {\"feature\": \"age\", \"reference_group\": [1]},\n",
       "    ],\n",
       "    eta=27283.69166514559,\n",
       ")\n",
       "```"
      ],
      "text/plain": [
       "<IPython.core.display.Markdown object>"
      ]
     },
     "metadata": {},
     "output_type": "display_data"
    }
   ],
   "source": [
    "trained_fairer5.pretty_print(ipython_display=True, show_imports=False)"
   ]
  },
  {
   "cell_type": "markdown",
   "id": "82d09ccc",
   "metadata": {},
   "source": [
    "# \n",
    " PrejudiceRemover model  works best for(max_evals=10) the above scorer among  LR|PrejudiceRemover| logisticaix360"
   ]
  },
  {
   "cell_type": "code",
   "execution_count": 55,
   "id": "285f32cc",
   "metadata": {},
   "outputs": [],
   "source": [
    "from lale.lib.aif360 import symmetric_disparate_impact\n",
    "combined_scorer6 = symmetric_disparate_impact(**fairness_info)"
   ]
  },
  {
   "cell_type": "code",
   "execution_count": 56,
   "id": "16ae800a",
   "metadata": {},
   "outputs": [],
   "source": [
    "from lale.lib.aif360 import FairStratifiedKFold\n",
    "fair_cv6 = FairStratifiedKFold(**fairness_info, n_splits=3)"
   ]
  },
  {
   "cell_type": "code",
   "execution_count": 57,
   "id": "f11d96a6",
   "metadata": {},
   "outputs": [],
   "source": [
    "planned_fairer6 =  LR|PrejudiceRemover(**fairness_info)| logisticaix360(**fairness_info)"
   ]
  },
  {
   "cell_type": "code",
   "execution_count": 58,
   "id": "160a1344",
   "metadata": {},
   "outputs": [
    {
     "name": "stdout",
     "output_type": "stream",
     "text": [
      "\r",
      "  0%|                                                                           | 0/10 [00:00<?, ?trial/s, best loss=?]"
     ]
    },
    {
     "name": "stderr",
     "output_type": "stream",
     "text": [
      "there are 0 positives in the privileged group\n",
      "\n",
      "there are 0 positives in the unprivileged group\n",
      "\n",
      "The metric disparate_impact is ill-defined and returns 0.0. Check your fairness configuration. The set of predicted labels is {0}.\n",
      "\n",
      "there are 0 positives in the privileged group\n",
      "\n",
      "there are 0 positives in the unprivileged group\n",
      "\n",
      "The metric disparate_impact is ill-defined and returns 0.0. Check your fairness configuration. The set of predicted labels is {0}.\n",
      "\n"
     ]
    },
    {
     "name": "stdout",
     "output_type": "stream",
     "text": [
      " 40%|█████████████████████████▌                                      | 4/10 [00:28<00:28,  4.83s/trial, best loss: 0.0]"
     ]
    },
    {
     "name": "stderr",
     "output_type": "stream",
     "text": [
      "there are 0 positives in the privileged group\n",
      "\n",
      "there are 0 positives in the unprivileged group\n",
      "\n",
      "The metric disparate_impact is ill-defined and returns 0.0. Check your fairness configuration. The set of predicted labels is {0}.\n",
      "\n",
      "there are 0 positives in the privileged group\n",
      "\n",
      "there are 0 positives in the unprivileged group\n",
      "\n",
      "The metric disparate_impact is ill-defined and returns 0.0. Check your fairness configuration. The set of predicted labels is {0}.\n",
      "\n"
     ]
    },
    {
     "name": "stdout",
     "output_type": "stream",
     "text": [
      "\r",
      " 50%|████████████████████████████████                                | 5/10 [00:46<00:48,  9.67s/trial, best loss: 0.0]"
     ]
    },
    {
     "name": "stderr",
     "output_type": "stream",
     "text": [
      "there are 0 positives in the privileged group\n",
      "\n",
      "there are 0 positives in the unprivileged group\n",
      "\n",
      "The metric disparate_impact is ill-defined and returns 0.0. Check your fairness configuration. The set of predicted labels is {0}.\n",
      "\n",
      "there are 0 positives in the privileged group\n",
      "\n",
      "there are 0 positives in the unprivileged group\n",
      "\n",
      "The metric disparate_impact is ill-defined and returns 0.0. Check your fairness configuration. The set of predicted labels is {0}.\n",
      "\n"
     ]
    },
    {
     "name": "stdout",
     "output_type": "stream",
     "text": [
      "100%|███████████████████████████████████████████████████████████████| 10/10 [01:11<00:00,  7.18s/trial, best loss: 0.0]\n"
     ]
    }
   ],
   "source": [
    "trained_fairer6 = planned_fairer6.auto_configure(\n",
    "    train_X, train_y, optimizer=Hyperopt, cv=fair_cv6,verbose=True,\n",
    "    max_evals=10, scoring=combined_scorer6, best_score=1.0)"
   ]
  },
  {
   "cell_type": "code",
   "execution_count": 59,
   "id": "72d9b13e",
   "metadata": {},
   "outputs": [
    {
     "name": "stdout",
     "output_type": "stream",
     "text": [
      "symmetric_disparate_impact_scorer 100.0%\n"
     ]
    }
   ],
   "source": [
    "symmetric_disparate_impact_scorer = symmetric_disparate_impact(**fairness_info)\n",
    "print(f'symmetric_disparate_impact_scorer {symmetric_disparate_impact_scorer(trained_fairer6, test_X, test_y):.1%}')"
   ]
  },
  {
   "cell_type": "code",
   "execution_count": 60,
   "id": "bd420844",
   "metadata": {},
   "outputs": [
    {
     "data": {
      "text/markdown": [
       "```python\n",
       "pipeline = logisticaix360(\n",
       "    favorable_labels=[1],\n",
       "    protected_attributes=[\n",
       "        {\"feature\": \"sex\", \"reference_group\": [1]},\n",
       "        {\"feature\": \"age\", \"reference_group\": [1]},\n",
       "    ],\n",
       "    lambda0=28061.60432549893,\n",
       "    lambda1=19696.767526190495,\n",
       ")\n",
       "```"
      ],
      "text/plain": [
       "<IPython.core.display.Markdown object>"
      ]
     },
     "metadata": {},
     "output_type": "display_data"
    }
   ],
   "source": [
    "trained_fairer6.pretty_print(ipython_display=True, show_imports=False)"
   ]
  },
  {
   "cell_type": "markdown",
   "id": "63ac1555",
   "metadata": {},
   "source": [
    "#  \n",
    "logisticaix360 model works best for the above scorer  among  LR|PrejudiceRemover| logisticaix360"
   ]
  },
  {
   "cell_type": "code",
   "execution_count": 61,
   "id": "19f88954",
   "metadata": {},
   "outputs": [],
   "source": [
    "from lale.lib.aif360 import theil_index\n",
    "combined_scorer7 = theil_index(**fairness_info)"
   ]
  },
  {
   "cell_type": "code",
   "execution_count": 62,
   "id": "21f9983e",
   "metadata": {},
   "outputs": [],
   "source": [
    "from lale.lib.aif360 import FairStratifiedKFold\n",
    "fair_cv7 = FairStratifiedKFold(**fairness_info, n_splits=3)"
   ]
  },
  {
   "cell_type": "code",
   "execution_count": 63,
   "id": "82356f95",
   "metadata": {},
   "outputs": [],
   "source": [
    "planned_fairer7 =  LR|PrejudiceRemover(**fairness_info)| logisticaix360(**fairness_info)"
   ]
  },
  {
   "cell_type": "code",
   "execution_count": 64,
   "id": "d95938be",
   "metadata": {},
   "outputs": [
    {
     "name": "stdout",
     "output_type": "stream",
     "text": [
      "100%|████████████████████████████████████████████████| 10/10 [01:16<00:00,  7.62s/trial, best loss: 0.1776649221048826]\n"
     ]
    }
   ],
   "source": [
    "trained_fairer7 = planned_fairer7.auto_configure(\n",
    "    train_X, train_y, optimizer=Hyperopt, cv=fair_cv7,verbose=True,\n",
    "    max_evals=10, scoring=combined_scorer7, best_score=1.0)"
   ]
  },
  {
   "cell_type": "markdown",
   "id": "52608d48",
   "metadata": {},
   "source": [
    "# \n",
    "Theil index measures  the inequality in benefit  allocation for  individuals."
   ]
  },
  {
   "cell_type": "code",
   "execution_count": 65,
   "id": "b7465ac7",
   "metadata": {},
   "outputs": [
    {
     "name": "stdout",
     "output_type": "stream",
     "text": [
      "theil_index_scorer 120.4%\n"
     ]
    }
   ],
   "source": [
    "theil_index_scorer = theil_index(**fairness_info)\n",
    "print(f'theil_index_scorer {theil_index_scorer(trained_fairer7, test_X, test_y):.1%}')"
   ]
  },
  {
   "cell_type": "code",
   "execution_count": 66,
   "id": "2315e820",
   "metadata": {},
   "outputs": [
    {
     "data": {
      "text/markdown": [
       "```python\n",
       "pipeline = PrejudiceRemover(\n",
       "    favorable_labels=[1],\n",
       "    protected_attributes=[\n",
       "        {\"feature\": \"sex\", \"reference_group\": [1]},\n",
       "        {\"feature\": \"age\", \"reference_group\": [1]},\n",
       "    ],\n",
       "    eta=27283.69166514559,\n",
       ")\n",
       "```"
      ],
      "text/plain": [
       "<IPython.core.display.Markdown object>"
      ]
     },
     "metadata": {},
     "output_type": "display_data"
    }
   ],
   "source": [
    "trained_fairer7.pretty_print(ipython_display=True, show_imports=False)"
   ]
  },
  {
   "cell_type": "markdown",
   "id": "6bc0c6d9",
   "metadata": {},
   "source": [
    "# \n",
    "Prejudice remover  model  works best  for theil index scorer  among  LR|PrejudiceRemover| logisticaix360"
   ]
  },
  {
   "cell_type": "code",
   "execution_count": 67,
   "id": "6efb0e7a",
   "metadata": {},
   "outputs": [],
   "source": [
    "\n",
    "from lale.lib.aif360 import false_omission_rate_difference\n",
    "combined_scorer8 = false_omission_rate_difference(**fairness_info)"
   ]
  },
  {
   "cell_type": "code",
   "execution_count": 68,
   "id": "820976db",
   "metadata": {},
   "outputs": [],
   "source": [
    "from lale.lib.aif360 import FairStratifiedKFold\n",
    "fair_cv7 = FairStratifiedKFold(**fairness_info, n_splits=3)"
   ]
  },
  {
   "cell_type": "code",
   "execution_count": 69,
   "id": "5beb1fa9",
   "metadata": {},
   "outputs": [],
   "source": [
    "planned_fairer7 =  LR|PrejudiceRemover(**fairness_info)| logisticaix360(**fairness_info) "
   ]
  },
  {
   "cell_type": "code",
   "execution_count": 70,
   "id": "e995a75b",
   "metadata": {},
   "outputs": [
    {
     "name": "stdout",
     "output_type": "stream",
     "text": [
      "100%|███████████████████████████████████████████████████████████████| 10/10 [01:17<00:00,  7.79s/trial, best loss: 1.0]\n"
     ]
    }
   ],
   "source": [
    "from lale.lib.lale import Hyperopt\n",
    "trained_fairer8 = planned_fairer7.auto_configure(\n",
    "    train_X, train_y, optimizer=Hyperopt, cv=fair_cv7,verbose=True,\n",
    "    max_evals=10, scoring=combined_scorer8, best_score=1.0)"
   ]
  },
  {
   "cell_type": "code",
   "execution_count": 71,
   "id": "e0ef1ac4",
   "metadata": {},
   "outputs": [
    {
     "name": "stdout",
     "output_type": "stream",
     "text": [
      "false_omission_rate_difference -19.7%\n"
     ]
    }
   ],
   "source": [
    "false_omission_rate_difference_scorer = false_omission_rate_difference(**fairness_info)\n",
    "print(f'false_omission_rate_difference {false_omission_rate_difference_scorer(trained_fairer7, test_X, test_y):.1%}')"
   ]
  },
  {
   "cell_type": "code",
   "execution_count": 72,
   "id": "964d22d5",
   "metadata": {},
   "outputs": [
    {
     "data": {
      "text/markdown": [
       "```python\n",
       "pipeline = logisticaix360(\n",
       "    favorable_labels=[1],\n",
       "    protected_attributes=[\n",
       "        {\"feature\": \"sex\", \"reference_group\": [1]},\n",
       "        {\"feature\": \"age\", \"reference_group\": [1]},\n",
       "    ],\n",
       "    lambda0=28061.60432549893,\n",
       "    lambda1=19696.767526190495,\n",
       ")\n",
       "```"
      ],
      "text/plain": [
       "<IPython.core.display.Markdown object>"
      ]
     },
     "metadata": {},
     "output_type": "display_data"
    }
   ],
   "source": [
    "trained_fairer8.pretty_print(ipython_display=True, show_imports=False)"
   ]
  },
  {
   "cell_type": "markdown",
   "id": "34c3db8b",
   "metadata": {},
   "source": [
    "# \n",
    "Logisticaix360 model  works best for the above scorer among  LR|PrejudiceRemover| logisticaix360"
   ]
  },
  {
   "cell_type": "code",
   "execution_count": 73,
   "id": "92275a4c",
   "metadata": {},
   "outputs": [],
   "source": [
    "from lale.lib.aif360 import consistency_score\n"
   ]
  },
  {
   "cell_type": "code",
   "execution_count": 74,
   "id": "acdba785",
   "metadata": {},
   "outputs": [
    {
     "data": {
      "text/plain": [
       "{'favorable_labels': [1],\n",
       " 'protected_attributes': [{'feature': 'sex', 'reference_group': [1]},\n",
       "  {'feature': 'age', 'reference_group': [1]}]}"
      ]
     },
     "execution_count": 74,
     "metadata": {},
     "output_type": "execute_result"
    }
   ],
   "source": [
    "fairness_info"
   ]
  },
  {
   "cell_type": "code",
   "execution_count": 75,
   "id": "b817422e",
   "metadata": {},
   "outputs": [],
   "source": [
    "combined_scorer10 = consistency_score(**fairness_info)"
   ]
  },
  {
   "cell_type": "code",
   "execution_count": 76,
   "id": "05745bf7",
   "metadata": {},
   "outputs": [],
   "source": [
    "from lale.lib.aif360 import FairStratifiedKFold\n",
    "fair_cv10 = FairStratifiedKFold(**fairness_info, n_splits=3)"
   ]
  },
  {
   "cell_type": "code",
   "execution_count": 77,
   "id": "a54f0d4d",
   "metadata": {},
   "outputs": [],
   "source": [
    "planned_fairer10 =  LR|PrejudiceRemover(**fairness_info)| logisticaix360(**fairness_info)"
   ]
  },
  {
   "cell_type": "code",
   "execution_count": 78,
   "id": "0eafc284",
   "metadata": {},
   "outputs": [
    {
     "name": "stdout",
     "output_type": "stream",
     "text": [
      "100%|███████████████████████████████████████████████████████████████| 10/10 [00:51<00:00,  5.14s/trial, best loss: 0.0]\n"
     ]
    }
   ],
   "source": [
    "from lale.lib.lale import Hyperopt\n",
    "from sklearn.neighbors import NearestNeighbors\n",
    "trained_fairer10 = planned_fairer10.auto_configure(\n",
    "    train_X, train_y, optimizer=Hyperopt, cv=fair_cv10,verbose=True,\n",
    "    max_evals=10, scoring=combined_scorer10, best_score=1.0)"
   ]
  },
  {
   "cell_type": "code",
   "execution_count": 79,
   "id": "f740897f",
   "metadata": {},
   "outputs": [
    {
     "name": "stdout",
     "output_type": "stream",
     "text": [
      "consistency_scorer 100.0%\n"
     ]
    }
   ],
   "source": [
    "consistency_scorer = consistency_score(**fairness_info)\n",
    "print(f'consistency_scorer {consistency_scorer(trained_fairer10, test_X, test_y):.1%}')"
   ]
  },
  {
   "cell_type": "code",
   "execution_count": 85,
   "id": "9e030bdc",
   "metadata": {},
   "outputs": [
    {
     "data": {
      "text/markdown": [
       "```python\n",
       "pipeline = PrejudiceRemover(\n",
       "    favorable_labels=[1],\n",
       "    protected_attributes=[\n",
       "        {\"feature\": \"sex\", \"reference_group\": [1]},\n",
       "        {\"feature\": \"age\", \"reference_group\": [1]},\n",
       "    ],\n",
       "    eta=27283.69166514559,\n",
       ")\n",
       "```"
      ],
      "text/plain": [
       "<IPython.core.display.Markdown object>"
      ]
     },
     "metadata": {},
     "output_type": "display_data"
    }
   ],
   "source": [
    "trained_fairer10.pretty_print(ipython_display=True, show_imports=False)"
   ]
  },
  {
   "cell_type": "code",
   "execution_count": null,
   "id": "aa32dc8d",
   "metadata": {},
   "outputs": [],
   "source": [
    "class MyClass:\n",
    "    def __init__(self, a):\n",
    "        self.a = a\n",
    "\n",
    "    def add_one_to_a(self):\n",
    "        self.a += 1\n",
    "        def test_method_add_one_to_a():\n",
    "    initial_a = 1\n",
    "    instance = MyClass(a=1)\n",
    "    assert instance.a == initial_a  # we expect this to be 1\n",
    "    instance.add_one_to_a()  # instance.a is now 2assert instance.a == initial_a + 1  # we expect this to be 2"
   ]
  },
  {
   "cell_type": "code",
   "execution_count": 105,
   "id": "30f9ee86",
   "metadata": {},
   "outputs": [],
   "source": [
    "class MyClass:\n",
    "    def __init__(self, a):\n",
    "        self.a = a\n",
    "\n",
    "    def add_one_to_a(self):\n",
    "        \n",
    "        self.a += 1\n",
    "        print(self.a)\n",
    "        \n",
    "    def test_method_add_one_to_a(self):\n",
    "        initial_a = 1\n",
    "        instance = MyClass(a=1)\n",
    "        assert instance.a == initial_a  # we expect this to be 1\n",
    "        instance.add_one_to_a()  \n",
    "        "
   ]
  },
  {
   "cell_type": "code",
   "execution_count": 106,
   "id": "7c0d21bd",
   "metadata": {},
   "outputs": [
    {
     "name": "stdout",
     "output_type": "stream",
     "text": [
      "7\n",
      "2\n"
     ]
    }
   ],
   "source": [
    "a=MyClass(6)\n",
    "a.add_one_to_a()\n",
    "a.test_method_add_one_to_a()\n"
   ]
  },
  {
   "cell_type": "code",
   "execution_count": 96,
   "id": "386eff53",
   "metadata": {},
   "outputs": [],
   "source": [
    "def test_method_add_one_to_a():\n",
    "    initial_a = 1\n",
    "    instance = MyClass(a=1)\n",
    "    assert instance.a == initial_a  # we expect this to be 1\n",
    "    instance.add_one_to_a()  # instance.a is now 2assert instance.a == initial_a + 1  # we expect this to be 2"
   ]
  },
  {
   "cell_type": "markdown",
   "id": "504291f0",
   "metadata": {},
   "source": [
    "# \n",
    " PrejudiceRemover model works best for the above scorer max_evals=10  among LR|PrejudiceRemover| logisticaix360\n"
   ]
  },
  {
   "cell_type": "markdown",
   "id": "aa090ba1",
   "metadata": {},
   "source": [
    "# \n",
    "Note :Best model depends on the max_evals values and it may differ as per its values."
   ]
  }
 ],
 "metadata": {
  "kernelspec": {
   "display_name": "Python 3",
   "language": "python",
   "name": "python3"
  },
  "language_info": {
   "codemirror_mode": {
    "name": "ipython",
    "version": 3
   },
   "file_extension": ".py",
   "mimetype": "text/x-python",
   "name": "python",
   "nbconvert_exporter": "python",
   "pygments_lexer": "ipython3",
   "version": "3.8.8"
  }
 },
 "nbformat": 4,
 "nbformat_minor": 5
}
