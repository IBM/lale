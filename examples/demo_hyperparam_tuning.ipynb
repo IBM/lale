{
 "cells": [
  {
   "cell_type": "markdown",
   "metadata": {},
   "source": [
    "### Introduction: using LALE wrappers for hyperparameter tuning with Hyperopt\n",
    "\n",
    "In this notebook we will walk through the steps involved in using LogisticRegression from LALE for hyperparameter tuning using Hyperopt. We demonstrate this for classification of the Iris dataset.\n",
    "\n",
    "The main steps involved are as follows:\n",
    "\n",
    "1. Setup the optimization objective function to be used with Hyperopt.\n",
    "2. Access the hyper-parameter search space for LALE's LogisticRegression and use it within the optimization objective.\n",
    "3. Run hyperopt on the given dataset to obtain the best hyperparameter combination."
   ]
  },
  {
   "cell_type": "code",
   "execution_count": 1,
   "metadata": {},
   "outputs": [],
   "source": [
    "from lale.lib.sklearn import LogisticRegression\n",
    "from hyperopt import fmin, tpe, hp, STATUS_OK, Trials, space_eval\n",
    "from sklearn.model_selection import train_test_split\n",
    "from sklearn.metrics import accuracy_score"
   ]
  },
  {
   "cell_type": "markdown",
   "metadata": {},
   "source": [
    "#### Dataset\n",
    "We use the Iris dataset from scikit-learn for this example, we prepare the train and test data as follows:"
   ]
  },
  {
   "cell_type": "code",
   "execution_count": 2,
   "metadata": {},
   "outputs": [
    {
     "name": "stdout",
     "output_type": "stream",
     "text": [
      "Unique labels in test set:\n",
      "[2 1 0]\n"
     ]
    }
   ],
   "source": [
    "from lale.datasets import load_iris_df\n",
    "import sklearn.utils\n",
    "(X_train, y_train), (X_test, y_test) = load_iris_df()\n",
    "\n",
    "print('Unique labels in test set:\\n{}'.format(y_test.unique()))"
   ]
  },
  {
   "cell_type": "markdown",
   "metadata": {},
   "source": [
    "#### Hyperopt objective function\n",
    "\n",
    "This example uses classification accuracy on a random train-test split as our performance metric. Hyperopt expects a minimization objective, so we use negation of accuracy as the loss to be minimized. "
   ]
  },
  {
   "cell_type": "code",
   "execution_count": 3,
   "metadata": {},
   "outputs": [],
   "source": [
    "def objective(params):\n",
    "    acc = hyperopt_train_test(params.copy())\n",
    "    return {'loss': -acc, 'status': STATUS_OK}\n",
    "\n",
    "def hyperopt_train_test(params):\n",
    "    t = params['name']\n",
    "    del params['name']\n",
    "    clf = get_classifier(t, params)\n",
    "    X_train_part, X_validation, y_train_part, y_validation = train_test_split(X_train, y_train, test_size=0.20)\n",
    "    clf_trained = clf.fit(X_train_part, y_train_part)\n",
    "    predictions = clf_trained.predict(X_validation)\n",
    "    accuracy = accuracy_score(y_validation, [round(pred) for pred in predictions])\n",
    "    return accuracy\n",
    "\n",
    "def get_classifier(t, param_dict):\n",
    "    if 'LogisticRegression' in t:\n",
    "        return LogisticRegression(**param_dict)"
   ]
  },
  {
   "cell_type": "markdown",
   "metadata": {},
   "source": [
    "#### Set the hyperparameter search space\n",
    "\n",
    "This is the step where function 'hyperopt_search_space' from a LALE wrapper can be used to obtain the relevant hyperparameters and their appropriate range of values as hyperopt expressions."
   ]
  },
  {
   "cell_type": "code",
   "execution_count": 4,
   "metadata": {},
   "outputs": [],
   "source": [
    "from lale.search.op2hp import hyperopt_search_space\n",
    "#Supress warnings from sklearn\n",
    "import warnings\n",
    "warnings.filterwarnings(\"ignore\", category=DeprecationWarning)\n",
    "from sklearn.exceptions import ConvergenceWarning\n",
    "warnings.filterwarnings(\"ignore\", category=ConvergenceWarning)\n",
    "from scipy.optimize.linesearch import LineSearchWarning\n",
    "warnings.filterwarnings(\"ignore\", category=LineSearchWarning)"
   ]
  },
  {
   "cell_type": "code",
   "execution_count": 5,
   "metadata": {},
   "outputs": [],
   "source": [
    "search_space = hp.choice('classifier', [hyperopt_search_space(LogisticRegression())])"
   ]
  },
  {
   "cell_type": "code",
   "execution_count": 6,
   "metadata": {},
   "outputs": [
    {
     "name": "stdout",
     "output_type": "stream",
     "text": [
      "Best hyperparameter combination: {'C': 20215.05909343411, 'class_weight': 'balanced', 'dual': False, 'fit_intercept': True, 'multi_class': 'ovr', 'name': 'lale.lib.sklearn.logistic_regression.LogisticRegression', 'penalty': 'l2', 'solver': 'liblinear', 'tol': 0.09315307697480668}\n"
     ]
    }
   ],
   "source": [
    "trials = Trials()\n",
    "fmin(objective, search_space, algo=tpe.suggest, max_evals=50, trials=trials)\n",
    "best_params = space_eval(search_space, trials.argmin)\n",
    "print('Best hyperparameter combination:', best_params)"
   ]
  },
  {
   "cell_type": "code",
   "execution_count": 7,
   "metadata": {},
   "outputs": [],
   "source": [
    "def eval_on_best(params):\n",
    "    t = params['name']\n",
    "    del params['name']\n",
    "    clf = get_classifier(t, params)\n",
    "    clf_trained = clf.fit(X_train, y_train)\n",
    "    predictions = clf_trained.predict(X_test)\n",
    "    accuracy = accuracy_score(y_test, [round(pred) for pred in predictions])\n",
    "    return accuracy"
   ]
  },
  {
   "cell_type": "code",
   "execution_count": 8,
   "metadata": {},
   "outputs": [
    {
     "name": "stdout",
     "output_type": "stream",
     "text": [
      "Test Accuracy: 1.0\n"
     ]
    }
   ],
   "source": [
    "test_accuracy = eval_on_best(best_params)\n",
    "print('Test Accuracy:', test_accuracy)"
   ]
  },
  {
   "cell_type": "code",
   "execution_count": null,
   "metadata": {},
   "outputs": [],
   "source": []
  }
 ],
 "metadata": {
  "kernelspec": {
   "display_name": "Python 3",
   "language": "python",
   "name": "python3"
  },
  "language_info": {
   "codemirror_mode": {
    "name": "ipython",
    "version": 3
   },
   "file_extension": ".py",
   "mimetype": "text/x-python",
   "name": "python",
   "nbconvert_exporter": "python",
   "pygments_lexer": "ipython3",
   "version": "3.7.3"
  }
 },
 "nbformat": 4,
 "nbformat_minor": 2
}
