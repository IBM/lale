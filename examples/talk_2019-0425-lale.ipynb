{
 "cells": [
  {
   "cell_type": "markdown",
   "metadata": {},
   "source": [
    "# Lale: Language for Automated Learning Exploration\n",
    "\n",
    "Martin Hirzel, Kiran Kate, Avi Shinnar, Guillaume Baudart, Subhrajit Roy, and Pari Ram\n",
    "\n",
    "25 April 2019\n",
    "\n",
    "## Value Proposition\n",
    "\n",
    "The **target user** of Lale is the working data scientist. The\n",
    "**scope** of Lale includes machine learning (both deep learning and\n",
    "non-DL) and data preparation. The **value** of Lale encompasses:\n",
    "\n",
    "* *Automation*: facilitate automated search and composition of pipelines\n",
    "* *Portability*: independent of library or programming language, cloud-ready\n",
    "* *Correctness*: single source of truth, correct by construction, type-checked\n",
    "* *Usability*: leverage sklearn mind-share, popularity, and codes\n",
    "\n",
    "<img src=\"img/2019-0327-value.jpg\" style=\"width:50%\" align=\"left\">"
   ]
  },
  {
   "cell_type": "markdown",
   "metadata": {},
   "source": [
    "## Usability\n",
    "\n",
    "To make Lale easy to learn and use, its APIs imitate those of\n",
    "[sklearn](https://scikit-learn.org/), with init, fit, and predict,\n",
    "and with pipelines. That said, Lale makes some careful changes\n",
    "beyond sklearn to foster correctness."
   ]
  },
  {
   "cell_type": "code",
   "execution_count": 1,
   "metadata": {},
   "outputs": [
    {
     "name": "stdout",
     "output_type": "stream",
     "text": [
      "truth  [6, 9, 3, 7, 2, 1, 5, 2, 5, 2, 1, 9, 4, 0, 4, 2, 3, 7, 8, 8]\n"
     ]
    }
   ],
   "source": [
    "import sklearn.datasets\n",
    "digits = sklearn.datasets.load_digits()\n",
    "X_all, y_all = sklearn.utils.shuffle(\n",
    "    digits.data, digits.target, random_state=42)\n",
    "holdout_size = 200\n",
    "X_train, y_train = X_all[holdout_size:], y_all[holdout_size:]\n",
    "X_test, y_test = X_all[:holdout_size], y_all[:holdout_size]\n",
    "print('truth  {}'.format(y_test.tolist()[:20]))"
   ]
  },
  {
   "cell_type": "code",
   "execution_count": 2,
   "metadata": {},
   "outputs": [
    {
     "name": "stdout",
     "output_type": "stream",
     "text": [
      "actual [6, 9, 3, 7, 2, 2, 5, 2, 5, 2, 1, 4, 4, 0, 4, 2, 3, 7, 8, 8]\n"
     ]
    }
   ],
   "source": [
    "from lale.lib.sklearn import LogisticRegression as LR\n",
    "trainable_lr = LR(LR.solver.lbfgs, C=0.0001)\n",
    "trained_lr = trainable_lr.fit(X_train, y_train)\n",
    "predictions = trained_lr.predict(X_test)\n",
    "print('actual {}'.format(predictions.tolist()[:20]))"
   ]
  },
  {
   "cell_type": "code",
   "execution_count": 3,
   "metadata": {},
   "outputs": [
    {
     "name": "stdout",
     "output_type": "stream",
     "text": [
      "accuracy 93.5%\n"
     ]
    }
   ],
   "source": [
    "from sklearn.metrics import accuracy_score\n",
    "print('accuracy {:.1%}'.format(accuracy_score(y_test, predictions)))"
   ]
  },
  {
   "cell_type": "markdown",
   "metadata": {},
   "source": [
    "## Correctness\n",
    "\n",
    "Lale uses [JSON Schema](https://json-schema.org/) to check for valid\n",
    "hyperparameters. These schemas enable not just validation but also\n",
    "interactive documentation. Thanks to using a single source of truth, the\n",
    "documentation is correct by construction."
   ]
  },
  {
   "cell_type": "code",
   "execution_count": 4,
   "metadata": {},
   "outputs": [
    {
     "name": "stderr",
     "output_type": "stream",
     "text": [
      "Invalid configuration for LogisticRegression(solver='adam', C=0.01) due to invalid value solver=adam.\n",
      "Schema of argument solver: {\n",
      "    'description': 'Algorithm for optimization problem.',\n",
      "    'enum': ['newton-cg', 'lbfgs', 'liblinear', 'sag', 'saga'],\n",
      "    'default': 'liblinear'}\n",
      "Value: adam\n"
     ]
    }
   ],
   "source": [
    "import jsonschema, sys\n",
    "try:\n",
    "    LR(solver='adam', C=0.01)\n",
    "except jsonschema.ValidationError as e:\n",
    "    print(e.message, file=sys.stderr)"
   ]
  },
  {
   "cell_type": "code",
   "execution_count": 5,
   "metadata": {},
   "outputs": [
    {
     "data": {
      "text/plain": [
       "{'description': 'Inverse regularization strength. Smaller values specify stronger regularization.',\n",
       " 'type': 'number',\n",
       " 'distribution': 'loguniform',\n",
       " 'minimum': 0.0,\n",
       " 'exclusiveMinimum': True,\n",
       " 'default': 1.0,\n",
       " 'minimumForOptimizer': 0.03125,\n",
       " 'maximumForOptimizer': 32768}"
      ]
     },
     "execution_count": 5,
     "metadata": {},
     "output_type": "execute_result"
    }
   ],
   "source": [
    "LR.hyperparam_schema('C')"
   ]
  },
  {
   "cell_type": "code",
   "execution_count": 6,
   "metadata": {},
   "outputs": [
    {
     "name": "stdout",
     "output_type": "stream",
     "text": [
      "{'solver': 'liblinear', 'penalty': 'l2', 'dual': False, 'C': 1.0, 'tol': 0.0001, 'fit_intercept': True, 'intercept_scaling': 1.0, 'class_weight': None, 'random_state': None, 'max_iter': 100, 'multi_class': 'ovr', 'verbose': 0, 'warm_start': False, 'n_jobs': None}\n"
     ]
    }
   ],
   "source": [
    "print(LR.hyperparam_defaults())"
   ]
  },
  {
   "cell_type": "markdown",
   "metadata": {},
   "source": [
    "## Automation\n",
    "\n",
    "Lale includes a compiler that converts types (expressed as JSON\n",
    "Schema) to optimizer search spaces. It currently has back-ends for\n",
    "[hyperopt](http://hyperopt.github.io/hyperopt/) and for\n",
    "[GridSearchCV](https://scikit-learn.org/stable/modules/generated/sklearn.model_selection.GridSearchCV.html).\n",
    "We are also actively working towards various other forms of AI\n",
    "automation using various other tools."
   ]
  },
  {
   "cell_type": "code",
   "execution_count": 7,
   "metadata": {},
   "outputs": [
    {
     "name": "stdout",
     "output_type": "stream",
     "text": [
      "100%|████████████████████| 10/10 [00:03<00:00,  2.30trial/s, best loss: -0.975]\n",
      "best accuracy 97.5%\n",
      "best hyperparams {'C': 7882.717939475405, 'class_weight': None, 'dual': False, 'fit_intercept': True, 'multi_class': 'auto', 'penalty': 'l2', 'solver': 'newton-cg', 'tol': 0.03141911757548138}\n"
     ]
    }
   ],
   "source": [
    "from lale.search.op2hp import hyperopt_search_space\n",
    "import lale.helpers\n",
    "from hyperopt import STATUS_OK, Trials, fmin, tpe, space_eval\n",
    "import warnings\n",
    "warnings.filterwarnings(\"ignore\")\n",
    "\n",
    "def objective(hyperparams):\n",
    "    trainable = LR(**lale.helpers.dict_without(hyperparams, 'name'))\n",
    "    trained = trainable.fit(X_train, y_train)\n",
    "    predictions = trained.predict(X_test)\n",
    "    return {'loss': -accuracy_score(y_test, predictions), 'status': STATUS_OK}\n",
    "\n",
    "search_space = hyperopt_search_space(LR)\n",
    "\n",
    "trials = Trials()\n",
    "fmin(objective, search_space, algo=tpe.suggest, max_evals=10, trials=trials)\n",
    "print('best accuracy {:.1%}'.format(-min(trials.losses())))\n",
    "best_hps = space_eval(search_space, trials.argmin)\n",
    "print('best hyperparams', lale.helpers.dict_without(best_hps, 'name'))"
   ]
  },
  {
   "cell_type": "markdown",
   "metadata": {},
   "source": [
    "## Portability\n",
    "\n",
    "Lale is designed for portability across libraries, languages, and platforms\n",
    "by:\n",
    "\n",
    "* Embracing JSON Schema\n",
    "* Minimizing direct code dependency on sklearn\n",
    "* Discouraging in-place mutation of models\n",
    "\n",
    "JSON Schema [implementations](https://json-schema.org/implementations.html):\n",
    "\n",
    "<img src=\"img/2019-0327-portability.jpg\" style=\"width:80%\" align=\"left\">"
   ]
  },
  {
   "cell_type": "markdown",
   "metadata": {},
   "source": [
    "## Composition\n",
    "\n",
    "Lale supports composite models, which resemble sklearn pipelines but are\n",
    "more expressive.\n",
    "\n",
    "| Symbol | Name | Description  | Sklearn feature |\n",
    "| ------ | ---- | ------------ | --------------- |\n",
    "| >>     | pipe | Feed to next | `make_pipeline` |\n",
    "| &      | and  | Run both     | `make_union`, includes concat |\n",
    "| &#x7c; | or   | Choose one   | (missing) |"
   ]
  },
  {
   "cell_type": "code",
   "execution_count": 8,
   "metadata": {},
   "outputs": [
    {
     "data": {
      "image/svg+xml": [
       "<?xml version=\"1.0\" encoding=\"UTF-8\" standalone=\"no\"?>\n",
       "<!DOCTYPE svg PUBLIC \"-//W3C//DTD SVG 1.1//EN\"\n",
       " \"http://www.w3.org/Graphics/SVG/1.1/DTD/svg11.dtd\">\n",
       "<!-- Generated by graphviz version 2.38.0 (20140413.2041)\n",
       " -->\n",
       "<!-- Title: cluster:(root) Pages: 1 -->\n",
       "<svg width=\"168pt\" height=\"142pt\"\n",
       " viewBox=\"0.00 0.00 168.00 142.00\" xmlns=\"http://www.w3.org/2000/svg\" xmlns:xlink=\"http://www.w3.org/1999/xlink\">\n",
       "<g id=\"graph0\" class=\"graph\" transform=\"scale(1 1) rotate(0) translate(4 138)\">\n",
       "<title>cluster:(root)</title>\n",
       "<g id=\"a_graph0\"><a xlink:title=\"(root) = ...\">\n",
       "<polygon fill=\"white\" stroke=\"none\" points=\"-4,4 -4,-138 164,-138 164,4 -4,4\"/>\n",
       "</a>\n",
       "</g>\n",
       "<g id=\"clust1\" class=\"cluster\"><title>cluster:choice</title>\n",
       "<g id=\"a_clust1\"><a xlink:title=\"choice = lr | knn\">\n",
       "<polygon fill=\"#7ec0ee\" stroke=\"black\" points=\"82,-8 82,-126 152,-126 152,-8 82,-8\"/>\n",
       "<text text-anchor=\"middle\" x=\"117\" y=\"-110.8\" font-family=\"Times,serif\" font-size=\"14.00\">Choice</text>\n",
       "</a>\n",
       "</g>\n",
       "</g>\n",
       "<!-- pca -->\n",
       "<g id=\"node1\" class=\"node\"><title>pca</title>\n",
       "<g id=\"a_node1\"><a xlink:href=\"https://lale.readthedocs.io/en/latest/modules/lale.lib.sklearn.pca.html\" xlink:title=\"pca = PCA\">\n",
       "<ellipse fill=\"#7ec0ee\" stroke=\"black\" cx=\"27\" cy=\"-77\" rx=\"27\" ry=\"18\"/>\n",
       "<text text-anchor=\"middle\" x=\"27\" y=\"-74.2\" font-family=\"Times,serif\" font-size=\"11.00\">PCA</text>\n",
       "</a>\n",
       "</g>\n",
       "</g>\n",
       "<!-- lr -->\n",
       "<g id=\"node2\" class=\"node\"><title>lr</title>\n",
       "<g id=\"a_node2\"><a xlink:href=\"https://lale.readthedocs.io/en/latest/modules/lale.lib.sklearn.logistic_regression.html\" xlink:title=\"lr = LR\">\n",
       "<ellipse fill=\"#7ec0ee\" stroke=\"black\" cx=\"117\" cy=\"-77\" rx=\"27\" ry=\"18\"/>\n",
       "<text text-anchor=\"middle\" x=\"117\" y=\"-74.2\" font-family=\"Times,serif\" font-size=\"11.00\">LR</text>\n",
       "</a>\n",
       "</g>\n",
       "</g>\n",
       "<!-- pca&#45;&gt;lr -->\n",
       "<g id=\"edge1\" class=\"edge\"><title>pca&#45;&gt;lr</title>\n",
       "<path fill=\"none\" stroke=\"black\" d=\"M54.4029,-77C62.3932,-77 71.3106,-77 79.8241,-77\"/>\n",
       "<polygon fill=\"black\" stroke=\"black\" points=\"72.0002,-80.5005 82,-77 71.9998,-73.5005 72.0002,-80.5005\"/>\n",
       "</g>\n",
       "<!-- knn -->\n",
       "<g id=\"node3\" class=\"node\"><title>knn</title>\n",
       "<g id=\"a_node3\"><a xlink:href=\"https://scikit-learn.org/stable/modules/generated/sklearn.neighbors.KNeighborsClassifier.html\" xlink:title=\"knn = KNN\">\n",
       "<ellipse fill=\"#7ec0ee\" stroke=\"black\" cx=\"117\" cy=\"-34\" rx=\"27\" ry=\"18\"/>\n",
       "<text text-anchor=\"middle\" x=\"117\" y=\"-31.2\" font-family=\"Times,serif\" font-size=\"11.00\">KNN</text>\n",
       "</a>\n",
       "</g>\n",
       "</g>\n",
       "</g>\n",
       "</svg>\n"
      ],
      "text/plain": [
       "<graphviz.dot.Digraph at 0x7fd1b9b4c3c8>"
      ]
     },
     "metadata": {},
     "output_type": "display_data"
    }
   ],
   "source": [
    "from lale.lib.sklearn import PCA\n",
    "from lale.lib.sklearn import KNeighborsClassifier as KNN\n",
    "optimizable = PCA >> (LR | KNN)\n",
    "#optimizable = lale.operators.make_pipeline(PCA, LR | KNN)\n",
    "optimizable.visualize()"
   ]
  },
  {
   "cell_type": "code",
   "execution_count": 9,
   "metadata": {},
   "outputs": [
    {
     "name": "stdout",
     "output_type": "stream",
     "text": [
      " 40%|███▏    | 4/10 [00:09<00:13,  2.25s/trial, best loss: -0.8838181818181818]"
     ]
    },
    {
     "name": "stderr",
     "output_type": "stream",
     "text": [
      "WARNING:lale.lib.lale.hyperopt:Exception caught in HyperoptCV:<class 'ValueError'>, Traceback (most recent call last):\n",
      "  File \"/home/hirzel/git/hirzel/lale/lale/lib/lale/hyperopt.py\", line 96, in proc_train_test\n",
      "    score, logloss, execution_time = hyperopt_train_test(params, X_train=X_train, y_train=y_train)\n",
      "  File \"/home/hirzel/git/hirzel/lale/lale/lib/lale/hyperopt.py\", line 89, in hyperopt_train_test\n",
      "    raise e\n",
      "  File \"/home/hirzel/git/hirzel/lale/lale/lib/lale/hyperopt.py\", line 69, in hyperopt_train_test\n",
      "    cv_score, logloss, execution_time = cross_val_score_track_trials(trainable, X_train, y_train, cv=self.cv, scoring=self.scoring)\n",
      "  File \"/home/hirzel/git/hirzel/lale/lale/helpers.py\", line 288, in cross_val_score_track_trials\n",
      "    score_value  = scorer(trained, X_test, y_test)\n",
      "  File \"/home/hirzel/python3.6venv/lib/python3.6/site-packages/sklearn/metrics/scorer.py\", line 91, in __call__\n",
      "    y_pred = estimator.predict(X)\n",
      "  File \"/home/hirzel/git/hirzel/lale/lale/operators.py\", line 2051, in predict\n",
      "    output = operator.predict(X = inputs)\n",
      "  File \"/home/hirzel/python3.6venv/lib/python3.6/site-packages/sklearn/utils/metaestimators.py\", line 118, in <lambda>\n",
      "    out = lambda *args, **kwargs: self.fn(obj, *args, **kwargs)\n",
      "  File \"/home/hirzel/git/hirzel/lale/lale/operators.py\", line 1226, in predict\n",
      "    result = self._impl_instance().predict(X)\n",
      "  File \"/home/hirzel/git/hirzel/lale/lale/lib/sklearn/k_neighbors_classifier.py\", line 192, in predict\n",
      "    return self._sklearn_model.predict(X)\n",
      "  File \"/home/hirzel/python3.6venv/lib/python3.6/site-packages/sklearn/neighbors/classification.py\", line 149, in predict\n",
      "    neigh_dist, neigh_ind = self.kneighbors(X)\n",
      "  File \"/home/hirzel/python3.6venv/lib/python3.6/site-packages/sklearn/neighbors/base.py\", line 416, in kneighbors\n",
      "    (train_size, n_neighbors)\n",
      "ValueError: Expected n_neighbors <= n_samples,  but n_samples = 95, n_neighbors = 98\n",
      " with hyperparams: ({'n_components': None, 'name': 'lale.lib.sklearn.pca.PCA', 'svd_solver': 'arpack', 'whiten': False}, {1: {'algorithm': 'kd_tree', 'metric': 'minkowski', 'n_neighbors': 98, 'name': 'lale.lib.sklearn.k_neighbors_classifier.KNeighborsClassifier', 'p': 2, 'weights': 'distance'}}), setting status to FAIL\n"
     ]
    },
    {
     "name": "stdout",
     "output_type": "stream",
     "text": [
      "100%|███████| 10/10 [00:18<00:00,  1.73s/trial, best loss: -0.9321515151515151]\n"
     ]
    }
   ],
   "source": [
    "from lale.lib.lale.hyperopt import Hyperopt\n",
    "from lale.datasets import load_iris_df\n",
    "(X_train, y_train), (X_test, y_test) = load_iris_df()\n",
    "optimizer = Hyperopt(estimator=optimizable, max_evals=10)\n",
    "trained = optimizer.fit(X_train, y_train)"
   ]
  },
  {
   "cell_type": "code",
   "execution_count": 10,
   "metadata": {},
   "outputs": [
    {
     "data": {
      "image/svg+xml": [
       "<?xml version=\"1.0\" encoding=\"UTF-8\" standalone=\"no\"?>\n",
       "<!DOCTYPE svg PUBLIC \"-//W3C//DTD SVG 1.1//EN\"\n",
       " \"http://www.w3.org/Graphics/SVG/1.1/DTD/svg11.dtd\">\n",
       "<!-- Generated by graphviz version 2.38.0 (20140413.2041)\n",
       " -->\n",
       "<!-- Title: cluster:(root) Pages: 1 -->\n",
       "<svg width=\"152pt\" height=\"44pt\"\n",
       " viewBox=\"0.00 0.00 152.00 44.00\" xmlns=\"http://www.w3.org/2000/svg\" xmlns:xlink=\"http://www.w3.org/1999/xlink\">\n",
       "<g id=\"graph0\" class=\"graph\" transform=\"scale(1 1) rotate(0) translate(4 40)\">\n",
       "<title>cluster:(root)</title>\n",
       "<g id=\"a_graph0\"><a xlink:title=\"(root) = ...\">\n",
       "<polygon fill=\"white\" stroke=\"none\" points=\"-4,4 -4,-40 148,-40 148,4 -4,4\"/>\n",
       "</a>\n",
       "</g>\n",
       "<!-- pca -->\n",
       "<g id=\"node1\" class=\"node\"><title>pca</title>\n",
       "<g id=\"a_node1\"><a xlink:href=\"https://lale.readthedocs.io/en/latest/modules/lale.lib.sklearn.pca.html\" xlink:title=\"pca = PCA(svd_solver=&#39;full&#39;)\">\n",
       "<ellipse fill=\"white\" stroke=\"black\" cx=\"27\" cy=\"-18\" rx=\"27\" ry=\"18\"/>\n",
       "<text text-anchor=\"middle\" x=\"27\" y=\"-15.2\" font-family=\"Times,serif\" font-size=\"11.00\">PCA</text>\n",
       "</a>\n",
       "</g>\n",
       "</g>\n",
       "<!-- lr -->\n",
       "<g id=\"node2\" class=\"node\"><title>lr</title>\n",
       "<g id=\"a_node2\"><a xlink:href=\"https://lale.readthedocs.io/en/latest/modules/lale.lib.sklearn.logistic_regression.html\" xlink:title=\"lr = LR(C=20212.229886914443, dual=True, tol=0.08376726714168205)\">\n",
       "<ellipse fill=\"white\" stroke=\"black\" cx=\"117\" cy=\"-18\" rx=\"27\" ry=\"18\"/>\n",
       "<text text-anchor=\"middle\" x=\"117\" y=\"-15.2\" font-family=\"Times,serif\" font-size=\"11.00\">LR</text>\n",
       "</a>\n",
       "</g>\n",
       "</g>\n",
       "<!-- pca&#45;&gt;lr -->\n",
       "<g id=\"edge1\" class=\"edge\"><title>pca&#45;&gt;lr</title>\n",
       "<path fill=\"none\" stroke=\"black\" d=\"M54.4029,-18C62.3932,-18 71.3106,-18 79.8241,-18\"/>\n",
       "<polygon fill=\"black\" stroke=\"black\" points=\"79.919,-21.5001 89.919,-18 79.919,-14.5001 79.919,-21.5001\"/>\n",
       "</g>\n",
       "</g>\n",
       "</svg>\n"
      ],
      "text/plain": [
       "<graphviz.dot.Digraph at 0x7fd242e49c50>"
      ]
     },
     "metadata": {},
     "output_type": "display_data"
    }
   ],
   "source": [
    "trained.get_pipeline().visualize()"
   ]
  },
  {
   "cell_type": "code",
   "execution_count": 11,
   "metadata": {},
   "outputs": [
    {
     "data": {
      "image/svg+xml": [
       "<?xml version=\"1.0\" encoding=\"UTF-8\" standalone=\"no\"?>\n",
       "<!DOCTYPE svg PUBLIC \"-//W3C//DTD SVG 1.1//EN\"\n",
       " \"http://www.w3.org/Graphics/SVG/1.1/DTD/svg11.dtd\">\n",
       "<!-- Generated by graphviz version 2.38.0 (20140413.2041)\n",
       " -->\n",
       "<!-- Title: cluster:(root) Pages: 1 -->\n",
       "<svg width=\"365pt\" height=\"142pt\"\n",
       " viewBox=\"0.00 0.00 364.52 142.00\" xmlns=\"http://www.w3.org/2000/svg\" xmlns:xlink=\"http://www.w3.org/1999/xlink\">\n",
       "<g id=\"graph0\" class=\"graph\" transform=\"scale(1 1) rotate(0) translate(4 138)\">\n",
       "<title>cluster:(root)</title>\n",
       "<g id=\"a_graph0\"><a xlink:title=\"(root) = ...\">\n",
       "<polygon fill=\"white\" stroke=\"none\" points=\"-4,4 -4,-138 360.516,-138 360.516,4 -4,4\"/>\n",
       "</a>\n",
       "</g>\n",
       "<g id=\"clust1\" class=\"cluster\"><title>cluster:choice</title>\n",
       "<g id=\"a_clust1\"><a xlink:title=\"choice = lr | knn\">\n",
       "<polygon fill=\"#7ec0ee\" stroke=\"black\" points=\"278.516,-8 278.516,-126 348.516,-126 348.516,-8 278.516,-8\"/>\n",
       "<text text-anchor=\"middle\" x=\"313.516\" y=\"-110.8\" font-family=\"Times,serif\" font-size=\"14.00\">Choice</text>\n",
       "</a>\n",
       "</g>\n",
       "</g>\n",
       "<!-- min_max_scaler -->\n",
       "<g id=\"node1\" class=\"node\"><title>min_max_scaler</title>\n",
       "<g id=\"a_node1\"><a xlink:href=\"https://scikit-learn.org/stable/modules/generated/sklearn.preprocessing.MinMaxScaler.html\" xlink:title=\"min_max_scaler = MinMaxScaler(feature_range=(0, 1))\">\n",
       "<ellipse fill=\"#b0e2ff\" stroke=\"black\" cx=\"27\" cy=\"-77\" rx=\"27\" ry=\"28.0702\"/>\n",
       "<text text-anchor=\"middle\" x=\"27\" y=\"-86.2\" font-family=\"Times,serif\" font-size=\"11.00\">Min&#45;</text>\n",
       "<text text-anchor=\"middle\" x=\"27\" y=\"-74.2\" font-family=\"Times,serif\" font-size=\"11.00\">Max&#45;</text>\n",
       "<text text-anchor=\"middle\" x=\"27\" y=\"-62.2\" font-family=\"Times,serif\" font-size=\"11.00\">Scaler</text>\n",
       "</a>\n",
       "</g>\n",
       "</g>\n",
       "<!-- pca -->\n",
       "<g id=\"node2\" class=\"node\"><title>pca</title>\n",
       "<g id=\"a_node2\"><a xlink:href=\"https://lale.readthedocs.io/en/latest/modules/lale.lib.sklearn.pca.html\" xlink:title=\"pca = PCA(n_components=15)\">\n",
       "<ellipse fill=\"#b0e2ff\" stroke=\"black\" cx=\"119.024\" cy=\"-99\" rx=\"27\" ry=\"18\"/>\n",
       "<text text-anchor=\"middle\" x=\"119.024\" y=\"-96.2\" font-family=\"Times,serif\" font-size=\"11.00\">PCA</text>\n",
       "</a>\n",
       "</g>\n",
       "</g>\n",
       "<!-- min_max_scaler&#45;&gt;pca -->\n",
       "<g id=\"edge1\" class=\"edge\"><title>min_max_scaler&#45;&gt;pca</title>\n",
       "<path fill=\"none\" stroke=\"black\" d=\"M53.5565,-83.2455C62.8159,-85.5083 73.4354,-88.1035 83.348,-90.5259\"/>\n",
       "<polygon fill=\"black\" stroke=\"black\" points=\"82.7903,-93.9925 93.3353,-92.9666 84.4521,-87.1926 82.7903,-93.9925\"/>\n",
       "</g>\n",
       "<!-- nystroem -->\n",
       "<g id=\"node3\" class=\"node\"><title>nystroem</title>\n",
       "<g id=\"a_node3\"><a xlink:href=\"https://scikit-learn.org/stable/modules/generated/sklearn.kernel_approximation.Nystroem.html\" xlink:title=\"nystroem = Nystroem(n_components=15)\">\n",
       "<ellipse fill=\"#b0e2ff\" stroke=\"black\" cx=\"119.024\" cy=\"-56\" rx=\"29.0483\" ry=\"18\"/>\n",
       "<text text-anchor=\"middle\" x=\"119.024\" y=\"-53.2\" font-family=\"Times,serif\" font-size=\"11.00\">Nystroem</text>\n",
       "</a>\n",
       "</g>\n",
       "</g>\n",
       "<!-- min_max_scaler&#45;&gt;nystroem -->\n",
       "<g id=\"edge2\" class=\"edge\"><title>min_max_scaler&#45;&gt;nystroem</title>\n",
       "<path fill=\"none\" stroke=\"black\" d=\"M53.5565,-71.0384C62.2603,-69.0081 72.166,-66.6974 81.5565,-64.5068\"/>\n",
       "<polygon fill=\"black\" stroke=\"black\" points=\"82.5195,-67.8763 91.4629,-62.196 80.9292,-61.0593 82.5195,-67.8763\"/>\n",
       "</g>\n",
       "<!-- concat_features -->\n",
       "<g id=\"node4\" class=\"node\"><title>concat_features</title>\n",
       "<g id=\"a_node4\"><a xlink:href=\"https://lale.readthedocs.io/en/latest/modules/lale.lib.lale.concat_features.html\" xlink:title=\"concat_features = ConcatFeatures\">\n",
       "<ellipse fill=\"white\" stroke=\"black\" cx=\"217.282\" cy=\"-77\" rx=\"33.4697\" ry=\"19.6\"/>\n",
       "<text text-anchor=\"middle\" x=\"217.282\" y=\"-80.2\" font-family=\"Times,serif\" font-size=\"11.00\">Concat&#45;</text>\n",
       "<text text-anchor=\"middle\" x=\"217.282\" y=\"-68.2\" font-family=\"Times,serif\" font-size=\"11.00\">Features</text>\n",
       "</a>\n",
       "</g>\n",
       "</g>\n",
       "<!-- pca&#45;&gt;concat_features -->\n",
       "<g id=\"edge3\" class=\"edge\"><title>pca&#45;&gt;concat_features</title>\n",
       "<path fill=\"none\" stroke=\"black\" d=\"M144.813,-93.3345C154.353,-91.154 165.508,-88.6046 176.129,-86.177\"/>\n",
       "<polygon fill=\"black\" stroke=\"black\" points=\"177.111,-89.5431 186.079,-83.9029 175.551,-82.7191 177.111,-89.5431\"/>\n",
       "</g>\n",
       "<!-- nystroem&#45;&gt;concat_features -->\n",
       "<g id=\"edge4\" class=\"edge\"><title>nystroem&#45;&gt;concat_features</title>\n",
       "<path fill=\"none\" stroke=\"black\" d=\"M146.582,-61.7939C155.586,-63.7582 165.859,-65.9995 175.701,-68.1466\"/>\n",
       "<polygon fill=\"black\" stroke=\"black\" points=\"175.213,-71.6225 185.73,-70.3345 176.705,-64.7834 175.213,-71.6225\"/>\n",
       "</g>\n",
       "<!-- lr -->\n",
       "<g id=\"node5\" class=\"node\"><title>lr</title>\n",
       "<g id=\"a_node5\"><a xlink:href=\"https://lale.readthedocs.io/en/latest/modules/lale.lib.sklearn.logistic_regression.html\" xlink:title=\"lr = LR\">\n",
       "<ellipse fill=\"#7ec0ee\" stroke=\"black\" cx=\"313.516\" cy=\"-77\" rx=\"27\" ry=\"18\"/>\n",
       "<text text-anchor=\"middle\" x=\"313.516\" y=\"-74.2\" font-family=\"Times,serif\" font-size=\"11.00\">LR</text>\n",
       "</a>\n",
       "</g>\n",
       "</g>\n",
       "<!-- concat_features&#45;&gt;lr -->\n",
       "<g id=\"edge5\" class=\"edge\"><title>concat_features&#45;&gt;lr</title>\n",
       "<path fill=\"none\" stroke=\"black\" d=\"M250.712,-77C258.873,-77 267.687,-77 276.031,-77\"/>\n",
       "<polygon fill=\"black\" stroke=\"black\" points=\"268.516,-80.5004 278.516,-77 268.516,-73.5004 268.516,-80.5004\"/>\n",
       "</g>\n",
       "<!-- knn -->\n",
       "<g id=\"node6\" class=\"node\"><title>knn</title>\n",
       "<g id=\"a_node6\"><a xlink:href=\"https://scikit-learn.org/stable/modules/generated/sklearn.neighbors.KNeighborsClassifier.html\" xlink:title=\"knn = KNN\">\n",
       "<ellipse fill=\"#7ec0ee\" stroke=\"black\" cx=\"313.516\" cy=\"-34\" rx=\"27\" ry=\"18\"/>\n",
       "<text text-anchor=\"middle\" x=\"313.516\" y=\"-31.2\" font-family=\"Times,serif\" font-size=\"11.00\">KNN</text>\n",
       "</a>\n",
       "</g>\n",
       "</g>\n",
       "</g>\n",
       "</svg>\n"
      ],
      "text/plain": [
       "<graphviz.dot.Digraph at 0x7fd20fbdf710>"
      ]
     },
     "metadata": {},
     "output_type": "display_data"
    }
   ],
   "source": [
    "from lale.lib.lale import ConcatFeatures\n",
    "from lale.lib.lale import NoOp\n",
    "from lale.lib.sklearn import MinMaxScaler\n",
    "from lale.lib.sklearn import Nystroem\n",
    "\n",
    "def my_pipeline(scale=False, n_components=10, clf=LR):\n",
    "    scl = MinMaxScaler(feature_range=(0, 1)) if scale else NoOp\n",
    "    pca = PCA(n_components=n_components)\n",
    "    nys = Nystroem(n_components=n_components)\n",
    "    return scl >> (pca & nys) >> ConcatFeatures >> clf\n",
    "\n",
    "optimizable = my_pipeline(True, 15, LR | KNN)\n",
    "optimizable.visualize()"
   ]
  },
  {
   "cell_type": "markdown",
   "metadata": {},
   "source": [
    "## Input and Output Schemas\n",
    "\n",
    "Besides schemas for hyperparameter, Lale also provides operator tags\n",
    "and schemas for input and output data of operators."
   ]
  },
  {
   "cell_type": "code",
   "execution_count": 12,
   "metadata": {},
   "outputs": [
    {
     "data": {
      "text/plain": [
       "{'pre': ['~categoricals'],\n",
       " 'op': ['estimator', 'classifier', 'interpretable'],\n",
       " 'post': ['probabilities']}"
      ]
     },
     "execution_count": 12,
     "metadata": {},
     "output_type": "execute_result"
    }
   ],
   "source": [
    "LR.get_tags()"
   ]
  },
  {
   "cell_type": "code",
   "execution_count": 13,
   "metadata": {},
   "outputs": [
    {
     "data": {
      "text/plain": [
       "{'$schema': 'http://json-schema.org/draft-04/schema#',\n",
       " 'type': 'object',\n",
       " 'required': ['X', 'y'],\n",
       " 'additionalProperties': False,\n",
       " 'properties': {'X': {'description': 'Features; the outer array is over samples.',\n",
       "   'type': 'array',\n",
       "   'items': {'type': 'array', 'items': {'type': 'number'}}},\n",
       "  'y': {'description': 'Target class labels; the array is over samples.',\n",
       "   'anyOf': [{'type': 'array', 'items': {'type': 'number'}},\n",
       "    {'type': 'array', 'items': {'type': 'string'}}]}}}"
      ]
     },
     "execution_count": 13,
     "metadata": {},
     "output_type": "execute_result"
    }
   ],
   "source": [
    "LR.get_schema('input_fit')"
   ]
  },
  {
   "cell_type": "code",
   "execution_count": 14,
   "metadata": {},
   "outputs": [
    {
     "data": {
      "text/plain": [
       "{'$schema': 'http://json-schema.org/draft-04/schema#',\n",
       " 'description': 'Predicted class label per sample.',\n",
       " 'anyOf': [{'type': 'array', 'items': {'type': 'number'}},\n",
       "  {'type': 'array', 'items': {'type': 'string'}}]}"
      ]
     },
     "execution_count": 14,
     "metadata": {},
     "output_type": "execute_result"
    }
   ],
   "source": [
    "LR.get_schema('output_predict')"
   ]
  },
  {
   "cell_type": "markdown",
   "metadata": {},
   "source": [
    "## Terminology\n",
    "\n",
    "* An **operator** is a transformer or estimator and has **properties**.\n",
    "\n",
    "* An operator can be an **individual operator** or a **pipeline**,\n",
    "  which is a composite operator that has **elements**.\n",
    "\n",
    "* The lifecycle **state** of an operator determines which properties\n",
    "  are already bound and which are still free. There are four states:\n",
    "  meta-model, planned, trainable, and trained.\n",
    "\n",
    "Composition is orthogonal to lifecycle states.\n",
    "\n",
    "<img src=\"img/2019-0327-terminology.jpg\" style=\"width:70%\" align=\"left\">"
   ]
  },
  {
   "cell_type": "markdown",
   "metadata": {},
   "source": [
    "## Related Work\n",
    "\n",
    "* *Sklearn*. Incumbent for composition. Lale follows sklearn conventions\n",
    "  and adds value for automation, portability, and correctness.\n",
    "\n",
    "* *Hyperopt*. Incumbent for automation. Lale adds value for usability,\n",
    "  portability, and correctness.\n",
    "\n",
    "* *Kubeflow Pipelines*. Platform for deployment and training. Lale is\n",
    "  higher-level, could probably use Kubeflow as back-end."
   ]
  }
 ],
 "metadata": {
  "kernelspec": {
   "display_name": "Python 3",
   "language": "python",
   "name": "python3"
  },
  "language_info": {
   "codemirror_mode": {
    "name": "ipython",
    "version": 3
   },
   "file_extension": ".py",
   "mimetype": "text/x-python",
   "name": "python",
   "nbconvert_exporter": "python",
   "pygments_lexer": "ipython3",
   "version": "3.6.5"
  }
 },
 "nbformat": 4,
 "nbformat_minor": 2
}
