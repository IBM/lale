{
 "cells": [
  {
   "cell_type": "markdown",
   "metadata": {},
   "source": [
    "# Lale: Language for Automated Learning Exploration\n",
    "\n",
    "Martin Hirzel, Kiran Kate, Avi Shinnar, Guillaume Baudart, Subhrajit Roy, and Pari Ram\n",
    "\n",
    "25 April 2019\n",
    "\n",
    "## Value Proposition\n",
    "\n",
    "The **target user** of Lale is the working data scientist. The\n",
    "**scope** of Lale includes machine learning (both deep learning and\n",
    "non-DL) and data preparation. The **value** of Lale encompasses:\n",
    "\n",
    "* *Automation*: facilitate automated search and composition of pipelines\n",
    "* *Portability*: independent of library or programming language, cloud-ready\n",
    "* *Correctness*: single source of truth, correct by construction, type-checked\n",
    "* *Usability*: leverage sklearn mind-share, popularity, and codes\n",
    "\n",
    "<img src=\"img/2019-0327-value.jpg\" style=\"width:50%\" align=\"left\">"
   ]
  },
  {
   "cell_type": "markdown",
   "metadata": {},
   "source": [
    "## Usability\n",
    "\n",
    "To make Lale easy to learn and use, its APIs imitate those of\n",
    "[sklearn](https://scikit-learn.org/), with init, fit, and predict,\n",
    "and with pipelines. That said, Lale makes some careful changes\n",
    "beyond sklearn to foster correctness."
   ]
  },
  {
   "cell_type": "code",
   "execution_count": 1,
   "metadata": {},
   "outputs": [
    {
     "name": "stdout",
     "output_type": "stream",
     "text": [
      "truth  [6, 9, 3, 7, 2, 1, 5, 2, 5, 2, 1, 9, 4, 0, 4, 2, 3, 7, 8, 8]\n"
     ]
    }
   ],
   "source": [
    "import sklearn.datasets\n",
    "digits = sklearn.datasets.load_digits()\n",
    "X_all, y_all = sklearn.utils.shuffle(\n",
    "    digits.data, digits.target, random_state=42)\n",
    "holdout_size = 200\n",
    "X_train, y_train = X_all[holdout_size:], y_all[holdout_size:]\n",
    "X_test, y_test = X_all[:holdout_size], y_all[:holdout_size]\n",
    "print('truth  {}'.format(y_test.tolist()[:20]))"
   ]
  },
  {
   "cell_type": "code",
   "execution_count": 2,
   "metadata": {},
   "outputs": [
    {
     "name": "stdout",
     "output_type": "stream",
     "text": [
      "actual [6, 9, 3, 7, 2, 2, 5, 2, 5, 2, 1, 4, 4, 0, 4, 2, 3, 7, 8, 8]\n"
     ]
    }
   ],
   "source": [
    "from lale.lib.sklearn import LogisticRegression as LR\n",
    "trainable_lr = LR(LR.solver.lbfgs, C=0.0001)\n",
    "trained_lr = trainable_lr.fit(X_train, y_train)\n",
    "predictions = trained_lr.predict(X_test)\n",
    "print('actual {}'.format(predictions.tolist()[:20]))"
   ]
  },
  {
   "cell_type": "code",
   "execution_count": 3,
   "metadata": {},
   "outputs": [
    {
     "name": "stdout",
     "output_type": "stream",
     "text": [
      "accuracy 94.0%\n"
     ]
    }
   ],
   "source": [
    "from sklearn.metrics import accuracy_score\n",
    "print('accuracy {:.1%}'.format(accuracy_score(y_test, predictions)))"
   ]
  },
  {
   "cell_type": "markdown",
   "metadata": {},
   "source": [
    "## Correctness\n",
    "\n",
    "Lale uses [JSON Schema](https://json-schema.org/) to check for valid\n",
    "hyperparameters. These schemas enable not just validation but also\n",
    "interactive documentation. Thanks to using a single source of truth, the\n",
    "documentation is correct by construction."
   ]
  },
  {
   "cell_type": "code",
   "execution_count": 4,
   "metadata": {},
   "outputs": [
    {
     "name": "stderr",
     "output_type": "stream",
     "text": [
      "error:\n",
      "  message: \"Failed validating hyperparameters for LogisticRegression due to 'adam'\\\n",
      "    \\ is not one of ['newton-cg', 'lbfgs', 'liblinear', 'sag', 'saga']\\n\\nFailed validating\\\n",
      "    \\ 'enum' in schema['allOf'][0]['properties']['solver']:\\n    {'default': 'liblinear',\\n\\\n",
      "    \\     'description': 'Algorithm for optimization problem.',\\n     'enum': ['newton-cg',\\\n",
      "    \\ 'lbfgs', 'liblinear', 'sag', 'saga']}\\n\\nOn instance['solver']:\\n    'adam'\"\n",
      "  schema: !!python/object:jsonschema._utils.Unset {}\n"
     ]
    }
   ],
   "source": [
    "import lale.helpers\n",
    "with lale.helpers.assert_raises_validation_error():\n",
    "    LR(solver='adam', C=0.01)"
   ]
  },
  {
   "cell_type": "code",
   "execution_count": 5,
   "metadata": {},
   "outputs": [
    {
     "data": {
      "text/plain": [
       "{'description': 'Inverse regularization strength. Smaller values specify stronger regularization.',\n",
       " 'type': 'number',\n",
       " 'distribution': 'loguniform',\n",
       " 'minimum': 0.0,\n",
       " 'exclusiveMinimum': True,\n",
       " 'default': 1.0,\n",
       " 'minimumForOptimizer': 0.03125,\n",
       " 'maximumForOptimizer': 32768}"
      ]
     },
     "execution_count": 5,
     "metadata": {},
     "output_type": "execute_result"
    }
   ],
   "source": [
    "LR.hyperparam_schema('C')"
   ]
  },
  {
   "cell_type": "code",
   "execution_count": 6,
   "metadata": {},
   "outputs": [
    {
     "name": "stdout",
     "output_type": "stream",
     "text": [
      "{'solver': 'liblinear', 'penalty': 'l2', 'dual': False, 'C': 1.0, 'tol': 0.0001, 'fit_intercept': True, 'intercept_scaling': 1.0, 'class_weight': None, 'random_state': None, 'max_iter': 100, 'multi_class': 'auto', 'verbose': 0, 'warm_start': False, 'n_jobs': None}\n"
     ]
    }
   ],
   "source": [
    "print(LR.hyperparam_defaults())"
   ]
  },
  {
   "cell_type": "markdown",
   "metadata": {},
   "source": [
    "## Automation\n",
    "\n",
    "Lale includes a compiler that converts types (expressed as JSON\n",
    "Schema) to optimizer search spaces. It currently has back-ends for\n",
    "[hyperopt](http://hyperopt.github.io/hyperopt/) and for\n",
    "[GridSearchCV](https://scikit-learn.org/stable/modules/generated/sklearn.model_selection.GridSearchCV.html).\n",
    "We are also actively working towards various other forms of AI\n",
    "automation using various other tools."
   ]
  },
  {
   "cell_type": "code",
   "execution_count": 7,
   "metadata": {},
   "outputs": [
    {
     "name": "stdout",
     "output_type": "stream",
     "text": [
      "100%|███████████████████████| 10/10 [00:03<00:00,  3.83it/s, best loss: -0.985]\n",
      "best accuracy 98.5%\n",
      "best hyperparams {'C': 13883.67198273564, 'class_weight': 'balanced', 'dual': False, 'fit_intercept': False, 'multi_class': 'auto', 'penalty': 'l2', 'solver': 'saga', 'tol': 0.05004657332936056}\n"
     ]
    }
   ],
   "source": [
    "from lale.search.op2hp import hyperopt_search_space\n",
    "from hyperopt import STATUS_OK, Trials, fmin, tpe, space_eval\n",
    "import warnings\n",
    "warnings.filterwarnings(\"ignore\")\n",
    "\n",
    "def objective(hyperparams):\n",
    "    trainable = LR(**lale.helpers.dict_without(hyperparams, 'name'))\n",
    "    trained = trainable.fit(X_train, y_train)\n",
    "    predictions = trained.predict(X_test)\n",
    "    return {'loss': -accuracy_score(y_test, predictions), 'status': STATUS_OK}\n",
    "\n",
    "search_space = hyperopt_search_space(LR)\n",
    "\n",
    "trials = Trials()\n",
    "fmin(objective, search_space, algo=tpe.suggest, max_evals=10, trials=trials)\n",
    "print('best accuracy {:.1%}'.format(-min(trials.losses())))\n",
    "best_hps = space_eval(search_space, trials.argmin)\n",
    "print('best hyperparams', lale.helpers.dict_without(best_hps, 'name'))"
   ]
  },
  {
   "cell_type": "markdown",
   "metadata": {},
   "source": [
    "## Portability\n",
    "\n",
    "Lale is designed for portability across libraries, languages, and platforms\n",
    "by:\n",
    "\n",
    "* Embracing JSON Schema\n",
    "* Minimizing direct code dependency on sklearn\n",
    "* Discouraging in-place mutation of models\n",
    "\n",
    "JSON Schema [implementations](https://json-schema.org/implementations.html):\n",
    "\n",
    "<img src=\"img/2019-0327-portability.jpg\" style=\"width:80%\" align=\"left\">"
   ]
  },
  {
   "cell_type": "markdown",
   "metadata": {},
   "source": [
    "## Composition\n",
    "\n",
    "Lale supports composite models, which resemble sklearn pipelines but are\n",
    "more expressive.\n",
    "\n",
    "| Symbol | Name | Description  | Sklearn feature |\n",
    "| ------ | ---- | ------------ | --------------- |\n",
    "| >>     | pipe | Feed to next | `make_pipeline` |\n",
    "| &      | and  | Run both     | `make_union`, includes concat |\n",
    "| &#x7c; | or   | Choose one   | (missing) |"
   ]
  },
  {
   "cell_type": "code",
   "execution_count": 10,
   "metadata": {},
   "outputs": [
    {
     "data": {
      "image/svg+xml": [
       "<?xml version=\"1.0\" encoding=\"UTF-8\" standalone=\"no\"?>\n",
       "<!DOCTYPE svg PUBLIC \"-//W3C//DTD SVG 1.1//EN\"\n",
       " \"http://www.w3.org/Graphics/SVG/1.1/DTD/svg11.dtd\">\n",
       "<!-- Generated by graphviz version 2.38.0 (20140413.2041)\n",
       " -->\n",
       "<!-- Title: %3 Pages: 1 -->\n",
       "<svg width=\"309pt\" height=\"44pt\"\n",
       " viewBox=\"0.00 0.00 309.18 44.00\" xmlns=\"http://www.w3.org/2000/svg\" xmlns:xlink=\"http://www.w3.org/1999/xlink\">\n",
       "<g id=\"graph0\" class=\"graph\" transform=\"scale(1 1) rotate(0) translate(4 40)\">\n",
       "<title>%3</title>\n",
       "<polygon fill=\"white\" stroke=\"none\" points=\"-4,4 -4,-40 305.176,-40 305.176,4 -4,4\"/>\n",
       "<!-- 0 -->\n",
       "<g id=\"node1\" class=\"node\"><title>0</title>\n",
       "<g id=\"a_node1\"><a xlink:href=\"https://scikit-learn.org/stable/modules/generated/sklearn.decomposition.PCA.html\" xlink:title=\"PCA\">\n",
       "<ellipse fill=\"#7ec0ee\" stroke=\"black\" cx=\"27.9475\" cy=\"-18\" rx=\"27.8951\" ry=\"18\"/>\n",
       "<text text-anchor=\"middle\" x=\"27.9475\" y=\"-14.3\" font-family=\"Times,serif\" font-size=\"14.00\">PCA</text>\n",
       "</a>\n",
       "</g>\n",
       "</g>\n",
       "<!-- 1 -->\n",
       "<g id=\"node2\" class=\"node\"><title>1</title>\n",
       "<g id=\"a_node2\"><a xlink:title=\"LogisticRegression | KNN\">\n",
       "<ellipse fill=\"#7ec0ee\" stroke=\"black\" cx=\"196.536\" cy=\"-18\" rx=\"104.782\" ry=\"18\"/>\n",
       "<text text-anchor=\"middle\" x=\"196.536\" y=\"-14.3\" font-family=\"Times,serif\" font-size=\"14.00\">LogisticRegression | KNN</text>\n",
       "</a>\n",
       "</g>\n",
       "</g>\n",
       "<!-- 0&#45;&gt;1 -->\n",
       "<g id=\"edge1\" class=\"edge\"><title>0&#45;&gt;1</title>\n",
       "<path fill=\"none\" stroke=\"black\" d=\"M56.0836,-18C63.599,-18 72.2563,-18 81.5012,-18\"/>\n",
       "<polygon fill=\"black\" stroke=\"black\" points=\"81.7373,-21.5001 91.7373,-18 81.7373,-14.5001 81.7373,-21.5001\"/>\n",
       "</g>\n",
       "</g>\n",
       "</svg>\n"
      ],
      "text/plain": [
       "<graphviz.dot.Digraph at 0x7f3578b40780>"
      ]
     },
     "execution_count": 10,
     "metadata": {},
     "output_type": "execute_result"
    }
   ],
   "source": [
    "from lale.lib.sklearn import PCA\n",
    "from lale.lib.sklearn import KNeighborsClassifier as KNN\n",
    "optimizable = PCA >> (LR | KNN)\n",
    "#optimizable = lale.operators.make_pipeline(PCA, LR | KNN)\n",
    "lale.helpers.to_graphviz(optimizable)"
   ]
  },
  {
   "cell_type": "code",
   "execution_count": 11,
   "metadata": {},
   "outputs": [
    {
     "name": "stdout",
     "output_type": "stream",
     "text": [
      "100%|███████████| 10/10 [00:04<00:00,  2.30it/s, best loss: -0.948974358974359]\n"
     ]
    }
   ],
   "source": [
    "from lale.lib.lale.hyperopt_classifier import HyperoptClassifier\n",
    "from lale.datasets import load_iris_df\n",
    "(X_train, y_train), (X_test, y_test) = load_iris_df()\n",
    "optimizer = HyperoptClassifier(model=optimizable, max_evals=10)\n",
    "trained = optimizer.fit(X_train, y_train)"
   ]
  },
  {
   "cell_type": "code",
   "execution_count": 12,
   "metadata": {},
   "outputs": [
    {
     "data": {
      "image/svg+xml": [
       "<?xml version=\"1.0\" encoding=\"UTF-8\" standalone=\"no\"?>\n",
       "<!DOCTYPE svg PUBLIC \"-//W3C//DTD SVG 1.1//EN\"\n",
       " \"http://www.w3.org/Graphics/SVG/1.1/DTD/svg11.dtd\">\n",
       "<!-- Generated by graphviz version 2.38.0 (20140413.2041)\n",
       " -->\n",
       "<!-- Title: %3 Pages: 1 -->\n",
       "<svg width=\"160pt\" height=\"44pt\"\n",
       " viewBox=\"0.00 0.00 159.69 44.00\" xmlns=\"http://www.w3.org/2000/svg\" xmlns:xlink=\"http://www.w3.org/1999/xlink\">\n",
       "<g id=\"graph0\" class=\"graph\" transform=\"scale(1 1) rotate(0) translate(4 40)\">\n",
       "<title>%3</title>\n",
       "<polygon fill=\"white\" stroke=\"none\" points=\"-4,4 -4,-40 155.69,-40 155.69,4 -4,4\"/>\n",
       "<!-- 0 -->\n",
       "<g id=\"node1\" class=\"node\"><title>0</title>\n",
       "<g id=\"a_node1\"><a xlink:href=\"https://scikit-learn.org/stable/modules/generated/sklearn.decomposition.PCA.html\" xlink:title=\"PCA(svd_solver=&#39;full&#39;)\">\n",
       "<ellipse fill=\"white\" stroke=\"black\" cx=\"27.9475\" cy=\"-18\" rx=\"27.8951\" ry=\"18\"/>\n",
       "<text text-anchor=\"middle\" x=\"27.9475\" y=\"-14.3\" font-family=\"Times,serif\" font-size=\"14.00\">PCA</text>\n",
       "</a>\n",
       "</g>\n",
       "</g>\n",
       "<!-- 1 -->\n",
       "<g id=\"node2\" class=\"node\"><title>1</title>\n",
       "<g id=\"a_node2\"><a xlink:href=\"https://scikit-learn.org/stable/modules/generated/sklearn.neighbors.KNeighborsClassifier.html\" xlink:title=\"KNN(algorithm=&#39;kd_tree&#39;, n_neighbors=80, weights=&#39;distance&#39;)\">\n",
       "<ellipse fill=\"white\" stroke=\"black\" cx=\"121.792\" cy=\"-18\" rx=\"29.795\" ry=\"18\"/>\n",
       "<text text-anchor=\"middle\" x=\"121.792\" y=\"-14.3\" font-family=\"Times,serif\" font-size=\"14.00\">KNN</text>\n",
       "</a>\n",
       "</g>\n",
       "</g>\n",
       "<!-- 0&#45;&gt;1 -->\n",
       "<g id=\"edge1\" class=\"edge\"><title>0&#45;&gt;1</title>\n",
       "<path fill=\"none\" stroke=\"black\" d=\"M56.0073,-18C63.9824,-18 72.8762,-18 81.4567,-18\"/>\n",
       "<polygon fill=\"black\" stroke=\"black\" points=\"81.6848,-21.5001 91.6848,-18 81.6848,-14.5001 81.6848,-21.5001\"/>\n",
       "</g>\n",
       "</g>\n",
       "</svg>\n"
      ],
      "text/plain": [
       "<graphviz.dot.Digraph at 0x7f3571979390>"
      ]
     },
     "execution_count": 12,
     "metadata": {},
     "output_type": "execute_result"
    }
   ],
   "source": [
    "lale.helpers.to_graphviz(trained)"
   ]
  },
  {
   "cell_type": "code",
   "execution_count": 13,
   "metadata": {},
   "outputs": [
    {
     "data": {
      "image/svg+xml": [
       "<?xml version=\"1.0\" encoding=\"UTF-8\" standalone=\"no\"?>\n",
       "<!DOCTYPE svg PUBLIC \"-//W3C//DTD SVG 1.1//EN\"\n",
       " \"http://www.w3.org/Graphics/SVG/1.1/DTD/svg11.dtd\">\n",
       "<!-- Generated by graphviz version 2.38.0 (20140413.2041)\n",
       " -->\n",
       "<!-- Title: %3 Pages: 1 -->\n",
       "<svg width=\"678pt\" height=\"98pt\"\n",
       " viewBox=\"0.00 0.00 677.55 98.00\" xmlns=\"http://www.w3.org/2000/svg\" xmlns:xlink=\"http://www.w3.org/1999/xlink\">\n",
       "<g id=\"graph0\" class=\"graph\" transform=\"scale(1 1) rotate(0) translate(4 94)\">\n",
       "<title>%3</title>\n",
       "<polygon fill=\"white\" stroke=\"none\" points=\"-4,4 -4,-94 673.55,-94 673.55,4 -4,4\"/>\n",
       "<!-- 0 -->\n",
       "<g id=\"node1\" class=\"node\"><title>0</title>\n",
       "<g id=\"a_node1\"><a xlink:href=\"https://scikit-learn.org/stable/modules/generated/sklearn.preprocessing.MinMaxScaler.html\" xlink:title=\"MinMaxScaler(feature_range=(0, 1))\">\n",
       "<ellipse fill=\"#b0e2ff\" stroke=\"black\" cx=\"64.3443\" cy=\"-45\" rx=\"64.189\" ry=\"18\"/>\n",
       "<text text-anchor=\"middle\" x=\"64.3443\" y=\"-41.3\" font-family=\"Times,serif\" font-size=\"14.00\">MinMaxScaler</text>\n",
       "</a>\n",
       "</g>\n",
       "</g>\n",
       "<!-- 1 -->\n",
       "<g id=\"node2\" class=\"node\"><title>1</title>\n",
       "<g id=\"a_node2\"><a xlink:href=\"https://scikit-learn.org/stable/modules/generated/sklearn.decomposition.PCA.html\" xlink:title=\"PCA(n_components=15)\">\n",
       "<ellipse fill=\"#b0e2ff\" stroke=\"black\" cx=\"210.834\" cy=\"-72\" rx=\"27.8951\" ry=\"18\"/>\n",
       "<text text-anchor=\"middle\" x=\"210.834\" y=\"-68.3\" font-family=\"Times,serif\" font-size=\"14.00\">PCA</text>\n",
       "</a>\n",
       "</g>\n",
       "</g>\n",
       "<!-- 0&#45;&gt;1 -->\n",
       "<g id=\"edge1\" class=\"edge\"><title>0&#45;&gt;1</title>\n",
       "<path fill=\"none\" stroke=\"black\" d=\"M118.327,-54.9005C136.735,-58.3404 156.944,-62.1168 173.678,-65.2436\"/>\n",
       "<polygon fill=\"black\" stroke=\"black\" points=\"173.128,-68.7013 183.6,-67.0978 174.413,-61.8204 173.128,-68.7013\"/>\n",
       "</g>\n",
       "<!-- 2 -->\n",
       "<g id=\"node3\" class=\"node\"><title>2</title>\n",
       "<g id=\"a_node3\"><a xlink:href=\"https://scikit-learn.org/stable/modules/generated/sklearn.kernel_approximation.Nystroem.html\" xlink:title=\"Nystroem(n_components=15)\">\n",
       "<ellipse fill=\"#b0e2ff\" stroke=\"black\" cx=\"210.834\" cy=\"-18\" rx=\"46.2923\" ry=\"18\"/>\n",
       "<text text-anchor=\"middle\" x=\"210.834\" y=\"-14.3\" font-family=\"Times,serif\" font-size=\"14.00\">Nystroem</text>\n",
       "</a>\n",
       "</g>\n",
       "</g>\n",
       "<!-- 0&#45;&gt;2 -->\n",
       "<g id=\"edge2\" class=\"edge\"><title>0&#45;&gt;2</title>\n",
       "<path fill=\"none\" stroke=\"black\" d=\"M118.327,-35.0995C131.418,-32.6531 145.421,-30.0366 158.436,-27.6046\"/>\n",
       "<polygon fill=\"black\" stroke=\"black\" points=\"159.439,-30.9778 168.626,-25.7004 158.153,-24.0969 159.439,-30.9778\"/>\n",
       "</g>\n",
       "<!-- 3 -->\n",
       "<g id=\"node4\" class=\"node\"><title>3</title>\n",
       "<g id=\"a_node4\"><a xlink:href=\"https://github.ibm.com/aimodels/lale\" xlink:title=\"ConcatFeatures\">\n",
       "<ellipse fill=\"white\" stroke=\"black\" cx=\"358.625\" cy=\"-45\" rx=\"65.7887\" ry=\"18\"/>\n",
       "<text text-anchor=\"middle\" x=\"358.625\" y=\"-41.3\" font-family=\"Times,serif\" font-size=\"14.00\">ConcatFeatures</text>\n",
       "</a>\n",
       "</g>\n",
       "</g>\n",
       "<!-- 1&#45;&gt;3 -->\n",
       "<g id=\"edge3\" class=\"edge\"><title>1&#45;&gt;3</title>\n",
       "<path fill=\"none\" stroke=\"black\" d=\"M237.899,-67.1729C253.523,-64.2793 274.126,-60.4637 293.828,-56.815\"/>\n",
       "<polygon fill=\"black\" stroke=\"black\" points=\"294.513,-60.2478 303.708,-54.9852 293.238,-53.3648 294.513,-60.2478\"/>\n",
       "</g>\n",
       "<!-- 2&#45;&gt;3 -->\n",
       "<g id=\"edge4\" class=\"edge\"><title>2&#45;&gt;3</title>\n",
       "<path fill=\"none\" stroke=\"black\" d=\"M252.833,-25.5929C265.574,-27.9525 279.935,-30.612 293.845,-33.1882\"/>\n",
       "<polygon fill=\"black\" stroke=\"black\" points=\"293.395,-36.6643 303.865,-35.0439 294.67,-29.7813 293.395,-36.6643\"/>\n",
       "</g>\n",
       "<!-- 4 -->\n",
       "<g id=\"node5\" class=\"node\"><title>4</title>\n",
       "<g id=\"a_node5\"><a xlink:title=\"LogisticRegression | KNN\">\n",
       "<ellipse fill=\"#7ec0ee\" stroke=\"black\" cx=\"564.909\" cy=\"-45\" rx=\"104.782\" ry=\"18\"/>\n",
       "<text text-anchor=\"middle\" x=\"564.909\" y=\"-41.3\" font-family=\"Times,serif\" font-size=\"14.00\">LogisticRegression | KNN</text>\n",
       "</a>\n",
       "</g>\n",
       "</g>\n",
       "<!-- 3&#45;&gt;4 -->\n",
       "<g id=\"edge5\" class=\"edge\"><title>3&#45;&gt;4</title>\n",
       "<path fill=\"none\" stroke=\"black\" d=\"M424.542,-45C432.688,-45 441.199,-45 449.825,-45\"/>\n",
       "<polygon fill=\"black\" stroke=\"black\" points=\"449.99,-48.5001 459.99,-45 449.99,-41.5001 449.99,-48.5001\"/>\n",
       "</g>\n",
       "</g>\n",
       "</svg>\n"
      ],
      "text/plain": [
       "<graphviz.dot.Digraph at 0x7f3570e4e1d0>"
      ]
     },
     "execution_count": 13,
     "metadata": {},
     "output_type": "execute_result"
    }
   ],
   "source": [
    "from lale.lib.lale import ConcatFeatures\n",
    "from lale.lib.lale import NoOp\n",
    "from lale.lib.sklearn import MinMaxScaler\n",
    "from lale.lib.sklearn import Nystroem\n",
    "\n",
    "def my_pipeline(scale=False, n_components=10, clf=LR):\n",
    "    scl = MinMaxScaler(feature_range=(0, 1)) if scale else NoOp\n",
    "    pca = PCA(n_components=n_components)\n",
    "    nys = Nystroem(n_components=n_components)\n",
    "    return scl >> (pca & nys) >> ConcatFeatures >> clf\n",
    "\n",
    "optimizable = my_pipeline(True, 15, LR | KNN)\n",
    "lale.helpers.to_graphviz(optimizable)"
   ]
  },
  {
   "cell_type": "markdown",
   "metadata": {},
   "source": [
    "## Input and Output Schemas\n",
    "\n",
    "Besides schemas for hyperparameter, Lale also provides operator tags\n",
    "and schemas for input and output data of operators."
   ]
  },
  {
   "cell_type": "code",
   "execution_count": 14,
   "metadata": {},
   "outputs": [
    {
     "data": {
      "text/plain": [
       "{'pre': ['~categoricals'],\n",
       " 'op': ['estimator', 'classifier', 'interpretable'],\n",
       " 'post': ['probabilities']}"
      ]
     },
     "execution_count": 14,
     "metadata": {},
     "output_type": "execute_result"
    }
   ],
   "source": [
    "LR.get_tags()"
   ]
  },
  {
   "cell_type": "code",
   "execution_count": 15,
   "metadata": {},
   "outputs": [
    {
     "data": {
      "text/plain": [
       "{'$schema': 'http://json-schema.org/draft-04/schema#',\n",
       " 'description': 'Input data schema for training.',\n",
       " 'type': 'object',\n",
       " 'required': ['X', 'y'],\n",
       " 'additionalProperties': False,\n",
       " 'properties': {'X': {'description': 'Features; the outer array is over samples.',\n",
       "   'type': 'array',\n",
       "   'items': {'type': 'array', 'items': {'type': 'number'}}},\n",
       "  'y': {'description': 'Target class labels; the array is over samples.',\n",
       "   'type': 'array',\n",
       "   'items': {'type': 'number'}}}}"
      ]
     },
     "execution_count": 15,
     "metadata": {},
     "output_type": "execute_result"
    }
   ],
   "source": [
    "LR.get_schema('input_fit')"
   ]
  },
  {
   "cell_type": "code",
   "execution_count": 16,
   "metadata": {},
   "outputs": [
    {
     "data": {
      "text/plain": [
       "{'$schema': 'http://json-schema.org/draft-04/schema#',\n",
       " 'description': 'Output data schema for predictions (target class labels).',\n",
       " 'anyOf': [{'description': 'For predict, class label.',\n",
       "   'type': 'array',\n",
       "   'items': {'type': 'number'}},\n",
       "  {'description': 'For predict_proba, for each sample, vector of probabilities.',\n",
       "   'type': 'array',\n",
       "   'items': {'type': 'array', 'items': {'type': 'number'}}}]}"
      ]
     },
     "execution_count": 16,
     "metadata": {},
     "output_type": "execute_result"
    }
   ],
   "source": [
    "LR.get_schema('output')"
   ]
  },
  {
   "cell_type": "markdown",
   "metadata": {},
   "source": [
    "## Terminology\n",
    "\n",
    "* An **operator** is a transformer or estimator and has **properties**.\n",
    "\n",
    "* An operator can be an **individual operator** or a **pipeline**,\n",
    "  which is a composite operator that has **elements**.\n",
    "\n",
    "* The lifecycle **state** of an operator determines which properties\n",
    "  are already bound and which are still free. There are four states:\n",
    "  meta-model, planned, trainable, and trained.\n",
    "\n",
    "Composition is orthogonal to lifecycle states.\n",
    "\n",
    "<img src=\"img/2019-0327-terminology.jpg\" style=\"width:70%\" align=\"left\">"
   ]
  },
  {
   "cell_type": "markdown",
   "metadata": {},
   "source": [
    "## Related Work\n",
    "\n",
    "* *Sklearn*. Incumbent for composition. Lale follows sklearn conventions\n",
    "  and adds value for automation, portability, and correctness.\n",
    "\n",
    "* *Hyperopt*. Incumbent for automation. Lale adds value for usability,\n",
    "  portability, and correctness.\n",
    "\n",
    "* *Kubeflow Pipelines*. Platform for deployment and training. Lale is\n",
    "  higher-level, could probably use Kubeflow as back-end."
   ]
  }
 ],
 "metadata": {
  "kernelspec": {
   "display_name": "Python 3",
   "language": "python",
   "name": "python3"
  },
  "language_info": {
   "codemirror_mode": {
    "name": "ipython",
    "version": 3
   },
   "file_extension": ".py",
   "mimetype": "text/x-python",
   "name": "python",
   "nbconvert_exporter": "python",
   "pygments_lexer": "ipython3",
   "version": "3.7.3"
  }
 },
 "nbformat": 4,
 "nbformat_minor": 2
}
