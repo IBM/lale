{
 "cells": [
  {
   "cell_type": "markdown",
   "metadata": {},
   "source": [
    "# Lale: Language for Automated Learning Exploration\n",
    "\n",
    "Martin Hirzel, Kiran Kate, Avi Shinnar, Guillaume Baudart, Subhrajit Roy, and Pari Ram\n",
    "\n",
    "25 April 2019\n",
    "\n",
    "## Value Proposition\n",
    "\n",
    "The **target user** of Lale is the working data scientist. The\n",
    "**scope** of Lale includes machine learning (both deep learning and\n",
    "non-DL) and data preparation. The **value** of Lale encompasses:\n",
    "\n",
    "* *Automation*: facilitate automated search and composition of pipelines\n",
    "* *Portability*: independent of library or programming language, cloud-ready\n",
    "* *Correctness*: single source of truth, correct by construction, type-checked\n",
    "* *Usability*: leverage sklearn mind-share, popularity, and codes\n",
    "\n",
    "<img src=\"img/2019-0327-value.jpg\" style=\"width:50%\" align=\"left\">"
   ]
  },
  {
   "cell_type": "markdown",
   "metadata": {},
   "source": [
    "## Usability\n",
    "\n",
    "To make Lale easy to learn and use, its APIs imitate those of\n",
    "[sklearn](https://scikit-learn.org/), with init, fit, and predict,\n",
    "and with pipelines. That said, Lale makes some careful changes\n",
    "beyond sklearn to foster correctness."
   ]
  },
  {
   "cell_type": "code",
   "execution_count": 1,
   "metadata": {},
   "outputs": [
    {
     "name": "stdout",
     "output_type": "stream",
     "text": [
      "truth  [6, 9, 3, 7, 2, 1, 5, 2, 5, 2, 1, 9, 4, 0, 4, 2, 3, 7, 8, 8]\n"
     ]
    }
   ],
   "source": [
    "import sklearn.datasets\n",
    "digits = sklearn.datasets.load_digits()\n",
    "X_all, y_all = sklearn.utils.shuffle(\n",
    "    digits.data, digits.target, random_state=42)\n",
    "holdout_size = 200\n",
    "X_train, y_train = X_all[holdout_size:], y_all[holdout_size:]\n",
    "X_test, y_test = X_all[:holdout_size], y_all[:holdout_size]\n",
    "print('truth  {}'.format(y_test.tolist()[:20]))"
   ]
  },
  {
   "cell_type": "code",
   "execution_count": 2,
   "metadata": {},
   "outputs": [
    {
     "name": "stdout",
     "output_type": "stream",
     "text": [
      "actual [6, 9, 3, 7, 2, 2, 5, 2, 5, 2, 1, 4, 4, 0, 4, 2, 3, 7, 8, 8]\n"
     ]
    }
   ],
   "source": [
    "from lale.lib.sklearn import LogisticRegression as LR\n",
    "trainable_lr = LR(LR.solver.lbfgs, C=0.0001)\n",
    "trained_lr = trainable_lr.fit(X_train, y_train)\n",
    "predictions = trained_lr.predict(X_test)\n",
    "print('actual {}'.format(predictions.tolist()[:20]))"
   ]
  },
  {
   "cell_type": "code",
   "execution_count": 3,
   "metadata": {},
   "outputs": [
    {
     "name": "stdout",
     "output_type": "stream",
     "text": [
      "accuracy 93.5%\n"
     ]
    }
   ],
   "source": [
    "from sklearn.metrics import accuracy_score\n",
    "print('accuracy {:.1%}'.format(accuracy_score(y_test, predictions)))"
   ]
  },
  {
   "cell_type": "markdown",
   "metadata": {},
   "source": [
    "## Correctness\n",
    "\n",
    "Lale uses [JSON Schema](https://json-schema.org/) to check for valid\n",
    "hyperparameters. These schemas enable not just validation but also\n",
    "interactive documentation. Thanks to using a single source of truth, the\n",
    "documentation is correct by construction."
   ]
  },
  {
   "cell_type": "code",
   "execution_count": 4,
   "metadata": {},
   "outputs": [
    {
     "name": "stderr",
     "output_type": "stream",
     "text": [
      "Invalid configuration for LogisticRegression(solver='adam', C=0.01) due to invalid value solver=adam.\n",
      "Schema of argument solver: {\n",
      "    'description': 'Algorithm for optimization problem.',\n",
      "    'enum': ['newton-cg', 'lbfgs', 'liblinear', 'sag', 'saga'],\n",
      "    'default': 'liblinear'}\n",
      "Value: adam\n"
     ]
    }
   ],
   "source": [
    "import jsonschema, sys\n",
    "try:\n",
    "    LR(solver='adam', C=0.01)\n",
    "except jsonschema.ValidationError as e:\n",
    "    print(e.message, file=sys.stderr)"
   ]
  },
  {
   "cell_type": "code",
   "execution_count": 5,
   "metadata": {},
   "outputs": [
    {
     "data": {
      "text/plain": [
       "{'description': 'Inverse regularization strength. Smaller values specify stronger regularization.',\n",
       " 'type': 'number',\n",
       " 'distribution': 'loguniform',\n",
       " 'minimum': 0.0,\n",
       " 'exclusiveMinimum': True,\n",
       " 'default': 1.0,\n",
       " 'minimumForOptimizer': 0.03125,\n",
       " 'maximumForOptimizer': 32768}"
      ]
     },
     "execution_count": 5,
     "metadata": {},
     "output_type": "execute_result"
    }
   ],
   "source": [
    "LR.hyperparam_schema('C')"
   ]
  },
  {
   "cell_type": "code",
   "execution_count": 6,
   "metadata": {},
   "outputs": [
    {
     "name": "stdout",
     "output_type": "stream",
     "text": [
      "{'solver': 'liblinear', 'penalty': 'l2', 'dual': False, 'C': 1.0, 'tol': 0.0001, 'fit_intercept': True, 'intercept_scaling': 1.0, 'class_weight': None, 'random_state': None, 'max_iter': 100, 'multi_class': 'ovr', 'verbose': 0, 'warm_start': False, 'n_jobs': None}\n"
     ]
    }
   ],
   "source": [
    "print(LR.hyperparam_defaults())"
   ]
  },
  {
   "cell_type": "markdown",
   "metadata": {},
   "source": [
    "## Automation\n",
    "\n",
    "Lale includes a compiler that converts types (expressed as JSON\n",
    "Schema) to optimizer search spaces. It currently has back-ends for\n",
    "[hyperopt](http://hyperopt.github.io/hyperopt/) and for\n",
    "[GridSearchCV](https://scikit-learn.org/stable/modules/generated/sklearn.model_selection.GridSearchCV.html).\n",
    "We are also actively working towards various other forms of AI\n",
    "automation using various other tools."
   ]
  },
  {
   "cell_type": "code",
   "execution_count": 7,
   "metadata": {},
   "outputs": [
    {
     "name": "stdout",
     "output_type": "stream",
     "text": [
      "100%|███████████████████████| 10/10 [00:04<00:00,  1.46it/s, best loss: -0.975]\n",
      "best accuracy 97.5%\n",
      "best hyperparams {'C': 24986.552238268796, 'class_weight': 'balanced', 'dual': False, 'fit_intercept': True, 'multi_class': 'auto', 'penalty': 'l2', 'solver': 'newton-cg', 'tol': 0.049386833355753966}\n"
     ]
    }
   ],
   "source": [
    "from lale.search.op2hp import hyperopt_search_space\n",
    "import lale.helpers\n",
    "from hyperopt import STATUS_OK, Trials, fmin, tpe, space_eval\n",
    "import warnings\n",
    "warnings.filterwarnings(\"ignore\")\n",
    "\n",
    "def objective(hyperparams):\n",
    "    trainable = LR(**lale.helpers.dict_without(hyperparams, 'name'))\n",
    "    trained = trainable.fit(X_train, y_train)\n",
    "    predictions = trained.predict(X_test)\n",
    "    return {'loss': -accuracy_score(y_test, predictions), 'status': STATUS_OK}\n",
    "\n",
    "search_space = hyperopt_search_space(LR)\n",
    "\n",
    "trials = Trials()\n",
    "fmin(objective, search_space, algo=tpe.suggest, max_evals=10, trials=trials)\n",
    "print('best accuracy {:.1%}'.format(-min(trials.losses())))\n",
    "best_hps = space_eval(search_space, trials.argmin)\n",
    "print('best hyperparams', lale.helpers.dict_without(best_hps, 'name'))"
   ]
  },
  {
   "cell_type": "markdown",
   "metadata": {},
   "source": [
    "## Portability\n",
    "\n",
    "Lale is designed for portability across libraries, languages, and platforms\n",
    "by:\n",
    "\n",
    "* Embracing JSON Schema\n",
    "* Minimizing direct code dependency on sklearn\n",
    "* Discouraging in-place mutation of models\n",
    "\n",
    "JSON Schema [implementations](https://json-schema.org/implementations.html):\n",
    "\n",
    "<img src=\"img/2019-0327-portability.jpg\" style=\"width:80%\" align=\"left\">"
   ]
  },
  {
   "cell_type": "markdown",
   "metadata": {},
   "source": [
    "## Composition\n",
    "\n",
    "Lale supports composite models, which resemble sklearn pipelines but are\n",
    "more expressive.\n",
    "\n",
    "| Symbol | Name | Description  | Sklearn feature |\n",
    "| ------ | ---- | ------------ | --------------- |\n",
    "| >>     | pipe | Feed to next | `make_pipeline` |\n",
    "| &      | and  | Run both     | `make_union`, includes concat |\n",
    "| &#x7c; | or   | Choose one   | (missing) |"
   ]
  },
  {
   "cell_type": "code",
   "execution_count": 8,
   "metadata": {},
   "outputs": [
    {
     "data": {
      "image/svg+xml": [
       "<?xml version=\"1.0\" encoding=\"UTF-8\" standalone=\"no\"?>\n",
       "<!DOCTYPE svg PUBLIC \"-//W3C//DTD SVG 1.1//EN\"\n",
       " \"http://www.w3.org/Graphics/SVG/1.1/DTD/svg11.dtd\">\n",
       "<!-- Generated by graphviz version 2.38.0 (20140413.2041)\n",
       " -->\n",
       "<!-- Title: %3 Pages: 1 -->\n",
       "<svg width=\"240pt\" height=\"44pt\"\n",
       " viewBox=\"0.00 0.00 239.77 44.00\" xmlns=\"http://www.w3.org/2000/svg\" xmlns:xlink=\"http://www.w3.org/1999/xlink\">\n",
       "<g id=\"graph0\" class=\"graph\" transform=\"scale(1 1) rotate(0) translate(4 40)\">\n",
       "<title>%3</title>\n",
       "<polygon fill=\"white\" stroke=\"none\" points=\"-4,4 -4,-40 235.772,-40 235.772,4 -4,4\"/>\n",
       "<!-- 0 -->\n",
       "<g id=\"node1\" class=\"node\"><title>0</title>\n",
       "<g id=\"a_node1\"><a xlink:href=\"https://scikit-learn.org/stable/modules/generated/sklearn.decomposition.PCA.html\" xlink:title=\"PCA\">\n",
       "<ellipse fill=\"#7ec0ee\" stroke=\"black\" cx=\"27\" cy=\"-18\" rx=\"27\" ry=\"18\"/>\n",
       "<text text-anchor=\"middle\" x=\"27\" y=\"-15.2\" font-family=\"Times,serif\" font-size=\"11.00\">PCA</text>\n",
       "</a>\n",
       "</g>\n",
       "</g>\n",
       "<!-- 1 -->\n",
       "<g id=\"node2\" class=\"node\"><title>1</title>\n",
       "<g id=\"a_node2\"><a xlink:title=\"LogisticRegression | KNN\">\n",
       "<ellipse fill=\"#7ec0ee\" stroke=\"black\" cx=\"160.886\" cy=\"-18\" rx=\"70.7719\" ry=\"18\"/>\n",
       "<text text-anchor=\"middle\" x=\"160.886\" y=\"-15.2\" font-family=\"Times,serif\" font-size=\"11.00\">LogisticRegression | KNN</text>\n",
       "</a>\n",
       "</g>\n",
       "</g>\n",
       "<!-- 0&#45;&gt;1 -->\n",
       "<g id=\"edge1\" class=\"edge\"><title>0&#45;&gt;1</title>\n",
       "<path fill=\"none\" stroke=\"black\" d=\"M54.0564,-18C61.7194,-18 70.5334,-18 79.7349,-18\"/>\n",
       "<polygon fill=\"black\" stroke=\"black\" points=\"79.8355,-21.5001 89.8354,-18 79.8354,-14.5001 79.8355,-21.5001\"/>\n",
       "</g>\n",
       "</g>\n",
       "</svg>\n"
      ],
      "text/plain": [
       "<graphviz.dot.Digraph at 0x7fa4a1f3f4a8>"
      ]
     },
     "execution_count": 8,
     "metadata": {},
     "output_type": "execute_result"
    }
   ],
   "source": [
    "from lale.lib.sklearn import PCA\n",
    "from lale.lib.sklearn import KNeighborsClassifier as KNN\n",
    "optimizable = PCA >> (LR | KNN)\n",
    "#optimizable = lale.operators.make_pipeline(PCA, LR | KNN)\n",
    "lale.helpers.to_graphviz(optimizable)"
   ]
  },
  {
   "cell_type": "code",
   "execution_count": 9,
   "metadata": {},
   "outputs": [
    {
     "name": "stdout",
     "output_type": "stream",
     "text": [
      "100%|███████████| 10/10 [00:04<00:00,  2.71it/s, best loss: -0.949909090909091]\n"
     ]
    }
   ],
   "source": [
    "from lale.lib.lale.hyperopt_classifier import HyperoptClassifier\n",
    "from lale.datasets import load_iris_df\n",
    "(X_train, y_train), (X_test, y_test) = load_iris_df()\n",
    "optimizer = HyperoptClassifier(estimator=optimizable, max_evals=10)\n",
    "trained = optimizer.fit(X_train, y_train)"
   ]
  },
  {
   "cell_type": "code",
   "execution_count": 10,
   "metadata": {},
   "outputs": [
    {
     "data": {
      "image/svg+xml": [
       "<?xml version=\"1.0\" encoding=\"UTF-8\" standalone=\"no\"?>\n",
       "<!DOCTYPE svg PUBLIC \"-//W3C//DTD SVG 1.1//EN\"\n",
       " \"http://www.w3.org/Graphics/SVG/1.1/DTD/svg11.dtd\">\n",
       "<!-- Generated by graphviz version 2.38.0 (20140413.2041)\n",
       " -->\n",
       "<!-- Title: %3 Pages: 1 -->\n",
       "<svg width=\"152pt\" height=\"44pt\"\n",
       " viewBox=\"0.00 0.00 152.00 44.00\" xmlns=\"http://www.w3.org/2000/svg\" xmlns:xlink=\"http://www.w3.org/1999/xlink\">\n",
       "<g id=\"graph0\" class=\"graph\" transform=\"scale(1 1) rotate(0) translate(4 40)\">\n",
       "<title>%3</title>\n",
       "<polygon fill=\"white\" stroke=\"none\" points=\"-4,4 -4,-40 148,-40 148,4 -4,4\"/>\n",
       "<!-- 0 -->\n",
       "<g id=\"node1\" class=\"node\"><title>0</title>\n",
       "<g id=\"a_node1\"><a xlink:href=\"https://scikit-learn.org/stable/modules/generated/sklearn.decomposition.PCA.html\" xlink:title=\"PCA(svd_solver=&#39;full&#39;)\">\n",
       "<ellipse fill=\"white\" stroke=\"black\" cx=\"27\" cy=\"-18\" rx=\"27\" ry=\"18\"/>\n",
       "<text text-anchor=\"middle\" x=\"27\" y=\"-15.2\" font-family=\"Times,serif\" font-size=\"11.00\">PCA</text>\n",
       "</a>\n",
       "</g>\n",
       "</g>\n",
       "<!-- 1 -->\n",
       "<g id=\"node2\" class=\"node\"><title>1</title>\n",
       "<g id=\"a_node2\"><a xlink:href=\"https://scikit-learn.org/stable/modules/generated/sklearn.neighbors.KNeighborsClassifier.html\" xlink:title=\"KNN(algorithm=&#39;ball_tree&#39;, metric=&#39;manhattan&#39;, n_neighbors=80, weights=&#39;distance&#39;)\">\n",
       "<ellipse fill=\"white\" stroke=\"black\" cx=\"117\" cy=\"-18\" rx=\"27\" ry=\"18\"/>\n",
       "<text text-anchor=\"middle\" x=\"117\" y=\"-15.2\" font-family=\"Times,serif\" font-size=\"11.00\">KNN</text>\n",
       "</a>\n",
       "</g>\n",
       "</g>\n",
       "<!-- 0&#45;&gt;1 -->\n",
       "<g id=\"edge1\" class=\"edge\"><title>0&#45;&gt;1</title>\n",
       "<path fill=\"none\" stroke=\"black\" d=\"M54.4029,-18C62.3932,-18 71.3106,-18 79.8241,-18\"/>\n",
       "<polygon fill=\"black\" stroke=\"black\" points=\"79.919,-21.5001 89.919,-18 79.919,-14.5001 79.919,-21.5001\"/>\n",
       "</g>\n",
       "</g>\n",
       "</svg>\n"
      ],
      "text/plain": [
       "<graphviz.dot.Digraph at 0x7fa49a5e4dd8>"
      ]
     },
     "execution_count": 10,
     "metadata": {},
     "output_type": "execute_result"
    }
   ],
   "source": [
    "lale.helpers.to_graphviz(lale.helpers.best_estimator(trained))"
   ]
  },
  {
   "cell_type": "code",
   "execution_count": 11,
   "metadata": {},
   "outputs": [
    {
     "data": {
      "image/svg+xml": [
       "<?xml version=\"1.0\" encoding=\"UTF-8\" standalone=\"no\"?>\n",
       "<!DOCTYPE svg PUBLIC \"-//W3C//DTD SVG 1.1//EN\"\n",
       " \"http://www.w3.org/Graphics/SVG/1.1/DTD/svg11.dtd\">\n",
       "<!-- Generated by graphviz version 2.38.0 (20140413.2041)\n",
       " -->\n",
       "<!-- Title: %3 Pages: 1 -->\n",
       "<svg width=\"436pt\" height=\"98pt\"\n",
       " viewBox=\"0.00 0.00 436.29 98.00\" xmlns=\"http://www.w3.org/2000/svg\" xmlns:xlink=\"http://www.w3.org/1999/xlink\">\n",
       "<g id=\"graph0\" class=\"graph\" transform=\"scale(1 1) rotate(0) translate(4 94)\">\n",
       "<title>%3</title>\n",
       "<polygon fill=\"white\" stroke=\"none\" points=\"-4,4 -4,-94 432.288,-94 432.288,4 -4,4\"/>\n",
       "<!-- 0 -->\n",
       "<g id=\"node1\" class=\"node\"><title>0</title>\n",
       "<g id=\"a_node1\"><a xlink:href=\"https://scikit-learn.org/stable/modules/generated/sklearn.preprocessing.MinMaxScaler.html\" xlink:title=\"MinMaxScaler(feature_range=(0, 1))\">\n",
       "<ellipse fill=\"#b0e2ff\" stroke=\"black\" cx=\"27\" cy=\"-45\" rx=\"27\" ry=\"28.0702\"/>\n",
       "<text text-anchor=\"middle\" x=\"27\" y=\"-54.2\" font-family=\"Times,serif\" font-size=\"11.00\">Min&#45;</text>\n",
       "<text text-anchor=\"middle\" x=\"27\" y=\"-42.2\" font-family=\"Times,serif\" font-size=\"11.00\">Max&#45;</text>\n",
       "<text text-anchor=\"middle\" x=\"27\" y=\"-30.2\" font-family=\"Times,serif\" font-size=\"11.00\">Scaler</text>\n",
       "</a>\n",
       "</g>\n",
       "</g>\n",
       "<!-- 1 -->\n",
       "<g id=\"node2\" class=\"node\"><title>1</title>\n",
       "<g id=\"a_node2\"><a xlink:href=\"https://scikit-learn.org/stable/modules/generated/sklearn.decomposition.PCA.html\" xlink:title=\"PCA(n_components=15)\">\n",
       "<ellipse fill=\"#b0e2ff\" stroke=\"black\" cx=\"119.024\" cy=\"-72\" rx=\"27\" ry=\"18\"/>\n",
       "<text text-anchor=\"middle\" x=\"119.024\" y=\"-69.2\" font-family=\"Times,serif\" font-size=\"11.00\">PCA</text>\n",
       "</a>\n",
       "</g>\n",
       "</g>\n",
       "<!-- 0&#45;&gt;1 -->\n",
       "<g id=\"edge1\" class=\"edge\"><title>0&#45;&gt;1</title>\n",
       "<path fill=\"none\" stroke=\"black\" d=\"M53.0767,-52.521C62.7756,-55.4299 74.0218,-58.8029 84.4029,-61.9163\"/>\n",
       "<polygon fill=\"black\" stroke=\"black\" points=\"83.4281,-65.2779 94.012,-64.7983 85.439,-58.573 83.4281,-65.2779\"/>\n",
       "</g>\n",
       "<!-- 2 -->\n",
       "<g id=\"node3\" class=\"node\"><title>2</title>\n",
       "<g id=\"a_node3\"><a xlink:href=\"https://scikit-learn.org/stable/modules/generated/sklearn.kernel_approximation.Nystroem.html\" xlink:title=\"Nystroem(n_components=15)\">\n",
       "<ellipse fill=\"#b0e2ff\" stroke=\"black\" cx=\"119.024\" cy=\"-18\" rx=\"29.0483\" ry=\"18\"/>\n",
       "<text text-anchor=\"middle\" x=\"119.024\" y=\"-15.2\" font-family=\"Times,serif\" font-size=\"11.00\">Nystroem</text>\n",
       "</a>\n",
       "</g>\n",
       "</g>\n",
       "<!-- 0&#45;&gt;2 -->\n",
       "<g id=\"edge2\" class=\"edge\"><title>0&#45;&gt;2</title>\n",
       "<path fill=\"none\" stroke=\"black\" d=\"M53.0767,-37.479C62.2854,-34.7171 72.889,-31.5369 82.8226,-28.5576\"/>\n",
       "<polygon fill=\"black\" stroke=\"black\" points=\"83.8834,-31.8936 92.4564,-25.6683 81.8724,-25.1887 83.8834,-31.8936\"/>\n",
       "</g>\n",
       "<!-- 3 -->\n",
       "<g id=\"node4\" class=\"node\"><title>3</title>\n",
       "<g id=\"a_node4\"><a xlink:href=\"https://lale.readthedocs.io/en/latest/modules/lale.lib.lale.concat_features.html\" xlink:title=\"ConcatFeatures\">\n",
       "<ellipse fill=\"white\" stroke=\"black\" cx=\"217.282\" cy=\"-45\" rx=\"33.4697\" ry=\"19.6\"/>\n",
       "<text text-anchor=\"middle\" x=\"217.282\" y=\"-48.2\" font-family=\"Times,serif\" font-size=\"11.00\">Concat&#45;</text>\n",
       "<text text-anchor=\"middle\" x=\"217.282\" y=\"-36.2\" font-family=\"Times,serif\" font-size=\"11.00\">Features</text>\n",
       "</a>\n",
       "</g>\n",
       "</g>\n",
       "<!-- 1&#45;&gt;3 -->\n",
       "<g id=\"edge3\" class=\"edge\"><title>1&#45;&gt;3</title>\n",
       "<path fill=\"none\" stroke=\"black\" d=\"M144.314,-65.1868C154.207,-62.4119 165.897,-59.1327 176.948,-56.0332\"/>\n",
       "<polygon fill=\"black\" stroke=\"black\" points=\"178.163,-59.3275 186.846,-53.2568 176.272,-52.5876 178.163,-59.3275\"/>\n",
       "</g>\n",
       "<!-- 2&#45;&gt;3 -->\n",
       "<g id=\"edge4\" class=\"edge\"><title>2&#45;&gt;3</title>\n",
       "<path fill=\"none\" stroke=\"black\" d=\"M145.82,-25.2355C155.442,-27.9344 166.594,-31.0626 177.148,-34.0229\"/>\n",
       "<polygon fill=\"black\" stroke=\"black\" points=\"176.44,-37.4594 187.014,-36.7903 178.331,-30.7195 176.44,-37.4594\"/>\n",
       "</g>\n",
       "<!-- 4 -->\n",
       "<g id=\"node5\" class=\"node\"><title>4</title>\n",
       "<g id=\"a_node5\"><a xlink:title=\"LogisticRegression | KNN\">\n",
       "<ellipse fill=\"#7ec0ee\" stroke=\"black\" cx=\"357.402\" cy=\"-45\" rx=\"70.7719\" ry=\"18\"/>\n",
       "<text text-anchor=\"middle\" x=\"357.402\" y=\"-42.2\" font-family=\"Times,serif\" font-size=\"11.00\">LogisticRegression | KNN</text>\n",
       "</a>\n",
       "</g>\n",
       "</g>\n",
       "<!-- 3&#45;&gt;4 -->\n",
       "<g id=\"edge5\" class=\"edge\"><title>3&#45;&gt;4</title>\n",
       "<path fill=\"none\" stroke=\"black\" d=\"M250.665,-45C258.486,-45 267.191,-45 276.154,-45\"/>\n",
       "<polygon fill=\"black\" stroke=\"black\" points=\"276.35,-48.5001 286.35,-45 276.35,-41.5001 276.35,-48.5001\"/>\n",
       "</g>\n",
       "</g>\n",
       "</svg>\n"
      ],
      "text/plain": [
       "<graphviz.dot.Digraph at 0x7fa4999fb160>"
      ]
     },
     "execution_count": 11,
     "metadata": {},
     "output_type": "execute_result"
    }
   ],
   "source": [
    "from lale.lib.lale import ConcatFeatures\n",
    "from lale.lib.lale import NoOp\n",
    "from lale.lib.sklearn import MinMaxScaler\n",
    "from lale.lib.sklearn import Nystroem\n",
    "\n",
    "def my_pipeline(scale=False, n_components=10, clf=LR):\n",
    "    scl = MinMaxScaler(feature_range=(0, 1)) if scale else NoOp\n",
    "    pca = PCA(n_components=n_components)\n",
    "    nys = Nystroem(n_components=n_components)\n",
    "    return scl >> (pca & nys) >> ConcatFeatures >> clf\n",
    "\n",
    "optimizable = my_pipeline(True, 15, LR | KNN)\n",
    "lale.helpers.to_graphviz(optimizable)"
   ]
  },
  {
   "cell_type": "markdown",
   "metadata": {},
   "source": [
    "## Input and Output Schemas\n",
    "\n",
    "Besides schemas for hyperparameter, Lale also provides operator tags\n",
    "and schemas for input and output data of operators."
   ]
  },
  {
   "cell_type": "code",
   "execution_count": 12,
   "metadata": {},
   "outputs": [
    {
     "data": {
      "text/plain": [
       "{'pre': ['~categoricals'],\n",
       " 'op': ['estimator', 'classifier', 'interpretable'],\n",
       " 'post': ['probabilities']}"
      ]
     },
     "execution_count": 12,
     "metadata": {},
     "output_type": "execute_result"
    }
   ],
   "source": [
    "LR.get_tags()"
   ]
  },
  {
   "cell_type": "code",
   "execution_count": 13,
   "metadata": {},
   "outputs": [
    {
     "data": {
      "text/plain": [
       "{'$schema': 'http://json-schema.org/draft-04/schema#',\n",
       " 'description': 'Input data schema for training.',\n",
       " 'type': 'object',\n",
       " 'required': ['X', 'y'],\n",
       " 'additionalProperties': False,\n",
       " 'properties': {'X': {'description': 'Features; the outer array is over samples.',\n",
       "   'type': 'array',\n",
       "   'items': {'type': 'array', 'items': {'type': 'number'}}},\n",
       "  'y': {'description': 'Target class labels; the array is over samples.',\n",
       "   'type': 'array',\n",
       "   'items': {'type': 'number'}}}}"
      ]
     },
     "execution_count": 13,
     "metadata": {},
     "output_type": "execute_result"
    }
   ],
   "source": [
    "LR.get_schema('input_fit')"
   ]
  },
  {
   "cell_type": "code",
   "execution_count": 14,
   "metadata": {},
   "outputs": [
    {
     "data": {
      "text/plain": [
       "{'$schema': 'http://json-schema.org/draft-04/schema#',\n",
       " 'description': 'Output data schema for predictions (target class labels).',\n",
       " 'anyOf': [{'description': 'For predict, class label.',\n",
       "   'type': 'array',\n",
       "   'items': {'type': 'number'}},\n",
       "  {'description': 'For predict_proba, for each sample, vector of probabilities.',\n",
       "   'type': 'array',\n",
       "   'items': {'type': 'array', 'items': {'type': 'number'}}}]}"
      ]
     },
     "execution_count": 14,
     "metadata": {},
     "output_type": "execute_result"
    }
   ],
   "source": [
    "LR.get_schema('output')"
   ]
  },
  {
   "cell_type": "markdown",
   "metadata": {},
   "source": [
    "## Terminology\n",
    "\n",
    "* An **operator** is a transformer or estimator and has **properties**.\n",
    "\n",
    "* An operator can be an **individual operator** or a **pipeline**,\n",
    "  which is a composite operator that has **elements**.\n",
    "\n",
    "* The lifecycle **state** of an operator determines which properties\n",
    "  are already bound and which are still free. There are four states:\n",
    "  meta-model, planned, trainable, and trained.\n",
    "\n",
    "Composition is orthogonal to lifecycle states.\n",
    "\n",
    "<img src=\"img/2019-0327-terminology.jpg\" style=\"width:70%\" align=\"left\">"
   ]
  },
  {
   "cell_type": "markdown",
   "metadata": {},
   "source": [
    "## Related Work\n",
    "\n",
    "* *Sklearn*. Incumbent for composition. Lale follows sklearn conventions\n",
    "  and adds value for automation, portability, and correctness.\n",
    "\n",
    "* *Hyperopt*. Incumbent for automation. Lale adds value for usability,\n",
    "  portability, and correctness.\n",
    "\n",
    "* *Kubeflow Pipelines*. Platform for deployment and training. Lale is\n",
    "  higher-level, could probably use Kubeflow as back-end."
   ]
  }
 ],
 "metadata": {
  "kernelspec": {
   "display_name": "Python 3",
   "language": "python",
   "name": "python3"
  },
  "language_info": {
   "codemirror_mode": {
    "name": "ipython",
    "version": 3
   },
   "file_extension": ".py",
   "mimetype": "text/x-python",
   "name": "python",
   "nbconvert_exporter": "python",
   "pygments_lexer": "ipython3",
   "version": "3.6.5"
  }
 },
 "nbformat": 4,
 "nbformat_minor": 2
}
