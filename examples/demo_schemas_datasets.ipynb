{
 "cells": [
  {
   "cell_type": "markdown",
   "metadata": {},
   "source": [
    "Scikit learn comes with several\n",
    "[datasets](https://scikit-learn.org/stable/datasets/index.html).\n",
    "This notebook specifies JSON [schemas](https://json-schema.org/)\n",
    "for a few representative ones.\n",
    "Eventually these schemas will probably move to Lale's \n",
    "[datasets](https://github.ibm.com/aimodels/lale/tree/master/lale/datasets)."
   ]
  },
  {
   "cell_type": "code",
   "execution_count": 1,
   "metadata": {},
   "outputs": [],
   "source": [
    "import sklearn.datasets\n",
    "import lale.helpers\n",
    "import sklearn.utils\n",
    "import jsonschema"
   ]
  },
  {
   "cell_type": "markdown",
   "metadata": {},
   "source": [
    "### digits (image classification)"
   ]
  },
  {
   "cell_type": "code",
   "execution_count": 2,
   "metadata": {},
   "outputs": [
    {
     "name": "stdout",
     "output_type": "stream",
     "text": [
      "dict_keys(['data', 'target', 'target_names', 'images', 'DESCR'])\n",
      "n_samples: 1797\n"
     ]
    }
   ],
   "source": [
    "digits_data = sklearn.datasets.load_digits()\n",
    "assert isinstance(digits_data, sklearn.utils.Bunch)\n",
    "digits_data = lale.helpers.data_to_json({**digits_data}, subsample_array = False)\n",
    "print(digits_data.keys())\n",
    "print('n_samples: {}'.format(len(digits_data['data'])))"
   ]
  },
  {
   "cell_type": "code",
   "execution_count": 3,
   "metadata": {},
   "outputs": [],
   "source": [
    "digits_schema = {\n",
    "  '$schema': 'http://json-schema.org/draft-04/schema#',\n",
    "  'type': 'object',\n",
    "  'properties': {\n",
    "    'data': {\n",
    "      'type': 'array',\n",
    "      'minItems': 1797, 'maxItems': 1797,\n",
    "      'items': {\n",
    "        'type': 'array',\n",
    "        'minItems': 64, 'maxItems': 64,\n",
    "        'items': {\n",
    "          'type': 'number',\n",
    "          'minimum': 0.0}}},\n",
    "    'target': {\n",
    "      'type': 'array',\n",
    "      'minItems': 1797, 'maxItems': 1797,\n",
    "      'items': {\n",
    "        'type': 'integer',\n",
    "        'minimum': 0,\n",
    "        'maximum': 9}},\n",
    "    'target_names': {\n",
    "      'type': 'array',\n",
    "      'minItems': 10, 'maxItems': 10,\n",
    "      'items': [\n",
    "        {'enum': [0]}, {'enum': [1]}, {'enum': [2]}, {'enum': [3]},\n",
    "        {'enum': [4]}, {'enum': [5]}, {'enum': [6]}, {'enum': [7]},\n",
    "        {'enum': [8]}, {'enum': [9]}]},\n",
    "    'images': {\n",
    "      'type': 'array',\n",
    "      'minItems': 1797, 'maxItems': 1797,\n",
    "      'items': {\n",
    "        'type': 'array',\n",
    "        'minItems': 8, 'maxItems': 8,\n",
    "        'items': {\n",
    "          'type': 'array',\n",
    "          'minItems': 8, 'maxItems': 8,\n",
    "          'items': {\n",
    "            'type': 'number'},\n",
    "            'minimum': 0.0}}},\n",
    "    'DESCR': {\n",
    "      'type': 'string'}}}\n",
    "lale.helpers.validate_is_schema(digits_schema)"
   ]
  },
  {
   "cell_type": "code",
   "execution_count": 4,
   "metadata": {},
   "outputs": [],
   "source": [
    "jsonschema.validate(digits_data, digits_schema)"
   ]
  },
  {
   "cell_type": "markdown",
   "metadata": {},
   "source": [
    "### news (text classification)"
   ]
  },
  {
   "cell_type": "code",
   "execution_count": 5,
   "metadata": {},
   "outputs": [
    {
     "name": "stdout",
     "output_type": "stream",
     "text": [
      "dict_keys(['data', 'filenames', 'target_names', 'target', 'DESCR'])\n",
      "n_samples: 11314\n"
     ]
    }
   ],
   "source": [
    "news_data = sklearn.datasets.fetch_20newsgroups()\n",
    "assert isinstance(news_data, sklearn.utils.Bunch)\n",
    "news_data = lale.helpers.data_to_json({**news_data}, subsample_array = False)\n",
    "print(news_data.keys())\n",
    "print('n_samples: {}'.format(len(news_data['data'])))"
   ]
  },
  {
   "cell_type": "code",
   "execution_count": 6,
   "metadata": {},
   "outputs": [],
   "source": [
    "news_schema = {\n",
    "  '$schema': 'http://json-schema.org/draft-04/schema#',\n",
    "  'type': 'object',\n",
    "  'properties': {\n",
    "    'data': {\n",
    "      'type': 'array',\n",
    "      'minItems': 11314, 'maxItems': 11314,\n",
    "      'items': {\n",
    "        'type': 'string'}},\n",
    "    'filenames': {\n",
    "      'type': 'array',\n",
    "      'minItems': 11314, 'maxItems': 11314,\n",
    "      'items': {\n",
    "        'type': 'string'}},\n",
    "    'target_names': {\n",
    "      'type': 'array',\n",
    "      'minItems': 20, 'maxItems': 20,\n",
    "      'items': [\n",
    "        {'enum': ['alt.atheism']},\n",
    "        {'enum': ['comp.graphics']},\n",
    "        {'enum': ['comp.os.ms-windows.misc']},\n",
    "        {'enum': ['comp.sys.ibm.pc.hardware']},\n",
    "        {'enum': ['comp.sys.mac.hardware']},\n",
    "        {'enum': ['comp.windows.x']},\n",
    "        {'enum': ['misc.forsale']},\n",
    "        {'enum': ['rec.autos']},\n",
    "        {'enum': ['rec.motorcycles']},\n",
    "        {'enum': ['rec.sport.baseball']},\n",
    "        {'enum': ['rec.sport.hockey']},\n",
    "        {'enum': ['sci.crypt']},\n",
    "        {'enum': ['sci.electronics']},\n",
    "        {'enum': ['sci.med']},\n",
    "        {'enum': ['sci.space']},\n",
    "        {'enum': ['soc.religion.christian']},\n",
    "        {'enum': ['talk.politics.guns']},\n",
    "        {'enum': ['talk.politics.mideast']},\n",
    "        {'enum': ['talk.politics.misc']},\n",
    "        {'enum': ['talk.religion.misc']}]},\n",
    "    'target': {\n",
    "      'type': 'array',\n",
    "      'minItems': 11314, 'maxItems': 11314,\n",
    "      'items': {\n",
    "        'type': 'integer',\n",
    "        'minimum': 0,\n",
    "        'maximum': 19}},\n",
    "    'DESCR': {\n",
    "      'type': 'string'}}}\n",
    "lale.helpers.validate_is_schema(news_schema)"
   ]
  },
  {
   "cell_type": "code",
   "execution_count": 7,
   "metadata": {},
   "outputs": [],
   "source": [
    "jsonschema.validate(news_data, news_schema)"
   ]
  },
  {
   "cell_type": "markdown",
   "metadata": {},
   "source": [
    "### boston (structured data, no categorical features, regression)"
   ]
  },
  {
   "cell_type": "code",
   "execution_count": 8,
   "metadata": {},
   "outputs": [
    {
     "name": "stdout",
     "output_type": "stream",
     "text": [
      "dict_keys(['data', 'target', 'feature_names', 'DESCR', 'filename'])\n",
      "n_samples: 506\n"
     ]
    }
   ],
   "source": [
    "boston_data = sklearn.datasets.load_boston()\n",
    "assert isinstance(boston_data, sklearn.utils.Bunch)\n",
    "boston_data = lale.helpers.data_to_json({**boston_data}, subsample_array = False)\n",
    "print(boston_data.keys())\n",
    "print('n_samples: {}'.format(len(boston_data['data'])))"
   ]
  },
  {
   "cell_type": "code",
   "execution_count": 9,
   "metadata": {},
   "outputs": [],
   "source": [
    "boston_schema = {\n",
    "  '$schema': 'http://json-schema.org/draft-04/schema#',\n",
    "  'type': 'object',\n",
    "  'properties': {\n",
    "    'data': {\n",
    "      'type': 'array',\n",
    "      'minItems': 506, 'maxItems': 506,\n",
    "      'items': {\n",
    "        'type': 'array',\n",
    "        'minItems': 13, 'maxItems': 13,\n",
    "        'items': [\n",
    "          { 'description': 'CRIM, per capita crime rate by town',\n",
    "            'type': 'number', 'minimum': 0.0},\n",
    "          { 'description':\n",
    "              'ZN, proportion of residential land zoned for lots over '\n",
    "              '25,000 sq.ft.',\n",
    "            'type': 'number', 'minimum': 0.0, 'maximum': 100.0},\n",
    "          { 'description':\n",
    "              'INDUS, proportion of non-retail business acres per town',\n",
    "            'type': 'number', 'minimum': 0.0, 'maximum': 100.0},\n",
    "          { 'description':\n",
    "              'CHAS, Charles River dummy variable '\n",
    "              '(= 1 if tract bounds river; 0 otherwise)',\n",
    "            'enum': [0, 1]},\n",
    "          { 'description':\n",
    "              'NOX, nitric oxides concentration (parts per 10 million)',\n",
    "            'type': 'number', 'minimum': 0.0},\n",
    "          { 'description': 'RM, average number of rooms per dwelling',\n",
    "            'type': 'number', 'minimum': 0.0},\n",
    "          { 'description':\n",
    "              'AGE, proportion of owner-occupied units built prior to 1940',\n",
    "            'type': 'number', 'minimum': 0.0, 'maximum': 100.0},\n",
    "          { 'description':\n",
    "              'DIS, weighted distances to five Boston employment centres',\n",
    "            'type': 'number', 'minimum': 0.0},\n",
    "          { 'description':\n",
    "              'RAD, index of accessibility to radial highways',\n",
    "            'type': 'number', 'minimum': 0.0},\n",
    "          { 'description':\n",
    "              'TAX, full-value property-tax rate per $10,000',\n",
    "            'type': 'number', 'minimum': 0.0},\n",
    "          { 'description':\n",
    "              'PTRATIO, pupil-teacher ratio by town',\n",
    "            'type': 'number', 'minimum': 0.0},\n",
    "          { 'description':\n",
    "              'B, 1000(Bk - 0.63)^2 where Bk is the proportion of '\n",
    "              'blacks by town',\n",
    "            'type': 'number', 'minimum': 0.0},\n",
    "          { 'description': 'LSTAT, % lower status of the population',\n",
    "            'type': 'number', 'minimum': 0.0, 'maximum': 100.0},\n",
    "          { 'description':\n",
    "              \"MEDV, Median value of owner-occupied homes in $1000's\",\n",
    "            'type': 'number', 'minimum': 0.0}]}},\n",
    "    'target': {\n",
    "      'type': 'array',\n",
    "      'minItems': 506, 'maxItems': 506,\n",
    "      'items': {\n",
    "        'type': 'number',\n",
    "        'minimum': 5.0,\n",
    "        'maximum': 50.0}},\n",
    "    'feature_names': {\n",
    "      'type': 'array',\n",
    "      'minItems': 13, 'maxItems': 13,\n",
    "      'items': [\n",
    "        {'enum': ['CRIM']},\n",
    "        {'enum': ['ZN']},\n",
    "        {'enum': ['INDUS']},\n",
    "        {'enum': ['CHAS']},\n",
    "        {'enum': ['NOX']},\n",
    "        {'enum': ['RM']},\n",
    "        {'enum': ['AGE']},\n",
    "        {'enum': ['DIS']},\n",
    "        {'enum': ['RAD']},\n",
    "        {'enum': ['TAX']},\n",
    "        {'enum': ['PTRATIO']},\n",
    "        {'enum': ['B']},\n",
    "        {'enum': ['LSTAT']}]},\n",
    "    'DESCR': {\n",
    "      'type': 'string'},\n",
    "    'filename': {\n",
    "      'type': 'string'}}}\n",
    "lale.helpers.validate_is_schema(boston_schema)"
   ]
  },
  {
   "cell_type": "code",
   "execution_count": 10,
   "metadata": {},
   "outputs": [],
   "source": [
    "jsonschema.validate(boston_data, boston_schema)"
   ]
  },
  {
   "cell_type": "markdown",
   "metadata": {},
   "source": [
    "### mnist (image, from tensorflow datasets)"
   ]
  },
  {
   "cell_type": "code",
   "execution_count": 11,
   "metadata": {},
   "outputs": [
    {
     "name": "stderr",
     "output_type": "stream",
     "text": [
      "WARNING: Logging before flag parsing goes to stderr.\n",
      "I0709 09:40:59.892229 4531561920 dataset_builder.py:157] Overwrite dataset info from restored data version.\n",
      "I0709 09:40:59.896569 4531561920 dataset_builder.py:193] Reusing dataset mnist (/Users/kakateus.ibm.com/tensorflow_datasets/mnist/1.0.0)\n",
      "W0709 09:40:59.941802 4531561920 deprecation.py:323] From /Users/kakateus.ibm.com/anaconda3/lib/python3.7/site-packages/tensorflow/python/ops/control_flow_ops.py:423: colocate_with (from tensorflow.python.framework.ops) is deprecated and will be removed in a future version.\n",
      "Instructions for updating:\n",
      "Colocations handled automatically by placer.\n"
     ]
    },
    {
     "name": "stdout",
     "output_type": "stream",
     "text": [
      "\n",
      "WARNING: The TensorFlow contrib module will not be included in TensorFlow 2.0.\n",
      "For more information, please see:\n",
      "  * https://github.com/tensorflow/community/blob/master/rfcs/20180907-contrib-sunset.md\n",
      "  * https://github.com/tensorflow/addons\n",
      "If you depend on functionality not listed there, please file an issue.\n",
      "\n",
      "['bair_robot_pushing_small', 'cats_vs_dogs', 'celeb_a', 'celeb_a_hq', 'cifar10', 'cifar100', 'coco2014', 'diabetic_retinopathy_detection', 'dummy_dataset_shared_generator', 'dummy_mnist', 'fashion_mnist', 'image_label_folder', 'imagenet2012', 'imdb_reviews', 'lm1b', 'lsun', 'mnist', 'moving_mnist', 'nsynth', 'omniglot', 'open_images_v4', 'quickdraw_bitmap', 'squad', 'starcraft_video', 'svhn_cropped', 'tf_flowers', 'wmt_translate_ende', 'wmt_translate_enfr']\n"
     ]
    }
   ],
   "source": [
    "import tensorflow_datasets as tfds\n",
    "#the downloaded files get stored in ~/tensorflow_datasets/mnist/1.0.0/\n",
    "mnist_data = tfds.load(\"mnist\", with_info=True)\n",
    "print(tfds.list_builders())"
   ]
  },
  {
   "cell_type": "code",
   "execution_count": 12,
   "metadata": {},
   "outputs": [
    {
     "data": {
      "text/plain": [
       "{'data': {'test': <DatasetV1Adapter shapes: {image: (28, 28, 1), label: ()}, types: {image: tf.uint8, label: tf.int64}>,\n",
       "  'train': <DatasetV1Adapter shapes: {image: (28, 28, 1), label: ()}, types: {image: tf.uint8, label: tf.int64}>},\n",
       " 'info': {'citation': '@article{lecun2010mnist,\\n  title={MNIST handwritten digit database},\\n  author={LeCun, Yann and Cortes, Corinna and Burges, CJ},\\n  journal={ATT Labs [Online]. Available: http://yann. lecun. com/exdb/mnist},\\n  volume={2},\\n  year={2010}\\n}\\n',\n",
       "  'description': 'The MNIST database of handwritten digits.',\n",
       "  'downloadChecksums': {'http://yann.lecun.com/exdb/mnist/t10k-images-idx3-ubyte.gz': '8d422c7b0a1c1c79245a5bcf07fe86e33eeafee792b84584aec276f5a2dbc4e6',\n",
       "   'http://yann.lecun.com/exdb/mnist/t10k-labels-idx1-ubyte.gz': 'f7ae60f92e00ec6debd23a6088c31dbd2371eca3ffa0defaefb259924204aec6',\n",
       "   'http://yann.lecun.com/exdb/mnist/train-images-idx3-ubyte.gz': '440fcabf73cc546fa21475e81ea370265605f56be210a4024d2ca8f203523609',\n",
       "   'http://yann.lecun.com/exdb/mnist/train-labels-idx1-ubyte.gz': '3552534a0a558bbed6aed32b30c495cca23d567ec52cac8be1a0730e8010255c'},\n",
       "  'location': {'urls': ['http://yann.lecun.com/exdb/mnist/']},\n",
       "  'name': 'mnist',\n",
       "  'schema': {'feature': [{'name': 'image',\n",
       "     'shape': {'dim': [{'size': '28'}, {'size': '28'}, {'size': '1'}]},\n",
       "     'type': 'INT'},\n",
       "    {'name': 'label', 'type': 'INT'}]},\n",
       "  'sizeInBytes': '11594722',\n",
       "  'splits': [{'name': 'test',\n",
       "    'numShards': '1',\n",
       "    'statistics': {'features': [{'name': 'image',\n",
       "       'numStats': {'commonStats': {'numNonMissing': '10000'}, 'max': 255.0}},\n",
       "      {'name': 'label',\n",
       "       'numStats': {'commonStats': {'numNonMissing': '10000'}, 'max': 9.0}}],\n",
       "     'numExamples': '10000'}},\n",
       "   {'name': 'train',\n",
       "    'numShards': '10',\n",
       "    'statistics': {'features': [{'name': 'image',\n",
       "       'numStats': {'commonStats': {'numNonMissing': '60000'}, 'max': 255.0}},\n",
       "      {'name': 'label',\n",
       "       'numStats': {'commonStats': {'numNonMissing': '60000'}, 'max': 9.0}}],\n",
       "     'numExamples': '60000'}}],\n",
       "  'supervisedKeys': {'input': 'image', 'output': 'label'},\n",
       "  'version': '1.0.0'}}"
      ]
     },
     "execution_count": 12,
     "metadata": {},
     "output_type": "execute_result"
    }
   ],
   "source": [
    "import json\n",
    "mnist_data = {\n",
    "  'data': mnist_data[0],\n",
    "  'info': json.loads(mnist_data[1].as_json)\n",
    "}\n",
    "mnist_data"
   ]
  },
  {
   "cell_type": "code",
   "execution_count": 13,
   "metadata": {},
   "outputs": [],
   "source": [
    "mnist_schema = {\n",
    "  '$schema': 'http://json-schema.org/draft-04/schema#',\n",
    "  'type': 'object',\n",
    "  'properties': {\n",
    "    'data': {\n",
    "      'type': 'object',\n",
    "      'properties': {\n",
    "        'test': {\n",
    "          'type': 'object',\n",
    "          'properties': {\n",
    "            'image': {\n",
    "              'type': 'array',\n",
    "              'minItems': 10000, 'maxItems': 10000,\n",
    "              'items': {\n",
    "                'type': 'array',\n",
    "                'minItems': 28, 'maxItems': 28,\n",
    "                'items': {\n",
    "                  'type': 'array',\n",
    "                  'minItems': 28, 'maxItems': 28,\n",
    "                  'items': {\n",
    "                    'type': 'number',\n",
    "                    'minimum': 0.0, 'maximum': 255.0}}}},\n",
    "            'label': {\n",
    "              'type': 'integer',\n",
    "              'minimum': 0, 'maximum': 9}}},\n",
    "        'train': {\n",
    "          'type': 'object',\n",
    "          'properties': {\n",
    "            'image': {\n",
    "              'type': 'array',\n",
    "              'minItems': 60000, 'maxItems': 60000,\n",
    "              'items': {\n",
    "                'type': 'array',\n",
    "                'minItems': 28, 'maxItems': 28,\n",
    "                'items': {\n",
    "                  'type': 'array',\n",
    "                  'minItems': 28, 'maxItems': 28,\n",
    "                  'items': {\n",
    "                    'type': 'number',\n",
    "                    'minimum': 0.0, 'maximum': 255.0}}}},\n",
    "            'label': {\n",
    "              'type': 'integer',\n",
    "              'minimum': 0, 'maximum': 9}}}}},\n",
    "    'info': {\n",
    "      'type': 'object',\n",
    "      'properties': {\n",
    "        'citation': {'enum': [mnist_data['info']['citation']]}}}}}\n",
    "lale.helpers.validate_is_schema(mnist_schema)"
   ]
  }
 ],
 "metadata": {
  "kernelspec": {
   "display_name": "Python 3",
   "language": "python",
   "name": "python3"
  },
  "language_info": {
   "codemirror_mode": {
    "name": "ipython",
    "version": 3
   },
   "file_extension": ".py",
   "mimetype": "text/x-python",
   "name": "python",
   "nbconvert_exporter": "python",
   "pygments_lexer": "ipython3",
   "version": "3.7.3"
  }
 },
 "nbformat": 4,
 "nbformat_minor": 2
}
