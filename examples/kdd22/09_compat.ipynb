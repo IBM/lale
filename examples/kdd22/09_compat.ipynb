{
 "cells": [
  {
   "cell_type": "markdown",
   "metadata": {},
   "source": [
    "### KDD 2022 Hands-on Tutorial on \"Gradual AutoML using Lale\"\n",
    "\n",
    "# 9. Compatibility with scikit-learn\n",
    "\n",
    "Lale, as a wrapper around scikit-learn, tries to simplify compatibility with scikit-learn.\n",
    "For example, in many cases, a scikit-learn operator can be passed to Lale,\n",
    "and a Lale operator can be used with scikit-learn.\n",
    "\n",
    "This notebook presents some more information about converting scikit-learn code to lale,\n",
    "and some important compatibility features.\n",
    "\n",
    "The [New Operators](08_newops.ipynb) notebook contains information on how to create lale wrappers for custom\n",
    "operators.\n",
    "\n",
    "This notebook has the following sections:\n",
    "\n",
    "- [9.1 Going from scikit-learn to Lale](#9.1-Going-from-scikit-learn-to-Lale)\n",
    "- [9.2 Going from Lale to scikit-learn](#9.2-Going-from-Lale-to-scikit-learn)\n",
    "- [9.3 scikit-learn conventions and Lale](#9.3-scikit-learn-conventions-and-Lale)"
   ]
  },
  {
   "cell_type": "markdown",
   "metadata": {},
   "source": [
    "## 9.1 Going from scikit-learn to Lale\n",
    "\n",
    "Given existing pipelines that uses scikit-learn, there are a number of ways that they can be converted into Lale pipelines.\n",
    "As an example, assume the following code:"
   ]
  },
  {
   "cell_type": "code",
   "execution_count": 1,
   "metadata": {},
   "outputs": [
    {
     "data": {
      "text/plain": [
       "Pipeline(steps=[('minmaxscaler', MinMaxScaler()), ('pca', PCA()),\n",
       "                ('randomforestclassifier', RandomForestClassifier())])"
      ]
     },
     "execution_count": 1,
     "metadata": {},
     "output_type": "execute_result"
    }
   ],
   "source": [
    "def example_sklearn():\n",
    "    from sklearn.pipeline import make_pipeline\n",
    "\n",
    "    from sklearn.preprocessing import MinMaxScaler\n",
    "    from sklearn.decomposition import PCA\n",
    "    from sklearn.ensemble import RandomForestClassifier\n",
    "\n",
    "    return make_pipeline(MinMaxScaler(), PCA(), RandomForestClassifier())\n",
    "example_sklearn()"
   ]
  },
  {
   "cell_type": "markdown",
   "metadata": {},
   "source": [
    "### 9.1.1 Changing imports\n",
    "Assuming that Lale provides wrappers for the operators being used, \n",
    "it is generally straightforward to change the `import` declarations\n",
    "to use the Lale wrappers instead of the underlying impl.\n",
    "For our example, this would look like:"
   ]
  },
  {
   "cell_type": "code",
   "execution_count": 2,
   "metadata": {},
   "outputs": [
    {
     "data": {
      "text/plain": [
       "<lale.operators.TrainablePipeline at 0x10f605100>"
      ]
     },
     "execution_count": 2,
     "metadata": {},
     "output_type": "execute_result"
    }
   ],
   "source": [
    "def example_imports():\n",
    "    from lale.operators import make_pipeline\n",
    "\n",
    "    from lale.lib.sklearn import MinMaxScaler\n",
    "    from lale.lib.sklearn import PCA\n",
    "    from lale.lib.sklearn import RandomForestClassifier\n",
    "\n",
    "    return make_pipeline(MinMaxScaler(), PCA(), RandomForestClassifier())\n",
    "example_imports()"
   ]
  },
  {
   "cell_type": "markdown",
   "metadata": {},
   "source": [
    "Of course, we can also change the code to be more idiomatic by using Lale combinators."
   ]
  },
  {
   "cell_type": "code",
   "execution_count": 3,
   "metadata": {},
   "outputs": [
    {
     "data": {
      "text/plain": [
       "<lale.operators.TrainablePipeline at 0x1371edf40>"
      ]
     },
     "execution_count": 3,
     "metadata": {},
     "output_type": "execute_result"
    }
   ],
   "source": [
    "def example_idiomatic():\n",
    "\n",
    "    from lale.lib.sklearn import MinMaxScaler\n",
    "    from lale.lib.sklearn import PCA\n",
    "    from lale.lib.sklearn import RandomForestClassifier\n",
    "\n",
    "    return MinMaxScaler() >> PCA() >> RandomForestClassifier()\n",
    "example_idiomatic()"
   ]
  },
  {
   "cell_type": "markdown",
   "metadata": {},
   "source": [
    "### 9.1.2 `wrap_imported_operators`\n",
    "Alternatively, instead of changing the imports, you can call \n",
    "`lale.wrap_imported_operators` to change the imports for you,\n",
    "as follows:"
   ]
  },
  {
   "cell_type": "code",
   "execution_count": 4,
   "metadata": {},
   "outputs": [
    {
     "data": {
      "text/plain": [
       "lale.operators.TrainableIndividualOp"
      ]
     },
     "execution_count": 4,
     "metadata": {},
     "output_type": "execute_result"
    }
   ],
   "source": [
    "from sklearn.pipeline import make_pipeline\n",
    "\n",
    "from sklearn.preprocessing import MinMaxScaler\n",
    "from sklearn.decomposition import PCA\n",
    "from sklearn.ensemble import RandomForestClassifier\n",
    "\n",
    "from lale import wrap_imported_operators\n",
    "wrap_imported_operators()\n",
    "\n",
    "example_wrapped = make_pipeline(MinMaxScaler(), PCA(), RandomForestClassifier())\n",
    "# notice that this is now a lale TrainableOperator\n",
    "type(example_wrapped.steps[0][1])"
   ]
  },
  {
   "cell_type": "markdown",
   "metadata": {},
   "source": [
    "This functions uses Python hackery to modify the symbol table\n",
    "so that the imported names actually refer to their Lale wrappers."
   ]
  },
  {
   "cell_type": "markdown",
   "metadata": {},
   "source": [
    "### 9.1.3 `import_from_sklearn_pipeline`\n",
    "The previous two options work well for migrating source code.  However, there are many times\n",
    "were the code is provided (at runtime) with an existing scikit-learn pipeline.\n",
    "This pipeline can be converted into a Lale pipeline (and its operators replace with the appropriate Lale wrappers, when possible), by calling `import_from_sklearn_pipeline` as follows:"
   ]
  },
  {
   "cell_type": "code",
   "execution_count": 5,
   "metadata": {},
   "outputs": [
    {
     "name": "stdout",
     "output_type": "stream",
     "text": [
      "original: Pipeline(steps=[('minmaxscaler', MinMaxScaler()), ('pca', PCA()),\n",
      "                ('randomforestclassifier', RandomForestClassifier())])\n",
      "imported: <lale.operators.TrainedPipeline object at 0x137267df0>\n"
     ]
    },
    {
     "data": {
      "image/svg+xml": [
       "<?xml version=\"1.0\" encoding=\"UTF-8\" standalone=\"no\"?>\n",
       "<!DOCTYPE svg PUBLIC \"-//W3C//DTD SVG 1.1//EN\"\n",
       " \"http://www.w3.org/Graphics/SVG/1.1/DTD/svg11.dtd\">\n",
       "<!-- Generated by graphviz version 5.0.0 (20220707.1540)\n",
       " -->\n",
       "<!-- Title: cluster:(root) Pages: 1 -->\n",
       "<svg width=\"262pt\" height=\"65pt\"\n",
       " viewBox=\"0.00 0.00 261.54 64.57\" xmlns=\"http://www.w3.org/2000/svg\" xmlns:xlink=\"http://www.w3.org/1999/xlink\">\n",
       "<g id=\"graph0\" class=\"graph\" transform=\"scale(1 1) rotate(0) translate(4 60.57)\">\n",
       "<title>cluster:(root)</title>\n",
       "<g id=\"a_graph0\"><a xlink:title=\"(root) = ...\">\n",
       "<polygon fill=\"white\" stroke=\"transparent\" points=\"-4,4 -4,-60.57 257.54,-60.57 257.54,4 -4,4\"/>\n",
       "</a>\n",
       "</g>\n",
       "<!-- min_max_scaler -->\n",
       "<g id=\"node1\" class=\"node\">\n",
       "<title>min_max_scaler</title>\n",
       "<g id=\"a_node1\"><a xlink:href=\"https://lale.readthedocs.io/en/latest/modules/lale.lib.sklearn.min_max_scaler.html&quot; target=&quot;_blank&quot; rel=&quot;noopener noreferrer\" xlink:title=\"min_max_scaler = MinMaxScaler()\">\n",
       "<ellipse fill=\"white\" stroke=\"black\" cx=\"27\" cy=\"-28.28\" rx=\"27\" ry=\"28.07\"/>\n",
       "<text text-anchor=\"middle\" x=\"27\" y=\"-37.48\" font-family=\"Times,serif\" font-size=\"11.00\">Min&#45;</text>\n",
       "<text text-anchor=\"middle\" x=\"27\" y=\"-25.48\" font-family=\"Times,serif\" font-size=\"11.00\">Max&#45;</text>\n",
       "<text text-anchor=\"middle\" x=\"27\" y=\"-13.48\" font-family=\"Times,serif\" font-size=\"11.00\">Scaler</text>\n",
       "</a>\n",
       "</g>\n",
       "</g>\n",
       "<!-- pca -->\n",
       "<g id=\"node2\" class=\"node\">\n",
       "<title>pca</title>\n",
       "<g id=\"a_node2\"><a xlink:href=\"https://lale.readthedocs.io/en/latest/modules/lale.lib.sklearn.pca.html&quot; target=&quot;_blank&quot; rel=&quot;noopener noreferrer\" xlink:title=\"pca = PCA()\">\n",
       "<ellipse fill=\"white\" stroke=\"black\" cx=\"117\" cy=\"-28.28\" rx=\"27\" ry=\"18\"/>\n",
       "<text text-anchor=\"middle\" x=\"117\" y=\"-25.48\" font-family=\"Times,serif\" font-size=\"11.00\">PCA</text>\n",
       "</a>\n",
       "</g>\n",
       "</g>\n",
       "<!-- min_max_scaler&#45;&gt;pca -->\n",
       "<g id=\"edge1\" class=\"edge\">\n",
       "<title>min_max_scaler&#45;&gt;pca</title>\n",
       "<path fill=\"none\" stroke=\"black\" d=\"M54.4,-28.28C62.39,-28.28 71.31,-28.28 79.82,-28.28\"/>\n",
       "<polygon fill=\"black\" stroke=\"black\" points=\"79.92,-31.78 89.92,-28.28 79.92,-24.78 79.92,-31.78\"/>\n",
       "</g>\n",
       "<!-- random_forest_classifier -->\n",
       "<g id=\"node3\" class=\"node\">\n",
       "<title>random_forest_classifier</title>\n",
       "<g id=\"a_node3\"><a xlink:href=\"https://lale.readthedocs.io/en/latest/modules/lale.lib.sklearn.random_forest_classifier.html&quot; target=&quot;_blank&quot; rel=&quot;noopener noreferrer\" xlink:title=\"random_forest_classifier = RandomForestClassifier()\">\n",
       "<ellipse fill=\"white\" stroke=\"black\" cx=\"216.77\" cy=\"-28.28\" rx=\"36.54\" ry=\"28.07\"/>\n",
       "<text text-anchor=\"middle\" x=\"216.77\" y=\"-37.48\" font-family=\"Times,serif\" font-size=\"11.00\">Random&#45;</text>\n",
       "<text text-anchor=\"middle\" x=\"216.77\" y=\"-25.48\" font-family=\"Times,serif\" font-size=\"11.00\">Forest&#45;</text>\n",
       "<text text-anchor=\"middle\" x=\"216.77\" y=\"-13.48\" font-family=\"Times,serif\" font-size=\"11.00\">Classifier</text>\n",
       "</a>\n",
       "</g>\n",
       "</g>\n",
       "<!-- pca&#45;&gt;random_forest_classifier -->\n",
       "<g id=\"edge2\" class=\"edge\">\n",
       "<title>pca&#45;&gt;random_forest_classifier</title>\n",
       "<path fill=\"none\" stroke=\"black\" d=\"M144.2,-28.28C152.09,-28.28 160.99,-28.28 169.76,-28.28\"/>\n",
       "<polygon fill=\"black\" stroke=\"black\" points=\"169.94,-31.78 179.94,-28.28 169.94,-24.78 169.94,-31.78\"/>\n",
       "</g>\n",
       "</g>\n",
       "</svg>\n"
      ],
      "text/plain": [
       "<graphviz.graphs.Digraph at 0x139facca0>"
      ]
     },
     "metadata": {},
     "output_type": "display_data"
    }
   ],
   "source": [
    "from lale.helpers import import_from_sklearn_pipeline\n",
    "\n",
    "sk_pipe = example_sklearn()\n",
    "print(f\"original: {sk_pipe}\")\n",
    "imported_pipe = import_from_sklearn_pipeline(sk_pipe)\n",
    "print(f\"imported: {imported_pipe}\")\n",
    "imported_pipe.visualize()"
   ]
  },
  {
   "cell_type": "markdown",
   "metadata": {},
   "source": [
    "## 9.2 Going from Lale to scikit-learn\n",
    "\n",
    "Sometimes there is a need to get the underlying operators out\n",
    "\n",
    "### 9.2.1 Individual Operators\n",
    "To get the operator underlying a Lale wrapper, use its `impl` property as follows.  For example,"
   ]
  },
  {
   "cell_type": "code",
   "execution_count": 6,
   "metadata": {},
   "outputs": [
    {
     "name": "stdout",
     "output_type": "stream",
     "text": [
      "The first operator is: MinMaxScaler\n",
      "The type of its underlying impl is: <class 'sklearn.preprocessing._data.MinMaxScaler'>\n"
     ]
    }
   ],
   "source": [
    "lale_pipeline = example_idiomatic()\n",
    "lale_op = lale_pipeline.steps[0][1]\n",
    "print(f\"The first operator is: {lale_op}\")\n",
    "op_impl = lale_op.impl\n",
    "print(f\"The type of its underlying impl is: {type(op_impl)}\")"
   ]
  },
  {
   "cell_type": "markdown",
   "metadata": {},
   "source": [
    "### 9.2.2 A pipeline\n",
    "The `export_to_sklearn_pipeline` method will try to convert a pipeline into a scikit-learn pipeline, recursively converting its constituent operators into their unwrapped, base implementation.\n",
    "Note that this is not generally possible, as Lale pipelines are strictly more expressive than scikit-learn pipelines.\n",
    "As an example,"
   ]
  },
  {
   "cell_type": "code",
   "execution_count": 7,
   "metadata": {},
   "outputs": [
    {
     "name": "stderr",
     "output_type": "stream",
     "text": [
      "/usr/local/var/pyenv/versions/3.8.9/envs/lale389new/lib/python3.8/site-packages/xgboost/compat.py:31: FutureWarning: pandas.Int64Index is deprecated and will be removed from pandas in a future version. Use pandas.Index with the appropriate dtype instead.\n",
      "  from pandas import MultiIndex, Int64Index\n"
     ]
    },
    {
     "name": "stdout",
     "output_type": "stream",
     "text": [
      "Pipeline(steps=[('minmaxscaler', MinMaxScaler()), ('pca', PCA()),\n",
      "                ('randomforestclassifier', RandomForestClassifier())])\n"
     ]
    },
    {
     "name": "stderr",
     "output_type": "stream",
     "text": [
      "/usr/local/var/pyenv/versions/3.8.9/envs/lale389new/lib/python3.8/site-packages/sklearn/utils/deprecation.py:103: FutureWarning: Attribute `n_features_` was deprecated in version 1.0 and will be removed in 1.2. Use `n_features_in_` instead.\n",
      "  warnings.warn(msg, category=FutureWarning)\n"
     ]
    }
   ],
   "source": [
    "exported_pipeline = lale_pipeline.export_to_sklearn_pipeline()\n",
    "print(exported_pipeline)"
   ]
  },
  {
   "cell_type": "markdown",
   "metadata": {},
   "source": [
    "## 9.3 scikit-learn conventions and Lale\n",
    "\n",
    "When possible, Lale supports various scikit-learn conventions.  \n",
    "In particular, it supports cloning, parameter getting/setting, property forwarding, and operator type checking.\n",
    "To present some examples, we first load a dataset and use a subset of it to train our lale pipeline:"
   ]
  },
  {
   "cell_type": "code",
   "execution_count": 8,
   "metadata": {},
   "outputs": [],
   "source": [
    "import lale.datasets.openml\n",
    "import pandas as pd\n",
    "import numpy as np\n",
    "\n",
    "(train_X, train_y), (test_X, test_y) = lale.datasets.openml.fetch(\n",
    "    'credit-g', 'classification', preprocess=True)\n",
    "\n",
    "trained_lale_pipeline = lale_pipeline.fit(np.array(train_X), np.array(train_y))"
   ]
  },
  {
   "cell_type": "markdown",
   "metadata": {},
   "source": [
    "### 9.3.1 `clone`-ing\n",
    "In scikit-learn, operators are cloned using the [`sklearn.base.clone`](https://scikit-learn.org/stable/modules/generated/sklearn.base.clone.html) method.  \n",
    "\n",
    "Lale is carefully designed so that calling this `clone` method on a lale operator will work, behaving as it does for scikit-learn operators.  Note that as per scikit-learn conventions, calling `clone` on a `TrainedOperator` will return a `TrainableOperator`, since, by design, cloning does not preserve trained parameters.\n",
    "As an example,"
   ]
  },
  {
   "cell_type": "code",
   "execution_count": 9,
   "metadata": {},
   "outputs": [
    {
     "name": "stdout",
     "output_type": "stream",
     "text": [
      "cloning a trainable pipeline, type is: <lale.operators.TrainablePipeline object at 0x13bbacc70>\n",
      "cloning a trained pipeline, type is: <lale.operators.TrainablePipeline object at 0x13bbacc10>\n"
     ]
    }
   ],
   "source": [
    "from sklearn.base import clone\n",
    "\n",
    "\n",
    "print(f\"cloning a trainable pipeline, type is: {clone(lale_pipeline)}\")\n",
    "print(f\"cloning a trained pipeline, type is: {clone(trained_lale_pipeline)}\")"
   ]
  },
  {
   "cell_type": "markdown",
   "metadata": {},
   "source": [
    "### 9.3.2 `get/set/with_params`\n",
    "Like scikit-learn operators, Lale operators provide a `get_params` method to retrieve the hyper-parameters set for an operator/pipeline, and `set_params` to set those parameters.\n",
    "Lale also provides `with_params`, a functional variant of `set_params` that creates a new operator with the modified hyper-parameters instead of mutating the given operator.\n",
    "\n",
    "When any of these methods are used on a pipeline, the scikit learn convention of prepending `operatorname__` to the hyerparameter is used.  Additional encodings are used for other pipeline features, such as choice, that scikit-learn does not support."
   ]
  },
  {
   "cell_type": "code",
   "execution_count": 10,
   "metadata": {},
   "outputs": [
    {
     "data": {
      "text/plain": [
       "{'steps': [MinMaxScaler(), PCA(), RandomForestClassifier()],\n",
       " 'MinMaxScaler__clip': False,\n",
       " 'MinMaxScaler__copy': True,\n",
       " 'MinMaxScaler__feature_range': (0, 1),\n",
       " 'PCA__copy': True,\n",
       " 'PCA__iterated_power': 'auto',\n",
       " 'PCA__n_components': None,\n",
       " 'PCA__random_state': None,\n",
       " 'PCA__svd_solver': 'auto',\n",
       " 'PCA__tol': 0.0,\n",
       " 'PCA__whiten': False,\n",
       " 'RandomForestClassifier__bootstrap': True,\n",
       " 'RandomForestClassifier__ccp_alpha': 0.0,\n",
       " 'RandomForestClassifier__class_weight': None,\n",
       " 'RandomForestClassifier__criterion': 'gini',\n",
       " 'RandomForestClassifier__max_depth': None,\n",
       " 'RandomForestClassifier__max_features': 'auto',\n",
       " 'RandomForestClassifier__max_leaf_nodes': None,\n",
       " 'RandomForestClassifier__max_samples': None,\n",
       " 'RandomForestClassifier__min_impurity_decrease': 0.0,\n",
       " 'RandomForestClassifier__min_samples_leaf': 1,\n",
       " 'RandomForestClassifier__min_samples_split': 2,\n",
       " 'RandomForestClassifier__min_weight_fraction_leaf': 0.0,\n",
       " 'RandomForestClassifier__n_estimators': 100,\n",
       " 'RandomForestClassifier__n_jobs': None,\n",
       " 'RandomForestClassifier__oob_score': False,\n",
       " 'RandomForestClassifier__random_state': None,\n",
       " 'RandomForestClassifier__verbose': 0,\n",
       " 'RandomForestClassifier__warm_start': False}"
      ]
     },
     "execution_count": 10,
     "metadata": {},
     "output_type": "execute_result"
    }
   ],
   "source": [
    "lale_pipeline.get_params()"
   ]
  },
  {
   "cell_type": "markdown",
   "metadata": {},
   "source": [
    "###  9.3.3 Attribute forwarding\n",
    "Many operator implementations provide additional properties or methods that provide additional information, especially after the operator has been trained.\n",
    "If needed, these can be accessed using the operator `.impl` property, as mentioned above.\n",
    "However, this is generally not needed, as Lale supports transparent forwarding of properties/fields/methods.\n",
    "\n",
    "As long as there is no name conflict (such as a property called `get_params`), unknown attributes are transparently forwarded to the underlying implementation for resolution.  As mentioned in the [New Operators](08_newops.ipynb) notebook, this can be restricted by the operator for increased control.\n",
    "\n",
    "In addition to convenience, this enables Lale operators to replace unwrapped scikit-learn operators with minimal changes needed to the code.\n",
    "\n",
    "As an example, the MinMaxScalar implementation sets the `n_features_in_` property after `fit` is called:"
   ]
  },
  {
   "cell_type": "code",
   "execution_count": 11,
   "metadata": {},
   "outputs": [
    {
     "data": {
      "text/plain": [
       "61"
      ]
     },
     "execution_count": 11,
     "metadata": {},
     "output_type": "execute_result"
    }
   ],
   "source": [
    "trained_minmax = trained_lale_pipeline.steps[0][1]\n",
    "assert (trained_minmax.n_features_in_ == trained_minmax.impl.n_features_in_)\n",
    "\n",
    "trained_minmax.n_features_in_"
   ]
  },
  {
   "cell_type": "markdown",
   "metadata": {},
   "source": [
    "###  9.3.4 isinstance checking\n",
    "It is sometimes important to check the type of an operator.  For example, code may wish to have a special case for\n",
    "`MinMaxScaler`, and would like to check if an operator is that type.\n",
    "In Lale, this would appear to be challenging, due to our use of wrapper classes.  Nonetheless, due to judicious use of Python's features, it is possible to use a simple `isinstance` check as follows:"
   ]
  },
  {
   "cell_type": "code",
   "execution_count": 12,
   "metadata": {},
   "outputs": [
    {
     "data": {
      "text/plain": [
       "True"
      ]
     },
     "execution_count": 12,
     "metadata": {},
     "output_type": "execute_result"
    }
   ],
   "source": [
    "from lale.lib.sklearn import MinMaxScaler\n",
    "    \n",
    "isinstance(trained_minmax, MinMaxScaler)"
   ]
  }
 ],
 "metadata": {
  "kernelspec": {
   "display_name": "Python 3 (ipykernel)",
   "language": "python",
   "name": "python3"
  },
  "language_info": {
   "codemirror_mode": {
    "name": "ipython",
    "version": 3
   },
   "file_extension": ".py",
   "mimetype": "text/x-python",
   "name": "python",
   "nbconvert_exporter": "python",
   "pygments_lexer": "ipython3",
   "version": "3.8.9"
  }
 },
 "nbformat": 4,
 "nbformat_minor": 4
}
