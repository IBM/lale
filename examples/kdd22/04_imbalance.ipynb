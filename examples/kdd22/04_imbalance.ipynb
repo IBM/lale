{
 "cells": [
  {
   "cell_type": "markdown",
   "metadata": {},
   "source": [
    "### KDD 2022 Hands-on Tutorial on \"Gradual AutoML using Lale\"\n",
    "\n",
    "# 4. Handling Class Imbalance\n",
    "\n",
    "Lale has scikit-learn compatible wrappers for a subset of the operators from [imbalanced-learn](https://imbalanced-learn.org). This notebook demonstrates how to use them for a classification task.\n",
    "\n",
    "This tutorial has the following sections:\n",
    "\n",
    "-   [4.1 Dataset](#dataset)\n",
    "-\t[4.2 A Classification Pipeline without Imbalance Correction](#withoutcorrection)\n",
    "-\t[4.3 Over-sampling using SMOTE](#oversampling)\n",
    "-\t[4.4 Under-sampling using CondensedNearestNeighbour](#undersampling)\n",
    "-\t[4.5 Combined over and under sampling using SMOTEENN](#combined)\n",
    "-\t[4.6 AutoML with Imbalance Correction](#automl)\n",
    "-\t[4.7 Summary](#summary)"
   ]
  },
  {
   "cell_type": "markdown",
   "metadata": {},
   "source": [
    "<a id=\"dataset\"></a>\n",
    "## 4.1 Dataset\n",
    "\n",
    "This demonstration uses the [credit-g](https://www.openml.org/d/31) dataset from OpenML."
   ]
  },
  {
   "cell_type": "code",
   "execution_count": 1,
   "metadata": {},
   "outputs": [],
   "source": [
    "import lale.datasets.openml\n",
    "import pandas as pd\n",
    "(train_X, train_y), (test_X, test_y) = lale.datasets.openml.fetch(\n",
    "    'credit-g', 'classification', preprocess=False)"
   ]
  },
  {
   "cell_type": "markdown",
   "metadata": {},
   "source": [
    "First, let's look at the class distribution."
   ]
  },
  {
   "cell_type": "code",
   "execution_count": 2,
   "metadata": {},
   "outputs": [
    {
     "data": {
      "text/plain": [
       "<AxesSubplot:>"
      ]
     },
     "execution_count": 2,
     "metadata": {},
     "output_type": "execute_result"
    },
    {
     "data": {
      "image/png": "[encoded data removed]",
      "text/plain": [
       "<Figure size 432x288 with 1 Axes>"
      ]
     },
     "metadata": {
      "needs_background": "light"
     },
     "output_type": "display_data"
    }
   ],
   "source": [
    "train_y.hist()"
   ]
  },
  {
   "cell_type": "markdown",
   "metadata": {},
   "source": [
    "There are more than twice as many examples with class label `good` than `bad`, making `credit-g` a good candidate for experimenting with class imbalance correction."
   ]
  },
  {
   "cell_type": "markdown",
   "metadata": {},
   "source": [
    "<a id=\"withoutcorrection\"></a>\n",
    "## 4.2 A Classification Pipeline without Imbalance Correction\n",
    "\n",
    "We first try to use a simple classification pipeline without any attempt at correcting the class imbalance.\n",
    "\n",
    "The pipeline encodes categorical columns and applies min-max scaling to the numerical columns and then uses a RandomForestClassifier for classification. The next cell assumes understanding of Lale's pipeline structure; please look at the notebook [Customizing Algorithm Choices and Hyperparameters](./03_custom.ipynb) if you are not familiar with it yet."
   ]
  },
  {
   "cell_type": "code",
   "execution_count": 3,
   "metadata": {},
   "outputs": [
    {
     "data": {
      "image/svg+xml": [
       "<?xml version=\"1.0\" encoding=\"UTF-8\" standalone=\"no\"?>\n",
       "<!DOCTYPE svg PUBLIC \"-//W3C//DTD SVG 1.1//EN\"\n",
       " \"http://www.w3.org/Graphics/SVG/1.1/DTD/svg11.dtd\">\n",
       "<!-- Generated by graphviz version 2.43.0 (0)\n",
       " -->\n",
       "<!-- Title: cluster:(root) Pages: 1 -->\n",
       "<svg width=\"420pt\" height=\"129pt\"\n",
       " viewBox=\"0.00 0.00 419.60 128.57\" xmlns=\"http://www.w3.org/2000/svg\" xmlns:xlink=\"http://www.w3.org/1999/xlink\">\n",
       "<g id=\"graph0\" class=\"graph\" transform=\"scale(1 1) rotate(0) translate(4 124.57)\">\n",
       "<title>cluster:(root)</title>\n",
       "<g id=\"a_graph0\"><a xlink:title=\"(root) = ...\">\n",
       "<polygon fill=\"white\" stroke=\"transparent\" points=\"-4,4 -4,-124.57 415.6,-124.57 415.6,4 -4,4\"/>\n",
       "</a>\n",
       "</g>\n",
       "<!-- project_0 -->\n",
       "<g id=\"node1\" class=\"node\">\n",
       "<title>project_0</title>\n",
       "<g id=\"a_node1\"><a xlink:href=\"https://lale.readthedocs.io/en/latest/modules/lale.lib.rasl.project.html\" target=\"_blank\" rel=\"noopener noreferrer\" xlink:title=\"project_0 = Project(columns={&#39;type&#39;: &#39;string&#39;})\">\n",
       "<ellipse fill=\"#b0e2ff\" stroke=\"black\" cx=\"27.35\" cy=\"-92.28\" rx=\"27.2\" ry=\"18\"/>\n",
       "<text text-anchor=\"middle\" x=\"27.35\" y=\"-89.48\" font-family=\"Times,serif\" font-size=\"11.00\">Project</text>\n",
       "</a>\n",
       "</g>\n",
       "</g>\n",
       "<!-- one_hot_encoder -->\n",
       "<g id=\"node2\" class=\"node\">\n",
       "<title>one_hot_encoder</title>\n",
       "<g id=\"a_node2\"><a xlink:href=\"https://lale.readthedocs.io/en/latest/modules/lale.lib.sklearn.one_hot_encoder.html\" target=\"_blank\" rel=\"noopener noreferrer\" xlink:title=\"one_hot_encoder = OneHotEncoder(handle_unknown=&#39;ignore&#39;)\">\n",
       "<ellipse fill=\"#b0e2ff\" stroke=\"black\" cx=\"129.59\" cy=\"-92.28\" rx=\"38.78\" ry=\"28.07\"/>\n",
       "<text text-anchor=\"middle\" x=\"129.59\" y=\"-101.48\" font-family=\"Times,serif\" font-size=\"11.00\">One&#45;</text>\n",
       "<text text-anchor=\"middle\" x=\"129.59\" y=\"-89.48\" font-family=\"Times,serif\" font-size=\"11.00\">Hot&#45;</text>\n",
       "<text text-anchor=\"middle\" x=\"129.59\" y=\"-77.48\" font-family=\"Times,serif\" font-size=\"11.00\">Encoder</text>\n",
       "</a>\n",
       "</g>\n",
       "</g>\n",
       "<!-- project_0&#45;&gt;one_hot_encoder -->\n",
       "<g id=\"edge1\" class=\"edge\">\n",
       "<title>project_0&#45;&gt;one_hot_encoder</title>\n",
       "<path fill=\"none\" stroke=\"black\" d=\"M54.95,-92.28C62.79,-92.28 71.62,-92.28 80.37,-92.28\"/>\n",
       "<polygon fill=\"black\" stroke=\"black\" points=\"80.54,-95.78 90.54,-92.28 80.54,-88.78 80.54,-95.78\"/>\n",
       "</g>\n",
       "<!-- concat_features -->\n",
       "<g id=\"node5\" class=\"node\">\n",
       "<title>concat_features</title>\n",
       "<g id=\"a_node5\"><a xlink:href=\"https://lale.readthedocs.io/en/latest/modules/lale.lib.rasl.concat_features.html\" target=\"_blank\" rel=\"noopener noreferrer\" xlink:title=\"concat_features = ConcatFeatures()\">\n",
       "<ellipse fill=\"white\" stroke=\"black\" cx=\"245.49\" cy=\"-60.28\" rx=\"41.02\" ry=\"19.6\"/>\n",
       "<text text-anchor=\"middle\" x=\"245.49\" y=\"-63.48\" font-family=\"Times,serif\" font-size=\"11.00\">Concat&#45;</text>\n",
       "<text text-anchor=\"middle\" x=\"245.49\" y=\"-51.48\" font-family=\"Times,serif\" font-size=\"11.00\">Features</text>\n",
       "</a>\n",
       "</g>\n",
       "</g>\n",
       "<!-- one_hot_encoder&#45;&gt;concat_features -->\n",
       "<g id=\"edge3\" class=\"edge\">\n",
       "<title>one_hot_encoder&#45;&gt;concat_features</title>\n",
       "<path fill=\"none\" stroke=\"black\" d=\"M166.01,-82.33C176.71,-79.33 188.61,-75.98 199.84,-72.83\"/>\n",
       "<polygon fill=\"black\" stroke=\"black\" points=\"200.81,-76.19 209.49,-70.12 198.92,-69.45 200.81,-76.19\"/>\n",
       "</g>\n",
       "<!-- project_1 -->\n",
       "<g id=\"node3\" class=\"node\">\n",
       "<title>project_1</title>\n",
       "<g id=\"a_node3\"><a xlink:href=\"https://lale.readthedocs.io/en/latest/modules/lale.lib.rasl.project.html\" target=\"_blank\" rel=\"noopener noreferrer\" xlink:title=\"project_1 = Project(columns={&#39;type&#39;: &#39;number&#39;})\">\n",
       "<ellipse fill=\"#b0e2ff\" stroke=\"black\" cx=\"27.35\" cy=\"-28.28\" rx=\"27.2\" ry=\"18\"/>\n",
       "<text text-anchor=\"middle\" x=\"27.35\" y=\"-25.48\" font-family=\"Times,serif\" font-size=\"11.00\">Project</text>\n",
       "</a>\n",
       "</g>\n",
       "</g>\n",
       "<!-- min_max_scaler -->\n",
       "<g id=\"node4\" class=\"node\">\n",
       "<title>min_max_scaler</title>\n",
       "<g id=\"a_node4\"><a xlink:href=\"https://lale.readthedocs.io/en/latest/modules/lale.lib.sklearn.min_max_scaler.html\" target=\"_blank\" rel=\"noopener noreferrer\" xlink:title=\"min_max_scaler = MinMaxScaler()\">\n",
       "<ellipse fill=\"#b0e2ff\" stroke=\"black\" cx=\"129.59\" cy=\"-28.28\" rx=\"31.64\" ry=\"28.07\"/>\n",
       "<text text-anchor=\"middle\" x=\"129.59\" y=\"-37.48\" font-family=\"Times,serif\" font-size=\"11.00\">Min&#45;</text>\n",
       "<text text-anchor=\"middle\" x=\"129.59\" y=\"-25.48\" font-family=\"Times,serif\" font-size=\"11.00\">Max&#45;</text>\n",
       "<text text-anchor=\"middle\" x=\"129.59\" y=\"-13.48\" font-family=\"Times,serif\" font-size=\"11.00\">Scaler</text>\n",
       "</a>\n",
       "</g>\n",
       "</g>\n",
       "<!-- project_1&#45;&gt;min_max_scaler -->\n",
       "<g id=\"edge2\" class=\"edge\">\n",
       "<title>project_1&#45;&gt;min_max_scaler</title>\n",
       "<path fill=\"none\" stroke=\"black\" d=\"M54.95,-28.28C64.88,-28.28 76.41,-28.28 87.35,-28.28\"/>\n",
       "<polygon fill=\"black\" stroke=\"black\" points=\"87.6,-31.78 97.6,-28.28 87.6,-24.78 87.6,-31.78\"/>\n",
       "</g>\n",
       "<!-- min_max_scaler&#45;&gt;concat_features -->\n",
       "<g id=\"edge4\" class=\"edge\">\n",
       "<title>min_max_scaler&#45;&gt;concat_features</title>\n",
       "<path fill=\"none\" stroke=\"black\" d=\"M160.22,-36.61C172.3,-40 186.53,-44 199.82,-47.74\"/>\n",
       "<polygon fill=\"black\" stroke=\"black\" points=\"199.18,-51.19 209.76,-50.53 201.08,-44.45 199.18,-51.19\"/>\n",
       "</g>\n",
       "<!-- random_forest_classifier -->\n",
       "<g id=\"node6\" class=\"node\">\n",
       "<title>random_forest_classifier</title>\n",
       "<g id=\"a_node6\"><a xlink:href=\"https://lale.readthedocs.io/en/latest/modules/lale.lib.sklearn.random_forest_classifier.html\" target=\"_blank\" rel=\"noopener noreferrer\" xlink:title=\"random_forest_classifier = RandomForestClassifier()\">\n",
       "<ellipse fill=\"#b0e2ff\" stroke=\"black\" cx=\"367.05\" cy=\"-60.28\" rx=\"44.6\" ry=\"28.07\"/>\n",
       "<text text-anchor=\"middle\" x=\"367.05\" y=\"-69.48\" font-family=\"Times,serif\" font-size=\"11.00\">Random&#45;</text>\n",
       "<text text-anchor=\"middle\" x=\"367.05\" y=\"-57.48\" font-family=\"Times,serif\" font-size=\"11.00\">Forest&#45;</text>\n",
       "<text text-anchor=\"middle\" x=\"367.05\" y=\"-45.48\" font-family=\"Times,serif\" font-size=\"11.00\">Classifier</text>\n",
       "</a>\n",
       "</g>\n",
       "</g>\n",
       "<!-- concat_features&#45;&gt;random_forest_classifier -->\n",
       "<g id=\"edge5\" class=\"edge\">\n",
       "<title>concat_features&#45;&gt;random_forest_classifier</title>\n",
       "<path fill=\"none\" stroke=\"black\" d=\"M286.64,-60.28C294.74,-60.28 303.38,-60.28 311.88,-60.28\"/>\n",
       "<polygon fill=\"black\" stroke=\"black\" points=\"312.11,-63.78 322.11,-60.28 312.11,-56.78 312.11,-63.78\"/>\n",
       "</g>\n",
       "</g>\n",
       "</svg>\n"
      ],
      "text/plain": [
       "<graphviz.graphs.Digraph at 0x7f8f1b224150>"
      ]
     },
     "metadata": {},
     "output_type": "display_data"
    }
   ],
   "source": [
    "from lale.lib.lale import Project, ConcatFeatures\n",
    "from lale.lib.sklearn import OneHotEncoder, MinMaxScaler, RandomForestClassifier\n",
    "\n",
    "cat_enc = Project(columns={\"type\": \"string\"}) >> OneHotEncoder(handle_unknown=\"ignore\")\n",
    "num_prep = Project(columns={\"type\": \"number\"}) >> MinMaxScaler()\n",
    "prefix = (cat_enc & num_prep) >> ConcatFeatures()\n",
    "\n",
    "pipeline_without_correction = prefix >> RandomForestClassifier()\n",
    "pipeline_without_correction.visualize()"
   ]
  },
  {
   "cell_type": "code",
   "execution_count": 4,
   "metadata": {},
   "outputs": [],
   "source": [
    "trained_pipeline = pipeline_without_correction.fit(train_X, train_y)\n",
    "predictions = trained_pipeline.predict(test_X)"
   ]
  },
  {
   "cell_type": "markdown",
   "metadata": {},
   "source": [
    "We evaluate the pipeline using multiple classification metrics as class imbalance can manifest in one or more of them."
   ]
  },
  {
   "cell_type": "code",
   "execution_count": 5,
   "metadata": {},
   "outputs": [
    {
     "name": "stdout",
     "output_type": "stream",
     "text": [
      "accuracy: 0.776\n",
      "f1-score: 0.853\n",
      "balanced accuracy: 0.673\n",
      "geometric mean: 0.626\n"
     ]
    }
   ],
   "source": [
    "def classification_metrics(test_y, predictions):\n",
    "    from sklearn.metrics import accuracy_score, f1_score, balanced_accuracy_score\n",
    "    from imblearn.metrics import geometric_mean_score\n",
    "\n",
    "    print(f\"accuracy: {accuracy_score(test_y, predictions):.3f}\")\n",
    "    print(f\"f1-score: {f1_score(test_y, predictions, pos_label='good'):.3f}\")\n",
    "    print(f\"balanced accuracy: {balanced_accuracy_score(test_y, predictions):.3f}\")\n",
    "    print(f\"geometric mean: {geometric_mean_score(test_y, predictions):.3f}\")\n",
    "    \n",
    "classification_metrics(test_y, predictions)"
   ]
  },
  {
   "cell_type": "markdown",
   "metadata": {},
   "source": [
    "<a id=\"oversampling\"></a>\n",
    "## 4.3 Over-sampling using SMOTE\n",
    "\n",
    "SMOTE (Synthetic Minority Over-sampling Technique) is a popular over-sampling technique to handle class imbalance. Lale has an operator [lale.lib.imblearn.SMOTE](https://lale.readthedocs.io/en/latest/modules/lale.lib.imblearn.smote.html) which wraps the SMOTE implementation from [imbalanced-learn](https://imbalanced-learn.org).\n",
    "\n",
    "Note that over-sampling changes the number of samples used for training, and it should not be applied during predict. The SMOTE Lale operator takes care of this during `fit` and `predict`. It is implemented as a *higher-order operator* which means that it allows another Lale single operator or pipeline to be passed to it as a hyperparameter `operator`. SMOTE will then over-sample the training data and pass it to the nested operator during `fit`. \n",
    "\n",
    "For our example, we use the preprocessing prefix that we created in the previous section and apply over-sampling to RandomForestClassifier. Some of the preprocessing such as encoding of categoricals is required before applying SMOTE as it relies on a distance metric computation that expects numeric features.\n",
    "\n",
    "Since SMOTE is a Lale operator, it can also participate in AutoML and the search space will include its hyperparameters as well as the nested operator's hyperparameters as applicable. [Section 4.6](#automl) will demonstrate this."
   ]
  },
  {
   "cell_type": "code",
   "execution_count": 6,
   "metadata": {},
   "outputs": [
    {
     "data": {
      "image/svg+xml": [
       "<?xml version=\"1.0\" encoding=\"UTF-8\" standalone=\"no\"?>\n",
       "<!DOCTYPE svg PUBLIC \"-//W3C//DTD SVG 1.1//EN\"\n",
       " \"http://www.w3.org/Graphics/SVG/1.1/DTD/svg11.dtd\">\n",
       "<!-- Generated by graphviz version 2.43.0 (0)\n",
       " -->\n",
       "<!-- Title: cluster:(root) Pages: 1 -->\n",
       "<svg width=\"436pt\" height=\"135pt\"\n",
       " viewBox=\"0.00 0.00 435.60 135.28\" xmlns=\"http://www.w3.org/2000/svg\" xmlns:xlink=\"http://www.w3.org/1999/xlink\">\n",
       "<g id=\"graph0\" class=\"graph\" transform=\"scale(1 1) rotate(0) translate(4 131.28)\">\n",
       "<title>cluster:(root)</title>\n",
       "<g id=\"a_graph0\"><a xlink:title=\"(root) = ...\">\n",
       "<polygon fill=\"white\" stroke=\"transparent\" points=\"-4,4 -4,-131.28 431.6,-131.28 431.6,4 -4,4\"/>\n",
       "</a>\n",
       "</g>\n",
       "<g id=\"clust1\" class=\"cluster\">\n",
       "<title>cluster:smote</title>\n",
       "<g id=\"a_clust1\"><a xlink:href=\"https://lale.readthedocs.io/en/latest/modules/lale.lib.imblearn.smote.html\" target=\"_blank\" rel=\"noopener noreferrer\" xlink:title=\"smote = SMOTE(operator=random_forest_classifier, k_neighbors=12)\">\n",
       "<polygon fill=\"#b0e2ff\" stroke=\"black\" points=\"314.51,-24.28 314.51,-119.28 419.6,-119.28 419.6,-24.28 314.51,-24.28\"/>\n",
       "<text text-anchor=\"middle\" x=\"367.05\" y=\"-104.08\" font-family=\"Times,serif\" font-size=\"14.00\">SMOTE</text>\n",
       "</a>\n",
       "</g>\n",
       "</g>\n",
       "<!-- project_0 -->\n",
       "<g id=\"node1\" class=\"node\">\n",
       "<title>project_0</title>\n",
       "<g id=\"a_node1\"><a xlink:href=\"https://lale.readthedocs.io/en/latest/modules/lale.lib.rasl.project.html\" target=\"_blank\" rel=\"noopener noreferrer\" xlink:title=\"project_0 = Project(columns={&#39;type&#39;: &#39;string&#39;})\">\n",
       "<ellipse fill=\"#b0e2ff\" stroke=\"black\" cx=\"27.35\" cy=\"-92.28\" rx=\"27.2\" ry=\"18\"/>\n",
       "<text text-anchor=\"middle\" x=\"27.35\" y=\"-89.48\" font-family=\"Times,serif\" font-size=\"11.00\">Project</text>\n",
       "</a>\n",
       "</g>\n",
       "</g>\n",
       "<!-- one_hot_encoder -->\n",
       "<g id=\"node2\" class=\"node\">\n",
       "<title>one_hot_encoder</title>\n",
       "<g id=\"a_node2\"><a xlink:href=\"https://lale.readthedocs.io/en/latest/modules/lale.lib.sklearn.one_hot_encoder.html\" target=\"_blank\" rel=\"noopener noreferrer\" xlink:title=\"one_hot_encoder = OneHotEncoder(handle_unknown=&#39;ignore&#39;)\">\n",
       "<ellipse fill=\"#b0e2ff\" stroke=\"black\" cx=\"129.59\" cy=\"-92.28\" rx=\"38.78\" ry=\"28.07\"/>\n",
       "<text text-anchor=\"middle\" x=\"129.59\" y=\"-101.48\" font-family=\"Times,serif\" font-size=\"11.00\">One&#45;</text>\n",
       "<text text-anchor=\"middle\" x=\"129.59\" y=\"-89.48\" font-family=\"Times,serif\" font-size=\"11.00\">Hot&#45;</text>\n",
       "<text text-anchor=\"middle\" x=\"129.59\" y=\"-77.48\" font-family=\"Times,serif\" font-size=\"11.00\">Encoder</text>\n",
       "</a>\n",
       "</g>\n",
       "</g>\n",
       "<!-- project_0&#45;&gt;one_hot_encoder -->\n",
       "<g id=\"edge1\" class=\"edge\">\n",
       "<title>project_0&#45;&gt;one_hot_encoder</title>\n",
       "<path fill=\"none\" stroke=\"black\" d=\"M54.95,-92.28C62.79,-92.28 71.62,-92.28 80.37,-92.28\"/>\n",
       "<polygon fill=\"black\" stroke=\"black\" points=\"80.54,-95.78 90.54,-92.28 80.54,-88.78 80.54,-95.78\"/>\n",
       "</g>\n",
       "<!-- concat_features -->\n",
       "<g id=\"node5\" class=\"node\">\n",
       "<title>concat_features</title>\n",
       "<g id=\"a_node5\"><a xlink:href=\"https://lale.readthedocs.io/en/latest/modules/lale.lib.rasl.concat_features.html\" target=\"_blank\" rel=\"noopener noreferrer\" xlink:title=\"concat_features = ConcatFeatures()\">\n",
       "<ellipse fill=\"white\" stroke=\"black\" cx=\"245.49\" cy=\"-60.28\" rx=\"41.02\" ry=\"19.6\"/>\n",
       "<text text-anchor=\"middle\" x=\"245.49\" y=\"-63.48\" font-family=\"Times,serif\" font-size=\"11.00\">Concat&#45;</text>\n",
       "<text text-anchor=\"middle\" x=\"245.49\" y=\"-51.48\" font-family=\"Times,serif\" font-size=\"11.00\">Features</text>\n",
       "</a>\n",
       "</g>\n",
       "</g>\n",
       "<!-- one_hot_encoder&#45;&gt;concat_features -->\n",
       "<g id=\"edge3\" class=\"edge\">\n",
       "<title>one_hot_encoder&#45;&gt;concat_features</title>\n",
       "<path fill=\"none\" stroke=\"black\" d=\"M166.01,-82.33C176.71,-79.33 188.61,-75.98 199.84,-72.83\"/>\n",
       "<polygon fill=\"black\" stroke=\"black\" points=\"200.81,-76.19 209.49,-70.12 198.92,-69.45 200.81,-76.19\"/>\n",
       "</g>\n",
       "<!-- project_1 -->\n",
       "<g id=\"node3\" class=\"node\">\n",
       "<title>project_1</title>\n",
       "<g id=\"a_node3\"><a xlink:href=\"https://lale.readthedocs.io/en/latest/modules/lale.lib.rasl.project.html\" target=\"_blank\" rel=\"noopener noreferrer\" xlink:title=\"project_1 = Project(columns={&#39;type&#39;: &#39;number&#39;})\">\n",
       "<ellipse fill=\"#b0e2ff\" stroke=\"black\" cx=\"27.35\" cy=\"-28.28\" rx=\"27.2\" ry=\"18\"/>\n",
       "<text text-anchor=\"middle\" x=\"27.35\" y=\"-25.48\" font-family=\"Times,serif\" font-size=\"11.00\">Project</text>\n",
       "</a>\n",
       "</g>\n",
       "</g>\n",
       "<!-- min_max_scaler -->\n",
       "<g id=\"node4\" class=\"node\">\n",
       "<title>min_max_scaler</title>\n",
       "<g id=\"a_node4\"><a xlink:href=\"https://lale.readthedocs.io/en/latest/modules/lale.lib.sklearn.min_max_scaler.html\" target=\"_blank\" rel=\"noopener noreferrer\" xlink:title=\"min_max_scaler = MinMaxScaler()\">\n",
       "<ellipse fill=\"#b0e2ff\" stroke=\"black\" cx=\"129.59\" cy=\"-28.28\" rx=\"31.64\" ry=\"28.07\"/>\n",
       "<text text-anchor=\"middle\" x=\"129.59\" y=\"-37.48\" font-family=\"Times,serif\" font-size=\"11.00\">Min&#45;</text>\n",
       "<text text-anchor=\"middle\" x=\"129.59\" y=\"-25.48\" font-family=\"Times,serif\" font-size=\"11.00\">Max&#45;</text>\n",
       "<text text-anchor=\"middle\" x=\"129.59\" y=\"-13.48\" font-family=\"Times,serif\" font-size=\"11.00\">Scaler</text>\n",
       "</a>\n",
       "</g>\n",
       "</g>\n",
       "<!-- project_1&#45;&gt;min_max_scaler -->\n",
       "<g id=\"edge2\" class=\"edge\">\n",
       "<title>project_1&#45;&gt;min_max_scaler</title>\n",
       "<path fill=\"none\" stroke=\"black\" d=\"M54.95,-28.28C64.88,-28.28 76.41,-28.28 87.35,-28.28\"/>\n",
       "<polygon fill=\"black\" stroke=\"black\" points=\"87.6,-31.78 97.6,-28.28 87.6,-24.78 87.6,-31.78\"/>\n",
       "</g>\n",
       "<!-- min_max_scaler&#45;&gt;concat_features -->\n",
       "<g id=\"edge4\" class=\"edge\">\n",
       "<title>min_max_scaler&#45;&gt;concat_features</title>\n",
       "<path fill=\"none\" stroke=\"black\" d=\"M160.22,-36.61C172.3,-40 186.53,-44 199.82,-47.74\"/>\n",
       "<polygon fill=\"black\" stroke=\"black\" points=\"199.18,-51.19 209.76,-50.53 201.08,-44.45 199.18,-51.19\"/>\n",
       "</g>\n",
       "<!-- random_forest_classifier -->\n",
       "<g id=\"node6\" class=\"node\">\n",
       "<title>random_forest_classifier</title>\n",
       "<g id=\"a_node6\"><a xlink:href=\"https://lale.readthedocs.io/en/latest/modules/lale.lib.sklearn.random_forest_classifier.html\" target=\"_blank\" rel=\"noopener noreferrer\" xlink:title=\"random_forest_classifier = RandomForestClassifier()\">\n",
       "<ellipse fill=\"#b0e2ff\" stroke=\"black\" cx=\"367.05\" cy=\"-60.28\" rx=\"44.6\" ry=\"28.07\"/>\n",
       "<text text-anchor=\"middle\" x=\"367.05\" y=\"-69.48\" font-family=\"Times,serif\" font-size=\"11.00\">Random&#45;</text>\n",
       "<text text-anchor=\"middle\" x=\"367.05\" y=\"-57.48\" font-family=\"Times,serif\" font-size=\"11.00\">Forest&#45;</text>\n",
       "<text text-anchor=\"middle\" x=\"367.05\" y=\"-45.48\" font-family=\"Times,serif\" font-size=\"11.00\">Classifier</text>\n",
       "</a>\n",
       "</g>\n",
       "</g>\n",
       "<!-- concat_features&#45;&gt;random_forest_classifier -->\n",
       "<g id=\"edge5\" class=\"edge\">\n",
       "<title>concat_features&#45;&gt;random_forest_classifier</title>\n",
       "<path fill=\"none\" stroke=\"black\" d=\"M286.64,-60.28C294.74,-60.28 303.38,-60.28 311.88,-60.28\"/>\n",
       "<polygon fill=\"black\" stroke=\"black\" points=\"304.51,-63.78 314.51,-60.28 304.51,-56.78 304.51,-63.78\"/>\n",
       "</g>\n",
       "</g>\n",
       "</svg>\n"
      ],
      "text/plain": [
       "<graphviz.graphs.Digraph at 0x7f8f69855990>"
      ]
     },
     "metadata": {},
     "output_type": "display_data"
    }
   ],
   "source": [
    "from lale.lib.imblearn import SMOTE\n",
    "pipeline_with_correction = prefix >> SMOTE(operator=RandomForestClassifier(), k_neighbors=12)\n",
    "pipeline_with_correction.visualize()"
   ]
  },
  {
   "cell_type": "code",
   "execution_count": 7,
   "metadata": {},
   "outputs": [],
   "source": [
    "trained_pipeline = pipeline_with_correction.fit(train_X, train_y)\n",
    "predictions = trained_pipeline.predict(test_X)"
   ]
  },
  {
   "cell_type": "code",
   "execution_count": 8,
   "metadata": {},
   "outputs": [
    {
     "name": "stdout",
     "output_type": "stream",
     "text": [
      "accuracy: 0.782\n",
      "f1-score: 0.850\n",
      "balanced accuracy: 0.717\n",
      "geometric mean: 0.700\n"
     ]
    }
   ],
   "source": [
    "classification_metrics(test_y, predictions)"
   ]
  },
  {
   "cell_type": "markdown",
   "metadata": {},
   "source": [
    "<a id=\"undersampling\"></a>\n",
    "## 4.4 Under-sampling using CondensedNearestNeighbour\n",
    "\n",
    "One of the techniques for class imbalance correction is under-sampling. There are several methods for under-sampling. Here, we illustrate [lale.lib.imblearn.CondensedNearestNeighbour](https://lale.readthedocs.io/en/latest/modules/lale.lib.imblearn.condensed_nearest_neighbour.html). It has a usage pattern similar to `SMOTE`."
   ]
  },
  {
   "cell_type": "code",
   "execution_count": 9,
   "metadata": {},
   "outputs": [],
   "source": [
    "from lale.lib.imblearn import CondensedNearestNeighbour\n",
    "pipeline_with_correction = prefix >> CondensedNearestNeighbour(operator=RandomForestClassifier())\n",
    "trained_pipeline = pipeline_with_correction.fit(train_X, train_y)\n",
    "predictions = trained_pipeline.predict(test_X)"
   ]
  },
  {
   "cell_type": "code",
   "execution_count": 10,
   "metadata": {},
   "outputs": [
    {
     "name": "stdout",
     "output_type": "stream",
     "text": [
      "accuracy: 0.718\n",
      "f1-score: 0.778\n",
      "balanced accuracy: 0.734\n",
      "geometric mean: 0.733\n"
     ]
    }
   ],
   "source": [
    "classification_metrics(test_y, predictions)"
   ]
  },
  {
   "cell_type": "markdown",
   "metadata": {},
   "source": [
    "<a id=\"combined\"></a>\n",
    "## 4.5 Combined over- and under-sampling using SMOTEENN\n",
    "\n",
    "Some of the imbalance correction methods combine over-sampling and under-sampling. `SMOTEENN` is one of those which performs over-sampling using `SMOTE` followed by under-sampling using Edited Nearest Neighbours (`ENN`).\n",
    "The following code sample illustrates the usage of [lale.lib.imblearn.SMOTEENN](https://lale.readthedocs.io/en/latest/modules/lale.lib.imblearn.smoteenn.html) on `credit-g` and its evaluation."
   ]
  },
  {
   "cell_type": "code",
   "execution_count": 11,
   "metadata": {},
   "outputs": [],
   "source": [
    "from lale.lib.imblearn import SMOTEENN\n",
    "pipeline_with_correction = prefix >> SMOTEENN(operator=RandomForestClassifier())\n",
    "trained_pipeline = pipeline_with_correction.fit(train_X, train_y)\n",
    "predictions = trained_pipeline.predict(test_X)"
   ]
  },
  {
   "cell_type": "code",
   "execution_count": 12,
   "metadata": {},
   "outputs": [
    {
     "name": "stdout",
     "output_type": "stream",
     "text": [
      "accuracy: 0.667\n",
      "f1-score: 0.726\n",
      "balanced accuracy: 0.697\n",
      "geometric mean: 0.694\n"
     ]
    }
   ],
   "source": [
    "classification_metrics(test_y, predictions)"
   ]
  },
  {
   "cell_type": "markdown",
   "metadata": {},
   "source": [
    "<a id=\"automl\"></a>\n",
    "## 4.6 AutoML with Imbalance Correction\n",
    "\n",
    "As mentioned earlier, the operators from `lale.lib.imblearn` are *higher-order operators*. They can be used as individual operators or in a pipeline. The nested operator hyperparameter to those is also a Lale operator. This allows AutoML search to include the hyperparameter search space of the outer operator as well as the nested operator. The following example uses our previous examples of `SMOTE` and `SMOTEENN` for imbalance correction. For `SMOTE`, it tries a choice between `RandomForestClassifier` and `XGBClassifier`. `Hyperopt` is used as the optimizer to select between the choices and tune hyperparameters of the entire pipeline."
   ]
  },
  {
   "cell_type": "code",
   "execution_count": 13,
   "metadata": {},
   "outputs": [
    {
     "data": {
      "image/svg+xml": [
       "<?xml version=\"1.0\" encoding=\"UTF-8\" standalone=\"no\"?>\n",
       "<!DOCTYPE svg PUBLIC \"-//W3C//DTD SVG 1.1//EN\"\n",
       " \"http://www.w3.org/Graphics/SVG/1.1/DTD/svg11.dtd\">\n",
       "<!-- Generated by graphviz version 2.43.0 (0)\n",
       " -->\n",
       "<!-- Title: cluster:(root) Pages: 1 -->\n",
       "<svg width=\"452pt\" height=\"347pt\"\n",
       " viewBox=\"0.00 0.00 451.60 347.00\" xmlns=\"http://www.w3.org/2000/svg\" xmlns:xlink=\"http://www.w3.org/1999/xlink\">\n",
       "<g id=\"graph0\" class=\"graph\" transform=\"scale(1 1) rotate(0) translate(4 343)\">\n",
       "<title>cluster:(root)</title>\n",
       "<g id=\"a_graph0\"><a xlink:title=\"(root) = ...\">\n",
       "<polygon fill=\"white\" stroke=\"transparent\" points=\"-4,4 -4,-343 447.6,-343 447.6,4 -4,4\"/>\n",
       "</a>\n",
       "</g>\n",
       "<g id=\"clust1\" class=\"cluster\">\n",
       "<title>cluster:choice</title>\n",
       "<g id=\"a_clust1\"><a xlink:title=\"choice = smote | smoteenn\">\n",
       "<polygon fill=\"#7ec0ee\" stroke=\"black\" points=\"298.51,-8 298.51,-331 435.6,-331 435.6,-8 298.51,-8\"/>\n",
       "<text text-anchor=\"middle\" x=\"367.05\" y=\"-315.8\" font-family=\"Times,serif\" font-size=\"14.00\">Choice</text>\n",
       "</a>\n",
       "</g>\n",
       "</g>\n",
       "<g id=\"clust2\" class=\"cluster\">\n",
       "<title>cluster:smote</title>\n",
       "<g id=\"a_clust2\"><a xlink:href=\"https://lale.readthedocs.io/en/latest/modules/lale.lib.imblearn.smote.html\" target=\"_blank\" rel=\"noopener noreferrer\" xlink:title=\"smote = SMOTE(operator=choice_0)\">\n",
       "<polygon fill=\"#b0e2ff\" stroke=\"black\" points=\"306.51,-119 306.51,-300 427.6,-300 427.6,-119 306.51,-119\"/>\n",
       "<text text-anchor=\"middle\" x=\"367.05\" y=\"-284.8\" font-family=\"Times,serif\" font-size=\"14.00\">SMOTE</text>\n",
       "</a>\n",
       "</g>\n",
       "</g>\n",
       "<g id=\"clust3\" class=\"cluster\">\n",
       "<title>cluster:choice_0</title>\n",
       "<g id=\"a_clust3\"><a xlink:href=\"https://lale.readthedocs.io/en/latest/modules/lale.lib.imblearn.smote.html\" target=\"_blank\" rel=\"noopener noreferrer\" xlink:title=\"choice_0 = random_forest_classifier | xgb_classifier\">\n",
       "<polygon fill=\"#7ec0ee\" stroke=\"black\" points=\"314.51,-127 314.51,-269 419.6,-269 419.6,-127 314.51,-127\"/>\n",
       "<text text-anchor=\"middle\" x=\"367.05\" y=\"-253.8\" font-family=\"Times,serif\" font-size=\"14.00\">Choice</text>\n",
       "</a>\n",
       "</g>\n",
       "</g>\n",
       "<g id=\"clust4\" class=\"cluster\">\n",
       "<title>cluster:smoteenn</title>\n",
       "<g id=\"a_clust4\"><a xlink:href=\"https://lale.readthedocs.io/en/latest/modules/lale.lib.imblearn.smoteenn.html\" target=\"_blank\" rel=\"noopener noreferrer\" xlink:title=\"smoteenn = SMOTEENN(operator=random_forest_classifier_0)\">\n",
       "<polygon fill=\"#b0e2ff\" stroke=\"black\" points=\"314.51,-16 314.51,-111 419.6,-111 419.6,-16 314.51,-16\"/>\n",
       "<text text-anchor=\"middle\" x=\"367.05\" y=\"-95.8\" font-family=\"Times,serif\" font-size=\"14.00\">SMOTEENN</text>\n",
       "</a>\n",
       "</g>\n",
       "</g>\n",
       "<!-- project_0 -->\n",
       "<g id=\"node1\" class=\"node\">\n",
       "<title>project_0</title>\n",
       "<g id=\"a_node1\"><a xlink:href=\"https://lale.readthedocs.io/en/latest/modules/lale.lib.rasl.project.html\" target=\"_blank\" rel=\"noopener noreferrer\" xlink:title=\"project_0 = Project(columns={&#39;type&#39;: &#39;string&#39;})\">\n",
       "<ellipse fill=\"#b0e2ff\" stroke=\"black\" cx=\"27.35\" cy=\"-242\" rx=\"27.2\" ry=\"18\"/>\n",
       "<text text-anchor=\"middle\" x=\"27.35\" y=\"-239.2\" font-family=\"Times,serif\" font-size=\"11.00\">Project</text>\n",
       "</a>\n",
       "</g>\n",
       "</g>\n",
       "<!-- one_hot_encoder -->\n",
       "<g id=\"node2\" class=\"node\">\n",
       "<title>one_hot_encoder</title>\n",
       "<g id=\"a_node2\"><a xlink:href=\"https://lale.readthedocs.io/en/latest/modules/lale.lib.sklearn.one_hot_encoder.html\" target=\"_blank\" rel=\"noopener noreferrer\" xlink:title=\"one_hot_encoder = OneHotEncoder(handle_unknown=&#39;ignore&#39;)\">\n",
       "<ellipse fill=\"#b0e2ff\" stroke=\"black\" cx=\"129.59\" cy=\"-242\" rx=\"38.78\" ry=\"28.07\"/>\n",
       "<text text-anchor=\"middle\" x=\"129.59\" y=\"-251.2\" font-family=\"Times,serif\" font-size=\"11.00\">One&#45;</text>\n",
       "<text text-anchor=\"middle\" x=\"129.59\" y=\"-239.2\" font-family=\"Times,serif\" font-size=\"11.00\">Hot&#45;</text>\n",
       "<text text-anchor=\"middle\" x=\"129.59\" y=\"-227.2\" font-family=\"Times,serif\" font-size=\"11.00\">Encoder</text>\n",
       "</a>\n",
       "</g>\n",
       "</g>\n",
       "<!-- project_0&#45;&gt;one_hot_encoder -->\n",
       "<g id=\"edge1\" class=\"edge\">\n",
       "<title>project_0&#45;&gt;one_hot_encoder</title>\n",
       "<path fill=\"none\" stroke=\"black\" d=\"M54.95,-242C62.79,-242 71.62,-242 80.37,-242\"/>\n",
       "<polygon fill=\"black\" stroke=\"black\" points=\"80.54,-245.5 90.54,-242 80.54,-238.5 80.54,-245.5\"/>\n",
       "</g>\n",
       "<!-- concat_features -->\n",
       "<g id=\"node5\" class=\"node\">\n",
       "<title>concat_features</title>\n",
       "<g id=\"a_node5\"><a xlink:href=\"https://lale.readthedocs.io/en/latest/modules/lale.lib.rasl.concat_features.html\" target=\"_blank\" rel=\"noopener noreferrer\" xlink:title=\"concat_features = ConcatFeatures()\">\n",
       "<ellipse fill=\"white\" stroke=\"black\" cx=\"245.49\" cy=\"-210\" rx=\"41.02\" ry=\"19.6\"/>\n",
       "<text text-anchor=\"middle\" x=\"245.49\" y=\"-213.2\" font-family=\"Times,serif\" font-size=\"11.00\">Concat&#45;</text>\n",
       "<text text-anchor=\"middle\" x=\"245.49\" y=\"-201.2\" font-family=\"Times,serif\" font-size=\"11.00\">Features</text>\n",
       "</a>\n",
       "</g>\n",
       "</g>\n",
       "<!-- one_hot_encoder&#45;&gt;concat_features -->\n",
       "<g id=\"edge3\" class=\"edge\">\n",
       "<title>one_hot_encoder&#45;&gt;concat_features</title>\n",
       "<path fill=\"none\" stroke=\"black\" d=\"M166.01,-232.05C176.71,-229.04 188.61,-225.7 199.84,-222.54\"/>\n",
       "<polygon fill=\"black\" stroke=\"black\" points=\"200.81,-225.91 209.49,-219.83 198.92,-219.17 200.81,-225.91\"/>\n",
       "</g>\n",
       "<!-- project_1 -->\n",
       "<g id=\"node3\" class=\"node\">\n",
       "<title>project_1</title>\n",
       "<g id=\"a_node3\"><a xlink:href=\"https://lale.readthedocs.io/en/latest/modules/lale.lib.rasl.project.html\" target=\"_blank\" rel=\"noopener noreferrer\" xlink:title=\"project_1 = Project(columns={&#39;type&#39;: &#39;number&#39;})\">\n",
       "<ellipse fill=\"#b0e2ff\" stroke=\"black\" cx=\"27.35\" cy=\"-178\" rx=\"27.2\" ry=\"18\"/>\n",
       "<text text-anchor=\"middle\" x=\"27.35\" y=\"-175.2\" font-family=\"Times,serif\" font-size=\"11.00\">Project</text>\n",
       "</a>\n",
       "</g>\n",
       "</g>\n",
       "<!-- min_max_scaler -->\n",
       "<g id=\"node4\" class=\"node\">\n",
       "<title>min_max_scaler</title>\n",
       "<g id=\"a_node4\"><a xlink:href=\"https://lale.readthedocs.io/en/latest/modules/lale.lib.sklearn.min_max_scaler.html\" target=\"_blank\" rel=\"noopener noreferrer\" xlink:title=\"min_max_scaler = MinMaxScaler()\">\n",
       "<ellipse fill=\"#b0e2ff\" stroke=\"black\" cx=\"129.59\" cy=\"-178\" rx=\"31.64\" ry=\"28.07\"/>\n",
       "<text text-anchor=\"middle\" x=\"129.59\" y=\"-187.2\" font-family=\"Times,serif\" font-size=\"11.00\">Min&#45;</text>\n",
       "<text text-anchor=\"middle\" x=\"129.59\" y=\"-175.2\" font-family=\"Times,serif\" font-size=\"11.00\">Max&#45;</text>\n",
       "<text text-anchor=\"middle\" x=\"129.59\" y=\"-163.2\" font-family=\"Times,serif\" font-size=\"11.00\">Scaler</text>\n",
       "</a>\n",
       "</g>\n",
       "</g>\n",
       "<!-- project_1&#45;&gt;min_max_scaler -->\n",
       "<g id=\"edge2\" class=\"edge\">\n",
       "<title>project_1&#45;&gt;min_max_scaler</title>\n",
       "<path fill=\"none\" stroke=\"black\" d=\"M54.95,-178C64.88,-178 76.41,-178 87.35,-178\"/>\n",
       "<polygon fill=\"black\" stroke=\"black\" points=\"87.6,-181.5 97.6,-178 87.6,-174.5 87.6,-181.5\"/>\n",
       "</g>\n",
       "<!-- min_max_scaler&#45;&gt;concat_features -->\n",
       "<g id=\"edge4\" class=\"edge\">\n",
       "<title>min_max_scaler&#45;&gt;concat_features</title>\n",
       "<path fill=\"none\" stroke=\"black\" d=\"M160.22,-186.32C172.3,-189.72 186.53,-193.72 199.82,-197.45\"/>\n",
       "<polygon fill=\"black\" stroke=\"black\" points=\"199.18,-200.91 209.76,-200.24 201.08,-194.17 199.18,-200.91\"/>\n",
       "</g>\n",
       "<!-- random_forest_classifier -->\n",
       "<g id=\"node6\" class=\"node\">\n",
       "<title>random_forest_classifier</title>\n",
       "<g id=\"a_node6\"><a xlink:href=\"https://lale.readthedocs.io/en/latest/modules/lale.lib.sklearn.random_forest_classifier.html\" target=\"_blank\" rel=\"noopener noreferrer\" xlink:title=\"random_forest_classifier = RandomForestClassifier\">\n",
       "<ellipse fill=\"#7ec0ee\" stroke=\"black\" cx=\"367.05\" cy=\"-210\" rx=\"44.6\" ry=\"28.07\"/>\n",
       "<text text-anchor=\"middle\" x=\"367.05\" y=\"-219.2\" font-family=\"Times,serif\" font-size=\"11.00\">Random&#45;</text>\n",
       "<text text-anchor=\"middle\" x=\"367.05\" y=\"-207.2\" font-family=\"Times,serif\" font-size=\"11.00\">Forest&#45;</text>\n",
       "<text text-anchor=\"middle\" x=\"367.05\" y=\"-195.2\" font-family=\"Times,serif\" font-size=\"11.00\">Classifier</text>\n",
       "</a>\n",
       "</g>\n",
       "</g>\n",
       "<!-- concat_features&#45;&gt;random_forest_classifier -->\n",
       "<g id=\"edge5\" class=\"edge\">\n",
       "<title>concat_features&#45;&gt;random_forest_classifier</title>\n",
       "<path fill=\"none\" stroke=\"black\" d=\"M286.64,-210C287.24,-210 287.85,-210 288.46,-210\"/>\n",
       "<polygon fill=\"black\" stroke=\"black\" points=\"288.51,-213.5 298.51,-210 288.51,-206.5 288.51,-213.5\"/>\n",
       "</g>\n",
       "<!-- xgb_classifier -->\n",
       "<g id=\"node7\" class=\"node\">\n",
       "<title>xgb_classifier</title>\n",
       "<g id=\"a_node7\"><a xlink:href=\"https://lale.readthedocs.io/en/latest/modules/lale.lib.xgboost.xgb_classifier.html\" target=\"_blank\" rel=\"noopener noreferrer\" xlink:title=\"xgb_classifier = XGBClassifier\">\n",
       "<ellipse fill=\"#7ec0ee\" stroke=\"black\" cx=\"367.05\" cy=\"-155\" rx=\"44.6\" ry=\"19.6\"/>\n",
       "<text text-anchor=\"middle\" x=\"367.05\" y=\"-158.2\" font-family=\"Times,serif\" font-size=\"11.00\">XGB&#45;</text>\n",
       "<text text-anchor=\"middle\" x=\"367.05\" y=\"-146.2\" font-family=\"Times,serif\" font-size=\"11.00\">Classifier</text>\n",
       "</a>\n",
       "</g>\n",
       "</g>\n",
       "<!-- random_forest_classifier_0 -->\n",
       "<g id=\"node8\" class=\"node\">\n",
       "<title>random_forest_classifier_0</title>\n",
       "<g id=\"a_node8\"><a xlink:href=\"https://lale.readthedocs.io/en/latest/modules/lale.lib.sklearn.random_forest_classifier.html\" target=\"_blank\" rel=\"noopener noreferrer\" xlink:title=\"random_forest_classifier_0 = RandomForestClassifier\">\n",
       "<ellipse fill=\"#7ec0ee\" stroke=\"black\" cx=\"367.05\" cy=\"-52\" rx=\"44.6\" ry=\"28.07\"/>\n",
       "<text text-anchor=\"middle\" x=\"367.05\" y=\"-61.2\" font-family=\"Times,serif\" font-size=\"11.00\">Random&#45;</text>\n",
       "<text text-anchor=\"middle\" x=\"367.05\" y=\"-49.2\" font-family=\"Times,serif\" font-size=\"11.00\">Forest&#45;</text>\n",
       "<text text-anchor=\"middle\" x=\"367.05\" y=\"-37.2\" font-family=\"Times,serif\" font-size=\"11.00\">Classifier</text>\n",
       "</a>\n",
       "</g>\n",
       "</g>\n",
       "</g>\n",
       "</svg>\n"
      ],
      "text/plain": [
       "<graphviz.graphs.Digraph at 0x7f8f69868210>"
      ]
     },
     "metadata": {},
     "output_type": "display_data"
    }
   ],
   "source": [
    "from lale.lib.lale import Hyperopt\n",
    "from lale.lib.xgboost import XGBClassifier\n",
    "\n",
    "pipeline_with_correction = prefix >> (\n",
    "    SMOTE(operator = RandomForestClassifier | XGBClassifier)\n",
    "    | SMOTEENN(operator = RandomForestClassifier)\n",
    ")\n",
    "pipeline_with_correction.visualize()"
   ]
  },
  {
   "cell_type": "code",
   "execution_count": 14,
   "metadata": {},
   "outputs": [
    {
     "name": "stdout",
     "output_type": "stream",
     "text": [
      "100%|████████| 10/10 [00:36<00:00,  3.68s/trial, best loss: -0.6939226788031533]\n"
     ]
    },
    {
     "data": {
      "image/svg+xml": [
       "<?xml version=\"1.0\" encoding=\"UTF-8\" standalone=\"no\"?>\n",
       "<!DOCTYPE svg PUBLIC \"-//W3C//DTD SVG 1.1//EN\"\n",
       " \"http://www.w3.org/Graphics/SVG/1.1/DTD/svg11.dtd\">\n",
       "<!-- Generated by graphviz version 2.43.0 (0)\n",
       " -->\n",
       "<!-- Title: cluster:(root) Pages: 1 -->\n",
       "<svg width=\"436pt\" height=\"135pt\"\n",
       " viewBox=\"0.00 0.00 435.60 135.28\" xmlns=\"http://www.w3.org/2000/svg\" xmlns:xlink=\"http://www.w3.org/1999/xlink\">\n",
       "<g id=\"graph0\" class=\"graph\" transform=\"scale(1 1) rotate(0) translate(4 131.28)\">\n",
       "<title>cluster:(root)</title>\n",
       "<g id=\"a_graph0\"><a xlink:title=\"(root) = ...\">\n",
       "<polygon fill=\"white\" stroke=\"transparent\" points=\"-4,4 -4,-131.28 431.6,-131.28 431.6,4 -4,4\"/>\n",
       "</a>\n",
       "</g>\n",
       "<g id=\"clust1\" class=\"cluster\">\n",
       "<title>cluster:smoteenn</title>\n",
       "<g id=\"a_clust1\"><a xlink:href=\"https://lale.readthedocs.io/en/latest/modules/lale.lib.imblearn.smoteenn.html\" target=\"_blank\" rel=\"noopener noreferrer\" xlink:title=\"smoteenn = SMOTEENN(operator=random_forest_classifier)\">\n",
       "<polygon fill=\"white\" stroke=\"black\" points=\"314.51,-24.28 314.51,-119.28 419.6,-119.28 419.6,-24.28 314.51,-24.28\"/>\n",
       "<text text-anchor=\"middle\" x=\"367.05\" y=\"-104.08\" font-family=\"Times,serif\" font-size=\"14.00\">SMOTEENN</text>\n",
       "</a>\n",
       "</g>\n",
       "</g>\n",
       "<!-- project_0 -->\n",
       "<g id=\"node1\" class=\"node\">\n",
       "<title>project_0</title>\n",
       "<g id=\"a_node1\"><a xlink:href=\"https://lale.readthedocs.io/en/latest/modules/lale.lib.rasl.project.html\" target=\"_blank\" rel=\"noopener noreferrer\" xlink:title=\"project_0 = Project(columns={&#39;type&#39;: &#39;string&#39;})\">\n",
       "<ellipse fill=\"white\" stroke=\"black\" cx=\"27.35\" cy=\"-92.28\" rx=\"27.2\" ry=\"18\"/>\n",
       "<text text-anchor=\"middle\" x=\"27.35\" y=\"-89.48\" font-family=\"Times,serif\" font-size=\"11.00\">Project</text>\n",
       "</a>\n",
       "</g>\n",
       "</g>\n",
       "<!-- one_hot_encoder -->\n",
       "<g id=\"node2\" class=\"node\">\n",
       "<title>one_hot_encoder</title>\n",
       "<g id=\"a_node2\"><a xlink:href=\"https://lale.readthedocs.io/en/latest/modules/lale.lib.sklearn.one_hot_encoder.html\" target=\"_blank\" rel=\"noopener noreferrer\" xlink:title=\"one_hot_encoder = OneHotEncoder(handle_unknown=&#39;ignore&#39;)\">\n",
       "<ellipse fill=\"white\" stroke=\"black\" cx=\"129.59\" cy=\"-92.28\" rx=\"38.78\" ry=\"28.07\"/>\n",
       "<text text-anchor=\"middle\" x=\"129.59\" y=\"-101.48\" font-family=\"Times,serif\" font-size=\"11.00\">One&#45;</text>\n",
       "<text text-anchor=\"middle\" x=\"129.59\" y=\"-89.48\" font-family=\"Times,serif\" font-size=\"11.00\">Hot&#45;</text>\n",
       "<text text-anchor=\"middle\" x=\"129.59\" y=\"-77.48\" font-family=\"Times,serif\" font-size=\"11.00\">Encoder</text>\n",
       "</a>\n",
       "</g>\n",
       "</g>\n",
       "<!-- project_0&#45;&gt;one_hot_encoder -->\n",
       "<g id=\"edge1\" class=\"edge\">\n",
       "<title>project_0&#45;&gt;one_hot_encoder</title>\n",
       "<path fill=\"none\" stroke=\"black\" d=\"M54.95,-92.28C62.79,-92.28 71.62,-92.28 80.37,-92.28\"/>\n",
       "<polygon fill=\"black\" stroke=\"black\" points=\"80.54,-95.78 90.54,-92.28 80.54,-88.78 80.54,-95.78\"/>\n",
       "</g>\n",
       "<!-- concat_features -->\n",
       "<g id=\"node5\" class=\"node\">\n",
       "<title>concat_features</title>\n",
       "<g id=\"a_node5\"><a xlink:href=\"https://lale.readthedocs.io/en/latest/modules/lale.lib.rasl.concat_features.html\" target=\"_blank\" rel=\"noopener noreferrer\" xlink:title=\"concat_features = ConcatFeatures()\">\n",
       "<ellipse fill=\"white\" stroke=\"black\" cx=\"245.49\" cy=\"-60.28\" rx=\"41.02\" ry=\"19.6\"/>\n",
       "<text text-anchor=\"middle\" x=\"245.49\" y=\"-63.48\" font-family=\"Times,serif\" font-size=\"11.00\">Concat&#45;</text>\n",
       "<text text-anchor=\"middle\" x=\"245.49\" y=\"-51.48\" font-family=\"Times,serif\" font-size=\"11.00\">Features</text>\n",
       "</a>\n",
       "</g>\n",
       "</g>\n",
       "<!-- one_hot_encoder&#45;&gt;concat_features -->\n",
       "<g id=\"edge3\" class=\"edge\">\n",
       "<title>one_hot_encoder&#45;&gt;concat_features</title>\n",
       "<path fill=\"none\" stroke=\"black\" d=\"M166.01,-82.33C176.71,-79.33 188.61,-75.98 199.84,-72.83\"/>\n",
       "<polygon fill=\"black\" stroke=\"black\" points=\"200.81,-76.19 209.49,-70.12 198.92,-69.45 200.81,-76.19\"/>\n",
       "</g>\n",
       "<!-- project_1 -->\n",
       "<g id=\"node3\" class=\"node\">\n",
       "<title>project_1</title>\n",
       "<g id=\"a_node3\"><a xlink:href=\"https://lale.readthedocs.io/en/latest/modules/lale.lib.rasl.project.html\" target=\"_blank\" rel=\"noopener noreferrer\" xlink:title=\"project_1 = Project(columns={&#39;type&#39;: &#39;number&#39;})\">\n",
       "<ellipse fill=\"white\" stroke=\"black\" cx=\"27.35\" cy=\"-28.28\" rx=\"27.2\" ry=\"18\"/>\n",
       "<text text-anchor=\"middle\" x=\"27.35\" y=\"-25.48\" font-family=\"Times,serif\" font-size=\"11.00\">Project</text>\n",
       "</a>\n",
       "</g>\n",
       "</g>\n",
       "<!-- min_max_scaler -->\n",
       "<g id=\"node4\" class=\"node\">\n",
       "<title>min_max_scaler</title>\n",
       "<g id=\"a_node4\"><a xlink:href=\"https://lale.readthedocs.io/en/latest/modules/lale.lib.sklearn.min_max_scaler.html\" target=\"_blank\" rel=\"noopener noreferrer\" xlink:title=\"min_max_scaler = MinMaxScaler()\">\n",
       "<ellipse fill=\"white\" stroke=\"black\" cx=\"129.59\" cy=\"-28.28\" rx=\"31.64\" ry=\"28.07\"/>\n",
       "<text text-anchor=\"middle\" x=\"129.59\" y=\"-37.48\" font-family=\"Times,serif\" font-size=\"11.00\">Min&#45;</text>\n",
       "<text text-anchor=\"middle\" x=\"129.59\" y=\"-25.48\" font-family=\"Times,serif\" font-size=\"11.00\">Max&#45;</text>\n",
       "<text text-anchor=\"middle\" x=\"129.59\" y=\"-13.48\" font-family=\"Times,serif\" font-size=\"11.00\">Scaler</text>\n",
       "</a>\n",
       "</g>\n",
       "</g>\n",
       "<!-- project_1&#45;&gt;min_max_scaler -->\n",
       "<g id=\"edge2\" class=\"edge\">\n",
       "<title>project_1&#45;&gt;min_max_scaler</title>\n",
       "<path fill=\"none\" stroke=\"black\" d=\"M54.95,-28.28C64.88,-28.28 76.41,-28.28 87.35,-28.28\"/>\n",
       "<polygon fill=\"black\" stroke=\"black\" points=\"87.6,-31.78 97.6,-28.28 87.6,-24.78 87.6,-31.78\"/>\n",
       "</g>\n",
       "<!-- min_max_scaler&#45;&gt;concat_features -->\n",
       "<g id=\"edge4\" class=\"edge\">\n",
       "<title>min_max_scaler&#45;&gt;concat_features</title>\n",
       "<path fill=\"none\" stroke=\"black\" d=\"M160.22,-36.61C172.3,-40 186.53,-44 199.82,-47.74\"/>\n",
       "<polygon fill=\"black\" stroke=\"black\" points=\"199.18,-51.19 209.76,-50.53 201.08,-44.45 199.18,-51.19\"/>\n",
       "</g>\n",
       "<!-- random_forest_classifier -->\n",
       "<g id=\"node6\" class=\"node\">\n",
       "<title>random_forest_classifier</title>\n",
       "<g id=\"a_node6\"><a xlink:href=\"https://lale.readthedocs.io/en/latest/modules/lale.lib.sklearn.random_forest_classifier.html\" target=\"_blank\" rel=\"noopener noreferrer\" xlink:title=\"random_forest_classifier = RandomForestClassifier(criterion=&#39;entropy&#39;, max_depth=4, max_features=0.49033532104620375, min_samples_leaf=2, n_estimators=85)\">\n",
       "<ellipse fill=\"#b0e2ff\" stroke=\"black\" cx=\"367.05\" cy=\"-60.28\" rx=\"44.6\" ry=\"28.07\"/>\n",
       "<text text-anchor=\"middle\" x=\"367.05\" y=\"-69.48\" font-family=\"Times,serif\" font-size=\"11.00\">Random&#45;</text>\n",
       "<text text-anchor=\"middle\" x=\"367.05\" y=\"-57.48\" font-family=\"Times,serif\" font-size=\"11.00\">Forest&#45;</text>\n",
       "<text text-anchor=\"middle\" x=\"367.05\" y=\"-45.48\" font-family=\"Times,serif\" font-size=\"11.00\">Classifier</text>\n",
       "</a>\n",
       "</g>\n",
       "</g>\n",
       "<!-- concat_features&#45;&gt;random_forest_classifier -->\n",
       "<g id=\"edge5\" class=\"edge\">\n",
       "<title>concat_features&#45;&gt;random_forest_classifier</title>\n",
       "<path fill=\"none\" stroke=\"black\" d=\"M286.64,-60.28C294.74,-60.28 303.38,-60.28 311.88,-60.28\"/>\n",
       "<polygon fill=\"black\" stroke=\"black\" points=\"304.51,-63.78 314.51,-60.28 304.51,-56.78 304.51,-63.78\"/>\n",
       "</g>\n",
       "</g>\n",
       "</svg>\n"
      ],
      "text/plain": [
       "<graphviz.graphs.Digraph at 0x7f8f68d928d0>"
      ]
     },
     "metadata": {},
     "output_type": "display_data"
    }
   ],
   "source": [
    "trained_pipeline = pipeline_with_correction.auto_configure(\n",
    "    train_X, train_y, \n",
    "    optimizer=Hyperopt, \n",
    "    max_evals=10, \n",
    "    cv=5, \n",
    "    scoring='balanced_accuracy'\n",
    ")\n",
    "predictions = trained_pipeline.predict(test_X)\n",
    "trained_pipeline.visualize()"
   ]
  },
  {
   "cell_type": "code",
   "execution_count": 15,
   "metadata": {},
   "outputs": [
    {
     "name": "stdout",
     "output_type": "stream",
     "text": [
      "accuracy: 0.621\n",
      "f1-score: 0.674\n",
      "balanced accuracy: 0.671\n",
      "geometric mean: 0.661\n"
     ]
    }
   ],
   "source": [
    "classification_metrics(test_y, predictions)"
   ]
  },
  {
   "cell_type": "markdown",
   "metadata": {},
   "source": [
    "<a id=\"summary\"></a>\n",
    "## 4.7 Summary\n",
    "\n",
    "This tutorial illustrated how to use operators from [lale.lib.imblearn](https://lale.readthedocs.io/en/latest/modules/lale.lib.imblearn.html#module-lale.lib.imblearn) for class imbalance correction for manual machine learning as well as AutoML.\n",
    "The experiments show that the effect of such correction varies across different performance metrics.\n",
    "Using them seamlessly with AutoML can help find the best correction technique as well as its hyperparameters."
   ]
  }
 ],
 "metadata": {
  "kernelspec": {
   "display_name": "Python 3 (ipykernel)",
   "language": "python",
   "name": "python3"
  },
  "language_info": {
   "codemirror_mode": {
    "name": "ipython",
    "version": 3
   },
   "file_extension": ".py",
   "mimetype": "text/x-python",
   "name": "python",
   "nbconvert_exporter": "python",
   "pygments_lexer": "ipython3",
   "version": "3.9.1"
  }
 },
 "nbformat": 4,
 "nbformat_minor": 2
}
