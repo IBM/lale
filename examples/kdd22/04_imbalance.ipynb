{
 "cells": [
  {
   "cell_type": "markdown",
   "metadata": {},
   "source": [
    "### KDD 2022 Hands-on Tutorial on \"Gradual AutoML using Lale\"\n",
    "\n",
    "# 4. Handling Class Imbalance\n",
    "\n",
    "Lale has scikit-learn compatible wrappers for a subset of the operators from [imbalanced-learn](https://imbalanced-learn.org). This notebook demonstrates how to use them for a classification task.\n",
    "\n",
    "This tutorial has following sections:\n",
    "\n",
    "-   [4.1 Dataset](#dataset)\n",
    "-\t[4.2 A Classification Pipeline without Imbalance Correction](#withoutcorrection)\n",
    "-\t[4.3 Over-sampling using SMOTE](#oversampling)\n",
    "-\t[4.4 Under-sampling using CondensedNearestNeighbour](#undersampling)\n",
    "-\t[4.5 Combined over and under sampling using SMOTEENN](#combined)\n",
    "-\t[4.6 AutoML with Imbalance Correction](#automl)\n",
    "-\t[4.7 Summary](#summary)"
   ]
  },
  {
   "cell_type": "markdown",
   "metadata": {},
   "source": [
    "<a id=\"dataset\"></a>\n",
    "## 4.1 Dataset\n",
    "\n",
    "This demonstration uses the [credit-g](https://www.openml.org/d/31) dataset from OpenML."
   ]
  },
  {
   "cell_type": "code",
   "execution_count": 1,
   "metadata": {},
   "outputs": [],
   "source": [
    "import lale.datasets.openml\n",
    "import pandas as pd\n",
    "(train_X, train_y), (test_X, test_y) = lale.datasets.openml.fetch(\n",
    "    'credit-g', 'classification', preprocess=False)"
   ]
  },
  {
   "cell_type": "markdown",
   "metadata": {},
   "source": [
    "Next, let's look at the class distribution."
   ]
  },
  {
   "cell_type": "code",
   "execution_count": 2,
   "metadata": {},
   "outputs": [
    {
     "data": {
      "text/plain": [
       "<AxesSubplot:>"
      ]
     },
     "execution_count": 2,
     "metadata": {},
     "output_type": "execute_result"
    },
    {
     "data": {
      "image/png": "[encoded data removed]",
      "text/plain": [
       "<Figure size 432x288 with 1 Axes>"
      ]
     },
     "metadata": {
      "needs_background": "light"
     },
     "output_type": "display_data"
    }
   ],
   "source": [
    "train_y.hist()"
   ]
  },
  {
   "cell_type": "markdown",
   "metadata": {},
   "source": [
    "As can be seen, we have more than twice the examples with class label `good` than `bad`, making `credit-g` a good candidate for experimenting with class imbalance correction."
   ]
  },
  {
   "cell_type": "markdown",
   "metadata": {},
   "source": [
    "<a id=\"withoutcorrection\"></a>\n",
    "## 4.2 A Classification Pipeline without Imbalance Correction\n",
    "\n",
    "We first try to use a simple classification pipeline without any attempt at correcting the class imbalance.\n",
    "\n",
    "The pipeline encodes categorical columns and applies min-max scaling to the numerical columns and then uses a RandomForestClassifier for classification. The next cell assumes understanding of Lale's pipeline structure, please look at the notebook [Customizing Algorithm Choices and Hyperparameters](./03_custom.ipynb) if you are not familiar with it yet."
   ]
  },
  {
   "cell_type": "code",
   "execution_count": 3,
   "metadata": {},
   "outputs": [
    {
     "data": {
      "image/svg+xml": [
       "<?xml version=\"1.0\" encoding=\"UTF-8\" standalone=\"no\"?>\n",
       "<!DOCTYPE svg PUBLIC \"-//W3C//DTD SVG 1.1//EN\"\n",
       " \"http://www.w3.org/Graphics/SVG/1.1/DTD/svg11.dtd\">\n",
       "<!-- Generated by graphviz version 2.40.1 (20161225.0304)\n",
       " -->\n",
       "<!-- Title: cluster:(root) Pages: 1 -->\n",
       "<svg width=\"367pt\" height=\"119pt\"\n",
       " viewBox=\"0.00 0.00 367.24 119.33\" xmlns=\"http://www.w3.org/2000/svg\" xmlns:xlink=\"http://www.w3.org/1999/xlink\">\n",
       "<g id=\"graph0\" class=\"graph\" transform=\"scale(1 1) rotate(0) translate(4 115.3259)\">\n",
       "<title>cluster:(root)</title>\n",
       "<g id=\"a_graph0\"><a xlink:title=\"(root) = ...\">\n",
       "<polygon fill=\"#ffffff\" stroke=\"transparent\" points=\"-4,4 -4,-115.3259 363.2372,-115.3259 363.2372,4 -4,4\"/>\n",
       "</a>\n",
       "</g>\n",
       "<!-- project_0 -->\n",
       "<g id=\"node1\" class=\"node\">\n",
       "<title>project_0</title>\n",
       "<g id=\"a_node1\"><a xlink:href=\"https://lale.readthedocs.io/en/latest/modules/lale.lib.rasl.project.html\" target=\"_blank\" rel=\"noopener noreferrer\" xlink:title=\"project_0 = Project(columns={&#39;type&#39;: &#39;string&#39;})\">\n",
       "<ellipse fill=\"#b0e2ff\" stroke=\"#000000\" cx=\"27\" cy=\"-85.163\" rx=\"27\" ry=\"18\"/>\n",
       "<text text-anchor=\"middle\" x=\"27\" y=\"-81.863\" font-family=\"Times,serif\" font-size=\"11.00\" fill=\"#000000\">Project</text>\n",
       "</a>\n",
       "</g>\n",
       "</g>\n",
       "<!-- one_hot_encoder -->\n",
       "<g id=\"node2\" class=\"node\">\n",
       "<title>one_hot_encoder</title>\n",
       "<g id=\"a_node2\"><a xlink:href=\"https://lale.readthedocs.io/en/latest/modules/lale.lib.sklearn.one_hot_encoder.html\" target=\"_blank\" rel=\"noopener noreferrer\" xlink:title=\"one_hot_encoder = OneHotEncoder(handle_unknown=&#39;ignore&#39;)\">\n",
       "<ellipse fill=\"#b0e2ff\" stroke=\"#000000\" cx=\"121.5702\" cy=\"-85.163\" rx=\"31.6405\" ry=\"26.3269\"/>\n",
       "<text text-anchor=\"middle\" x=\"121.5702\" y=\"-92.863\" font-family=\"Times,serif\" font-size=\"11.00\" fill=\"#000000\">One&#45;</text>\n",
       "<text text-anchor=\"middle\" x=\"121.5702\" y=\"-81.863\" font-family=\"Times,serif\" font-size=\"11.00\" fill=\"#000000\">Hot&#45;</text>\n",
       "<text text-anchor=\"middle\" x=\"121.5702\" y=\"-70.863\" font-family=\"Times,serif\" font-size=\"11.00\" fill=\"#000000\">Encoder</text>\n",
       "</a>\n",
       "</g>\n",
       "</g>\n",
       "<!-- project_0&#45;&gt;one_hot_encoder -->\n",
       "<g id=\"edge1\" class=\"edge\">\n",
       "<title>project_0&#45;&gt;one_hot_encoder</title>\n",
       "<path fill=\"none\" stroke=\"#000000\" d=\"M54.1,-85.163C62.1029,-85.163 71.0555,-85.163 79.7574,-85.163\"/>\n",
       "<polygon fill=\"#000000\" stroke=\"#000000\" points=\"79.7858,-88.6631 89.7857,-85.163 79.7857,-81.6631 79.7858,-88.6631\"/>\n",
       "</g>\n",
       "<!-- concat_features -->\n",
       "<g id=\"node5\" class=\"node\">\n",
       "<title>concat_features</title>\n",
       "<g id=\"a_node5\"><a xlink:href=\"https://lale.readthedocs.io/en/latest/modules/lale.lib.rasl.concat_features.html\" target=\"_blank\" rel=\"noopener noreferrer\" xlink:title=\"concat_features = ConcatFeatures()\">\n",
       "<ellipse fill=\"#ffffff\" stroke=\"#000000\" cx=\"221.1473\" cy=\"-55.163\" rx=\"32.0139\" ry=\"18.2703\"/>\n",
       "<text text-anchor=\"middle\" x=\"221.1473\" y=\"-57.363\" font-family=\"Times,serif\" font-size=\"11.00\" fill=\"#000000\">Concat&#45;</text>\n",
       "<text text-anchor=\"middle\" x=\"221.1473\" y=\"-46.363\" font-family=\"Times,serif\" font-size=\"11.00\" fill=\"#000000\">Features</text>\n",
       "</a>\n",
       "</g>\n",
       "</g>\n",
       "<!-- one_hot_encoder&#45;&gt;concat_features -->\n",
       "<g id=\"edge3\" class=\"edge\">\n",
       "<title>one_hot_encoder&#45;&gt;concat_features</title>\n",
       "<path fill=\"none\" stroke=\"#000000\" d=\"M151.4466,-76.162C161.3448,-73.1799 172.5,-69.8191 182.9367,-66.6748\"/>\n",
       "<polygon fill=\"#000000\" stroke=\"#000000\" points=\"184.0931,-69.9819 192.6583,-63.7459 182.0738,-63.2795 184.0931,-69.9819\"/>\n",
       "</g>\n",
       "<!-- project_1 -->\n",
       "<g id=\"node3\" class=\"node\">\n",
       "<title>project_1</title>\n",
       "<g id=\"a_node3\"><a xlink:href=\"https://lale.readthedocs.io/en/latest/modules/lale.lib.rasl.project.html\" target=\"_blank\" rel=\"noopener noreferrer\" xlink:title=\"project_1 = Project(columns={&#39;type&#39;: &#39;number&#39;})\">\n",
       "<ellipse fill=\"#b0e2ff\" stroke=\"#000000\" cx=\"27\" cy=\"-26.163\" rx=\"27\" ry=\"18\"/>\n",
       "<text text-anchor=\"middle\" x=\"27\" y=\"-22.863\" font-family=\"Times,serif\" font-size=\"11.00\" fill=\"#000000\">Project</text>\n",
       "</a>\n",
       "</g>\n",
       "</g>\n",
       "<!-- min_max_scaler -->\n",
       "<g id=\"node4\" class=\"node\">\n",
       "<title>min_max_scaler</title>\n",
       "<g id=\"a_node4\"><a xlink:href=\"https://lale.readthedocs.io/en/latest/modules/lale.lib.sklearn.min_max_scaler.html\" target=\"_blank\" rel=\"noopener noreferrer\" xlink:title=\"min_max_scaler = MinMaxScaler()\">\n",
       "<ellipse fill=\"#b0e2ff\" stroke=\"#000000\" cx=\"121.5702\" cy=\"-26.163\" rx=\"27\" ry=\"26.3269\"/>\n",
       "<text text-anchor=\"middle\" x=\"121.5702\" y=\"-33.863\" font-family=\"Times,serif\" font-size=\"11.00\" fill=\"#000000\">Min&#45;</text>\n",
       "<text text-anchor=\"middle\" x=\"121.5702\" y=\"-22.863\" font-family=\"Times,serif\" font-size=\"11.00\" fill=\"#000000\">Max&#45;</text>\n",
       "<text text-anchor=\"middle\" x=\"121.5702\" y=\"-11.863\" font-family=\"Times,serif\" font-size=\"11.00\" fill=\"#000000\">Scaler</text>\n",
       "</a>\n",
       "</g>\n",
       "</g>\n",
       "<!-- project_1&#45;&gt;min_max_scaler -->\n",
       "<g id=\"edge2\" class=\"edge\">\n",
       "<title>project_1&#45;&gt;min_max_scaler</title>\n",
       "<path fill=\"none\" stroke=\"#000000\" d=\"M54.1,-26.163C63.4981,-26.163 74.2059,-26.163 84.2795,-26.163\"/>\n",
       "<polygon fill=\"#000000\" stroke=\"#000000\" points=\"84.4662,-29.663 94.4662,-26.163 84.4662,-22.663 84.4662,-29.663\"/>\n",
       "</g>\n",
       "<!-- min_max_scaler&#45;&gt;concat_features -->\n",
       "<g id=\"edge4\" class=\"edge\">\n",
       "<title>min_max_scaler&#45;&gt;concat_features</title>\n",
       "<path fill=\"none\" stroke=\"#000000\" d=\"M147.4729,-33.7067C158.2777,-36.8533 171.0493,-40.5728 182.8982,-44.0236\"/>\n",
       "<polygon fill=\"#000000\" stroke=\"#000000\" points=\"181.991,-47.4047 192.5708,-46.8406 183.9484,-40.684 181.991,-47.4047\"/>\n",
       "</g>\n",
       "<!-- random_forest_classifier -->\n",
       "<g id=\"node6\" class=\"node\">\n",
       "<title>random_forest_classifier</title>\n",
       "<g id=\"a_node6\"><a xlink:href=\"https://lale.readthedocs.io/en/latest/modules/lale.lib.sklearn.random_forest_classifier.html\" target=\"_blank\" rel=\"noopener noreferrer\" xlink:title=\"random_forest_classifier = RandomForestClassifier()\">\n",
       "<ellipse fill=\"#b0e2ff\" stroke=\"#000000\" cx=\"324.1957\" cy=\"-55.163\" rx=\"35.083\" ry=\"26.3269\"/>\n",
       "<text text-anchor=\"middle\" x=\"324.1957\" y=\"-62.863\" font-family=\"Times,serif\" font-size=\"11.00\" fill=\"#000000\">Random&#45;</text>\n",
       "<text text-anchor=\"middle\" x=\"324.1957\" y=\"-51.863\" font-family=\"Times,serif\" font-size=\"11.00\" fill=\"#000000\">Forest&#45;</text>\n",
       "<text text-anchor=\"middle\" x=\"324.1957\" y=\"-40.863\" font-family=\"Times,serif\" font-size=\"11.00\" fill=\"#000000\">Classifier</text>\n",
       "</a>\n",
       "</g>\n",
       "</g>\n",
       "<!-- concat_features&#45;&gt;random_forest_classifier -->\n",
       "<g id=\"edge5\" class=\"edge\">\n",
       "<title>concat_features&#45;&gt;random_forest_classifier</title>\n",
       "<path fill=\"none\" stroke=\"#000000\" d=\"M253.1876,-55.163C261.3409,-55.163 270.2577,-55.163 278.9339,-55.163\"/>\n",
       "<polygon fill=\"#000000\" stroke=\"#000000\" points=\"278.9485,-58.6631 288.9485,-55.163 278.9485,-51.6631 278.9485,-58.6631\"/>\n",
       "</g>\n",
       "</g>\n",
       "</svg>\n"
      ],
      "text/plain": [
       "<graphviz.graphs.Digraph at 0x14b1525e0>"
      ]
     },
     "metadata": {},
     "output_type": "display_data"
    }
   ],
   "source": [
    "from lale.lib.lale import Project, ConcatFeatures\n",
    "from lale.lib.sklearn import OneHotEncoder, MinMaxScaler, RandomForestClassifier\n",
    "\n",
    "cat_enc = Project(columns={\"type\": \"string\"}) >> OneHotEncoder(handle_unknown=\"ignore\")\n",
    "num = Project(columns={\"type\": \"number\"}) >> MinMaxScaler()\n",
    "prefix = (cat_enc & num) >> ConcatFeatures()\n",
    "\n",
    "pipeline_without_correction = prefix >> RandomForestClassifier()\n",
    "pipeline_without_correction.visualize()"
   ]
  },
  {
   "cell_type": "code",
   "execution_count": 4,
   "metadata": {},
   "outputs": [],
   "source": [
    "trained_pipeline = pipeline_without_correction.fit(train_X, train_y)\n",
    "predictions = trained_pipeline.predict(test_X)"
   ]
  },
  {
   "cell_type": "markdown",
   "metadata": {},
   "source": [
    "We evaluate the pipeline using multiple classification metrics as class imbalance can manifest in one or more of them."
   ]
  },
  {
   "cell_type": "code",
   "execution_count": 5,
   "metadata": {},
   "outputs": [
    {
     "name": "stdout",
     "output_type": "stream",
     "text": [
      "accuracy: 0.788\n",
      "f1-score: 0.859\n",
      "balanced accuracy: 0.697\n",
      "geometric mean: 0.662\n"
     ]
    }
   ],
   "source": [
    "def classification_metrics(test_y, predictions):\n",
    "    from sklearn.metrics import accuracy_score, f1_score, balanced_accuracy_score\n",
    "    from imblearn.metrics import geometric_mean_score\n",
    "\n",
    "    print(f\"accuracy: {accuracy_score(test_y, predictions):.3f}\")\n",
    "    print(f\"f1-score: {f1_score(test_y, predictions, pos_label='good'):.3f}\")\n",
    "    print(f\"balanced accuracy: {balanced_accuracy_score(test_y, predictions):.3f}\")\n",
    "    print(f\"geometric mean: {geometric_mean_score(test_y, predictions):.3f}\")\n",
    "    \n",
    "classification_metrics(test_y, predictions)"
   ]
  },
  {
   "cell_type": "markdown",
   "metadata": {},
   "source": [
    "<a id=\"oversampling\"></a>\n",
    "## 4.3 Over-sampling using SMOTE\n",
    "\n",
    "SMOTE (Synthetic Minority Over-sampling Technique) is a popular over-sampling technique to handle class imbalance. Lale has an operator [lale.lib.imblearn.SMOTE](https://lale.readthedocs.io/en/latest/modules/lale.lib.imblearn.smote.html) which wraps the SMOTE implementation from [imbalanced-learn](https://imbalanced-learn.org).\n",
    "\n",
    "Note that over-sampling changes the number of samples used for training, and it should not be applied during predict. The SMOTE Lale operator takes care of this during `fit` and `predict`. It is implemented as a *higher-order operator* which means that it allows another Lale single operator or pipeline to be passed to it as a hyperparameter operator. SMOTE will then over-sample the training data and pass it to the nested operator during `fit`. \n",
    "\n",
    "For our example, we use the preprocessing prefix that we created in the previous section and apply over-sampling to RandomForestClassifier. Some of the preprocessing such as encoding of categoricals is required before applying SMOTE as it relies on a distance metric computation that expects numeric features.\n",
    "\n",
    "Since SMOTE is a Lale operator, it can also participate in AutoML and the search space will include its hyperparameters as well as the nested operator's hyperparameters as applicable. [Section 4.6](#automl) will demonstrate this."
   ]
  },
  {
   "cell_type": "code",
   "execution_count": 6,
   "metadata": {},
   "outputs": [
    {
     "data": {
      "image/svg+xml": [
       "<?xml version=\"1.0\" encoding=\"UTF-8\" standalone=\"no\"?>\n",
       "<!DOCTYPE svg PUBLIC \"-//W3C//DTD SVG 1.1//EN\"\n",
       " \"http://www.w3.org/Graphics/SVG/1.1/DTD/svg11.dtd\">\n",
       "<!-- Generated by graphviz version 2.40.1 (20161225.0304)\n",
       " -->\n",
       "<!-- Title: cluster:(root) Pages: 1 -->\n",
       "<svg width=\"383pt\" height=\"127pt\"\n",
       " viewBox=\"0.00 0.00 383.24 127.16\" xmlns=\"http://www.w3.org/2000/svg\" xmlns:xlink=\"http://www.w3.org/1999/xlink\">\n",
       "<g id=\"graph0\" class=\"graph\" transform=\"scale(1 1) rotate(0) translate(4 123.163)\">\n",
       "<title>cluster:(root)</title>\n",
       "<g id=\"a_graph0\"><a xlink:title=\"(root) = ...\">\n",
       "<polygon fill=\"#ffffff\" stroke=\"transparent\" points=\"-4,4 -4,-123.163 379.2372,-123.163 379.2372,4 -4,4\"/>\n",
       "</a>\n",
       "</g>\n",
       "<g id=\"clust1\" class=\"cluster\">\n",
       "<title>cluster:smote</title>\n",
       "<g id=\"a_clust1\"><a xlink:href=\"https://lale.readthedocs.io/en/latest/modules/lale.lib.imblearn.smote.html\" target=\"_blank\" rel=\"noopener noreferrer\" xlink:title=\"smote = SMOTE(operator=random_forest_classifier, k_neighbors=12)\">\n",
       "<polygon fill=\"#b0e2ff\" stroke=\"#000000\" points=\"281.1542,-21.163 281.1542,-111.163 367.2372,-111.163 367.2372,-21.163 281.1542,-21.163\"/>\n",
       "<text text-anchor=\"middle\" x=\"324.1957\" y=\"-95.963\" font-family=\"Times,serif\" font-size=\"14.00\" fill=\"#000000\">SMOTE</text>\n",
       "</a>\n",
       "</g>\n",
       "</g>\n",
       "<!-- project_0 -->\n",
       "<g id=\"node1\" class=\"node\">\n",
       "<title>project_0</title>\n",
       "<g id=\"a_node1\"><a xlink:href=\"https://lale.readthedocs.io/en/latest/modules/lale.lib.rasl.project.html\" target=\"_blank\" rel=\"noopener noreferrer\" xlink:title=\"project_0 = Project(columns={&#39;type&#39;: &#39;string&#39;})\">\n",
       "<ellipse fill=\"#b0e2ff\" stroke=\"#000000\" cx=\"27\" cy=\"-85.163\" rx=\"27\" ry=\"18\"/>\n",
       "<text text-anchor=\"middle\" x=\"27\" y=\"-81.863\" font-family=\"Times,serif\" font-size=\"11.00\" fill=\"#000000\">Project</text>\n",
       "</a>\n",
       "</g>\n",
       "</g>\n",
       "<!-- one_hot_encoder -->\n",
       "<g id=\"node2\" class=\"node\">\n",
       "<title>one_hot_encoder</title>\n",
       "<g id=\"a_node2\"><a xlink:href=\"https://lale.readthedocs.io/en/latest/modules/lale.lib.sklearn.one_hot_encoder.html\" target=\"_blank\" rel=\"noopener noreferrer\" xlink:title=\"one_hot_encoder = OneHotEncoder(handle_unknown=&#39;ignore&#39;)\">\n",
       "<ellipse fill=\"#b0e2ff\" stroke=\"#000000\" cx=\"121.5702\" cy=\"-85.163\" rx=\"31.6405\" ry=\"26.3269\"/>\n",
       "<text text-anchor=\"middle\" x=\"121.5702\" y=\"-92.863\" font-family=\"Times,serif\" font-size=\"11.00\" fill=\"#000000\">One&#45;</text>\n",
       "<text text-anchor=\"middle\" x=\"121.5702\" y=\"-81.863\" font-family=\"Times,serif\" font-size=\"11.00\" fill=\"#000000\">Hot&#45;</text>\n",
       "<text text-anchor=\"middle\" x=\"121.5702\" y=\"-70.863\" font-family=\"Times,serif\" font-size=\"11.00\" fill=\"#000000\">Encoder</text>\n",
       "</a>\n",
       "</g>\n",
       "</g>\n",
       "<!-- project_0&#45;&gt;one_hot_encoder -->\n",
       "<g id=\"edge1\" class=\"edge\">\n",
       "<title>project_0&#45;&gt;one_hot_encoder</title>\n",
       "<path fill=\"none\" stroke=\"#000000\" d=\"M54.1,-85.163C62.1029,-85.163 71.0555,-85.163 79.7574,-85.163\"/>\n",
       "<polygon fill=\"#000000\" stroke=\"#000000\" points=\"79.7858,-88.6631 89.7857,-85.163 79.7857,-81.6631 79.7858,-88.6631\"/>\n",
       "</g>\n",
       "<!-- concat_features -->\n",
       "<g id=\"node5\" class=\"node\">\n",
       "<title>concat_features</title>\n",
       "<g id=\"a_node5\"><a xlink:href=\"https://lale.readthedocs.io/en/latest/modules/lale.lib.rasl.concat_features.html\" target=\"_blank\" rel=\"noopener noreferrer\" xlink:title=\"concat_features = ConcatFeatures()\">\n",
       "<ellipse fill=\"#ffffff\" stroke=\"#000000\" cx=\"221.1473\" cy=\"-55.163\" rx=\"32.0139\" ry=\"18.2703\"/>\n",
       "<text text-anchor=\"middle\" x=\"221.1473\" y=\"-57.363\" font-family=\"Times,serif\" font-size=\"11.00\" fill=\"#000000\">Concat&#45;</text>\n",
       "<text text-anchor=\"middle\" x=\"221.1473\" y=\"-46.363\" font-family=\"Times,serif\" font-size=\"11.00\" fill=\"#000000\">Features</text>\n",
       "</a>\n",
       "</g>\n",
       "</g>\n",
       "<!-- one_hot_encoder&#45;&gt;concat_features -->\n",
       "<g id=\"edge3\" class=\"edge\">\n",
       "<title>one_hot_encoder&#45;&gt;concat_features</title>\n",
       "<path fill=\"none\" stroke=\"#000000\" d=\"M151.4466,-76.162C161.3448,-73.1799 172.5,-69.8191 182.9367,-66.6748\"/>\n",
       "<polygon fill=\"#000000\" stroke=\"#000000\" points=\"184.0931,-69.9819 192.6583,-63.7459 182.0738,-63.2795 184.0931,-69.9819\"/>\n",
       "</g>\n",
       "<!-- project_1 -->\n",
       "<g id=\"node3\" class=\"node\">\n",
       "<title>project_1</title>\n",
       "<g id=\"a_node3\"><a xlink:href=\"https://lale.readthedocs.io/en/latest/modules/lale.lib.rasl.project.html\" target=\"_blank\" rel=\"noopener noreferrer\" xlink:title=\"project_1 = Project(columns={&#39;type&#39;: &#39;number&#39;})\">\n",
       "<ellipse fill=\"#b0e2ff\" stroke=\"#000000\" cx=\"27\" cy=\"-26.163\" rx=\"27\" ry=\"18\"/>\n",
       "<text text-anchor=\"middle\" x=\"27\" y=\"-22.863\" font-family=\"Times,serif\" font-size=\"11.00\" fill=\"#000000\">Project</text>\n",
       "</a>\n",
       "</g>\n",
       "</g>\n",
       "<!-- min_max_scaler -->\n",
       "<g id=\"node4\" class=\"node\">\n",
       "<title>min_max_scaler</title>\n",
       "<g id=\"a_node4\"><a xlink:href=\"https://lale.readthedocs.io/en/latest/modules/lale.lib.sklearn.min_max_scaler.html\" target=\"_blank\" rel=\"noopener noreferrer\" xlink:title=\"min_max_scaler = MinMaxScaler()\">\n",
       "<ellipse fill=\"#b0e2ff\" stroke=\"#000000\" cx=\"121.5702\" cy=\"-26.163\" rx=\"27\" ry=\"26.3269\"/>\n",
       "<text text-anchor=\"middle\" x=\"121.5702\" y=\"-33.863\" font-family=\"Times,serif\" font-size=\"11.00\" fill=\"#000000\">Min&#45;</text>\n",
       "<text text-anchor=\"middle\" x=\"121.5702\" y=\"-22.863\" font-family=\"Times,serif\" font-size=\"11.00\" fill=\"#000000\">Max&#45;</text>\n",
       "<text text-anchor=\"middle\" x=\"121.5702\" y=\"-11.863\" font-family=\"Times,serif\" font-size=\"11.00\" fill=\"#000000\">Scaler</text>\n",
       "</a>\n",
       "</g>\n",
       "</g>\n",
       "<!-- project_1&#45;&gt;min_max_scaler -->\n",
       "<g id=\"edge2\" class=\"edge\">\n",
       "<title>project_1&#45;&gt;min_max_scaler</title>\n",
       "<path fill=\"none\" stroke=\"#000000\" d=\"M54.1,-26.163C63.4981,-26.163 74.2059,-26.163 84.2795,-26.163\"/>\n",
       "<polygon fill=\"#000000\" stroke=\"#000000\" points=\"84.4662,-29.663 94.4662,-26.163 84.4662,-22.663 84.4662,-29.663\"/>\n",
       "</g>\n",
       "<!-- min_max_scaler&#45;&gt;concat_features -->\n",
       "<g id=\"edge4\" class=\"edge\">\n",
       "<title>min_max_scaler&#45;&gt;concat_features</title>\n",
       "<path fill=\"none\" stroke=\"#000000\" d=\"M147.4729,-33.7067C158.2777,-36.8533 171.0493,-40.5728 182.8982,-44.0236\"/>\n",
       "<polygon fill=\"#000000\" stroke=\"#000000\" points=\"181.991,-47.4047 192.5708,-46.8406 183.9484,-40.684 181.991,-47.4047\"/>\n",
       "</g>\n",
       "<!-- random_forest_classifier -->\n",
       "<g id=\"node6\" class=\"node\">\n",
       "<title>random_forest_classifier</title>\n",
       "<g id=\"a_node6\"><a xlink:href=\"https://lale.readthedocs.io/en/latest/modules/lale.lib.sklearn.random_forest_classifier.html\" target=\"_blank\" rel=\"noopener noreferrer\" xlink:title=\"random_forest_classifier = RandomForestClassifier()\">\n",
       "<ellipse fill=\"#b0e2ff\" stroke=\"#000000\" cx=\"324.1957\" cy=\"-55.163\" rx=\"35.083\" ry=\"26.3269\"/>\n",
       "<text text-anchor=\"middle\" x=\"324.1957\" y=\"-62.863\" font-family=\"Times,serif\" font-size=\"11.00\" fill=\"#000000\">Random&#45;</text>\n",
       "<text text-anchor=\"middle\" x=\"324.1957\" y=\"-51.863\" font-family=\"Times,serif\" font-size=\"11.00\" fill=\"#000000\">Forest&#45;</text>\n",
       "<text text-anchor=\"middle\" x=\"324.1957\" y=\"-40.863\" font-family=\"Times,serif\" font-size=\"11.00\" fill=\"#000000\">Classifier</text>\n",
       "</a>\n",
       "</g>\n",
       "</g>\n",
       "<!-- concat_features&#45;&gt;random_forest_classifier -->\n",
       "<g id=\"edge5\" class=\"edge\">\n",
       "<title>concat_features&#45;&gt;random_forest_classifier</title>\n",
       "<path fill=\"none\" stroke=\"#000000\" d=\"M253.1876,-55.163C261.3409,-55.163 270.2577,-55.163 278.9339,-55.163\"/>\n",
       "<polygon fill=\"#000000\" stroke=\"#000000\" points=\"271.1544,-58.6634 281.1542,-55.163 271.1541,-51.6634 271.1544,-58.6634\"/>\n",
       "</g>\n",
       "</g>\n",
       "</svg>\n"
      ],
      "text/plain": [
       "<graphviz.graphs.Digraph at 0x14b7a1400>"
      ]
     },
     "metadata": {},
     "output_type": "display_data"
    }
   ],
   "source": [
    "from lale.lib.imblearn import SMOTE\n",
    "\n",
    "pipeline_with_correction =  prefix >> SMOTE(operator = RandomForestClassifier(), k_neighbors=12)\n",
    "pipeline_with_correction.visualize()"
   ]
  },
  {
   "cell_type": "code",
   "execution_count": 7,
   "metadata": {},
   "outputs": [],
   "source": [
    "trained_pipeline = pipeline_with_correction.fit(train_X, train_y)\n",
    "predictions = trained_pipeline.predict(test_X)"
   ]
  },
  {
   "cell_type": "code",
   "execution_count": 8,
   "metadata": {},
   "outputs": [
    {
     "name": "stdout",
     "output_type": "stream",
     "text": [
      "accuracy: 0.764\n",
      "f1-score: 0.836\n",
      "balanced accuracy: 0.701\n",
      "geometric mean: 0.685\n"
     ]
    }
   ],
   "source": [
    "classification_metrics(test_y, predictions)"
   ]
  },
  {
   "cell_type": "markdown",
   "metadata": {},
   "source": [
    "<a id=\"undersampling\"></a>\n",
    "## 4.4 Under-sampling using CondensedNearestNeighbour\n",
    "\n",
    "One of the techniques for class imbalance correction is under-sampling. There are several methods for under-sampling. Here, we illustrate [lale.lib.imblearn.CondensedNearestNeighbour](https://lale.readthedocs.io/en/latest/modules/lale.lib.imblearn.condensed_nearest_neighbour.html). It has a usage pattern similar to `SMOTE`."
   ]
  },
  {
   "cell_type": "code",
   "execution_count": 9,
   "metadata": {},
   "outputs": [],
   "source": [
    "from lale.lib.imblearn import CondensedNearestNeighbour\n",
    "\n",
    "pipeline_with_correction =  prefix >> CondensedNearestNeighbour(operator = RandomForestClassifier())\n",
    "trained_pipeline = pipeline_with_correction.fit(train_X, train_y)\n",
    "predictions = trained_pipeline.predict(test_X)"
   ]
  },
  {
   "cell_type": "code",
   "execution_count": 10,
   "metadata": {},
   "outputs": [
    {
     "name": "stdout",
     "output_type": "stream",
     "text": [
      "accuracy: 0.691\n",
      "f1-score: 0.757\n",
      "balanced accuracy: 0.699\n",
      "geometric mean: 0.699\n"
     ]
    }
   ],
   "source": [
    "classification_metrics(test_y, predictions)"
   ]
  },
  {
   "cell_type": "markdown",
   "metadata": {},
   "source": [
    "<a id=\"combined\"></a>\n",
    "## 4.5 Combined over and under sampling using SMOTEENN\n",
    "\n",
    "Some of the imbalance correction methods combine over-sampling and under-sampling. `SMOTEENN` is one of those which performs over-sampling using `SMOTE` followed by under-sampling using Edited Nearest Neighbours (`ENN`).\n",
    "The following code sample illustrates the usage of [lale.lib.imblearn.SMOTEENN](https://lale.readthedocs.io/en/latest/modules/lale.lib.imblearn.smoteenn.html) on `credit-g` and its evaluation."
   ]
  },
  {
   "cell_type": "code",
   "execution_count": 11,
   "metadata": {},
   "outputs": [],
   "source": [
    "from lale.lib.imblearn import SMOTEENN\n",
    "\n",
    "pipeline_with_correction =  prefix >> SMOTEENN(operator = RandomForestClassifier())\n",
    "trained_pipeline = pipeline_with_correction.fit(train_X, train_y)\n",
    "predictions = trained_pipeline.predict(test_X)"
   ]
  },
  {
   "cell_type": "code",
   "execution_count": 12,
   "metadata": {},
   "outputs": [
    {
     "name": "stdout",
     "output_type": "stream",
     "text": [
      "accuracy: 0.648\n",
      "f1-score: 0.713\n",
      "balanced accuracy: 0.672\n",
      "geometric mean: 0.670\n"
     ]
    }
   ],
   "source": [
    "classification_metrics(test_y, predictions)"
   ]
  },
  {
   "cell_type": "markdown",
   "metadata": {},
   "source": [
    "<a id=\"automl\"></a>\n",
    "## 4.6 AutoML with Imbalance Correction\n",
    "\n",
    "As mentioned earlier, the operators from `lale.lib.imblearn` are `higher-order operators`. They can be used as individual operators or in a pipeline. The nested `operator` hyperparameter to those is also a Lale operator. This allows AutoML search to include the hyperparameter search space of the outer operator as well as the nested operator. The following example uses our previous examples of `SMOTE` and `SMOTEENN` for imbalance correction. For `SMOTE`, it tries a choice between `RandomForestClassifier` and `XGBClassifier`. `Hyperopt` is used as the optimizer to select between the choices and tune hyperparameters of the entire pipeline."
   ]
  },
  {
   "cell_type": "code",
   "execution_count": 13,
   "metadata": {},
   "outputs": [
    {
     "data": {
      "image/svg+xml": [
       "<?xml version=\"1.0\" encoding=\"UTF-8\" standalone=\"no\"?>\n",
       "<!DOCTYPE svg PUBLIC \"-//W3C//DTD SVG 1.1//EN\"\n",
       " \"http://www.w3.org/Graphics/SVG/1.1/DTD/svg11.dtd\">\n",
       "<!-- Generated by graphviz version 2.40.1 (20161225.0304)\n",
       " -->\n",
       "<!-- Title: cluster:(root) Pages: 1 -->\n",
       "<svg width=\"399pt\" height=\"332pt\"\n",
       " viewBox=\"0.00 0.00 399.24 332.00\" xmlns=\"http://www.w3.org/2000/svg\" xmlns:xlink=\"http://www.w3.org/1999/xlink\">\n",
       "<g id=\"graph0\" class=\"graph\" transform=\"scale(1 1) rotate(0) translate(4 328)\">\n",
       "<title>cluster:(root)</title>\n",
       "<g id=\"a_graph0\"><a xlink:title=\"(root) = ...\">\n",
       "<polygon fill=\"#ffffff\" stroke=\"transparent\" points=\"-4,4 -4,-328 395.2372,-328 395.2372,4 -4,4\"/>\n",
       "</a>\n",
       "</g>\n",
       "<g id=\"clust1\" class=\"cluster\">\n",
       "<title>cluster:choice</title>\n",
       "<g id=\"a_clust1\"><a xlink:title=\"choice = smote | smoteenn\">\n",
       "<polygon fill=\"#7ec0ee\" stroke=\"#000000\" points=\"265.1542,-8 265.1542,-316 383.2372,-316 383.2372,-8 265.1542,-8\"/>\n",
       "<text text-anchor=\"middle\" x=\"324.1957\" y=\"-300.8\" font-family=\"Times,serif\" font-size=\"14.00\" fill=\"#000000\">Choice</text>\n",
       "</a>\n",
       "</g>\n",
       "</g>\n",
       "<g id=\"clust2\" class=\"cluster\">\n",
       "<title>cluster:smote</title>\n",
       "<g id=\"a_clust2\"><a xlink:href=\"https://lale.readthedocs.io/en/latest/modules/lale.lib.imblearn.smote.html\" target=\"_blank\" rel=\"noopener noreferrer\" xlink:title=\"smote = SMOTE(operator=choice_0)\">\n",
       "<polygon fill=\"#b0e2ff\" stroke=\"#000000\" points=\"273.1542,-114 273.1542,-286 375.2372,-286 375.2372,-114 273.1542,-114\"/>\n",
       "<text text-anchor=\"middle\" x=\"324.1957\" y=\"-270.8\" font-family=\"Times,serif\" font-size=\"14.00\" fill=\"#000000\">SMOTE</text>\n",
       "</a>\n",
       "</g>\n",
       "</g>\n",
       "<g id=\"clust3\" class=\"cluster\">\n",
       "<title>cluster:choice_0</title>\n",
       "<g id=\"a_clust3\"><a xlink:href=\"https://lale.readthedocs.io/en/latest/modules/lale.lib.imblearn.smote.html\" target=\"_blank\" rel=\"noopener noreferrer\" xlink:title=\"choice_0 = random_forest_classifier | xgb_classifier\">\n",
       "<polygon fill=\"#7ec0ee\" stroke=\"#000000\" points=\"281.1542,-122 281.1542,-256 367.2372,-256 367.2372,-122 281.1542,-122\"/>\n",
       "<text text-anchor=\"middle\" x=\"324.1957\" y=\"-240.8\" font-family=\"Times,serif\" font-size=\"14.00\" fill=\"#000000\">Choice</text>\n",
       "</a>\n",
       "</g>\n",
       "</g>\n",
       "<g id=\"clust4\" class=\"cluster\">\n",
       "<title>cluster:smoteenn</title>\n",
       "<g id=\"a_clust4\"><a xlink:href=\"https://lale.readthedocs.io/en/latest/modules/lale.lib.imblearn.smoteenn.html\" target=\"_blank\" rel=\"noopener noreferrer\" xlink:title=\"smoteenn = SMOTEENN(operator=random_forest_classifier_0)\">\n",
       "<polygon fill=\"#b0e2ff\" stroke=\"#000000\" points=\"278.1542,-16 278.1542,-106 370.2372,-106 370.2372,-16 278.1542,-16\"/>\n",
       "<text text-anchor=\"middle\" x=\"324.1957\" y=\"-90.8\" font-family=\"Times,serif\" font-size=\"14.00\" fill=\"#000000\">SMOTEENN</text>\n",
       "</a>\n",
       "</g>\n",
       "</g>\n",
       "<!-- project_0 -->\n",
       "<g id=\"node1\" class=\"node\">\n",
       "<title>project_0</title>\n",
       "<g id=\"a_node1\"><a xlink:href=\"https://lale.readthedocs.io/en/latest/modules/lale.lib.rasl.project.html\" target=\"_blank\" rel=\"noopener noreferrer\" xlink:title=\"project_0 = Project(columns={&#39;type&#39;: &#39;string&#39;})\">\n",
       "<ellipse fill=\"#b0e2ff\" stroke=\"#000000\" cx=\"27\" cy=\"-230\" rx=\"27\" ry=\"18\"/>\n",
       "<text text-anchor=\"middle\" x=\"27\" y=\"-226.7\" font-family=\"Times,serif\" font-size=\"11.00\" fill=\"#000000\">Project</text>\n",
       "</a>\n",
       "</g>\n",
       "</g>\n",
       "<!-- one_hot_encoder -->\n",
       "<g id=\"node2\" class=\"node\">\n",
       "<title>one_hot_encoder</title>\n",
       "<g id=\"a_node2\"><a xlink:href=\"https://lale.readthedocs.io/en/latest/modules/lale.lib.sklearn.one_hot_encoder.html\" target=\"_blank\" rel=\"noopener noreferrer\" xlink:title=\"one_hot_encoder = OneHotEncoder(handle_unknown=&#39;ignore&#39;)\">\n",
       "<ellipse fill=\"#b0e2ff\" stroke=\"#000000\" cx=\"121.5702\" cy=\"-230\" rx=\"31.6405\" ry=\"26.3269\"/>\n",
       "<text text-anchor=\"middle\" x=\"121.5702\" y=\"-237.7\" font-family=\"Times,serif\" font-size=\"11.00\" fill=\"#000000\">One&#45;</text>\n",
       "<text text-anchor=\"middle\" x=\"121.5702\" y=\"-226.7\" font-family=\"Times,serif\" font-size=\"11.00\" fill=\"#000000\">Hot&#45;</text>\n",
       "<text text-anchor=\"middle\" x=\"121.5702\" y=\"-215.7\" font-family=\"Times,serif\" font-size=\"11.00\" fill=\"#000000\">Encoder</text>\n",
       "</a>\n",
       "</g>\n",
       "</g>\n",
       "<!-- project_0&#45;&gt;one_hot_encoder -->\n",
       "<g id=\"edge1\" class=\"edge\">\n",
       "<title>project_0&#45;&gt;one_hot_encoder</title>\n",
       "<path fill=\"none\" stroke=\"#000000\" d=\"M54.1,-230C62.1029,-230 71.0555,-230 79.7574,-230\"/>\n",
       "<polygon fill=\"#000000\" stroke=\"#000000\" points=\"79.7858,-233.5001 89.7857,-230 79.7857,-226.5001 79.7858,-233.5001\"/>\n",
       "</g>\n",
       "<!-- concat_features -->\n",
       "<g id=\"node5\" class=\"node\">\n",
       "<title>concat_features</title>\n",
       "<g id=\"a_node5\"><a xlink:href=\"https://lale.readthedocs.io/en/latest/modules/lale.lib.rasl.concat_features.html\" target=\"_blank\" rel=\"noopener noreferrer\" xlink:title=\"concat_features = ConcatFeatures()\">\n",
       "<ellipse fill=\"#ffffff\" stroke=\"#000000\" cx=\"221.1473\" cy=\"-200\" rx=\"32.0139\" ry=\"18.2703\"/>\n",
       "<text text-anchor=\"middle\" x=\"221.1473\" y=\"-202.2\" font-family=\"Times,serif\" font-size=\"11.00\" fill=\"#000000\">Concat&#45;</text>\n",
       "<text text-anchor=\"middle\" x=\"221.1473\" y=\"-191.2\" font-family=\"Times,serif\" font-size=\"11.00\" fill=\"#000000\">Features</text>\n",
       "</a>\n",
       "</g>\n",
       "</g>\n",
       "<!-- one_hot_encoder&#45;&gt;concat_features -->\n",
       "<g id=\"edge3\" class=\"edge\">\n",
       "<title>one_hot_encoder&#45;&gt;concat_features</title>\n",
       "<path fill=\"none\" stroke=\"#000000\" d=\"M151.4466,-220.999C161.3448,-218.017 172.5,-214.6562 182.9367,-211.5119\"/>\n",
       "<polygon fill=\"#000000\" stroke=\"#000000\" points=\"184.0931,-214.8189 192.6583,-208.583 182.0738,-208.1165 184.0931,-214.8189\"/>\n",
       "</g>\n",
       "<!-- project_1 -->\n",
       "<g id=\"node3\" class=\"node\">\n",
       "<title>project_1</title>\n",
       "<g id=\"a_node3\"><a xlink:href=\"https://lale.readthedocs.io/en/latest/modules/lale.lib.rasl.project.html\" target=\"_blank\" rel=\"noopener noreferrer\" xlink:title=\"project_1 = Project(columns={&#39;type&#39;: &#39;number&#39;})\">\n",
       "<ellipse fill=\"#b0e2ff\" stroke=\"#000000\" cx=\"27\" cy=\"-171\" rx=\"27\" ry=\"18\"/>\n",
       "<text text-anchor=\"middle\" x=\"27\" y=\"-167.7\" font-family=\"Times,serif\" font-size=\"11.00\" fill=\"#000000\">Project</text>\n",
       "</a>\n",
       "</g>\n",
       "</g>\n",
       "<!-- min_max_scaler -->\n",
       "<g id=\"node4\" class=\"node\">\n",
       "<title>min_max_scaler</title>\n",
       "<g id=\"a_node4\"><a xlink:href=\"https://lale.readthedocs.io/en/latest/modules/lale.lib.sklearn.min_max_scaler.html\" target=\"_blank\" rel=\"noopener noreferrer\" xlink:title=\"min_max_scaler = MinMaxScaler()\">\n",
       "<ellipse fill=\"#b0e2ff\" stroke=\"#000000\" cx=\"121.5702\" cy=\"-171\" rx=\"27\" ry=\"26.3269\"/>\n",
       "<text text-anchor=\"middle\" x=\"121.5702\" y=\"-178.7\" font-family=\"Times,serif\" font-size=\"11.00\" fill=\"#000000\">Min&#45;</text>\n",
       "<text text-anchor=\"middle\" x=\"121.5702\" y=\"-167.7\" font-family=\"Times,serif\" font-size=\"11.00\" fill=\"#000000\">Max&#45;</text>\n",
       "<text text-anchor=\"middle\" x=\"121.5702\" y=\"-156.7\" font-family=\"Times,serif\" font-size=\"11.00\" fill=\"#000000\">Scaler</text>\n",
       "</a>\n",
       "</g>\n",
       "</g>\n",
       "<!-- project_1&#45;&gt;min_max_scaler -->\n",
       "<g id=\"edge2\" class=\"edge\">\n",
       "<title>project_1&#45;&gt;min_max_scaler</title>\n",
       "<path fill=\"none\" stroke=\"#000000\" d=\"M54.1,-171C63.4981,-171 74.2059,-171 84.2795,-171\"/>\n",
       "<polygon fill=\"#000000\" stroke=\"#000000\" points=\"84.4662,-174.5001 94.4662,-171 84.4662,-167.5001 84.4662,-174.5001\"/>\n",
       "</g>\n",
       "<!-- min_max_scaler&#45;&gt;concat_features -->\n",
       "<g id=\"edge4\" class=\"edge\">\n",
       "<title>min_max_scaler&#45;&gt;concat_features</title>\n",
       "<path fill=\"none\" stroke=\"#000000\" d=\"M147.4729,-178.5437C158.2777,-181.6904 171.0493,-185.4099 182.8982,-188.8607\"/>\n",
       "<polygon fill=\"#000000\" stroke=\"#000000\" points=\"181.991,-192.2418 192.5708,-191.6776 183.9484,-185.521 181.991,-192.2418\"/>\n",
       "</g>\n",
       "<!-- random_forest_classifier -->\n",
       "<g id=\"node6\" class=\"node\">\n",
       "<title>random_forest_classifier</title>\n",
       "<g id=\"a_node6\"><a xlink:href=\"https://lale.readthedocs.io/en/latest/modules/lale.lib.sklearn.random_forest_classifier.html\" target=\"_blank\" rel=\"noopener noreferrer\" xlink:title=\"random_forest_classifier = RandomForestClassifier\">\n",
       "<ellipse fill=\"#7ec0ee\" stroke=\"#000000\" cx=\"324.1957\" cy=\"-200\" rx=\"35.083\" ry=\"26.3269\"/>\n",
       "<text text-anchor=\"middle\" x=\"324.1957\" y=\"-207.7\" font-family=\"Times,serif\" font-size=\"11.00\" fill=\"#000000\">Random&#45;</text>\n",
       "<text text-anchor=\"middle\" x=\"324.1957\" y=\"-196.7\" font-family=\"Times,serif\" font-size=\"11.00\" fill=\"#000000\">Forest&#45;</text>\n",
       "<text text-anchor=\"middle\" x=\"324.1957\" y=\"-185.7\" font-family=\"Times,serif\" font-size=\"11.00\" fill=\"#000000\">Classifier</text>\n",
       "</a>\n",
       "</g>\n",
       "</g>\n",
       "<!-- concat_features&#45;&gt;random_forest_classifier -->\n",
       "<g id=\"edge5\" class=\"edge\">\n",
       "<title>concat_features&#45;&gt;random_forest_classifier</title>\n",
       "<path fill=\"none\" stroke=\"#000000\" d=\"M253.1876,-200C253.7897,-200 254.396,-200 255.0061,-200\"/>\n",
       "<polygon fill=\"#000000\" stroke=\"#000000\" points=\"255.1544,-203.5001 265.1544,-200 255.1544,-196.5001 255.1544,-203.5001\"/>\n",
       "</g>\n",
       "<!-- xgb_classifier -->\n",
       "<g id=\"node7\" class=\"node\">\n",
       "<title>xgb_classifier</title>\n",
       "<g id=\"a_node7\"><a xlink:href=\"https://lale.readthedocs.io/en/latest/modules/lale.lib.xgboost.xgb_classifier.html\" target=\"_blank\" rel=\"noopener noreferrer\" xlink:title=\"xgb_classifier = XGBClassifier\">\n",
       "<ellipse fill=\"#7ec0ee\" stroke=\"#000000\" cx=\"324.1957\" cy=\"-148\" rx=\"35.083\" ry=\"18.2703\"/>\n",
       "<text text-anchor=\"middle\" x=\"324.1957\" y=\"-150.2\" font-family=\"Times,serif\" font-size=\"11.00\" fill=\"#000000\">XGB&#45;</text>\n",
       "<text text-anchor=\"middle\" x=\"324.1957\" y=\"-139.2\" font-family=\"Times,serif\" font-size=\"11.00\" fill=\"#000000\">Classifier</text>\n",
       "</a>\n",
       "</g>\n",
       "</g>\n",
       "<!-- random_forest_classifier_0 -->\n",
       "<g id=\"node8\" class=\"node\">\n",
       "<title>random_forest_classifier_0</title>\n",
       "<g id=\"a_node8\"><a xlink:href=\"https://lale.readthedocs.io/en/latest/modules/lale.lib.sklearn.random_forest_classifier.html\" target=\"_blank\" rel=\"noopener noreferrer\" xlink:title=\"random_forest_classifier_0 = RandomForestClassifier\">\n",
       "<ellipse fill=\"#7ec0ee\" stroke=\"#000000\" cx=\"324.1957\" cy=\"-50\" rx=\"35.083\" ry=\"26.3269\"/>\n",
       "<text text-anchor=\"middle\" x=\"324.1957\" y=\"-57.7\" font-family=\"Times,serif\" font-size=\"11.00\" fill=\"#000000\">Random&#45;</text>\n",
       "<text text-anchor=\"middle\" x=\"324.1957\" y=\"-46.7\" font-family=\"Times,serif\" font-size=\"11.00\" fill=\"#000000\">Forest&#45;</text>\n",
       "<text text-anchor=\"middle\" x=\"324.1957\" y=\"-35.7\" font-family=\"Times,serif\" font-size=\"11.00\" fill=\"#000000\">Classifier</text>\n",
       "</a>\n",
       "</g>\n",
       "</g>\n",
       "</g>\n",
       "</svg>\n"
      ],
      "text/plain": [
       "<graphviz.graphs.Digraph at 0x14bb5bdc0>"
      ]
     },
     "metadata": {},
     "output_type": "display_data"
    }
   ],
   "source": [
    "from lale.lib.lale import Hyperopt\n",
    "from lale.lib.xgboost import XGBClassifier\n",
    "\n",
    "pipeline_with_correction =  prefix >> (SMOTE(operator = RandomForestClassifier | XGBClassifier)\n",
    "                                       | SMOTEENN(operator = RandomForestClassifier))\n",
    "pipeline_with_correction.visualize()"
   ]
  },
  {
   "cell_type": "code",
   "execution_count": 14,
   "metadata": {},
   "outputs": [
    {
     "name": "stdout",
     "output_type": "stream",
     "text": [
      "100%|████████████████████████████████████████████████| 10/10 [00:13<00:00,  1.39s/trial, best loss: -0.7052999549644514]\n"
     ]
    },
    {
     "data": {
      "image/svg+xml": [
       "<?xml version=\"1.0\" encoding=\"UTF-8\" standalone=\"no\"?>\n",
       "<!DOCTYPE svg PUBLIC \"-//W3C//DTD SVG 1.1//EN\"\n",
       " \"http://www.w3.org/Graphics/SVG/1.1/DTD/svg11.dtd\">\n",
       "<!-- Generated by graphviz version 2.40.1 (20161225.0304)\n",
       " -->\n",
       "<!-- Title: cluster:(root) Pages: 1 -->\n",
       "<svg width=\"383pt\" height=\"127pt\"\n",
       " viewBox=\"0.00 0.00 383.24 127.16\" xmlns=\"http://www.w3.org/2000/svg\" xmlns:xlink=\"http://www.w3.org/1999/xlink\">\n",
       "<g id=\"graph0\" class=\"graph\" transform=\"scale(1 1) rotate(0) translate(4 123.163)\">\n",
       "<title>cluster:(root)</title>\n",
       "<g id=\"a_graph0\"><a xlink:title=\"(root) = ...\">\n",
       "<polygon fill=\"#ffffff\" stroke=\"transparent\" points=\"-4,4 -4,-123.163 379.2372,-123.163 379.2372,4 -4,4\"/>\n",
       "</a>\n",
       "</g>\n",
       "<g id=\"clust1\" class=\"cluster\">\n",
       "<title>cluster:smote</title>\n",
       "<g id=\"a_clust1\"><a xlink:href=\"https://lale.readthedocs.io/en/latest/modules/lale.lib.imblearn.smote.html\" target=\"_blank\" rel=\"noopener noreferrer\" xlink:title=\"smote = SMOTE(operator=random_forest_classifier, sampling_strategy=&#39;not majority&#39;)\">\n",
       "<polygon fill=\"#ffffff\" stroke=\"#000000\" points=\"281.1542,-21.163 281.1542,-111.163 367.2372,-111.163 367.2372,-21.163 281.1542,-21.163\"/>\n",
       "<text text-anchor=\"middle\" x=\"324.1957\" y=\"-95.963\" font-family=\"Times,serif\" font-size=\"14.00\" fill=\"#000000\">SMOTE</text>\n",
       "</a>\n",
       "</g>\n",
       "</g>\n",
       "<!-- project_0 -->\n",
       "<g id=\"node1\" class=\"node\">\n",
       "<title>project_0</title>\n",
       "<g id=\"a_node1\"><a xlink:href=\"https://lale.readthedocs.io/en/latest/modules/lale.lib.rasl.project.html\" target=\"_blank\" rel=\"noopener noreferrer\" xlink:title=\"project_0 = Project(columns={&#39;type&#39;: &#39;string&#39;})\">\n",
       "<ellipse fill=\"#ffffff\" stroke=\"#000000\" cx=\"27\" cy=\"-85.163\" rx=\"27\" ry=\"18\"/>\n",
       "<text text-anchor=\"middle\" x=\"27\" y=\"-81.863\" font-family=\"Times,serif\" font-size=\"11.00\" fill=\"#000000\">Project</text>\n",
       "</a>\n",
       "</g>\n",
       "</g>\n",
       "<!-- one_hot_encoder -->\n",
       "<g id=\"node2\" class=\"node\">\n",
       "<title>one_hot_encoder</title>\n",
       "<g id=\"a_node2\"><a xlink:href=\"https://lale.readthedocs.io/en/latest/modules/lale.lib.sklearn.one_hot_encoder.html\" target=\"_blank\" rel=\"noopener noreferrer\" xlink:title=\"one_hot_encoder = OneHotEncoder(handle_unknown=&#39;ignore&#39;)\">\n",
       "<ellipse fill=\"#ffffff\" stroke=\"#000000\" cx=\"121.5702\" cy=\"-85.163\" rx=\"31.6405\" ry=\"26.3269\"/>\n",
       "<text text-anchor=\"middle\" x=\"121.5702\" y=\"-92.863\" font-family=\"Times,serif\" font-size=\"11.00\" fill=\"#000000\">One&#45;</text>\n",
       "<text text-anchor=\"middle\" x=\"121.5702\" y=\"-81.863\" font-family=\"Times,serif\" font-size=\"11.00\" fill=\"#000000\">Hot&#45;</text>\n",
       "<text text-anchor=\"middle\" x=\"121.5702\" y=\"-70.863\" font-family=\"Times,serif\" font-size=\"11.00\" fill=\"#000000\">Encoder</text>\n",
       "</a>\n",
       "</g>\n",
       "</g>\n",
       "<!-- project_0&#45;&gt;one_hot_encoder -->\n",
       "<g id=\"edge1\" class=\"edge\">\n",
       "<title>project_0&#45;&gt;one_hot_encoder</title>\n",
       "<path fill=\"none\" stroke=\"#000000\" d=\"M54.1,-85.163C62.1029,-85.163 71.0555,-85.163 79.7574,-85.163\"/>\n",
       "<polygon fill=\"#000000\" stroke=\"#000000\" points=\"79.7858,-88.6631 89.7857,-85.163 79.7857,-81.6631 79.7858,-88.6631\"/>\n",
       "</g>\n",
       "<!-- concat_features -->\n",
       "<g id=\"node5\" class=\"node\">\n",
       "<title>concat_features</title>\n",
       "<g id=\"a_node5\"><a xlink:href=\"https://lale.readthedocs.io/en/latest/modules/lale.lib.rasl.concat_features.html\" target=\"_blank\" rel=\"noopener noreferrer\" xlink:title=\"concat_features = ConcatFeatures()\">\n",
       "<ellipse fill=\"#ffffff\" stroke=\"#000000\" cx=\"221.1473\" cy=\"-55.163\" rx=\"32.0139\" ry=\"18.2703\"/>\n",
       "<text text-anchor=\"middle\" x=\"221.1473\" y=\"-57.363\" font-family=\"Times,serif\" font-size=\"11.00\" fill=\"#000000\">Concat&#45;</text>\n",
       "<text text-anchor=\"middle\" x=\"221.1473\" y=\"-46.363\" font-family=\"Times,serif\" font-size=\"11.00\" fill=\"#000000\">Features</text>\n",
       "</a>\n",
       "</g>\n",
       "</g>\n",
       "<!-- one_hot_encoder&#45;&gt;concat_features -->\n",
       "<g id=\"edge3\" class=\"edge\">\n",
       "<title>one_hot_encoder&#45;&gt;concat_features</title>\n",
       "<path fill=\"none\" stroke=\"#000000\" d=\"M151.4466,-76.162C161.3448,-73.1799 172.5,-69.8191 182.9367,-66.6748\"/>\n",
       "<polygon fill=\"#000000\" stroke=\"#000000\" points=\"184.0931,-69.9819 192.6583,-63.7459 182.0738,-63.2795 184.0931,-69.9819\"/>\n",
       "</g>\n",
       "<!-- project_1 -->\n",
       "<g id=\"node3\" class=\"node\">\n",
       "<title>project_1</title>\n",
       "<g id=\"a_node3\"><a xlink:href=\"https://lale.readthedocs.io/en/latest/modules/lale.lib.rasl.project.html\" target=\"_blank\" rel=\"noopener noreferrer\" xlink:title=\"project_1 = Project(columns={&#39;type&#39;: &#39;number&#39;})\">\n",
       "<ellipse fill=\"#ffffff\" stroke=\"#000000\" cx=\"27\" cy=\"-26.163\" rx=\"27\" ry=\"18\"/>\n",
       "<text text-anchor=\"middle\" x=\"27\" y=\"-22.863\" font-family=\"Times,serif\" font-size=\"11.00\" fill=\"#000000\">Project</text>\n",
       "</a>\n",
       "</g>\n",
       "</g>\n",
       "<!-- min_max_scaler -->\n",
       "<g id=\"node4\" class=\"node\">\n",
       "<title>min_max_scaler</title>\n",
       "<g id=\"a_node4\"><a xlink:href=\"https://lale.readthedocs.io/en/latest/modules/lale.lib.sklearn.min_max_scaler.html\" target=\"_blank\" rel=\"noopener noreferrer\" xlink:title=\"min_max_scaler = MinMaxScaler()\">\n",
       "<ellipse fill=\"#ffffff\" stroke=\"#000000\" cx=\"121.5702\" cy=\"-26.163\" rx=\"27\" ry=\"26.3269\"/>\n",
       "<text text-anchor=\"middle\" x=\"121.5702\" y=\"-33.863\" font-family=\"Times,serif\" font-size=\"11.00\" fill=\"#000000\">Min&#45;</text>\n",
       "<text text-anchor=\"middle\" x=\"121.5702\" y=\"-22.863\" font-family=\"Times,serif\" font-size=\"11.00\" fill=\"#000000\">Max&#45;</text>\n",
       "<text text-anchor=\"middle\" x=\"121.5702\" y=\"-11.863\" font-family=\"Times,serif\" font-size=\"11.00\" fill=\"#000000\">Scaler</text>\n",
       "</a>\n",
       "</g>\n",
       "</g>\n",
       "<!-- project_1&#45;&gt;min_max_scaler -->\n",
       "<g id=\"edge2\" class=\"edge\">\n",
       "<title>project_1&#45;&gt;min_max_scaler</title>\n",
       "<path fill=\"none\" stroke=\"#000000\" d=\"M54.1,-26.163C63.4981,-26.163 74.2059,-26.163 84.2795,-26.163\"/>\n",
       "<polygon fill=\"#000000\" stroke=\"#000000\" points=\"84.4662,-29.663 94.4662,-26.163 84.4662,-22.663 84.4662,-29.663\"/>\n",
       "</g>\n",
       "<!-- min_max_scaler&#45;&gt;concat_features -->\n",
       "<g id=\"edge4\" class=\"edge\">\n",
       "<title>min_max_scaler&#45;&gt;concat_features</title>\n",
       "<path fill=\"none\" stroke=\"#000000\" d=\"M147.4729,-33.7067C158.2777,-36.8533 171.0493,-40.5728 182.8982,-44.0236\"/>\n",
       "<polygon fill=\"#000000\" stroke=\"#000000\" points=\"181.991,-47.4047 192.5708,-46.8406 183.9484,-40.684 181.991,-47.4047\"/>\n",
       "</g>\n",
       "<!-- random_forest_classifier -->\n",
       "<g id=\"node6\" class=\"node\">\n",
       "<title>random_forest_classifier</title>\n",
       "<g id=\"a_node6\"><a xlink:href=\"https://lale.readthedocs.io/en/latest/modules/lale.lib.sklearn.random_forest_classifier.html\" target=\"_blank\" rel=\"noopener noreferrer\" xlink:title=\"random_forest_classifier = RandomForestClassifier(criterion=&#39;entropy&#39;, max_depth=4, max_features=0.37885398020342526, min_samples_leaf=4, min_samples_split=0.10232839296506074, n_estimators=25)\">\n",
       "<ellipse fill=\"#b0e2ff\" stroke=\"#000000\" cx=\"324.1957\" cy=\"-55.163\" rx=\"35.083\" ry=\"26.3269\"/>\n",
       "<text text-anchor=\"middle\" x=\"324.1957\" y=\"-62.863\" font-family=\"Times,serif\" font-size=\"11.00\" fill=\"#000000\">Random&#45;</text>\n",
       "<text text-anchor=\"middle\" x=\"324.1957\" y=\"-51.863\" font-family=\"Times,serif\" font-size=\"11.00\" fill=\"#000000\">Forest&#45;</text>\n",
       "<text text-anchor=\"middle\" x=\"324.1957\" y=\"-40.863\" font-family=\"Times,serif\" font-size=\"11.00\" fill=\"#000000\">Classifier</text>\n",
       "</a>\n",
       "</g>\n",
       "</g>\n",
       "<!-- concat_features&#45;&gt;random_forest_classifier -->\n",
       "<g id=\"edge5\" class=\"edge\">\n",
       "<title>concat_features&#45;&gt;random_forest_classifier</title>\n",
       "<path fill=\"none\" stroke=\"#000000\" d=\"M253.1876,-55.163C261.3409,-55.163 270.2577,-55.163 278.9339,-55.163\"/>\n",
       "<polygon fill=\"#000000\" stroke=\"#000000\" points=\"271.1544,-58.6634 281.1542,-55.163 271.1541,-51.6634 271.1544,-58.6634\"/>\n",
       "</g>\n",
       "</g>\n",
       "</svg>\n"
      ],
      "text/plain": [
       "<graphviz.graphs.Digraph at 0x14ba4d250>"
      ]
     },
     "metadata": {},
     "output_type": "display_data"
    }
   ],
   "source": [
    "trained_pipeline = pipeline_with_correction.auto_configure(train_X, train_y, \n",
    "                                                           optimizer=Hyperopt, \n",
    "                                                           max_evals=10, \n",
    "                                                           cv=5, \n",
    "                                                           scoring='balanced_accuracy')\n",
    "predictions = trained_pipeline.predict(test_X)\n",
    "trained_pipeline.visualize()"
   ]
  },
  {
   "cell_type": "code",
   "execution_count": 15,
   "metadata": {},
   "outputs": [
    {
     "name": "stdout",
     "output_type": "stream",
     "text": [
      "accuracy: 0.682\n",
      "f1-score: 0.752\n",
      "balanced accuracy: 0.683\n",
      "geometric mean: 0.683\n"
     ]
    }
   ],
   "source": [
    "classification_metrics(test_y, predictions)"
   ]
  },
  {
   "cell_type": "markdown",
   "metadata": {},
   "source": [
    "<a id=\"summary\"></a>\n",
    "## 4.7 Summary\n",
    "\n",
    "In this tutorial, we illustrated how to use operators from [lale.lib.imblearn](https://lale.readthedocs.io/en/latest/modules/lale.lib.imblearn.html#module-lale.lib.imblearn) for class imbalance correction for manual machine learning as well as AutoML. From the experiments, it can be seen that the effect of such correction varies across different performance metrics. Using them seamlessly with AutoML can help find the best correction technique as well as its hyperparameters."
   ]
  }
 ],
 "metadata": {
  "kernelspec": {
   "display_name": "Python 3 (ipykernel)",
   "language": "python",
   "name": "python3"
  },
  "language_info": {
   "codemirror_mode": {
    "name": "ipython",
    "version": 3
   },
   "file_extension": ".py",
   "mimetype": "text/x-python",
   "name": "python",
   "nbconvert_exporter": "python",
   "pygments_lexer": "ipython3",
   "version": "3.8.2"
  }
 },
 "nbformat": 4,
 "nbformat_minor": 2
}
