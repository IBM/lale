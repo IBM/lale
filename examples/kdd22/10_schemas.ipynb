{
 "cells": [
  {
   "cell_type": "markdown",
   "metadata": {},
   "source": [
    "# Schemas and their uses\n",
    "\n",
    "Lale operators come with JSON Schemas that describe the shape of their inputs, their outputs, and their hyper-parameters.\n",
    "\n",
    "The [New Operators](08_newops.ipynb) notebook contains an introduction to writing these schemas.\n",
    "In this notebook, we explore how lale uses these schemas.\n",
    "In particular, lale uses the schemas to generate early, informative error messages, generate documentation, and generate search spaces for AutoAI."
   ]
  },
  {
   "cell_type": "markdown",
   "metadata": {},
   "source": [
    "## Validation / Error Messages\n",
    "\n",
    "Schemas are used to validate both the pipeline shape and the hyperparameters for each operator.\n",
    "\n",
    "### Pipeline shape\n",
    "\n",
    "Each operator comes with schemas that describe the operator's allowed input and output types.  In addition to simple static JSON schemas, Lale operators can also include a `transform_schema` method which can dynamically compute the output schema based on the actual shape of the input schema.\n",
    "Given these schemas, Lale can check that a pipeline is well-formed:  the output of each operator must be compatible with the input schema of the operator it is piped to.\n",
    "This is done using a _subschema_ entailment check.\n",
    "If one of the required entailments fails, an error can be raised, making it easy to find the problem.  More information about this check can be found in [the bibliograpy below](#Bibliography).\n",
    "\n",
    "As an example:"
   ]
  },
  {
   "cell_type": "code",
   "execution_count": 1,
   "metadata": {},
   "outputs": [
    {
     "ename": "ValueError",
     "evalue": "TfidfVectorizer.fit() invalid X, the schema of the actual data is not a subschema of the expected schema of the argument.\nactual_schema = {\n    \"description\": \"Features; the outer array is over samples.\",\n    \"type\": \"array\",\n    \"items\": {\"type\": \"array\", \"items\": {\"type\": \"number\"}},\n}\nexpected_schema = {\n    \"description\": \"Features; the outer array is over samples.\",\n    \"anyOf\": [\n        {\"type\": \"array\", \"items\": {\"type\": \"string\"}},\n        {\n            \"type\": \"array\",\n            \"items\": {\n                \"type\": \"array\",\n                \"minItems\": 1,\n                \"maxItems\": 1,\n                \"items\": {\"type\": \"string\"},\n            },\n        },\n    ],\n}",
     "output_type": "error",
     "traceback": [
      "\u001b[0;31m---------------------------------------------------------------------------\u001b[0m",
      "\u001b[0;31mSubschemaError\u001b[0m                            Traceback (most recent call last)",
      "\u001b[0;32m~/workspaces/lale-org/lale/lale/operators.py\u001b[0m in \u001b[0;36m_validate_input_schema\u001b[0;34m(self, arg_name, arg, method)\u001b[0m\n\u001b[1;32m   2380\u001b[0m                     \u001b[0msup\u001b[0m\u001b[0;34m:\u001b[0m \u001b[0mJSON_TYPE\u001b[0m \u001b[0;34m=\u001b[0m \u001b[0mschema\u001b[0m\u001b[0;34m[\u001b[0m\u001b[0;34m\"properties\"\u001b[0m\u001b[0;34m]\u001b[0m\u001b[0;34m[\u001b[0m\u001b[0marg_name\u001b[0m\u001b[0;34m]\u001b[0m\u001b[0;34m\u001b[0m\u001b[0;34m\u001b[0m\u001b[0m\n\u001b[0;32m-> 2381\u001b[0;31m                     \u001b[0mvalidate_schema\u001b[0m\u001b[0;34m(\u001b[0m\u001b[0marg\u001b[0m\u001b[0;34m,\u001b[0m \u001b[0msup\u001b[0m\u001b[0;34m)\u001b[0m\u001b[0;34m\u001b[0m\u001b[0;34m\u001b[0m\u001b[0m\n\u001b[0m\u001b[1;32m   2382\u001b[0m                 \u001b[0;32mexcept\u001b[0m \u001b[0mSubschemaError\u001b[0m \u001b[0;32mas\u001b[0m \u001b[0me\u001b[0m\u001b[0;34m:\u001b[0m\u001b[0;34m\u001b[0m\u001b[0;34m\u001b[0m\u001b[0m\n",
      "\u001b[0;32m~/workspaces/lale-org/lale/lale/type_checking.py\u001b[0m in \u001b[0;36mvalidate_schema\u001b[0;34m(lhs, super_schema)\u001b[0m\n\u001b[1;32m    288\u001b[0m     \u001b[0;32melse\u001b[0m\u001b[0;34m:\u001b[0m\u001b[0;34m\u001b[0m\u001b[0;34m\u001b[0m\u001b[0m\n\u001b[0;32m--> 289\u001b[0;31m         \u001b[0m_validate_subschema\u001b[0m\u001b[0;34m(\u001b[0m\u001b[0msub_schema\u001b[0m\u001b[0;34m,\u001b[0m \u001b[0msuper_schema\u001b[0m\u001b[0;34m)\u001b[0m\u001b[0;34m\u001b[0m\u001b[0;34m\u001b[0m\u001b[0m\n\u001b[0m\u001b[1;32m    290\u001b[0m \u001b[0;34m\u001b[0m\u001b[0m\n",
      "\u001b[0;32m~/workspaces/lale-org/lale/lale/type_checking.py\u001b[0m in \u001b[0;36m_validate_subschema\u001b[0;34m(sub, sup, sub_name, sup_name)\u001b[0m\n\u001b[1;32m    253\u001b[0m     \u001b[0;32mif\u001b[0m \u001b[0;32mnot\u001b[0m \u001b[0mis_subschema\u001b[0m\u001b[0;34m(\u001b[0m\u001b[0msub\u001b[0m\u001b[0;34m,\u001b[0m \u001b[0msup\u001b[0m\u001b[0;34m)\u001b[0m\u001b[0;34m:\u001b[0m\u001b[0;34m\u001b[0m\u001b[0;34m\u001b[0m\u001b[0m\n\u001b[0;32m--> 254\u001b[0;31m         \u001b[0;32mraise\u001b[0m \u001b[0mSubschemaError\u001b[0m\u001b[0;34m(\u001b[0m\u001b[0msub\u001b[0m\u001b[0;34m,\u001b[0m \u001b[0msup\u001b[0m\u001b[0;34m,\u001b[0m \u001b[0msub_name\u001b[0m\u001b[0;34m,\u001b[0m \u001b[0msup_name\u001b[0m\u001b[0;34m)\u001b[0m\u001b[0;34m\u001b[0m\u001b[0;34m\u001b[0m\u001b[0m\n\u001b[0m\u001b[1;32m    255\u001b[0m \u001b[0;34m\u001b[0m\u001b[0m\n",
      "\u001b[0;31mSubschemaError\u001b[0m: Expected sub to be a subschema of super.\nsub = {\n    \"description\": \"Features; the outer array is over samples.\",\n    \"type\": \"array\",\n    \"items\": {\"type\": \"array\", \"items\": {\"type\": \"number\"}},\n}\nsuper = {\n    \"description\": \"Features; the outer array is over samples.\",\n    \"anyOf\": [\n        {\"type\": \"array\", \"items\": {\"type\": \"string\"}},\n        {\n            \"type\": \"array\",\n            \"items\": {\n                \"type\": \"array\",\n                \"minItems\": 1,\n                \"maxItems\": 1,\n                \"items\": {\"type\": \"string\"},\n            },\n        },\n    ],\n}",
      "\nDuring handling of the above exception, another exception occurred:\n",
      "\u001b[0;31mValueError\u001b[0m                                Traceback (most recent call last)",
      "\u001b[0;32m/var/folders/g9/jw2dc8s95zvfxbrj8hy5vmzm0000gn/T/ipykernel_27786/1964950516.py\u001b[0m in \u001b[0;36m<module>\u001b[0;34m\u001b[0m\n\u001b[1;32m     18\u001b[0m \u001b[0;34m\u001b[0m\u001b[0m\n\u001b[1;32m     19\u001b[0m \u001b[0mpipeline\u001b[0m \u001b[0;34m=\u001b[0m \u001b[0mPCA\u001b[0m\u001b[0;34m(\u001b[0m\u001b[0;34m)\u001b[0m \u001b[0;34m>>\u001b[0m \u001b[0mTfidfVectorizer\u001b[0m\u001b[0;34m(\u001b[0m\u001b[0;34m)\u001b[0m\u001b[0;34m\u001b[0m\u001b[0;34m\u001b[0m\u001b[0m\n\u001b[0;32m---> 20\u001b[0;31m \u001b[0mpipeline\u001b[0m\u001b[0;34m.\u001b[0m\u001b[0mfit\u001b[0m\u001b[0;34m(\u001b[0m\u001b[0mnp\u001b[0m\u001b[0;34m.\u001b[0m\u001b[0marray\u001b[0m\u001b[0;34m(\u001b[0m\u001b[0mtrain_X\u001b[0m\u001b[0;34m)\u001b[0m\u001b[0;34m,\u001b[0m \u001b[0mnp\u001b[0m\u001b[0;34m.\u001b[0m\u001b[0marray\u001b[0m\u001b[0;34m(\u001b[0m\u001b[0mtrain_y\u001b[0m\u001b[0;34m)\u001b[0m\u001b[0;34m)\u001b[0m\u001b[0;34m\u001b[0m\u001b[0;34m\u001b[0m\u001b[0m\n\u001b[0m",
      "\u001b[0;32m~/workspaces/lale-org/lale/lale/operators.py\u001b[0m in \u001b[0;36mfit\u001b[0;34m(self, X, y, **fit_params)\u001b[0m\n\u001b[1;32m   4173\u001b[0m         \u001b[0mX\u001b[0m \u001b[0;34m=\u001b[0m \u001b[0madd_schema\u001b[0m\u001b[0;34m(\u001b[0m\u001b[0mX\u001b[0m\u001b[0;34m)\u001b[0m\u001b[0;34m\u001b[0m\u001b[0;34m\u001b[0m\u001b[0m\n\u001b[1;32m   4174\u001b[0m         \u001b[0my\u001b[0m \u001b[0;34m=\u001b[0m \u001b[0madd_schema\u001b[0m\u001b[0;34m(\u001b[0m\u001b[0my\u001b[0m\u001b[0;34m)\u001b[0m\u001b[0;34m\u001b[0m\u001b[0;34m\u001b[0m\u001b[0m\n\u001b[0;32m-> 4175\u001b[0;31m         \u001b[0mself\u001b[0m\u001b[0;34m.\u001b[0m\u001b[0mvalidate_schema\u001b[0m\u001b[0;34m(\u001b[0m\u001b[0mX\u001b[0m\u001b[0;34m,\u001b[0m \u001b[0my\u001b[0m\u001b[0;34m)\u001b[0m\u001b[0;34m\u001b[0m\u001b[0;34m\u001b[0m\u001b[0m\n\u001b[0m\u001b[1;32m   4176\u001b[0m         \u001b[0mtrained_steps\u001b[0m\u001b[0;34m:\u001b[0m \u001b[0mList\u001b[0m\u001b[0;34m[\u001b[0m\u001b[0mTrainedIndividualOp\u001b[0m\u001b[0;34m]\u001b[0m \u001b[0;34m=\u001b[0m \u001b[0;34m[\u001b[0m\u001b[0;34m]\u001b[0m\u001b[0;34m\u001b[0m\u001b[0;34m\u001b[0m\u001b[0m\n\u001b[1;32m   4177\u001b[0m         \u001b[0moutputs\u001b[0m\u001b[0;34m:\u001b[0m \u001b[0mDict\u001b[0m\u001b[0;34m[\u001b[0m\u001b[0mOperator\u001b[0m\u001b[0;34m,\u001b[0m \u001b[0mTuple\u001b[0m\u001b[0;34m[\u001b[0m\u001b[0mAny\u001b[0m\u001b[0;34m,\u001b[0m \u001b[0mAny\u001b[0m\u001b[0;34m]\u001b[0m\u001b[0;34m]\u001b[0m \u001b[0;34m=\u001b[0m \u001b[0;34m{\u001b[0m\u001b[0;34m}\u001b[0m\u001b[0;34m\u001b[0m\u001b[0;34m\u001b[0m\u001b[0m\n",
      "\u001b[0;32m~/workspaces/lale-org/lale/lale/operators.py\u001b[0m in \u001b[0;36mvalidate_schema\u001b[0;34m(self, X, y)\u001b[0m\n\u001b[1;32m   3917\u001b[0m \u001b[0;34m\u001b[0m\u001b[0m\n\u001b[1;32m   3918\u001b[0m     \u001b[0;32mdef\u001b[0m \u001b[0mvalidate_schema\u001b[0m\u001b[0;34m(\u001b[0m\u001b[0mself\u001b[0m\u001b[0;34m,\u001b[0m \u001b[0mX\u001b[0m\u001b[0;34m,\u001b[0m \u001b[0my\u001b[0m\u001b[0;34m=\u001b[0m\u001b[0;32mNone\u001b[0m\u001b[0;34m)\u001b[0m\u001b[0;34m:\u001b[0m\u001b[0;34m\u001b[0m\u001b[0;34m\u001b[0m\u001b[0m\n\u001b[0;32m-> 3919\u001b[0;31m         \u001b[0mself\u001b[0m\u001b[0;34m.\u001b[0m\u001b[0m_validate_or_transform_schema\u001b[0m\u001b[0;34m(\u001b[0m\u001b[0mX\u001b[0m\u001b[0;34m,\u001b[0m \u001b[0my\u001b[0m\u001b[0;34m,\u001b[0m \u001b[0mvalidate\u001b[0m\u001b[0;34m=\u001b[0m\u001b[0;32mTrue\u001b[0m\u001b[0;34m)\u001b[0m\u001b[0;34m\u001b[0m\u001b[0;34m\u001b[0m\u001b[0m\n\u001b[0m\u001b[1;32m   3920\u001b[0m \u001b[0;34m\u001b[0m\u001b[0m\n\u001b[1;32m   3921\u001b[0m     \u001b[0;32mdef\u001b[0m \u001b[0mtransform_schema\u001b[0m\u001b[0;34m(\u001b[0m\u001b[0mself\u001b[0m\u001b[0;34m,\u001b[0m \u001b[0ms_X\u001b[0m\u001b[0;34m)\u001b[0m\u001b[0;34m:\u001b[0m\u001b[0;34m\u001b[0m\u001b[0;34m\u001b[0m\u001b[0m\n",
      "\u001b[0;32m~/workspaces/lale-org/lale/lale/operators.py\u001b[0m in \u001b[0;36m_validate_or_transform_schema\u001b[0;34m(self, X, y, validate)\u001b[0m\n\u001b[1;32m   3903\u001b[0m                 \u001b[0minput_y\u001b[0m \u001b[0;34m=\u001b[0m \u001b[0moutputs\u001b[0m\u001b[0;34m[\u001b[0m\u001b[0mpreds\u001b[0m\u001b[0;34m[\u001b[0m\u001b[0;36m0\u001b[0m\u001b[0;34m]\u001b[0m\u001b[0;34m]\u001b[0m\u001b[0;34m[\u001b[0m\u001b[0;36m1\u001b[0m\u001b[0;34m]\u001b[0m\u001b[0;34m\u001b[0m\u001b[0;34m\u001b[0m\u001b[0m\n\u001b[1;32m   3904\u001b[0m             \u001b[0;32mif\u001b[0m \u001b[0mvalidate\u001b[0m\u001b[0;34m:\u001b[0m\u001b[0;34m\u001b[0m\u001b[0;34m\u001b[0m\u001b[0m\n\u001b[0;32m-> 3905\u001b[0;31m                 \u001b[0moperator\u001b[0m\u001b[0;34m.\u001b[0m\u001b[0mvalidate_schema\u001b[0m\u001b[0;34m(\u001b[0m\u001b[0mX\u001b[0m\u001b[0;34m=\u001b[0m\u001b[0minput_X\u001b[0m\u001b[0;34m,\u001b[0m \u001b[0my\u001b[0m\u001b[0;34m=\u001b[0m\u001b[0minput_y\u001b[0m\u001b[0;34m)\u001b[0m\u001b[0;34m\u001b[0m\u001b[0;34m\u001b[0m\u001b[0m\n\u001b[0m\u001b[1;32m   3906\u001b[0m             \u001b[0;32mif\u001b[0m \u001b[0moperator\u001b[0m\u001b[0;34m.\u001b[0m\u001b[0mhas_method\u001b[0m\u001b[0;34m(\u001b[0m\u001b[0;34m\"transform_X_y\"\u001b[0m\u001b[0;34m)\u001b[0m\u001b[0;34m:\u001b[0m\u001b[0;34m\u001b[0m\u001b[0;34m\u001b[0m\u001b[0m\n\u001b[1;32m   3907\u001b[0m                 \u001b[0moutput_Xy\u001b[0m \u001b[0;34m=\u001b[0m \u001b[0moperator\u001b[0m\u001b[0;34m.\u001b[0m\u001b[0moutput_schema_transform_X_y\u001b[0m\u001b[0;34m(\u001b[0m\u001b[0;34m)\u001b[0m\u001b[0;34m\u001b[0m\u001b[0;34m\u001b[0m\u001b[0m\n",
      "\u001b[0;32m~/workspaces/lale-org/lale/lale/operators.py\u001b[0m in \u001b[0;36mvalidate_schema\u001b[0;34m(self, X, y)\u001b[0m\n\u001b[1;32m   2339\u001b[0m     \u001b[0;32mdef\u001b[0m \u001b[0mvalidate_schema\u001b[0m\u001b[0;34m(\u001b[0m\u001b[0mself\u001b[0m\u001b[0;34m,\u001b[0m \u001b[0mX\u001b[0m\u001b[0;34m,\u001b[0m \u001b[0my\u001b[0m\u001b[0;34m=\u001b[0m\u001b[0;32mNone\u001b[0m\u001b[0;34m)\u001b[0m\u001b[0;34m:\u001b[0m\u001b[0;34m\u001b[0m\u001b[0;34m\u001b[0m\u001b[0m\n\u001b[1;32m   2340\u001b[0m         \u001b[0;32mif\u001b[0m \u001b[0mself\u001b[0m\u001b[0;34m.\u001b[0m\u001b[0mhas_method\u001b[0m\u001b[0;34m(\u001b[0m\u001b[0;34m\"fit\"\u001b[0m\u001b[0;34m)\u001b[0m\u001b[0;34m:\u001b[0m\u001b[0;34m\u001b[0m\u001b[0;34m\u001b[0m\u001b[0m\n\u001b[0;32m-> 2341\u001b[0;31m             \u001b[0mX\u001b[0m \u001b[0;34m=\u001b[0m \u001b[0mself\u001b[0m\u001b[0;34m.\u001b[0m\u001b[0m_validate_input_schema\u001b[0m\u001b[0;34m(\u001b[0m\u001b[0;34m\"X\"\u001b[0m\u001b[0;34m,\u001b[0m \u001b[0mX\u001b[0m\u001b[0;34m,\u001b[0m \u001b[0;34m\"fit\"\u001b[0m\u001b[0;34m)\u001b[0m\u001b[0;34m\u001b[0m\u001b[0;34m\u001b[0m\u001b[0m\n\u001b[0m\u001b[1;32m   2342\u001b[0m         \u001b[0mmethod\u001b[0m \u001b[0;34m=\u001b[0m \u001b[0;34m\"transform\"\u001b[0m \u001b[0;32mif\u001b[0m \u001b[0mself\u001b[0m\u001b[0;34m.\u001b[0m\u001b[0mis_transformer\u001b[0m\u001b[0;34m(\u001b[0m\u001b[0;34m)\u001b[0m \u001b[0;32melse\u001b[0m \u001b[0;34m\"predict\"\u001b[0m\u001b[0;34m\u001b[0m\u001b[0;34m\u001b[0m\u001b[0m\n\u001b[1;32m   2343\u001b[0m         \u001b[0mself\u001b[0m\u001b[0;34m.\u001b[0m\u001b[0m_validate_input_schema\u001b[0m\u001b[0;34m(\u001b[0m\u001b[0;34m\"X\"\u001b[0m\u001b[0;34m,\u001b[0m \u001b[0mX\u001b[0m\u001b[0;34m,\u001b[0m \u001b[0mmethod\u001b[0m\u001b[0;34m)\u001b[0m\u001b[0;34m\u001b[0m\u001b[0;34m\u001b[0m\u001b[0m\n",
      "\u001b[0;32m~/workspaces/lale-org/lale/lale/operators.py\u001b[0m in \u001b[0;36m_validate_input_schema\u001b[0;34m(self, arg_name, arg, method)\u001b[0m\n\u001b[1;32m   2383\u001b[0m                     \u001b[0msub_str\u001b[0m\u001b[0;34m:\u001b[0m \u001b[0mstr\u001b[0m \u001b[0;34m=\u001b[0m \u001b[0mlale\u001b[0m\u001b[0;34m.\u001b[0m\u001b[0mpretty_print\u001b[0m\u001b[0;34m.\u001b[0m\u001b[0mjson_to_string\u001b[0m\u001b[0;34m(\u001b[0m\u001b[0me\u001b[0m\u001b[0;34m.\u001b[0m\u001b[0msub\u001b[0m\u001b[0;34m)\u001b[0m\u001b[0;34m\u001b[0m\u001b[0;34m\u001b[0m\u001b[0m\n\u001b[1;32m   2384\u001b[0m                     \u001b[0msup_str\u001b[0m\u001b[0;34m:\u001b[0m \u001b[0mstr\u001b[0m \u001b[0;34m=\u001b[0m \u001b[0mlale\u001b[0m\u001b[0;34m.\u001b[0m\u001b[0mpretty_print\u001b[0m\u001b[0;34m.\u001b[0m\u001b[0mjson_to_string\u001b[0m\u001b[0;34m(\u001b[0m\u001b[0me\u001b[0m\u001b[0;34m.\u001b[0m\u001b[0msup\u001b[0m\u001b[0;34m)\u001b[0m\u001b[0;34m\u001b[0m\u001b[0;34m\u001b[0m\u001b[0m\n\u001b[0;32m-> 2385\u001b[0;31m                     raise ValueError(\n\u001b[0m\u001b[1;32m   2386\u001b[0m                         \u001b[0;34mf\"{self.name()}.{method}() invalid {arg_name}, the schema of the actual data is not a subschema of the expected schema of the argument.\\nactual_schema = {sub_str}\\nexpected_schema = {sup_str}\"\u001b[0m\u001b[0;34m\u001b[0m\u001b[0;34m\u001b[0m\u001b[0m\n\u001b[1;32m   2387\u001b[0m                     )\n",
      "\u001b[0;31mValueError\u001b[0m: TfidfVectorizer.fit() invalid X, the schema of the actual data is not a subschema of the expected schema of the argument.\nactual_schema = {\n    \"description\": \"Features; the outer array is over samples.\",\n    \"type\": \"array\",\n    \"items\": {\"type\": \"array\", \"items\": {\"type\": \"number\"}},\n}\nexpected_schema = {\n    \"description\": \"Features; the outer array is over samples.\",\n    \"anyOf\": [\n        {\"type\": \"array\", \"items\": {\"type\": \"string\"}},\n        {\n            \"type\": \"array\",\n            \"items\": {\n                \"type\": \"array\",\n                \"minItems\": 1,\n                \"maxItems\": 1,\n                \"items\": {\"type\": \"string\"},\n            },\n        },\n    ],\n}"
     ]
    }
   ],
   "source": [
    "from lale.lib.sklearn import PCA\n",
    "from lale.lib.sklearn import TfidfVectorizer\n",
    "from lale.settings import set_disable_data_schema_validation, set_disable_hyperparams_schema_validation\n",
    "import lale.datasets.openml\n",
    "import pandas as pd\n",
    "import numpy as np\n",
    "\n",
    "# enable schema validation explicitly for the notebook, in case it was disabled for performance\n",
    "set_disable_data_schema_validation(False)\n",
    "set_disable_hyperparams_schema_validation(False)\n",
    "\n",
    "# Load sample data\n",
    "(train_X, train_y), (test_X, test_y) = lale.datasets.openml.fetch(\n",
    "    'credit-g', 'classification', preprocess=True)\n",
    "\n",
    "# create a pipeline that tries to extract TF-IDF vector information from strings,\n",
    "# but erroneously applies it to the result of principal component analysis (which returns numbers)\n",
    "\n",
    "pipeline = PCA() >> TfidfVectorizer()\n",
    "pipeline.fit(np.array(train_X), np.array(train_y))"
   ]
  },
  {
   "cell_type": "markdown",
   "metadata": {},
   "source": [
    "### Hyperparameters\n",
    "\n",
    "Schemas are also used to describe the hyperparameters for an individual operator, as well as their allowed values.\n",
    "These schemas are typically more complex than input/output schemas, and are heavily used in lale.\n",
    "The input schema can also include data dependencies (the schema can refer to the shape of the actual shape of the data at runtime).  \n",
    "\n",
    "These schemas are used to validate that an operator is initialized with proper values.\n",
    "When an operator is configured, the specified paramater value are checked against the schema.\n",
    "Note that lale hyperparameter schemas typically include side-constraints, enabling the verification to validate that the entire parameter set is valid, not just the individual values.\n",
    "\n",
    "Additionally, if the configuration is invalid, we can use the schema to automatically generate suggested fixes: alternative, similar, configurations that are valid.\n",
    "\n",
    "For example:"
   ]
  },
  {
   "cell_type": "code",
   "execution_count": null,
   "metadata": {},
   "outputs": [],
   "source": [
    "from lale.lib.sklearn import RandomForestClassifier\n",
    "rfc = RandomForestClassifier(bootstrap=False, oob_score=True)"
   ]
  },
  {
   "cell_type": "markdown",
   "metadata": {},
   "source": [
    "## Automatically generating documentation\n",
    "\n",
    "In addition to using schemas to quickly find problems, schemas are used to automatically generate documentation suitable for sphinx (and for hosting, for example, on [Read The Docs](https://lale.readthedocs.io/))\n",
    "\n",
    "After an operator is created, by calling `make_operator` (and/or `customize_schema`), lale practice is to call\n",
    "`lale.docstrings.set_docstrings` on the variable the resulting operator is stored in.\n",
    "\n",
    "For example:\n",
    "```\n",
    "AwesomeOp = lale.operators.make_operator(\n",
    "    _AwesomeOpImpl, _combined_schemas_for_awesome_op))\n",
    "\n",
    "\n",
    "lale.docstrings.set_docstrings(AwesomeOp)\n",
    "\n",
    "```\n",
    "\n",
    "This function, when run by sphinx (during documentation generation), changes the name (`AwesomeOp` in this example), to instead refer to a dynamically created class with documentation for the `AwesomeOp` operator.\n",
    "This class is created by a compilation process, where the schemas are analyzed, and methods are created as appropriate.  For example, a fake `__init__` method is created, with arguments corresponding to all of the parameters described in the hyperparameter schema, with appropriate descriptions/types.\n",
    "\n",
    "Similarly, if a `fit` method is available, the fit input schema is translated into appropriate documentation for the dynamically created `fit` method, and so on for the other operators.\n",
    "\n",
    "Note that these methods have stubs for their implementations; they exist simply to enable sphinx to generate appropriate documentation for them.  When not running under sphinx, the call to `lale.docstrings.set_docstrings` has no effect.\n",
    "\n",
    "As an example, the automatically generated documentation for [PCA](https://lale.readthedocs.io/en/latest/modules/lale.lib.sklearn.pca.html) includes: \n",
    "\n",
    "![Read The Docs PCA snapshot](readthedocs_pca.png)\n",
    "\n",
    "Note how the constructor arguments for the generated documented PCA class reflect the schema's hyperparameters, along with defaults if specified.  The description of the parameters is compiled from the schema.  In the example shown, `n_components` is seen to allow four different types of values, each of which is clearly explained.  It also cross-references to the multi-parameter constraints which mention `n_components`, and which are included further down in the documentation.\n",
    "\n",
    "Similarly, fit and predict methods are documented, along with compiled information about the shape of their input and output, and any fit parameters (additional arguments that the operator supports passing to the `fit` method).\n",
    "The `description` strings in the schemas are leveraged throughout to provide useful descriptions to the user.\n",
    "\n",
    "Automatically generating information in this fashion ensures that the documentation and the code stay synchronized, and that we are validating exactly what is specified in the documentation."
   ]
  },
  {
   "cell_type": "markdown",
   "metadata": {},
   "source": [
    "## AutoAI: generating search spaces\n",
    "\n",
    "The most sophisticated use Lale makes of schemas is to automatically generate search spaces from the hyperparameter schemas of the operators in a pipeline.  This enables `AutoAI`, automatically optimizing the (unconfigured) hyperparameters of the operators in a pipeline.  It also supports selecting from different choices encoded in the pipeline using the Lale choice combinator (`|`).\n",
    "\n",
    "This is done via a complex compilation process.  Each operator schema is turned into a simplified representation, that is easier to communicate to search space optimizers.  Explicitly configured parameter values are taken into account.\n",
    "\n",
    "This simplified form for each operator is combined into a bigger search space specification that encodes the shape of the pipeline (and the choices it may embed).\n",
    "\n",
    "This representation is then compiled into the form required by the specified backend (such as hyperopt, smac, or grid search).  For example, for scikit-learn's GridSearchCV, a list of grids is produced (with a discretized representation of the encoded search space).  After the specified hyper-parameter optimizer is run, a trained pipeline with hyper-parameters set (and algorithmic choices made) is returned.  More details are available in our papers.\n"
   ]
  },
  {
   "cell_type": "markdown",
   "metadata": {},
   "source": [
    "# Bibliography\n",
    "\n",
    "The following paper has more information about subschema entailment checks:\n",
    "```bibtex\n",
    "@inproceedings{10.1145/3460319.3464796,\n",
    "author = {Habib, Andrew and Shinnar, Avraham and Hirzel, Martin and Pradel, Michael},\n",
    "title = {Finding Data Compatibility Bugs with JSON Subschema Checking},\n",
    "year = {2021},\n",
    "isbn = {9781450384599},\n",
    "publisher = {Association for Computing Machinery},\n",
    "address = {New York, NY, USA},\n",
    "url = {https://doi.org/10.1145/3460319.3464796},\n",
    "doi = {10.1145/3460319.3464796},\n",
    "booktitle = {Proceedings of the 30th ACM SIGSOFT International Symposium on Software Testing and Analysis},\n",
    "pages = {620–632},\n",
    "numpages = {13},\n",
    "keywords = {data compatibility bugs, subschema checking, JSON schema},\n",
    "location = {Virtual, Denmark},\n",
    "series = {ISSTA 2021}\n",
    "}\n",
    "```\n",
    "\n",
    "The following paper has more information about how Lale generated search spaces:\n",
    "\n",
    "```bibtex\n",
    "@InProceedings{baudart_et_al_2021,\n",
    "  title = \"Pipeline Combinators for Gradual {AutoML}\",\n",
    "  author = \"Baudart, Guillaume and Hirzel, Martin and Kate, Kiran and Ram, Parikshit and Shinnar, Avraham and Tsay, Jason\",\n",
    "  booktitle = \"Advances in Neural Information Processing Systems (NeurIPS)\",\n",
    "  year = 2021,\n",
    "  url = \"https://proceedings.neurips.cc/paper/2021/file/a3b36cb25e2e0b93b5f334ffb4e4064e-Paper.pdf\" }\n",
    "```"
   ]
  },
  {
   "cell_type": "code",
   "execution_count": null,
   "metadata": {},
   "outputs": [],
   "source": []
  }
 ],
 "metadata": {
  "kernelspec": {
   "display_name": "Python 3 (ipykernel)",
   "language": "python",
   "name": "python3"
  },
  "language_info": {
   "codemirror_mode": {
    "name": "ipython",
    "version": 3
   },
   "file_extension": ".py",
   "mimetype": "text/x-python",
   "name": "python",
   "nbconvert_exporter": "python",
   "pygments_lexer": "ipython3",
   "version": "3.8.9"
  }
 },
 "nbformat": 4,
 "nbformat_minor": 4
}
