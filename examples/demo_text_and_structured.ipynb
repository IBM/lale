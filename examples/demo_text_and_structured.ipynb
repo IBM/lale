{
 "cells": [
  {
   "cell_type": "code",
   "execution_count": 1,
   "metadata": {},
   "outputs": [
    {
     "name": "stdout",
     "output_type": "stream",
     "text": [
      "shapes: train_X (16129, 5), test_X (53766, 5)\n"
     ]
    },
    {
     "name": "stderr",
     "output_type": "stream",
     "text": [
      "/home/hirzel/python3.6venv/lib/python3.6/site-packages/sklearn/model_selection/_split.py:2179: FutureWarning: From version 0.21, test_size will always complement train_size unless both are specified.\n",
      "  FutureWarning)\n"
     ]
    },
    {
     "data": {
      "text/html": [
       "<div>\n",
       "<style scoped>\n",
       "    .dataframe tbody tr th:only-of-type {\n",
       "        vertical-align: middle;\n",
       "    }\n",
       "\n",
       "    .dataframe tbody tr th {\n",
       "        vertical-align: top;\n",
       "    }\n",
       "\n",
       "    .dataframe thead th {\n",
       "        text-align: right;\n",
       "    }\n",
       "</style>\n",
       "<table border=\"1\" class=\"dataframe\">\n",
       "  <thead>\n",
       "    <tr style=\"text-align: right;\">\n",
       "      <th></th>\n",
       "      <th>drugName</th>\n",
       "      <th>condition</th>\n",
       "      <th>review</th>\n",
       "      <th>date</th>\n",
       "      <th>usefulCount</th>\n",
       "    </tr>\n",
       "  </thead>\n",
       "  <tbody>\n",
       "    <tr>\n",
       "      <th>10015</th>\n",
       "      <td>Ethinyl estradiol / etonogestrel</td>\n",
       "      <td>Birth Control</td>\n",
       "      <td>\"I was 18 when I used this. The only problem I...</td>\n",
       "      <td>March 6, 2013</td>\n",
       "      <td>18</td>\n",
       "    </tr>\n",
       "    <tr>\n",
       "      <th>60369</th>\n",
       "      <td>Etonogestrel</td>\n",
       "      <td>Birth Control</td>\n",
       "      <td>\"I got the Nexplanon implant back in July 2016...</td>\n",
       "      <td>October 20, 2016</td>\n",
       "      <td>4</td>\n",
       "    </tr>\n",
       "    <tr>\n",
       "      <th>35706</th>\n",
       "      <td>Ethinyl estradiol / norgestimate</td>\n",
       "      <td>NaN</td>\n",
       "      <td>\"I have been on this birth control for a few y...</td>\n",
       "      <td>May 22, 2016</td>\n",
       "      <td>1</td>\n",
       "    </tr>\n",
       "    <tr>\n",
       "      <th>25223</th>\n",
       "      <td>Hylan g-f 20</td>\n",
       "      <td>Osteoarthritis</td>\n",
       "      <td>\"I had a knee injury over 10 years ago and was...</td>\n",
       "      <td>July 3, 2012</td>\n",
       "      <td>95</td>\n",
       "    </tr>\n",
       "    <tr>\n",
       "      <th>144741</th>\n",
       "      <td>Naloxegol</td>\n",
       "      <td>Constipation, Drug Induced</td>\n",
       "      <td>\"Please, please read this before trying any pr...</td>\n",
       "      <td>February 26, 2017</td>\n",
       "      <td>70</td>\n",
       "    </tr>\n",
       "  </tbody>\n",
       "</table>\n",
       "</div>"
      ],
      "text/plain": [
       "                                drugName                   condition  \\\n",
       "10015   Ethinyl estradiol / etonogestrel               Birth Control   \n",
       "60369                       Etonogestrel               Birth Control   \n",
       "35706   Ethinyl estradiol / norgestimate                         NaN   \n",
       "25223                       Hylan g-f 20              Osteoarthritis   \n",
       "144741                         Naloxegol  Constipation, Drug Induced   \n",
       "\n",
       "                                                   review               date  \\\n",
       "10015   \"I was 18 when I used this. The only problem I...      March 6, 2013   \n",
       "60369   \"I got the Nexplanon implant back in July 2016...   October 20, 2016   \n",
       "35706   \"I have been on this birth control for a few y...       May 22, 2016   \n",
       "25223   \"I had a knee injury over 10 years ago and was...       July 3, 2012   \n",
       "144741  \"Please, please read this before trying any pr...  February 26, 2017   \n",
       "\n",
       "        usefulCount  \n",
       "10015            18  \n",
       "60369             4  \n",
       "35706             1  \n",
       "25223            95  \n",
       "144741           70  "
      ]
     },
     "execution_count": 1,
     "metadata": {},
     "output_type": "execute_result"
    }
   ],
   "source": [
    "from lale.datasets.uci.uci_datasets import fetch_drugscom\n",
    "from sklearn.model_selection import train_test_split\n",
    "train_X_all, train_y_all, test_X, test_y = fetch_drugscom()\n",
    "#subset to reduce overfitting and speed up experimentation\n",
    "train_X, train_X_ignore, train_y, train_y_ignore = train_test_split(\n",
    "    train_X_all, train_y_all, train_size=0.1, random_state=42)\n",
    "print(f'shapes: train_X {train_X.shape}, test_X {test_X.shape}')\n",
    "train_X.head()"
   ]
  },
  {
   "cell_type": "code",
   "execution_count": 2,
   "metadata": {},
   "outputs": [],
   "source": [
    "from lale.lib.lale import Project\n",
    "from lale.lib.sklearn import TfidfVectorizer\n",
    "from lale.lib.sklearn import LinearRegression\n",
    "trainable = Project(columns=['review']) \\\n",
    "    >> TfidfVectorizer(max_features=100) \\\n",
    "    >> LinearRegression()\n",
    "trained = trainable.fit(train_X, train_y)"
   ]
  },
  {
   "cell_type": "code",
   "execution_count": 3,
   "metadata": {},
   "outputs": [
    {
     "name": "stdout",
     "output_type": "stream",
     "text": [
      "comparisons [10:8.5, 8:9.3, 9:6.5, 9:7.9, 9:6.1, 4:7.5, 6:6.0, 9:7.7, 7:7.2, 2:6.0]\n",
      "rmse 3.04\n"
     ]
    }
   ],
   "source": [
    "import math\n",
    "from sklearn.metrics import mean_squared_error\n",
    "predicted = trained.predict(test_X)\n",
    "comparisons = [f'{int(test_y[i])}:{predicted[i]:.1f}' for i in range(10)]\n",
    "print(f'comparisons [{\", \".join(comparisons)}]')\n",
    "rmse = math.sqrt(mean_squared_error(predicted, test_y))\n",
    "print(f'rmse {rmse:.2f}')"
   ]
  }
 ],
 "metadata": {
  "kernelspec": {
   "display_name": "Python 3",
   "language": "python",
   "name": "python3"
  },
  "language_info": {
   "codemirror_mode": {
    "name": "ipython",
    "version": 3
   },
   "file_extension": ".py",
   "mimetype": "text/x-python",
   "name": "python",
   "nbconvert_exporter": "python",
   "pygments_lexer": "ipython3",
   "version": "3.6.5"
  }
 },
 "nbformat": 4,
 "nbformat_minor": 2
}
