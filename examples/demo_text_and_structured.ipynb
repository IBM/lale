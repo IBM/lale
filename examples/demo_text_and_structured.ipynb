{
 "cells": [
  {
   "cell_type": "code",
   "execution_count": 1,
   "metadata": {},
   "outputs": [
    {
     "name": "stdout",
     "output_type": "stream",
     "text": [
      "shapes: train_X (16129, 5), test_X (53766, 5)\n"
     ]
    },
    {
     "name": "stderr",
     "output_type": "stream",
     "text": [
      "/home/hirzel/python3.6venv/lib/python3.6/site-packages/sklearn/model_selection/_split.py:2179: FutureWarning: From version 0.21, test_size will always complement train_size unless both are specified.\n",
      "  FutureWarning)\n"
     ]
    },
    {
     "data": {
      "text/html": [
       "<div>\n",
       "<style scoped>\n",
       "    .dataframe tbody tr th:only-of-type {\n",
       "        vertical-align: middle;\n",
       "    }\n",
       "\n",
       "    .dataframe tbody tr th {\n",
       "        vertical-align: top;\n",
       "    }\n",
       "\n",
       "    .dataframe thead th {\n",
       "        text-align: right;\n",
       "    }\n",
       "</style>\n",
       "<table border=\"1\" class=\"dataframe\">\n",
       "  <thead>\n",
       "    <tr style=\"text-align: right;\">\n",
       "      <th></th>\n",
       "      <th>drugName</th>\n",
       "      <th>condition</th>\n",
       "      <th>review</th>\n",
       "      <th>date</th>\n",
       "      <th>usefulCount</th>\n",
       "    </tr>\n",
       "  </thead>\n",
       "  <tbody>\n",
       "    <tr>\n",
       "      <th>10015</th>\n",
       "      <td>Ethinyl estradiol / etonogestrel</td>\n",
       "      <td>Birth Control</td>\n",
       "      <td>\"I was 18 when I used this. The only problem I...</td>\n",
       "      <td>March 6, 2013</td>\n",
       "      <td>18</td>\n",
       "    </tr>\n",
       "    <tr>\n",
       "      <th>60369</th>\n",
       "      <td>Etonogestrel</td>\n",
       "      <td>Birth Control</td>\n",
       "      <td>\"I got the Nexplanon implant back in July 2016...</td>\n",
       "      <td>October 20, 2016</td>\n",
       "      <td>4</td>\n",
       "    </tr>\n",
       "    <tr>\n",
       "      <th>35706</th>\n",
       "      <td>Ethinyl estradiol / norgestimate</td>\n",
       "      <td>NaN</td>\n",
       "      <td>\"I have been on this birth control for a few y...</td>\n",
       "      <td>May 22, 2016</td>\n",
       "      <td>1</td>\n",
       "    </tr>\n",
       "    <tr>\n",
       "      <th>25223</th>\n",
       "      <td>Hylan g-f 20</td>\n",
       "      <td>Osteoarthritis</td>\n",
       "      <td>\"I had a knee injury over 10 years ago and was...</td>\n",
       "      <td>July 3, 2012</td>\n",
       "      <td>95</td>\n",
       "    </tr>\n",
       "    <tr>\n",
       "      <th>144741</th>\n",
       "      <td>Naloxegol</td>\n",
       "      <td>Constipation, Drug Induced</td>\n",
       "      <td>\"Please, please read this before trying any pr...</td>\n",
       "      <td>February 26, 2017</td>\n",
       "      <td>70</td>\n",
       "    </tr>\n",
       "  </tbody>\n",
       "</table>\n",
       "</div>"
      ],
      "text/plain": [
       "                                drugName                   condition  \\\n",
       "10015   Ethinyl estradiol / etonogestrel               Birth Control   \n",
       "60369                       Etonogestrel               Birth Control   \n",
       "35706   Ethinyl estradiol / norgestimate                         NaN   \n",
       "25223                       Hylan g-f 20              Osteoarthritis   \n",
       "144741                         Naloxegol  Constipation, Drug Induced   \n",
       "\n",
       "                                                   review               date  \\\n",
       "10015   \"I was 18 when I used this. The only problem I...      March 6, 2013   \n",
       "60369   \"I got the Nexplanon implant back in July 2016...   October 20, 2016   \n",
       "35706   \"I have been on this birth control for a few y...       May 22, 2016   \n",
       "25223   \"I had a knee injury over 10 years ago and was...       July 3, 2012   \n",
       "144741  \"Please, please read this before trying any pr...  February 26, 2017   \n",
       "\n",
       "        usefulCount  \n",
       "10015            18  \n",
       "60369             4  \n",
       "35706             1  \n",
       "25223            95  \n",
       "144741           70  "
      ]
     },
     "execution_count": 1,
     "metadata": {},
     "output_type": "execute_result"
    }
   ],
   "source": [
    "from lale.datasets.uci.uci_datasets import fetch_drugscom\n",
    "from sklearn.model_selection import train_test_split\n",
    "train_X_all, train_y_all, test_X, test_y = fetch_drugscom()\n",
    "#subset to reduce overfitting and speed up experimentation\n",
    "train_X, train_X_ignore, train_y, train_y_ignore = train_test_split(\n",
    "    train_X_all, train_y_all, train_size=0.1, random_state=42)\n",
    "print(f'shapes: train_X {train_X.shape}, test_X {test_X.shape}')\n",
    "train_X.head()"
   ]
  },
  {
   "cell_type": "code",
   "execution_count": 2,
   "metadata": {},
   "outputs": [
    {
     "data": {
      "image/svg+xml": [
       "<?xml version=\"1.0\" encoding=\"UTF-8\" standalone=\"no\"?>\n",
       "<!DOCTYPE svg PUBLIC \"-//W3C//DTD SVG 1.1//EN\"\n",
       " \"http://www.w3.org/Graphics/SVG/1.1/DTD/svg11.dtd\">\n",
       "<!-- Generated by graphviz version 2.38.0 (20140413.2041)\n",
       " -->\n",
       "<!-- Title: %3 Pages: 1 -->\n",
       "<svg width=\"387pt\" height=\"98pt\"\n",
       " viewBox=\"0.00 0.00 387.08 98.00\" xmlns=\"http://www.w3.org/2000/svg\" xmlns:xlink=\"http://www.w3.org/1999/xlink\">\n",
       "<g id=\"graph0\" class=\"graph\" transform=\"scale(1 1) rotate(0) translate(4 94)\">\n",
       "<title>%3</title>\n",
       "<polygon fill=\"white\" stroke=\"none\" points=\"-4,4 -4,-94 383.081,-94 383.081,4 -4,4\"/>\n",
       "<!-- 0 -->\n",
       "<g id=\"node1\" class=\"node\"><title>0</title>\n",
       "<g id=\"a_node1\"><a xlink:href=\"https://github.ibm.com/aimodels/lale\" xlink:title=\"Project(columns=[&#39;review&#39;])\">\n",
       "<ellipse fill=\"#b0e2ff\" stroke=\"black\" cx=\"35.7468\" cy=\"-72\" rx=\"35.9954\" ry=\"18\"/>\n",
       "<text text-anchor=\"middle\" x=\"35.7468\" y=\"-68.3\" font-family=\"Times,serif\" font-size=\"14.00\">Project</text>\n",
       "</a>\n",
       "</g>\n",
       "</g>\n",
       "<!-- 1 -->\n",
       "<g id=\"node2\" class=\"node\"><title>1</title>\n",
       "<g id=\"a_node2\"><a xlink:href=\"https://scikit-learn.org/stable/modules/generated/sklearn.feature_extraction.text.TfidfVectorizer.html\" xlink:title=\"Tfidf(max_features=100)\">\n",
       "<ellipse fill=\"#b0e2ff\" stroke=\"black\" cx=\"143.24\" cy=\"-72\" rx=\"28.6953\" ry=\"18\"/>\n",
       "<text text-anchor=\"middle\" x=\"143.24\" y=\"-68.3\" font-family=\"Times,serif\" font-size=\"14.00\">Tfidf</text>\n",
       "</a>\n",
       "</g>\n",
       "</g>\n",
       "<!-- 0&#45;&gt;1 -->\n",
       "<g id=\"edge1\" class=\"edge\"><title>0&#45;&gt;1</title>\n",
       "<path fill=\"none\" stroke=\"black\" d=\"M71.5818,-72C82.0245,-72 93.53,-72 104.17,-72\"/>\n",
       "<polygon fill=\"black\" stroke=\"black\" points=\"104.45,-75.5001 114.45,-72 104.45,-68.5001 104.45,-75.5001\"/>\n",
       "</g>\n",
       "<!-- 3 -->\n",
       "<g id=\"node4\" class=\"node\"><title>3</title>\n",
       "<g id=\"a_node4\"><a xlink:href=\"https://github.com/IBM/lale\" xlink:title=\"Cat\">\n",
       "<ellipse fill=\"white\" stroke=\"black\" cx=\"241.987\" cy=\"-45\" rx=\"27\" ry=\"18\"/>\n",
       "<text text-anchor=\"middle\" x=\"241.987\" y=\"-41.3\" font-family=\"Times,serif\" font-size=\"14.00\">Cat</text>\n",
       "</a>\n",
       "</g>\n",
       "</g>\n",
       "<!-- 1&#45;&gt;3 -->\n",
       "<g id=\"edge2\" class=\"edge\"><title>1&#45;&gt;3</title>\n",
       "<path fill=\"none\" stroke=\"black\" d=\"M169.66,-64.9061C181.032,-61.7324 194.607,-57.9438 206.847,-54.5277\"/>\n",
       "<polygon fill=\"black\" stroke=\"black\" points=\"208.047,-57.8268 216.738,-51.7675 206.165,-51.0845 208.047,-57.8268\"/>\n",
       "</g>\n",
       "<!-- 2 -->\n",
       "<g id=\"node3\" class=\"node\"><title>2</title>\n",
       "<g id=\"a_node3\"><a xlink:href=\"https://github.ibm.com/aimodels/lale\" xlink:title=\"Project(columns={&#39;type&#39;: &#39;number&#39;})\">\n",
       "<ellipse fill=\"#b0e2ff\" stroke=\"black\" cx=\"143.24\" cy=\"-18\" rx=\"35.9954\" ry=\"18\"/>\n",
       "<text text-anchor=\"middle\" x=\"143.24\" y=\"-14.3\" font-family=\"Times,serif\" font-size=\"14.00\">Project</text>\n",
       "</a>\n",
       "</g>\n",
       "</g>\n",
       "<!-- 2&#45;&gt;3 -->\n",
       "<g id=\"edge3\" class=\"edge\"><title>2&#45;&gt;3</title>\n",
       "<path fill=\"none\" stroke=\"black\" d=\"M174.852,-26.543C185.088,-29.3997 196.556,-32.6003 207.032,-35.5238\"/>\n",
       "<polygon fill=\"black\" stroke=\"black\" points=\"206.126,-38.9046 216.699,-38.2216 208.008,-32.1623 206.126,-38.9046\"/>\n",
       "</g>\n",
       "<!-- 4 -->\n",
       "<g id=\"node5\" class=\"node\"><title>4</title>\n",
       "<g id=\"a_node5\"><a xlink:href=\"https://scikit-learn.org/stable/modules/generated/sklearn.linear_model.LinearRegression.html\" xlink:title=\"LinReg\">\n",
       "<ellipse fill=\"#b0e2ff\" stroke=\"black\" cx=\"342.034\" cy=\"-45\" rx=\"37.0935\" ry=\"18\"/>\n",
       "<text text-anchor=\"middle\" x=\"342.034\" y=\"-41.3\" font-family=\"Times,serif\" font-size=\"14.00\">LinReg</text>\n",
       "</a>\n",
       "</g>\n",
       "</g>\n",
       "<!-- 3&#45;&gt;4 -->\n",
       "<g id=\"edge4\" class=\"edge\"><title>3&#45;&gt;4</title>\n",
       "<path fill=\"none\" stroke=\"black\" d=\"M269.005,-45C276.915,-45 285.859,-45 294.687,-45\"/>\n",
       "<polygon fill=\"black\" stroke=\"black\" points=\"294.929,-48.5001 304.929,-45 294.929,-41.5001 294.929,-48.5001\"/>\n",
       "</g>\n",
       "</g>\n",
       "</svg>\n"
      ],
      "text/plain": [
       "<graphviz.dot.Digraph at 0x7fc40cac1390>"
      ]
     },
     "execution_count": 2,
     "metadata": {},
     "output_type": "execute_result"
    }
   ],
   "source": [
    "from lale.lib.lale import Project\n",
    "from lale.lib.lale import ConcatFeatures as Cat\n",
    "from lale.lib.sklearn import TfidfVectorizer as Tfidf\n",
    "from lale.lib.sklearn import LinearRegression as LinReg\n",
    "from lale.helpers import to_graphviz\n",
    "prep_text = Project(columns=['review']) >> Tfidf(max_features=100)\n",
    "prep_nums = Project(columns={'type': 'number'})\n",
    "trainable = (prep_text & prep_nums) >> Cat >> LinReg()\n",
    "to_graphviz(trainable)"
   ]
  },
  {
   "cell_type": "code",
   "execution_count": 3,
   "metadata": {},
   "outputs": [],
   "source": [
    "trained = trainable.fit(train_X, train_y)"
   ]
  },
  {
   "cell_type": "code",
   "execution_count": 4,
   "metadata": {},
   "outputs": [
    {
     "name": "stdout",
     "output_type": "stream",
     "text": [
      "comparisons [10:7.9, 8:8.9, 9:5.7, 9:8.1, 9:6.1, 4:7.2, 6:5.7, 9:7.9, 7:6.9, 2:5.9]\n",
      "rmse 2.97\n"
     ]
    }
   ],
   "source": [
    "import math\n",
    "from sklearn.metrics import mean_squared_error\n",
    "predicted = trained.predict(test_X)\n",
    "comparisons = [f'{int(test_y[i])}:{predicted[i]:.1f}' for i in range(10)]\n",
    "print(f'comparisons [{\", \".join(comparisons)}]')\n",
    "rmse = math.sqrt(mean_squared_error(predicted, test_y))\n",
    "print(f'rmse {rmse:.2f}')"
   ]
  },
  {
   "cell_type": "code",
   "execution_count": 5,
   "metadata": {},
   "outputs": [
    {
     "data": {
      "image/svg+xml": [
       "<?xml version=\"1.0\" encoding=\"UTF-8\" standalone=\"no\"?>\n",
       "<!DOCTYPE svg PUBLIC \"-//W3C//DTD SVG 1.1//EN\"\n",
       " \"http://www.w3.org/Graphics/SVG/1.1/DTD/svg11.dtd\">\n",
       "<!-- Generated by graphviz version 2.38.0 (20140413.2041)\n",
       " -->\n",
       "<!-- Title: %3 Pages: 1 -->\n",
       "<svg width=\"444pt\" height=\"98pt\"\n",
       " viewBox=\"0.00 0.00 444.28 98.00\" xmlns=\"http://www.w3.org/2000/svg\" xmlns:xlink=\"http://www.w3.org/1999/xlink\">\n",
       "<g id=\"graph0\" class=\"graph\" transform=\"scale(1 1) rotate(0) translate(4 94)\">\n",
       "<title>%3</title>\n",
       "<polygon fill=\"white\" stroke=\"none\" points=\"-4,4 -4,-94 440.276,-94 440.276,4 -4,4\"/>\n",
       "<!-- 0 -->\n",
       "<g id=\"node1\" class=\"node\"><title>0</title>\n",
       "<g id=\"a_node1\"><a xlink:href=\"https://github.ibm.com/aimodels/lale\" xlink:title=\"Project(columns=[&#39;review&#39;])\">\n",
       "<ellipse fill=\"#b0e2ff\" stroke=\"black\" cx=\"35.7468\" cy=\"-72\" rx=\"35.9954\" ry=\"18\"/>\n",
       "<text text-anchor=\"middle\" x=\"35.7468\" y=\"-68.3\" font-family=\"Times,serif\" font-size=\"14.00\">Project</text>\n",
       "</a>\n",
       "</g>\n",
       "</g>\n",
       "<!-- 1 -->\n",
       "<g id=\"node2\" class=\"node\"><title>1</title>\n",
       "<g id=\"a_node2\"><a xlink:href=\"https://scikit-learn.org/stable/modules/generated/sklearn.feature_extraction.text.TfidfVectorizer.html\" xlink:title=\"Tfidf(max_features=100)\">\n",
       "<ellipse fill=\"#b0e2ff\" stroke=\"black\" cx=\"143.24\" cy=\"-72\" rx=\"28.6953\" ry=\"18\"/>\n",
       "<text text-anchor=\"middle\" x=\"143.24\" y=\"-68.3\" font-family=\"Times,serif\" font-size=\"14.00\">Tfidf</text>\n",
       "</a>\n",
       "</g>\n",
       "</g>\n",
       "<!-- 0&#45;&gt;1 -->\n",
       "<g id=\"edge1\" class=\"edge\"><title>0&#45;&gt;1</title>\n",
       "<path fill=\"none\" stroke=\"black\" d=\"M71.5818,-72C82.0245,-72 93.53,-72 104.17,-72\"/>\n",
       "<polygon fill=\"black\" stroke=\"black\" points=\"104.45,-75.5001 114.45,-72 104.45,-68.5001 104.45,-75.5001\"/>\n",
       "</g>\n",
       "<!-- 3 -->\n",
       "<g id=\"node4\" class=\"node\"><title>3</title>\n",
       "<g id=\"a_node4\"><a xlink:href=\"https://github.com/IBM/lale\" xlink:title=\"Cat\">\n",
       "<ellipse fill=\"white\" stroke=\"black\" cx=\"241.987\" cy=\"-45\" rx=\"27\" ry=\"18\"/>\n",
       "<text text-anchor=\"middle\" x=\"241.987\" y=\"-41.3\" font-family=\"Times,serif\" font-size=\"14.00\">Cat</text>\n",
       "</a>\n",
       "</g>\n",
       "</g>\n",
       "<!-- 1&#45;&gt;3 -->\n",
       "<g id=\"edge2\" class=\"edge\"><title>1&#45;&gt;3</title>\n",
       "<path fill=\"none\" stroke=\"black\" d=\"M169.66,-64.9061C181.032,-61.7324 194.607,-57.9438 206.847,-54.5277\"/>\n",
       "<polygon fill=\"black\" stroke=\"black\" points=\"208.047,-57.8268 216.738,-51.7675 206.165,-51.0845 208.047,-57.8268\"/>\n",
       "</g>\n",
       "<!-- 2 -->\n",
       "<g id=\"node3\" class=\"node\"><title>2</title>\n",
       "<g id=\"a_node3\"><a xlink:href=\"https://github.ibm.com/aimodels/lale\" xlink:title=\"Project(columns={&#39;type&#39;: &#39;number&#39;})\">\n",
       "<ellipse fill=\"#b0e2ff\" stroke=\"black\" cx=\"143.24\" cy=\"-18\" rx=\"35.9954\" ry=\"18\"/>\n",
       "<text text-anchor=\"middle\" x=\"143.24\" y=\"-14.3\" font-family=\"Times,serif\" font-size=\"14.00\">Project</text>\n",
       "</a>\n",
       "</g>\n",
       "</g>\n",
       "<!-- 2&#45;&gt;3 -->\n",
       "<g id=\"edge3\" class=\"edge\"><title>2&#45;&gt;3</title>\n",
       "<path fill=\"none\" stroke=\"black\" d=\"M174.852,-26.543C185.088,-29.3997 196.556,-32.6003 207.032,-35.5238\"/>\n",
       "<polygon fill=\"black\" stroke=\"black\" points=\"206.126,-38.9046 216.699,-38.2216 208.008,-32.1623 206.126,-38.9046\"/>\n",
       "</g>\n",
       "<!-- 4 -->\n",
       "<g id=\"node5\" class=\"node\"><title>4</title>\n",
       "<g id=\"a_node5\"><a xlink:title=\"LinReg | Forest\">\n",
       "<ellipse fill=\"#7ec0ee\" stroke=\"black\" cx=\"370.631\" cy=\"-45\" rx=\"65.7887\" ry=\"18\"/>\n",
       "<text text-anchor=\"middle\" x=\"370.631\" y=\"-41.3\" font-family=\"Times,serif\" font-size=\"14.00\">LinReg | Forest</text>\n",
       "</a>\n",
       "</g>\n",
       "</g>\n",
       "<!-- 3&#45;&gt;4 -->\n",
       "<g id=\"edge4\" class=\"edge\"><title>3&#45;&gt;4</title>\n",
       "<path fill=\"none\" stroke=\"black\" d=\"M269.228,-45C276.808,-45 285.483,-45 294.489,-45\"/>\n",
       "<polygon fill=\"black\" stroke=\"black\" points=\"294.756,-48.5001 304.756,-45 294.756,-41.5001 294.756,-48.5001\"/>\n",
       "</g>\n",
       "</g>\n",
       "</svg>\n"
      ],
      "text/plain": [
       "<graphviz.dot.Digraph at 0x7fc40dce1b00>"
      ]
     },
     "execution_count": 5,
     "metadata": {},
     "output_type": "execute_result"
    }
   ],
   "source": [
    "from lale.lib.sklearn import RandomForestRegressor as Forest\n",
    "planned = (prep_text & prep_nums) >> Cat >> (LinReg | Forest)\n",
    "to_graphviz(planned)"
   ]
  },
  {
   "cell_type": "code",
   "execution_count": 6,
   "metadata": {},
   "outputs": [
    {
     "name": "stderr",
     "output_type": "stream",
     "text": [
      "unhashable type: 'list'\n"
     ]
    }
   ],
   "source": [
    "from lale.lib.lale import HyperoptClassifier\n",
    "import sys\n",
    "try: #TODO: debug this\n",
    "    hyperopt_classifier = HyperoptClassifier(planned, max_evals=5)\n",
    "    best_found = hyperopt_classifier.fit(train_X, train_y)\n",
    "    to_graphviz(best_found)\n",
    "except TypeError as e:\n",
    "    print(str(e), file=sys.stderr)"
   ]
  }
 ],
 "metadata": {
  "kernelspec": {
   "display_name": "Python 3",
   "language": "python",
   "name": "python3"
  },
  "language_info": {
   "codemirror_mode": {
    "name": "ipython",
    "version": 3
   },
   "file_extension": ".py",
   "mimetype": "text/x-python",
   "name": "python",
   "nbconvert_exporter": "python",
   "pygments_lexer": "ipython3",
   "version": "3.6.5"
  }
 },
 "nbformat": 4,
 "nbformat_minor": 2
}
