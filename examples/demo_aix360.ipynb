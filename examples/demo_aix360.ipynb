{
 "cells": [
  {
   "cell_type": "markdown",
   "id": "64d35c82",
   "metadata": {},
   "source": [
    "# AI Automation for Logistic Rule Regression\n",
    "\n",
    "This notebook illustrates the usge of the Logisticaix360 wrapper.\n",
    "\n",
    "Our starting point is a dataset and a task. For illustration purposes, we picked credit-g, also known as the German Credit dataset. Each row describes a person using several features that may help evaluate them as a potential loan applicant. The task is to classify people into either good or bad credit risks. We load the version of the dataset from OpenML along with some fairness metadata."
   ]
  },
  {
   "cell_type": "code",
   "execution_count": 5,
   "id": "6fa7bb8b",
   "metadata": {},
   "outputs": [
    {
     "name": "stdout",
     "output_type": "stream",
     "text": [
      "c:\\ibm\\pr_forked\\lale\\lale\\__init__.py\n"
     ]
    }
   ],
   "source": [
    "from aix360.algorithms.rbm import FeatureBinarizer\n",
    "from lale.lib.aix360 import fetch_creditg_df\n",
    "from lale.lib.aix360 import logisticruleregression\n",
    "from lale.lib.aix360 import fair_stratified_train_test_split"
   ]
  },
  {
   "cell_type": "code",
   "execution_count": 2,
   "id": "039c8669",
   "metadata": {},
   "outputs": [
    {
     "name": "stderr",
     "output_type": "stream",
     "text": [
      "Function get_feature_names is deprecated; get_feature_names is deprecated in 1.0 and will be removed in 1.2. Please use get_feature_names_out instead.\n"
     ]
    }
   ],
   "source": [
    "#import dataset\n",
    "all_X, all_y, fairness_info = fetch_creditg_df(preprocess=True)\n",
    "\n",
    "train_X, test_X, yTrain, test_y = fair_stratified_train_test_split(\n",
    "    all_X, all_y, **fairness_info, test_size=0.33, random_state=42\n",
    ")"
   ]
  },
  {
   "cell_type": "markdown",
   "id": "d0b3a128",
   "metadata": {},
   "source": [
    "# \n",
    "A best practice for any machine-learning experiments is to split the data into a training set and a hold-out set. Doing so helps detect and prevent over-fitting. The fairness information induces groups in the dataset by outcomes and by privileged groups. We want the distribution of these groups to be similar for the training set and the holdout set. Therefore, we split the data in a stratified way."
   ]
  },
  {
   "cell_type": "code",
   "execution_count": 3,
   "id": "8e2dada8",
   "metadata": {},
   "outputs": [
    {
     "name": "stderr",
     "output_type": "stream",
     "text": [
      "DataFrame is highly fragmented.  This is usually the result of calling `frame.insert` many times, which has poor performance.  Consider using pd.concat instead.  To get a de-fragmented frame, use `newframe = frame.copy()`\n",
      "DataFrame is highly fragmented.  This is usually the result of calling `frame.insert` many times, which has poor performance.  Consider using pd.concat instead.  To get a de-fragmented frame, use `newframe = frame.copy()`\n",
      "DataFrame is highly fragmented.  This is usually the result of calling `frame.insert` many times, which has poor performance.  Consider using pd.concat instead.  To get a de-fragmented frame, use `newframe = frame.copy()`\n",
      "DataFrame is highly fragmented.  This is usually the result of calling `frame.insert` many times, which has poor performance.  Consider using pd.concat instead.  To get a de-fragmented frame, use `newframe = frame.copy()`\n"
     ]
    }
   ],
   "source": [
    "fb = FeatureBinarizer(negations=True, returnOrd=True)\n",
    "\n",
    "train_X, dfTrainStd = fb.fit_transform(train_X)\n",
    "test_X, dfTestStd = fb.transform(test_X)\n",
    "\n",
    "lrr = logisticruleregression (dfTrainStd=dfTrainStd, dfTestStd=dfTestStd)\n"
   ]
  },
  {
   "cell_type": "code",
   "execution_count": 4,
   "id": "666551af",
   "metadata": {},
   "outputs": [
    {
     "name": "stderr",
     "output_type": "stream",
     "text": [
      "The max_iter was reached which means the coef_ did not converge\n",
      "The max_iter was reached which means the coef_ did not converge\n",
      "The max_iter was reached which means the coef_ did not converge\n",
      "The max_iter was reached which means the coef_ did not converge\n"
     ]
    },
    {
     "name": "stdout",
     "output_type": "stream",
     "text": [
      "                                                 rule coefficient\n",
      "0                                         (intercept)   -0.473046\n",
      "1   credit_history_all paid not  AND credit_histor...    3.439729\n",
      "2   credit_history_critical/other existing credit ...    -2.35108\n",
      "3   checking_status_>=200 not  AND purpose_domesti...   -2.201717\n",
      "4                       checking_status_no checking      2.119459\n",
      "5   purpose_retraining not  AND employment_<1   AN...   -2.067109\n",
      "6   purpose_other not  AND purpose_retraining not ...   -1.856521\n",
      "7   purpose_other not  AND purpose_repairs not  AN...    1.806598\n",
      "8      checking_status_<0 not  AND purpose_other not     1.574484\n",
      "9   checking_status_>=200 not  AND purpose_domesti...   -1.482544\n",
      "10  purpose_retraining not  AND employment_4<=X<7 ...   -1.277712\n",
      "11                                  duration <= 15.00    1.193327\n",
      "12                                    employment_<1      1.160708\n",
      "13  credit_history_all paid not  AND purpose_domes...    1.145082\n",
      "14                           credit_amount <= 3635.30    1.129801\n",
      "15                                employment_4<=X<7     -1.067629\n",
      "16                                  purpose_new car     -0.917345\n",
      "17                               checking_status_<0       0.87173\n",
      "18  purpose_domestic appliance not  AND purpose_ot...   -0.855856\n",
      "19                     installment_commitment <= 3.00   -0.706277\n",
      "20                   property_magnitude_real estate      0.697427\n",
      "21                            residence_since <= 2.00    -0.65834\n",
      "22                     installment_commitment <= 2.00    0.600283\n",
      "23                           credit_amount <= 7408.10    0.592052\n",
      "24                           credit_amount <= 1503.00   -0.476241\n",
      "25                               own_telephone_none     -0.384856\n",
      "26                                              sex      0.366967\n",
      "27                                      housing_own      0.364512\n",
      "28                           credit_amount <= 1931.60   -0.362568\n",
      "29                                              age      0.355969\n",
      "30                                 purpose_radio/tv      0.342097\n",
      "31  checking_status_>=200 not  AND purpose_other n...   -0.274048\n",
      "32                                      job_skilled     -0.264003\n",
      "33                                   employment_>=7      0.225577\n",
      "34                                  duration <= 24.00    0.223895\n",
      "35                         other_payment_plans_bank     -0.208124\n",
      "36    credit_history_critical/other existing credit      0.030167\n",
      "37                                own_telephone_yes     -0.009323\n"
     ]
    },
    {
     "name": "stderr",
     "output_type": "stream",
     "text": [
      "The max_iter was reached which means the coef_ did not converge\n"
     ]
    }
   ],
   "source": [
    "lrr.fit(train_X, yTrain)\n",
    "print(lrr.explain())\n"
   ]
  }
 ],
 "metadata": {
  "kernelspec": {
   "display_name": "Python 3",
   "language": "python",
   "name": "python3"
  },
  "language_info": {
   "codemirror_mode": {
    "name": "ipython",
    "version": 3
   },
   "file_extension": ".py",
   "mimetype": "text/x-python",
   "name": "python",
   "nbconvert_exporter": "python",
   "pygments_lexer": "ipython3",
   "version": "3.8.12"
  }
 },
 "nbformat": 4,
 "nbformat_minor": 5
}
