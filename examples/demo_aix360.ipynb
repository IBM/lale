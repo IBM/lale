{
 "cells": [
  {
   "cell_type": "markdown",
   "id": "64d35c82",
   "metadata": {},
   "source": [
    "# AI Automation for Logistic Rule Regression\n",
    "\n",
    "This notebook illustrates the usge of the Logisticaix360 wrapper.\n",
    "\n",
    "Our starting point is a dataset and a task. For illustration purposes, we picked credit-g, also known as the German Credit dataset. Each row describes a person using several features that may help evaluate them as a potential loan applicant. The task is to classify people into either good or bad credit risks. We load the version of the dataset from OpenML along with some fairness metadata."
   ]
  },
  {
   "cell_type": "code",
   "execution_count": 2,
   "id": "6fa7bb8b",
   "metadata": {},
   "outputs": [
    {
     "ename": "ImportError",
     "evalue": "cannot import name 'fair_stratified_train_test_split'",
     "output_type": "error",
     "traceback": [
      "\u001b[1;31m---------------------------------------------------------------------------\u001b[0m",
      "\u001b[1;31mImportError\u001b[0m                               Traceback (most recent call last)",
      "\u001b[1;32m<ipython-input-2-fcbbca20c4fd>\u001b[0m in \u001b[0;36m<module>\u001b[1;34m\u001b[0m\n\u001b[0;32m      5\u001b[0m \u001b[1;33m\u001b[0m\u001b[0m\n\u001b[0;32m      6\u001b[0m \u001b[1;33m\u001b[0m\u001b[0m\n\u001b[1;32m----> 7\u001b[1;33m \u001b[1;32mfrom\u001b[0m \u001b[0mlale\u001b[0m\u001b[1;33m.\u001b[0m\u001b[0mlib\u001b[0m\u001b[1;33m.\u001b[0m\u001b[0maix360\u001b[0m \u001b[1;32mimport\u001b[0m \u001b[0mfair_stratified_train_test_split\u001b[0m\u001b[1;33m\u001b[0m\u001b[1;33m\u001b[0m\u001b[0m\n\u001b[0m",
      "\u001b[1;31mImportError\u001b[0m: cannot import name 'fair_stratified_train_test_split'"
     ]
    }
   ],
   "source": [
    "from aix360.algorithms.rbm import FeatureBinarizer\n",
    "from lale.lib.aif360 import fetch_creditg_df\n",
    "from lale.lib.aix360 import logisticruleregression\n",
    "import pandas as pd\n",
    "\n",
    "\n",
    "from lale.lib.aix360 import fair_stratified_train_test_split"
   ]
  },
  {
   "cell_type": "code",
   "execution_count": null,
   "id": "039c8669",
   "metadata": {},
   "outputs": [],
   "source": [
    "#import dataset\n",
    "all_X, all_y, fairness_info = fetch_creditg_df(preprocess=True)\n",
    "\n",
    "train_X, test_X, yTrain, test_y = fair_stratified_train_test_split(\n",
    "    all_X, all_y, **fairness_info, test_size=0.33, random_state=42\n",
    ")"
   ]
  },
  {
   "cell_type": "markdown",
   "id": "d0b3a128",
   "metadata": {},
   "source": [
    "# \n",
    "A best practice for any machine-learning experiments is to split the data into a training set and a hold-out set. Doing so helps detect and prevent over-fitting. The fairness information induces groups in the dataset by outcomes and by privileged groups. We want the distribution of these groups to be similar for the training set and the holdout set. Therefore, we split the data in a stratified way."
   ]
  },
  {
   "cell_type": "code",
   "execution_count": null,
   "id": "8e2dada8",
   "metadata": {},
   "outputs": [],
   "source": [
    "fb = FeatureBinarizer(negations=True, returnOrd=True)\n",
    "\n",
    "train_X, dfTrainStd = fb.fit_transform(train_X)\n",
    "test_X, dfTestStd = fb.transform(test_X)\n",
    "\n",
    "lrr = logisticruleregression (dfTrainStd=dfTrainStd, dfTestStd=dfTestStd)\n"
   ]
  },
  {
   "cell_type": "code",
   "execution_count": null,
   "id": "666551af",
   "metadata": {},
   "outputs": [],
   "source": [
    "lrr.fit(train_X, yTrain)\n",
    "print(lrr.explain())\n"
   ]
  }
 ],
 "metadata": {
  "kernelspec": {
   "display_name": "Python 3",
   "language": "python",
   "name": "python3"
  },
  "language_info": {
   "codemirror_mode": {
    "name": "ipython",
    "version": 3
   },
   "file_extension": ".py",
   "mimetype": "text/x-python",
   "name": "python",
   "nbconvert_exporter": "python",
   "pygments_lexer": "ipython3",
   "version": "3.6.15"
  }
 },
 "nbformat": 4,
 "nbformat_minor": 5
}
