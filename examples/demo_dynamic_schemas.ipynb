{
 "cells": [
  {
   "cell_type": "markdown",
   "metadata": {},
   "source": [
    "# Demo Import from Sklearn with Schemas from Lale\n",
    "\n",
    "This notebook shows how to use Lale directly with sklearn operators.\n",
    "The function `lale.wrap_imported_operators()` will automatically wrap\n",
    "known sklearn operators into Lale operators."
   ]
  },
  {
   "cell_type": "markdown",
   "metadata": {},
   "source": [
    "## Usability\n",
    "\n",
    "To make Lale easy to learn and use, its APIs imitate those of\n",
    "[sklearn](https://scikit-learn.org/), with init, fit, and predict,\n",
    "and with pipelines."
   ]
  },
  {
   "cell_type": "code",
   "execution_count": 1,
   "metadata": {},
   "outputs": [
    {
     "name": "stdout",
     "output_type": "stream",
     "text": [
      "truth  [6, 9, 3, 7, 2, 1, 5, 2, 5, 2, 1, 9, 4, 0, 4, 2, 3, 7, 8, 8]\n"
     ]
    }
   ],
   "source": [
    "import sklearn.datasets\n",
    "import sklearn.model_selection\n",
    "digits = sklearn.datasets.load_digits()\n",
    "X_train, X_test, y_train, y_test = sklearn.model_selection.train_test_split(\n",
    "    digits.data, digits.target, test_size=0.2, random_state=42)\n",
    "print(f'truth  {y_test.tolist()[:20]}')"
   ]
  },
  {
   "cell_type": "code",
   "execution_count": 2,
   "metadata": {},
   "outputs": [
    {
     "name": "stdout",
     "output_type": "stream",
     "text": [
      "actual [6, 9, 3, 7, 2, 2, 5, 2, 5, 2, 1, 4, 4, 0, 4, 2, 3, 7, 8, 8]\n"
     ]
    }
   ],
   "source": [
    "import lale\n",
    "from sklearn.linear_model import LogisticRegression as LR\n",
    "lale.wrap_imported_operators()\n",
    "\n",
    "trainable_lr = LR(LR.solver.lbfgs, C=0.0001)\n",
    "trained_lr = trainable_lr.fit(X_train, y_train)\n",
    "predictions = trained_lr.predict(X_test)\n",
    "print(f'actual {predictions.tolist()[:20]}')"
   ]
  },
  {
   "cell_type": "code",
   "execution_count": 3,
   "metadata": {},
   "outputs": [
    {
     "name": "stdout",
     "output_type": "stream",
     "text": [
      "accuracy 91.7%\n"
     ]
    }
   ],
   "source": [
    "from sklearn.metrics import accuracy_score\n",
    "print(f'accuracy {accuracy_score(y_test, predictions):.1%}')"
   ]
  },
  {
   "cell_type": "markdown",
   "metadata": {},
   "source": [
    "## Correctness\n",
    "\n",
    "Lale uses [JSON Schema](https://json-schema.org/) to check for valid\n",
    "hyperparameters. These schemas enable not just validation but also\n",
    "interactive documentation. Thanks to using a single source of truth, the\n",
    "documentation is correct by construction."
   ]
  },
  {
   "cell_type": "code",
   "execution_count": 4,
   "metadata": {},
   "outputs": [
    {
     "name": "stdout",
     "output_type": "stream",
     "text": [
      "Invalid configuration for LR(solver='adam', C=0.01) due to invalid value solver=adam.\n",
      "Schema of argument solver: {\n",
      "    'description': 'Algorithm for optimization problem.',\n",
      "    'enum': ['newton-cg', 'lbfgs', 'liblinear', 'sag', 'saga'],\n",
      "    'default': 'liblinear'}\n",
      "Value: adam\n"
     ]
    }
   ],
   "source": [
    "from jsonschema import ValidationError\n",
    "try:\n",
    "    lale_lr = LR(solver='adam', C=0.01)\n",
    "except ValidationError as e:\n",
    "    print(e.message)"
   ]
  },
  {
   "cell_type": "code",
   "execution_count": 5,
   "metadata": {},
   "outputs": [
    {
     "data": {
      "text/plain": [
       "{'description': 'Inverse regularization strength. Smaller values specify stronger regularization.',\n",
       " 'type': 'number',\n",
       " 'distribution': 'loguniform',\n",
       " 'minimum': 0.0,\n",
       " 'exclusiveMinimum': True,\n",
       " 'default': 1.0,\n",
       " 'minimumForOptimizer': 0.03125,\n",
       " 'maximumForOptimizer': 32768}"
      ]
     },
     "execution_count": 5,
     "metadata": {},
     "output_type": "execute_result"
    }
   ],
   "source": [
    "LR.hyperparam_schema('C')"
   ]
  },
  {
   "cell_type": "code",
   "execution_count": 6,
   "metadata": {},
   "outputs": [
    {
     "data": {
      "text/plain": [
       "{'solver': 'liblinear',\n",
       " 'penalty': 'l2',\n",
       " 'dual': False,\n",
       " 'C': 1.0,\n",
       " 'tol': 0.0001,\n",
       " 'fit_intercept': True,\n",
       " 'intercept_scaling': 1.0,\n",
       " 'class_weight': None,\n",
       " 'random_state': None,\n",
       " 'max_iter': 100,\n",
       " 'multi_class': 'ovr',\n",
       " 'verbose': 0,\n",
       " 'warm_start': False,\n",
       " 'n_jobs': None}"
      ]
     },
     "execution_count": 6,
     "metadata": {},
     "output_type": "execute_result"
    }
   ],
   "source": [
    "LR.hyperparam_defaults()"
   ]
  },
  {
   "cell_type": "markdown",
   "metadata": {},
   "source": [
    "## Automation\n",
    "\n",
    "Lale includes a compiler that converts types (expressed as JSON\n",
    "Schema) to optimizer search spaces. It currently has back-ends for\n",
    "[hyperopt](http://hyperopt.github.io/hyperopt/),\n",
    "[GridSearchCV](https://scikit-learn.org/stable/modules/generated/sklearn.model_selection.GridSearchCV.html), and\n",
    "[SMAC](http://www.automl.org/smac/).\n",
    "We are also actively working towards various other forms of AI\n",
    "automation using various other tools."
   ]
  },
  {
   "cell_type": "code",
   "execution_count": 7,
   "metadata": {},
   "outputs": [
    {
     "name": "stdout",
     "output_type": "stream",
     "text": [
      "100%|██████████| 10/10 [00:02<00:00,  4.86it/s, best loss: -0.9638888888888889]\n",
      "best hyperparams {'C': 26685.22405256299, 'class_weight': 'balanced', 'dual': False, 'fit_intercept': True, 'multi_class': 'ovr', 'penalty': 'l2', 'solver': 'liblinear', 'tol': 0.04262018853342981}\n",
      "\n",
      "accuracy 96.4%\n"
     ]
    }
   ],
   "source": [
    "from lale.search.op2hp import hyperopt_search_space\n",
    "from hyperopt import STATUS_OK, Trials, fmin, tpe, space_eval\n",
    "import lale.helpers\n",
    "import warnings\n",
    "warnings.filterwarnings(\"ignore\")\n",
    "\n",
    "def objective(hyperparams):\n",
    "    trainable = LR(**lale.helpers.dict_without(hyperparams, 'name'))\n",
    "    trained = trainable.fit(X_train, y_train)\n",
    "    predictions = trained.predict(X_test)\n",
    "    return {'loss': -accuracy_score(y_test, predictions), 'status': STATUS_OK}\n",
    "\n",
    "search_space = hyperopt_search_space(LR)\n",
    "\n",
    "trials = Trials()\n",
    "fmin(objective, search_space, algo=tpe.suggest, max_evals=10, trials=trials)\n",
    "best_hps = space_eval(search_space, trials.argmin)\n",
    "print(f'best hyperparams {lale.helpers.dict_without(best_hps, \"name\")}\\n')\n",
    "print(f'accuracy {-min(trials.losses()):.1%}')"
   ]
  },
  {
   "cell_type": "markdown",
   "metadata": {},
   "source": [
    "## Composition\n",
    "\n",
    "Lale supports composite models, which resemble sklearn pipelines but are\n",
    "more expressive.\n",
    "\n",
    "| Symbol | Name | Description  | Sklearn feature |\n",
    "| ------ | ---- | ------------ | --------------- |\n",
    "| >>     | pipe | Feed to next | `make_pipeline` |\n",
    "| &      | and  | Run both     | `make_union`, includes concat |\n",
    "| &#x7c; | or   | Choose one   | (missing) |"
   ]
  },
  {
   "cell_type": "code",
   "execution_count": 8,
   "metadata": {},
   "outputs": [
    {
     "data": {
      "image/svg+xml": [
       "<?xml version=\"1.0\" encoding=\"UTF-8\" standalone=\"no\"?>\n",
       "<!DOCTYPE svg PUBLIC \"-//W3C//DTD SVG 1.1//EN\"\n",
       " \"http://www.w3.org/Graphics/SVG/1.1/DTD/svg11.dtd\">\n",
       "<!-- Generated by graphviz version 2.40.1 (20161225.0304)\n",
       " -->\n",
       "<!-- Title: %3 Pages: 1 -->\n",
       "<svg width=\"244pt\" height=\"98pt\"\n",
       " viewBox=\"0.00 0.00 244.27 98.38\" xmlns=\"http://www.w3.org/2000/svg\" xmlns:xlink=\"http://www.w3.org/1999/xlink\">\n",
       "<g id=\"graph0\" class=\"graph\" transform=\"scale(1 1) rotate(0) translate(4 94.3848)\">\n",
       "<title>%3</title>\n",
       "<polygon fill=\"#ffffff\" stroke=\"transparent\" points=\"-4,4 -4,-94.3848 240.2744,-94.3848 240.2744,4 -4,4\"/>\n",
       "<!-- 0 -->\n",
       "<g id=\"node1\" class=\"node\">\n",
       "<title>0</title>\n",
       "<g id=\"a_node1\"><a xlink:href=\"https://scikit-learn.org/stable/modules/generated/sklearn.decomposition.PCA.html\" xlink:title=\"PCA\">\n",
       "<ellipse fill=\"#7ec0ee\" stroke=\"#000000\" cx=\"27\" cy=\"-72.3848\" rx=\"27\" ry=\"18\"/>\n",
       "<text text-anchor=\"middle\" x=\"27\" y=\"-69.0848\" font-family=\"Times,serif\" font-size=\"11.00\" fill=\"#000000\">PCA</text>\n",
       "</a>\n",
       "</g>\n",
       "</g>\n",
       "<!-- 2 -->\n",
       "<g id=\"node3\" class=\"node\">\n",
       "<title>2</title>\n",
       "<g id=\"a_node3\"><a xlink:href=\"https://lale.readthedocs.io/en/latest/modules/lale.lib.lale.concat_features.html\" xlink:title=\"Cat\">\n",
       "<ellipse fill=\"#ffffff\" stroke=\"#000000\" cx=\"117\" cy=\"-45.3848\" rx=\"27\" ry=\"18\"/>\n",
       "<text text-anchor=\"middle\" x=\"117\" y=\"-42.0848\" font-family=\"Times,serif\" font-size=\"11.00\" fill=\"#000000\">Cat</text>\n",
       "</a>\n",
       "</g>\n",
       "</g>\n",
       "<!-- 0&#45;&gt;2 -->\n",
       "<g id=\"edge1\" class=\"edge\">\n",
       "<title>0&#45;&gt;2</title>\n",
       "<path fill=\"none\" stroke=\"#000000\" d=\"M52.07,-64.8638C61.5102,-62.0317 72.4169,-58.7597 82.564,-55.7156\"/>\n",
       "<polygon fill=\"#000000\" stroke=\"#000000\" points=\"83.803,-58.9981 92.3755,-52.7721 81.7915,-52.2933 83.803,-58.9981\"/>\n",
       "</g>\n",
       "<!-- 1 -->\n",
       "<g id=\"node2\" class=\"node\">\n",
       "<title>1</title>\n",
       "<g id=\"a_node2\"><a xlink:href=\"https://lale.readthedocs.io/en/latest/modules/lale.lib.lale.no_op.html\" xlink:title=\"NoOp\">\n",
       "<ellipse fill=\"#ffffff\" stroke=\"#000000\" cx=\"27\" cy=\"-18.3848\" rx=\"27\" ry=\"18.2703\"/>\n",
       "<text text-anchor=\"middle\" x=\"27\" y=\"-20.5848\" font-family=\"Times,serif\" font-size=\"11.00\" fill=\"#000000\">No&#45;</text>\n",
       "<text text-anchor=\"middle\" x=\"27\" y=\"-9.5848\" font-family=\"Times,serif\" font-size=\"11.00\" fill=\"#000000\">Op</text>\n",
       "</a>\n",
       "</g>\n",
       "</g>\n",
       "<!-- 1&#45;&gt;2 -->\n",
       "<g id=\"edge2\" class=\"edge\">\n",
       "<title>1&#45;&gt;2</title>\n",
       "<path fill=\"none\" stroke=\"#000000\" d=\"M52.07,-25.9058C61.5102,-28.7378 72.4169,-32.0098 82.564,-35.054\"/>\n",
       "<polygon fill=\"#000000\" stroke=\"#000000\" points=\"81.7915,-38.4763 92.3755,-37.9974 83.803,-31.7715 81.7915,-38.4763\"/>\n",
       "</g>\n",
       "<!-- 3 -->\n",
       "<g id=\"node4\" class=\"node\">\n",
       "<title>3</title>\n",
       "<g id=\"a_node4\"><a xlink:title=\"LR | SVC\">\n",
       "<ellipse fill=\"#7ec0ee\" stroke=\"#000000\" cx=\"208.1372\" cy=\"-45.3848\" rx=\"28.275\" ry=\"18\"/>\n",
       "<text text-anchor=\"middle\" x=\"208.1372\" y=\"-42.0848\" font-family=\"Times,serif\" font-size=\"11.00\" fill=\"#000000\">LR | SVC</text>\n",
       "</a>\n",
       "</g>\n",
       "</g>\n",
       "<!-- 2&#45;&gt;3 -->\n",
       "<g id=\"edge3\" class=\"edge\">\n",
       "<title>2&#45;&gt;3</title>\n",
       "<path fill=\"none\" stroke=\"#000000\" d=\"M144.3442,-45.3848C152.3212,-45.3848 161.1902,-45.3848 169.7168,-45.3848\"/>\n",
       "<polygon fill=\"#000000\" stroke=\"#000000\" points=\"169.8647,-48.8849 179.8646,-45.3848 169.8646,-41.8849 169.8647,-48.8849\"/>\n",
       "</g>\n",
       "</g>\n",
       "</svg>\n"
      ],
      "text/plain": [
       "<graphviz.dot.Digraph at 0x133e51668>"
      ]
     },
     "execution_count": 8,
     "metadata": {},
     "output_type": "execute_result"
    }
   ],
   "source": [
    "from sklearn.decomposition import PCA\n",
    "from sklearn.svm import SVC\n",
    "from lale.lib.lale import ConcatFeatures as Cat\n",
    "from lale.lib.lale import NoOp\n",
    "lale.wrap_imported_operators()\n",
    "\n",
    "optimizable = (PCA & NoOp) >> Cat >> (LR | SVC)\n",
    "lale.helpers.to_graphviz(optimizable)"
   ]
  },
  {
   "cell_type": "code",
   "execution_count": 9,
   "metadata": {},
   "outputs": [
    {
     "data": {
      "image/svg+xml": [
       "<?xml version=\"1.0\" encoding=\"UTF-8\" standalone=\"no\"?>\n",
       "<!DOCTYPE svg PUBLIC \"-//W3C//DTD SVG 1.1//EN\"\n",
       " \"http://www.w3.org/Graphics/SVG/1.1/DTD/svg11.dtd\">\n",
       "<!-- Generated by graphviz version 2.40.1 (20161225.0304)\n",
       " -->\n",
       "<!-- Title: %3 Pages: 1 -->\n",
       "<svg width=\"244pt\" height=\"98pt\"\n",
       " viewBox=\"0.00 0.00 244.27 98.38\" xmlns=\"http://www.w3.org/2000/svg\" xmlns:xlink=\"http://www.w3.org/1999/xlink\">\n",
       "<g id=\"graph0\" class=\"graph\" transform=\"scale(1 1) rotate(0) translate(4 94.3848)\">\n",
       "<title>%3</title>\n",
       "<polygon fill=\"#ffffff\" stroke=\"transparent\" points=\"-4,4 -4,-94.3848 240.2744,-94.3848 240.2744,4 -4,4\"/>\n",
       "<!-- 0 -->\n",
       "<g id=\"node1\" class=\"node\">\n",
       "<title>0</title>\n",
       "<g id=\"a_node1\"><a xlink:href=\"https://scikit-learn.org/stable/modules/generated/sklearn.decomposition.PCA.html\" xlink:title=\"PCA\">\n",
       "<ellipse fill=\"#7ec0ee\" stroke=\"#000000\" cx=\"27\" cy=\"-72.3848\" rx=\"27\" ry=\"18\"/>\n",
       "<text text-anchor=\"middle\" x=\"27\" y=\"-69.0848\" font-family=\"Times,serif\" font-size=\"11.00\" fill=\"#000000\">PCA</text>\n",
       "</a>\n",
       "</g>\n",
       "</g>\n",
       "<!-- 2 -->\n",
       "<g id=\"node3\" class=\"node\">\n",
       "<title>2</title>\n",
       "<g id=\"a_node3\"><a xlink:href=\"https://lale.readthedocs.io/en/latest/modules/lale.lib.lale.concat_features.html\" xlink:title=\"Cat\">\n",
       "<ellipse fill=\"#ffffff\" stroke=\"#000000\" cx=\"117\" cy=\"-45.3848\" rx=\"27\" ry=\"18\"/>\n",
       "<text text-anchor=\"middle\" x=\"117\" y=\"-42.0848\" font-family=\"Times,serif\" font-size=\"11.00\" fill=\"#000000\">Cat</text>\n",
       "</a>\n",
       "</g>\n",
       "</g>\n",
       "<!-- 0&#45;&gt;2 -->\n",
       "<g id=\"edge1\" class=\"edge\">\n",
       "<title>0&#45;&gt;2</title>\n",
       "<path fill=\"none\" stroke=\"#000000\" d=\"M52.07,-64.8638C61.5102,-62.0317 72.4169,-58.7597 82.564,-55.7156\"/>\n",
       "<polygon fill=\"#000000\" stroke=\"#000000\" points=\"83.803,-58.9981 92.3755,-52.7721 81.7915,-52.2933 83.803,-58.9981\"/>\n",
       "</g>\n",
       "<!-- 1 -->\n",
       "<g id=\"node2\" class=\"node\">\n",
       "<title>1</title>\n",
       "<g id=\"a_node2\"><a xlink:href=\"https://lale.readthedocs.io/en/latest/modules/lale.lib.lale.no_op.html\" xlink:title=\"NoOp\">\n",
       "<ellipse fill=\"#ffffff\" stroke=\"#000000\" cx=\"27\" cy=\"-18.3848\" rx=\"27\" ry=\"18.2703\"/>\n",
       "<text text-anchor=\"middle\" x=\"27\" y=\"-20.5848\" font-family=\"Times,serif\" font-size=\"11.00\" fill=\"#000000\">No&#45;</text>\n",
       "<text text-anchor=\"middle\" x=\"27\" y=\"-9.5848\" font-family=\"Times,serif\" font-size=\"11.00\" fill=\"#000000\">Op</text>\n",
       "</a>\n",
       "</g>\n",
       "</g>\n",
       "<!-- 1&#45;&gt;2 -->\n",
       "<g id=\"edge2\" class=\"edge\">\n",
       "<title>1&#45;&gt;2</title>\n",
       "<path fill=\"none\" stroke=\"#000000\" d=\"M52.07,-25.9058C61.5102,-28.7378 72.4169,-32.0098 82.564,-35.054\"/>\n",
       "<polygon fill=\"#000000\" stroke=\"#000000\" points=\"81.7915,-38.4763 92.3755,-37.9974 83.803,-31.7715 81.7915,-38.4763\"/>\n",
       "</g>\n",
       "<!-- 3 -->\n",
       "<g id=\"node4\" class=\"node\">\n",
       "<title>3</title>\n",
       "<g id=\"a_node4\"><a xlink:title=\"LR | SVC\">\n",
       "<ellipse fill=\"#7ec0ee\" stroke=\"#000000\" cx=\"208.1372\" cy=\"-45.3848\" rx=\"28.275\" ry=\"18\"/>\n",
       "<text text-anchor=\"middle\" x=\"208.1372\" y=\"-42.0848\" font-family=\"Times,serif\" font-size=\"11.00\" fill=\"#000000\">LR | SVC</text>\n",
       "</a>\n",
       "</g>\n",
       "</g>\n",
       "<!-- 2&#45;&gt;3 -->\n",
       "<g id=\"edge3\" class=\"edge\">\n",
       "<title>2&#45;&gt;3</title>\n",
       "<path fill=\"none\" stroke=\"#000000\" d=\"M144.3442,-45.3848C152.3212,-45.3848 161.1902,-45.3848 169.7168,-45.3848\"/>\n",
       "<polygon fill=\"#000000\" stroke=\"#000000\" points=\"169.8647,-48.8849 179.8646,-45.3848 169.8646,-41.8849 169.8647,-48.8849\"/>\n",
       "</g>\n",
       "</g>\n",
       "</svg>\n"
      ],
      "text/plain": [
       "<graphviz.dot.Digraph at 0x133f30fd0>"
      ]
     },
     "execution_count": 9,
     "metadata": {},
     "output_type": "execute_result"
    }
   ],
   "source": [
    "from lale.operators import make_pipeline, make_union, make_choice\n",
    "optimizable = make_pipeline(make_union(PCA, NoOp), make_choice(LR, SVC))\n",
    "lale.helpers.to_graphviz(optimizable)"
   ]
  },
  {
   "cell_type": "code",
   "execution_count": 10,
   "metadata": {},
   "outputs": [
    {
     "name": "stdout",
     "output_type": "stream",
     "text": [
      "100%|██████████| 10/10 [00:25<00:00,  2.58s/it, best loss: -0.9902556438206324]\n"
     ]
    }
   ],
   "source": [
    "import lale.lib.lale.hyperopt_cv\n",
    "import logging\n",
    "lale.lib.lale.hyperopt_cv.logger.setLevel(logging.ERROR)\n",
    "Optimizer = lale.lib.lale.hyperopt_cv.HyperoptCV\n",
    "optimizer = Optimizer(estimator=optimizable, max_evals=10)\n",
    "trained = optimizer.fit(X_train, y_train)"
   ]
  },
  {
   "cell_type": "code",
   "execution_count": 11,
   "metadata": {},
   "outputs": [
    {
     "name": "stdout",
     "output_type": "stream",
     "text": [
      "accuracy 98.9%\n"
     ]
    },
    {
     "data": {
      "image/svg+xml": [
       "<?xml version=\"1.0\" encoding=\"UTF-8\" standalone=\"no\"?>\n",
       "<!DOCTYPE svg PUBLIC \"-//W3C//DTD SVG 1.1//EN\"\n",
       " \"http://www.w3.org/Graphics/SVG/1.1/DTD/svg11.dtd\">\n",
       "<!-- Generated by graphviz version 2.40.1 (20161225.0304)\n",
       " -->\n",
       "<!-- Title: %3 Pages: 1 -->\n",
       "<svg width=\"242pt\" height=\"98pt\"\n",
       " viewBox=\"0.00 0.00 242.00 98.38\" xmlns=\"http://www.w3.org/2000/svg\" xmlns:xlink=\"http://www.w3.org/1999/xlink\">\n",
       "<g id=\"graph0\" class=\"graph\" transform=\"scale(1 1) rotate(0) translate(4 94.3848)\">\n",
       "<title>%3</title>\n",
       "<polygon fill=\"#ffffff\" stroke=\"transparent\" points=\"-4,4 -4,-94.3848 238,-94.3848 238,4 -4,4\"/>\n",
       "<!-- 0 -->\n",
       "<g id=\"node1\" class=\"node\">\n",
       "<title>0</title>\n",
       "<g id=\"a_node1\"><a xlink:href=\"https://scikit-learn.org/stable/modules/generated/sklearn.decomposition.PCA.html\" xlink:title=\"PCA(svd_solver=&#39;full&#39;)\">\n",
       "<ellipse fill=\"#ffffff\" stroke=\"#000000\" cx=\"27\" cy=\"-72.3848\" rx=\"27\" ry=\"18\"/>\n",
       "<text text-anchor=\"middle\" x=\"27\" y=\"-69.0848\" font-family=\"Times,serif\" font-size=\"11.00\" fill=\"#000000\">PCA</text>\n",
       "</a>\n",
       "</g>\n",
       "</g>\n",
       "<!-- 2 -->\n",
       "<g id=\"node3\" class=\"node\">\n",
       "<title>2</title>\n",
       "<g id=\"a_node3\"><a xlink:href=\"https://lale.readthedocs.io/en/latest/modules/lale.lib.lale.concat_features.html\" xlink:title=\"Cat\">\n",
       "<ellipse fill=\"#ffffff\" stroke=\"#000000\" cx=\"117\" cy=\"-45.3848\" rx=\"27\" ry=\"18\"/>\n",
       "<text text-anchor=\"middle\" x=\"117\" y=\"-42.0848\" font-family=\"Times,serif\" font-size=\"11.00\" fill=\"#000000\">Cat</text>\n",
       "</a>\n",
       "</g>\n",
       "</g>\n",
       "<!-- 0&#45;&gt;2 -->\n",
       "<g id=\"edge1\" class=\"edge\">\n",
       "<title>0&#45;&gt;2</title>\n",
       "<path fill=\"none\" stroke=\"#000000\" d=\"M52.07,-64.8638C61.5102,-62.0317 72.4169,-58.7597 82.564,-55.7156\"/>\n",
       "<polygon fill=\"#000000\" stroke=\"#000000\" points=\"83.803,-58.9981 92.3755,-52.7721 81.7915,-52.2933 83.803,-58.9981\"/>\n",
       "</g>\n",
       "<!-- 1 -->\n",
       "<g id=\"node2\" class=\"node\">\n",
       "<title>1</title>\n",
       "<g id=\"a_node2\"><a xlink:href=\"https://lale.readthedocs.io/en/latest/modules/lale.lib.lale.no_op.html\" xlink:title=\"NoOp\">\n",
       "<ellipse fill=\"#ffffff\" stroke=\"#000000\" cx=\"27\" cy=\"-18.3848\" rx=\"27\" ry=\"18.2703\"/>\n",
       "<text text-anchor=\"middle\" x=\"27\" y=\"-20.5848\" font-family=\"Times,serif\" font-size=\"11.00\" fill=\"#000000\">No&#45;</text>\n",
       "<text text-anchor=\"middle\" x=\"27\" y=\"-9.5848\" font-family=\"Times,serif\" font-size=\"11.00\" fill=\"#000000\">Op</text>\n",
       "</a>\n",
       "</g>\n",
       "</g>\n",
       "<!-- 1&#45;&gt;2 -->\n",
       "<g id=\"edge2\" class=\"edge\">\n",
       "<title>1&#45;&gt;2</title>\n",
       "<path fill=\"none\" stroke=\"#000000\" d=\"M52.07,-25.9058C61.5102,-28.7378 72.4169,-32.0098 82.564,-35.054\"/>\n",
       "<polygon fill=\"#000000\" stroke=\"#000000\" points=\"81.7915,-38.4763 92.3755,-37.9974 83.803,-31.7715 81.7915,-38.4763\"/>\n",
       "</g>\n",
       "<!-- 3 -->\n",
       "<g id=\"node4\" class=\"node\">\n",
       "<title>3</title>\n",
       "<g id=\"a_node4\"><a xlink:href=\"https://scikit-learn.org/stable/modules/generated/sklearn.svm.SVC.html\" xlink:title=\"SVC(gamma=&#39;scale&#39;, kernel=&#39;poly&#39;, probability=True, tol=0.005980474794650505)\">\n",
       "<ellipse fill=\"#ffffff\" stroke=\"#000000\" cx=\"207\" cy=\"-45.3848\" rx=\"27\" ry=\"18\"/>\n",
       "<text text-anchor=\"middle\" x=\"207\" y=\"-42.0848\" font-family=\"Times,serif\" font-size=\"11.00\" fill=\"#000000\">SVC</text>\n",
       "</a>\n",
       "</g>\n",
       "</g>\n",
       "<!-- 2&#45;&gt;3 -->\n",
       "<g id=\"edge3\" class=\"edge\">\n",
       "<title>2&#45;&gt;3</title>\n",
       "<path fill=\"none\" stroke=\"#000000\" d=\"M144.003,-45.3848C152.0277,-45.3848 160.9665,-45.3848 169.5309,-45.3848\"/>\n",
       "<polygon fill=\"#000000\" stroke=\"#000000\" points=\"169.7051,-48.8849 179.705,-45.3848 169.705,-41.8849 169.7051,-48.8849\"/>\n",
       "</g>\n",
       "</g>\n",
       "</svg>\n"
      ],
      "text/plain": [
       "<graphviz.dot.Digraph at 0x133f2f048>"
      ]
     },
     "execution_count": 11,
     "metadata": {},
     "output_type": "execute_result"
    }
   ],
   "source": [
    "predictions = trained.predict(X_test)\n",
    "print(f'accuracy {accuracy_score(y_test, predictions):.1%}')\n",
    "lale.helpers.to_graphviz(lale.helpers.best_estimator(trained))"
   ]
  },
  {
   "cell_type": "markdown",
   "metadata": {},
   "source": [
    "## Input and Output Schemas\n",
    "\n",
    "Besides schemas for hyperparameter, Lale also provides operator tags\n",
    "and schemas for input and output data of operators."
   ]
  },
  {
   "cell_type": "code",
   "execution_count": 12,
   "metadata": {},
   "outputs": [
    {
     "data": {
      "text/plain": [
       "{'pre': ['~categoricals'],\n",
       " 'op': ['estimator', 'classifier', 'interpretable'],\n",
       " 'post': ['probabilities']}"
      ]
     },
     "execution_count": 12,
     "metadata": {},
     "output_type": "execute_result"
    }
   ],
   "source": [
    "LR.get_tags()"
   ]
  },
  {
   "cell_type": "code",
   "execution_count": 13,
   "metadata": {},
   "outputs": [
    {
     "data": {
      "text/plain": [
       "{'$schema': 'http://json-schema.org/draft-04/schema#',\n",
       " 'description': 'Input data schema for training.',\n",
       " 'type': 'object',\n",
       " 'required': ['X', 'y'],\n",
       " 'additionalProperties': False,\n",
       " 'properties': {'X': {'description': 'Features; the outer array is over samples.',\n",
       "   'type': 'array',\n",
       "   'items': {'type': 'array', 'items': {'type': 'number'}}},\n",
       "  'y': {'description': 'Target class labels; the array is over samples.',\n",
       "   'type': 'array',\n",
       "   'items': {'type': 'number'}}}}"
      ]
     },
     "execution_count": 13,
     "metadata": {},
     "output_type": "execute_result"
    }
   ],
   "source": [
    "LR.get_schema('input_fit')"
   ]
  },
  {
   "cell_type": "code",
   "execution_count": 14,
   "metadata": {},
   "outputs": [
    {
     "data": {
      "text/plain": [
       "{'$schema': 'http://json-schema.org/draft-04/schema#',\n",
       " 'description': 'Output data schema for predictions (target class labels).',\n",
       " 'anyOf': [{'description': 'For predict, class label.',\n",
       "   'type': 'array',\n",
       "   'items': {'type': 'number'}},\n",
       "  {'description': 'For predict_proba, for each sample, vector of probabilities.',\n",
       "   'type': 'array',\n",
       "   'items': {'type': 'array', 'items': {'type': 'number'}}}]}"
      ]
     },
     "execution_count": 14,
     "metadata": {},
     "output_type": "execute_result"
    }
   ],
   "source": [
    "LR.get_schema('output')"
   ]
  }
 ],
 "metadata": {
  "kernelspec": {
   "display_name": "Python 3",
   "language": "python",
   "name": "python3"
  },
  "language_info": {
   "codemirror_mode": {
    "name": "ipython",
    "version": 3
   },
   "file_extension": ".py",
   "mimetype": "text/x-python",
   "name": "python",
   "nbconvert_exporter": "python",
   "pygments_lexer": "ipython3",
   "version": "3.7.3"
  }
 },
 "nbformat": 4,
 "nbformat_minor": 2
}
