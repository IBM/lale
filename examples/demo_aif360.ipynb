{
 "cells": [
  {
   "cell_type": "markdown",
   "metadata": {},
   "source": [
    "# AI Automation for AI Fairness\n",
    "\n",
    "When AI models contribute to high-impact decisions such as whether or\n",
    "not someone gets a loan, we want them to be fair.\n",
    "Unfortunately, in current practice, AI models are often optimized\n",
    "primarily for accuracy, with little consideration for fairness.  This\n",
    "blog post gives a hands-on example for how AI Automation can help build AI\n",
    "models that are both accurate and fair.\n",
    "This blog post is written for data scientists who have some familiarity\n",
    "with Python. No prior knowledge of AI Automation or AI Fairness is\n",
    "required, we will introduce the relevant concepts as we get to them.\n",
    "\n",
    "Bias in data leads to bias in models. AI models are increasingly\n",
    "consulted for consequential decisions about people, in domains\n",
    "including credit loans, hiring and retention, penal justice, medical,\n",
    "and more. Often, the model is trained from past decisions made by\n",
    "humans. If the decisions used for training were discriminatory, then\n",
    "your trained model will be too, unless you are careful. Being careful\n",
    "about bias is something you should do as a data scientist.\n",
    "Fortunately, you do not have to grapple with this issue alone.  You\n",
    "can consult others about ethics. You can also ask yourself how your AI\n",
    "model may affect your (or your institution's) reputation. And\n",
    "ultimately, you must follow applicable laws and regulations.\n",
    "\n",
    "_AI Fairness_ can be measured via several metrics, and you need to\n",
    "select the appropriate metrics based on the circumstances.  For\n",
    "illustration purposes, this blog post uses one particular fairness\n",
    "metric called _disparate impact_. Disparate impact is defined as the\n",
    "ratio of the rate of favorable outcome for the unprivileged group to\n",
    "that of the privileged group. To make this definition more concrete,\n",
    "consider the case where a favorable outcome means getting a loan, the\n",
    "unprivileged group is women, and the privileged group is men.  Then if\n",
    "your AI model were to let women get a loan in 30% of the cases and men\n",
    "in 60% of the cases, the disparate impact would be 30% / 60% = 0.5,\n",
    "indicating a gender bias towards men.  The ideal value for disparate\n",
    "impact is 1, and you could define fairness for this metric as a band\n",
    "around 1, e.g., from 0.8 to 1.2.\n",
    "\n",
    "To get the best performance out of your AI model, you must experiment\n",
    "with its configuration. This means searching a high-dimensional space\n",
    "where some options are categorical, some are continuous, and some are\n",
    "even conditional. No configuration is optimal for all domains let\n",
    "alone all metrics, and searching them all by hand is impossible. In\n",
    "fact, in a high-dimensional space, even exhaustively enumerating all\n",
    "the valid combinations soon becomes impractical.  Fortunately, you can\n",
    "use tools to automate the search, thus making you more productive at\n",
    "finding good models quickly. These productivity and quality\n",
    "improvements become compounded when you have to do the search over.\n",
    "\n",
    "_AI Automation_ is a technology that assists data scientists in\n",
    "building AI models by automating some of the tedious steps. One AI\n",
    "automation technique is _algorithm selection_ , which automatically\n",
    "chooses among alternative algorithms for a particular task. Another AI\n",
    "automation technique is _hyperparameter tuning_ , which automatically\n",
    "configures the arguments of AI algorithms. You can use AI automation\n",
    "to optimize for a variety of metrics.  This blog post shows you how to use AI\n",
    "automation to optimize for both accuracy and for fairness as measured\n",
    "by disparate impact.\n",
    "\n",
    "This blog post is generated from a [Jupyter](https://jupyter.org/)\n",
    "notebook that uses the following open-source Python libraries. \n",
    "[AIF360](https://aif360.mybluemix.net/) \n",
    "is a collection of fairness metrics and bias mitigation algorithms.\n",
    "The [pandas](https://pandas.pydata.org/),\n",
    "[scikit-learn](https://scikit-learn.org/), and\n",
    "[XGBoost](https://xgboost.ai/) libraries support\n",
    "data analysis and machine learning with data structures and a\n",
    "comprehensive collection of AI algorithms.\n",
    "The [hyperopt](http://hyperopt.github.io/hyperopt/) library\n",
    "implements both algorithm selection and hyperparameter tuning for\n",
    "AI automation.\n",
    "And [Lale](https://github.com/IBM/lale) is a library for\n",
    "semi-automated data science; this blog post uses Lale as the backbone\n",
    "for putting the other libraries together.\n",
    "\n",
    "Our starting point is a dataset and a task. For illustration\n",
    "purposes, we picked [credit-g](https://www.openml.org/d/31), also\n",
    "known as the German Credit dataset. Each row describes a person\n",
    "using several features that may help evaluate them as a potential\n",
    "loan applicant. The task is to classify people into either\n",
    "good or bad credit risks. We will use AIF360 to load the dataset."
   ]
  },
  {
   "cell_type": "code",
   "execution_count": 1,
   "metadata": {},
   "outputs": [
    {
     "name": "stdout",
     "output_type": "stream",
     "text": [
      "labels: ['credit'], protected attributes: ['sex', 'age']\n"
     ]
    }
   ],
   "source": [
    "import aif360.datasets\n",
    "import warnings\n",
    "warnings.filterwarnings('ignore', category=FutureWarning)\n",
    "creditg = aif360.datasets.GermanDataset()\n",
    "print(f'labels: {creditg.label_names}, '\n",
    "      f'protected attributes: {creditg.protected_attribute_names}')"
   ]
  },
  {
   "cell_type": "markdown",
   "metadata": {},
   "source": [
    "AIF360 datasets carry some fairness-related metadata.\n",
    "The credit-g dataset has a single label, credit, to be predicted\n",
    "as the outcome.\n",
    "A _protected attribute_ is a feature that partitions the\n",
    "population into groups whose outcome should have parity. The\n",
    "credit-g dataset has two protected attributes, sex and age.\n",
    "\n",
    "Before we look at how to train a classifier that\n",
    "is optimized for both accuracy and disparate impact, we will set a baseline,\n",
    "by training a classifier that is only optimized for accuracy.\n",
    "For a realistic assessment of how well the model generalizes, we\n",
    "first split the data into a training set and a test set. Then,\n",
    "to be able to use algorithms from the popular scikit-learn library,\n",
    "we convert the data from the AIF360 representation to a Pandas\n",
    "representation."
   ]
  },
  {
   "cell_type": "code",
   "execution_count": 2,
   "metadata": {},
   "outputs": [],
   "source": [
    "import pandas as pd\n",
    "train_ds, test_ds = creditg.split([0.7], shuffle=True, seed=42)\n",
    "def to_dataframes(aif360_ds):\n",
    "    X = pd.DataFrame(aif360_ds.features, columns=aif360_ds.feature_names)\n",
    "    y = pd.Series(aif360_ds.labels.ravel(), name=aif360_ds.label_names[0])\n",
    "    return X, y\n",
    "train_X, train_y = to_dataframes(train_ds)\n",
    "test_X, test_y = to_dataframes(test_ds)"
   ]
  },
  {
   "cell_type": "markdown",
   "metadata": {},
   "source": [
    "Next, we will import a few  algorithms from scikit-learn\n",
    "and XGBoost:\n",
    "a dimensionality reduction transformer (PCA) and three \n",
    "classifiers (logistic regression, gradient boosting, and a\n",
    "support vector machine)."
   ]
  },
  {
   "cell_type": "code",
   "execution_count": 3,
   "metadata": {},
   "outputs": [],
   "source": [
    "from sklearn.decomposition import PCA\n",
    "from sklearn.linear_model import LogisticRegression as LR\n",
    "from xgboost import XGBClassifier as XGBoost\n",
    "from sklearn.svm import LinearSVC as SVM"
   ]
  },
  {
   "cell_type": "markdown",
   "metadata": {},
   "source": [
    "To use AI Automation, we need to define a _search space_ ,\n",
    "which is a set of possible machine learning pipelines and\n",
    "their associated hyperparameters. The following code\n",
    "uses Lale to define a search space."
   ]
  },
  {
   "cell_type": "code",
   "execution_count": 4,
   "metadata": {},
   "outputs": [
    {
     "data": {
      "image/svg+xml": [
       "<?xml version=\"1.0\" encoding=\"UTF-8\" standalone=\"no\"?>\n",
       "<!DOCTYPE svg PUBLIC \"-//W3C//DTD SVG 1.1//EN\"\n",
       " \"http://www.w3.org/Graphics/SVG/1.1/DTD/svg11.dtd\">\n",
       "<!-- Generated by graphviz version 2.38.0 (20140413.2041)\n",
       " -->\n",
       "<!-- Title: %3 Pages: 1 -->\n",
       "<svg width=\"235pt\" height=\"44pt\"\n",
       " viewBox=\"0.00 0.00 234.89 44.00\" xmlns=\"http://www.w3.org/2000/svg\" xmlns:xlink=\"http://www.w3.org/1999/xlink\">\n",
       "<g id=\"graph0\" class=\"graph\" transform=\"scale(1 1) rotate(0) translate(4 40)\">\n",
       "<title>%3</title>\n",
       "<polygon fill=\"white\" stroke=\"none\" points=\"-4,4 -4,-40 230.889,-40 230.889,4 -4,4\"/>\n",
       "<!-- 0 -->\n",
       "<g id=\"node1\" class=\"node\"><title>0</title>\n",
       "<g id=\"a_node1\"><a xlink:title=\"PCA | NoOp\">\n",
       "<ellipse fill=\"#7ec0ee\" stroke=\"black\" cx=\"36.8383\" cy=\"-18\" rx=\"36.6773\" ry=\"18\"/>\n",
       "<text text-anchor=\"middle\" x=\"36.8383\" y=\"-15.2\" font-family=\"Times,serif\" font-size=\"11.00\">PCA | NoOp</text>\n",
       "</a>\n",
       "</g>\n",
       "</g>\n",
       "<!-- 1 -->\n",
       "<g id=\"node2\" class=\"node\"><title>1</title>\n",
       "<g id=\"a_node2\"><a xlink:title=\"LR | XGBoost | SVM\">\n",
       "<ellipse fill=\"#7ec0ee\" stroke=\"black\" cx=\"168.283\" cy=\"-18\" rx=\"58.713\" ry=\"18\"/>\n",
       "<text text-anchor=\"middle\" x=\"168.283\" y=\"-15.2\" font-family=\"Times,serif\" font-size=\"11.00\">LR | XGBoost | SVM</text>\n",
       "</a>\n",
       "</g>\n",
       "</g>\n",
       "<!-- 0&#45;&gt;1 -->\n",
       "<g id=\"edge1\" class=\"edge\"><title>0&#45;&gt;1</title>\n",
       "<path fill=\"none\" stroke=\"black\" d=\"M73.8959,-18C81.8536,-18 90.5358,-18 99.2979,-18\"/>\n",
       "<polygon fill=\"black\" stroke=\"black\" points=\"99.582,-21.5001 109.582,-18 99.5819,-14.5001 99.582,-21.5001\"/>\n",
       "</g>\n",
       "</g>\n",
       "</svg>\n"
      ],
      "text/plain": [
       "<graphviz.dot.Digraph at 0x7f3007f8be48>"
      ]
     },
     "execution_count": 4,
     "metadata": {},
     "output_type": "execute_result"
    }
   ],
   "source": [
    "from lale.lib.lale import NoOp\n",
    "import lale.helpers\n",
    "lale.helpers.wrap_imported_operators()\n",
    "planned_orig = (PCA | NoOp) >> (LR | XGBoost | SVM)\n",
    "lale.helpers.to_graphviz(planned_orig)"
   ]
  },
  {
   "cell_type": "markdown",
   "metadata": {},
   "source": [
    "The call to `wrap_imported_operators` augments the algorithms\n",
    "that were imported from scikit-learn with metadata about\n",
    "their hyperparameters. The Lale combinator `|` indicates\n",
    "algorithmic choice. For example, `(PCA | NoOp)` indicates that\n",
    "it is up to the AI Automation to decide whether to apply a PCA\n",
    "transformer or whether to use a no-op transformer that leaves\n",
    "the data unchanged. Note that the `PCA` itself is not configured\n",
    "with concrete hyperparameters, since those will be left for the\n",
    "AI automation to choose instead. Finally, the Lale combinator\n",
    "`>>` pipes the output from the transformer into the input to the\n",
    "classifier, which is itself a choice between `(LR | XGBoost | SVM)`.\n",
    "The search space is encapsulated in the object `planned_orig`.\n",
    "\n",
    "We will use hyperopt to select the algorithms and to tune their\n",
    "hyperparameters. Lale provides a `HyperoptClassifier` that\n",
    "turns a search space such as the one specified above into an\n",
    "optimization problem for hyperopt. After 50 trials, we get back\n",
    "the model that performed best for the default optimization\n",
    "objective, which is accuracy."
   ]
  },
  {
   "cell_type": "code",
   "execution_count": 5,
   "metadata": {},
   "outputs": [
    {
     "name": "stdout",
     "output_type": "stream",
     "text": [
      "100%|██████████| 50/50 [01:34<00:00,  1.04it/s, best loss: -0.7414010246628272]\n"
     ]
    },
    {
     "data": {
      "image/svg+xml": [
       "<?xml version=\"1.0\" encoding=\"UTF-8\" standalone=\"no\"?>\n",
       "<!DOCTYPE svg PUBLIC \"-//W3C//DTD SVG 1.1//EN\"\n",
       " \"http://www.w3.org/Graphics/SVG/1.1/DTD/svg11.dtd\">\n",
       "<!-- Generated by graphviz version 2.38.0 (20140413.2041)\n",
       " -->\n",
       "<!-- Title: %3 Pages: 1 -->\n",
       "<svg width=\"152pt\" height=\"44pt\"\n",
       " viewBox=\"0.00 0.00 152.00 44.00\" xmlns=\"http://www.w3.org/2000/svg\" xmlns:xlink=\"http://www.w3.org/1999/xlink\">\n",
       "<g id=\"graph0\" class=\"graph\" transform=\"scale(1 1) rotate(0) translate(4 40)\">\n",
       "<title>%3</title>\n",
       "<polygon fill=\"white\" stroke=\"none\" points=\"-4,4 -4,-40 148,-40 148,4 -4,4\"/>\n",
       "<!-- 0 -->\n",
       "<g id=\"node1\" class=\"node\"><title>0</title>\n",
       "<g id=\"a_node1\"><a xlink:href=\"https://scikit-learn.org/stable/modules/generated/sklearn.decomposition.PCA.html\" xlink:title=\"PCA(whiten=True)\">\n",
       "<ellipse fill=\"white\" stroke=\"black\" cx=\"27\" cy=\"-18\" rx=\"27\" ry=\"18\"/>\n",
       "<text text-anchor=\"middle\" x=\"27\" y=\"-15.2\" font-family=\"Times,serif\" font-size=\"11.00\">PCA</text>\n",
       "</a>\n",
       "</g>\n",
       "</g>\n",
       "<!-- 1 -->\n",
       "<g id=\"node2\" class=\"node\"><title>1</title>\n",
       "<g id=\"a_node2\"><a xlink:href=\"https://scikit-learn.org/stable/modules/generated/sklearn.svm.LinearSVC.html\" xlink:title=\"SVM(C=6046.432603635012, dual=False, penalty=&#39;l1&#39;, tol=0.0005968729635880037)\">\n",
       "<ellipse fill=\"white\" stroke=\"black\" cx=\"117\" cy=\"-18\" rx=\"27\" ry=\"18\"/>\n",
       "<text text-anchor=\"middle\" x=\"117\" y=\"-15.2\" font-family=\"Times,serif\" font-size=\"11.00\">SVM</text>\n",
       "</a>\n",
       "</g>\n",
       "</g>\n",
       "<!-- 0&#45;&gt;1 -->\n",
       "<g id=\"edge1\" class=\"edge\"><title>0&#45;&gt;1</title>\n",
       "<path fill=\"none\" stroke=\"black\" d=\"M54.4029,-18C62.3932,-18 71.3106,-18 79.8241,-18\"/>\n",
       "<polygon fill=\"black\" stroke=\"black\" points=\"79.919,-21.5001 89.919,-18 79.919,-14.5001 79.919,-21.5001\"/>\n",
       "</g>\n",
       "</g>\n",
       "</svg>\n"
      ],
      "text/plain": [
       "<graphviz.dot.Digraph at 0x7f2ff28db6d8>"
      ]
     },
     "execution_count": 5,
     "metadata": {},
     "output_type": "execute_result"
    }
   ],
   "source": [
    "from lale.lib.lale.hyperopt_classifier import HyperoptClassifier\n",
    "import logging\n",
    "lale.lib.lale.hyperopt_classifier.logger.setLevel(logging.ERROR)\n",
    "optimizer = HyperoptClassifier(planned_orig, cv=3, max_evals=50)\n",
    "trained_orig = optimizer.fit(train_X, train_y)\n",
    "lale.helpers.to_graphviz(trained_orig)"
   ]
  },
  {
   "cell_type": "markdown",
   "metadata": {},
   "source": [
    "As shown by the visualization, the search found a pipeline\n",
    "with a PCA transformer and an SVM classifier.\n",
    "Inspecting the hyperparameters reveals which values\n",
    "worked best for the 50 trials on the dataset at hand."
   ]
  },
  {
   "cell_type": "code",
   "execution_count": 6,
   "metadata": {},
   "outputs": [
    {
     "data": {
      "text/markdown": [
       "```python\n",
       "pca = PCA(whiten=True)\n",
       "svm = SVM(C=6046.432603635012, dual=False, penalty='l1', tol=0.0005968729635880037)\n",
       "pipeline = pca >> svm\n",
       "```"
      ],
      "text/plain": [
       "<IPython.core.display.Markdown object>"
      ]
     },
     "metadata": {},
     "output_type": "display_data"
    }
   ],
   "source": [
    "import lale.pretty_print\n",
    "lale.pretty_print.ipython_display(trained_orig, show_imports=False)"
   ]
  },
  {
   "cell_type": "markdown",
   "metadata": {},
   "source": [
    "We can use the accuracy score metric from scikit-learn to measure\n",
    "how well the pipeline accomplishes the objective for which it\n",
    "was trained."
   ]
  },
  {
   "cell_type": "code",
   "execution_count": 7,
   "metadata": {},
   "outputs": [
    {
     "name": "stdout",
     "output_type": "stream",
     "text": [
      "accuracy 76.7%\n"
     ]
    }
   ],
   "source": [
    "from sklearn.metrics import accuracy_score\n",
    "predictions = trained_orig.predict(test_X)\n",
    "print(f'accuracy {accuracy_score(test_y, predictions):.1%}')"
   ]
  },
  {
   "cell_type": "markdown",
   "metadata": {},
   "source": [
    "The accuracy is close to the state of the art for this dataset.\n",
    "However, we would like our model to be not just accurate but also\n",
    "fair. As discussed before, we will use disparate impact as the\n",
    "fairness metric. Also, for illustrative purposes, we will only\n",
    "look at one of the protected attributes, sex, which in this dataset\n",
    "is encoded as 0 for female and 1 for male."
   ]
  },
  {
   "cell_type": "code",
   "execution_count": 8,
   "metadata": {},
   "outputs": [],
   "source": [
    "protected_attr = 'sex'\n",
    "unpr_groups = [{protected_attr: 0.0}]\n",
    "priv_groups = [{protected_attr: 1.0}]"
   ]
  },
  {
   "cell_type": "markdown",
   "metadata": {},
   "source": [
    "Since we will be evaluating different models for both accuracy\n",
    "and disparate impact, we define a helper function, `evaluate`\n",
    "for that. The function uses the model to make predictions for\n",
    "a given test dataset, then calculates the metrics based on \n",
    "those predictions."
   ]
  },
  {
   "cell_type": "code",
   "execution_count": 9,
   "metadata": {},
   "outputs": [],
   "source": [
    "import aif360.metrics\n",
    "def evaluate(model, dataset):\n",
    "    X, y = to_dataframes(dataset)\n",
    "    predictions = model.predict(X)\n",
    "    accuracy = accuracy_score(y, predictions)\n",
    "    dataset_pred = dataset.copy()\n",
    "    dataset_pred.labels = predictions\n",
    "    fairness_metrics = aif360.metrics.BinaryLabelDatasetMetric(\n",
    "        dataset_pred, unpr_groups, priv_groups)\n",
    "    disparate_impact = fairness_metrics.disparate_impact()\n",
    "    return {'accuracy': accuracy, 'disparate_impact': disparate_impact}"
   ]
  },
  {
   "cell_type": "markdown",
   "metadata": {},
   "source": [
    "Using this helper function, we can measure both metrics on\n",
    "the best model found by the original AI automation run."
   ]
  },
  {
   "cell_type": "code",
   "execution_count": 10,
   "metadata": {},
   "outputs": [
    {
     "data": {
      "text/plain": [
       "{'accuracy': 0.7666666666666667, 'disparate_impact': 0.7374581939799331}"
      ]
     },
     "execution_count": 10,
     "metadata": {},
     "output_type": "execute_result"
    }
   ],
   "source": [
    "evaluate(trained_orig, test_ds)"
   ]
  },
  {
   "cell_type": "markdown",
   "metadata": {},
   "source": [
    "The disparate impact for this model is 0.7, which is far from\n",
    "the ideal value for this metric, which is 1.0. We would prefer a\n",
    "model that is much more fair. The AIF360 toolkit provides several\n",
    "algorithms for mitigating fairness problems. One of them is\n",
    "`DisparateImpactRemover`, which modifies the features that are\n",
    "not the protected attribute in such a way that it is hard to\n",
    "predict the protected attribute from them. We use a Lale version\n",
    "of `DisparateImpactRemover` that wraps the corresponding AIF360\n",
    "algorithm for AI Automation. This algorithm has a hyperparameter\n",
    "`repair_level` that we will tune with hyperparameter optimization."
   ]
  },
  {
   "cell_type": "code",
   "execution_count": 11,
   "metadata": {},
   "outputs": [
    {
     "data": {
      "text/plain": [
       "{'description': 'Repair amount from 0 = none to 1 = full.',\n",
       " 'type': 'number',\n",
       " 'minimum': 0,\n",
       " 'maximum': 1,\n",
       " 'default': 1}"
      ]
     },
     "execution_count": 11,
     "metadata": {},
     "output_type": "execute_result"
    }
   ],
   "source": [
    "from lale.lib.aif360 import DisparateImpactRemover\n",
    "DisparateImpactRemover.hyperparam_schema('repair_level')"
   ]
  },
  {
   "cell_type": "markdown",
   "metadata": {},
   "source": [
    "We compose the bias mitigation algorithm in a pipeline with\n",
    "a projection operator that strips out the projected\n",
    "attribute, followed by a choice of classifiers as before.\n",
    "In the visualization, light blue indicates trainable operators\n",
    "and dark blue indicates that automation must make a choice before\n",
    "the operators can be trained. Compared to the earlier pipeline,\n",
    "we omit the PCA, to make it easier for the estimator to disregard\n",
    "features that cause poor disparate impact."
   ]
  },
  {
   "cell_type": "code",
   "execution_count": 12,
   "metadata": {},
   "outputs": [
    {
     "data": {
      "image/svg+xml": [
       "<?xml version=\"1.0\" encoding=\"UTF-8\" standalone=\"no\"?>\n",
       "<!DOCTYPE svg PUBLIC \"-//W3C//DTD SVG 1.1//EN\"\n",
       " \"http://www.w3.org/Graphics/SVG/1.1/DTD/svg11.dtd\">\n",
       "<!-- Generated by graphviz version 2.38.0 (20140413.2041)\n",
       " -->\n",
       "<!-- Title: %3 Pages: 1 -->\n",
       "<svg width=\"330pt\" height=\"65pt\"\n",
       " viewBox=\"0.00 0.00 330.41 64.57\" xmlns=\"http://www.w3.org/2000/svg\" xmlns:xlink=\"http://www.w3.org/1999/xlink\">\n",
       "<g id=\"graph0\" class=\"graph\" transform=\"scale(1 1) rotate(0) translate(4 60.5685)\">\n",
       "<title>%3</title>\n",
       "<polygon fill=\"white\" stroke=\"none\" points=\"-4,4 -4,-60.5685 326.409,-60.5685 326.409,4 -4,4\"/>\n",
       "<!-- 0 -->\n",
       "<g id=\"node1\" class=\"node\"><title>0</title>\n",
       "<g id=\"a_node1\"><a xlink:href=\"https://aif360.readthedocs.io/en/latest/modules/preprocessing.html#disparate-impact-remover\" xlink:title=\"DisparateImpactRemover(sensitive_attribute=&#39;sex&#39;)\">\n",
       "<ellipse fill=\"#b0e2ff\" stroke=\"black\" cx=\"39.598\" cy=\"-28.2843\" rx=\"39.6962\" ry=\"28.0702\"/>\n",
       "<text text-anchor=\"middle\" x=\"39.598\" y=\"-37.4843\" font-family=\"Times,serif\" font-size=\"11.00\">Disparate&#45;</text>\n",
       "<text text-anchor=\"middle\" x=\"39.598\" y=\"-25.4843\" font-family=\"Times,serif\" font-size=\"11.00\">Impact&#45;</text>\n",
       "<text text-anchor=\"middle\" x=\"39.598\" y=\"-13.4843\" font-family=\"Times,serif\" font-size=\"11.00\">Remover</text>\n",
       "</a>\n",
       "</g>\n",
       "</g>\n",
       "<!-- 1 -->\n",
       "<g id=\"node2\" class=\"node\"><title>1</title>\n",
       "<g id=\"a_node2\"><a xlink:href=\"https://lale.readthedocs.io/en/latest/modules/lale.lib.lale.project.html\" xlink:title=\"Project(columns=[0, 1, 2, 3, 4, 5, 6, 8, 9, 10, 11, 12, 13, 14, 15, 16, 17, 18, 19, 20, 21, 22, 23, 24, 25, 26, 27, 28, 29, 30, 31, 32, 33, 34, 35, 36, 37, 38, 39, 40, 41, 42, 43, 44, 45, 46, 47, 48, 49, 50, 51, 52, 53, 54, 55, 56, 57])\">\n",
       "<ellipse fill=\"#b0e2ff\" stroke=\"black\" cx=\"142.196\" cy=\"-28.2843\" rx=\"27\" ry=\"18\"/>\n",
       "<text text-anchor=\"middle\" x=\"142.196\" y=\"-25.4843\" font-family=\"Times,serif\" font-size=\"11.00\">Project</text>\n",
       "</a>\n",
       "</g>\n",
       "</g>\n",
       "<!-- 0&#45;&gt;1 -->\n",
       "<g id=\"edge1\" class=\"edge\"><title>0&#45;&gt;1</title>\n",
       "<path fill=\"none\" stroke=\"black\" d=\"M79.2041,-28.2843C87.6193,-28.2843 96.4967,-28.2843 104.822,-28.2843\"/>\n",
       "<polygon fill=\"black\" stroke=\"black\" points=\"104.995,-31.7844 114.995,-28.2843 104.995,-24.7844 104.995,-31.7844\"/>\n",
       "</g>\n",
       "<!-- 2 -->\n",
       "<g id=\"node3\" class=\"node\"><title>2</title>\n",
       "<g id=\"a_node3\"><a xlink:title=\"LR | XGBoost | SVM\">\n",
       "<ellipse fill=\"#7ec0ee\" stroke=\"black\" cx=\"263.802\" cy=\"-28.2843\" rx=\"58.713\" ry=\"18\"/>\n",
       "<text text-anchor=\"middle\" x=\"263.802\" y=\"-25.4843\" font-family=\"Times,serif\" font-size=\"11.00\">LR | XGBoost | SVM</text>\n",
       "</a>\n",
       "</g>\n",
       "</g>\n",
       "<!-- 1&#45;&gt;2 -->\n",
       "<g id=\"edge2\" class=\"edge\"><title>1&#45;&gt;2</title>\n",
       "<path fill=\"none\" stroke=\"black\" d=\"M169.444,-28.2843C177.038,-28.2843 185.7,-28.2843 194.615,-28.2843\"/>\n",
       "<polygon fill=\"black\" stroke=\"black\" points=\"194.746,-31.7844 204.746,-28.2843 194.745,-24.7844 194.746,-31.7844\"/>\n",
       "</g>\n",
       "</g>\n",
       "</svg>\n"
      ],
      "text/plain": [
       "<graphviz.dot.Digraph at 0x7f2ff1ec40b8>"
      ]
     },
     "execution_count": 12,
     "metadata": {},
     "output_type": "execute_result"
    }
   ],
   "source": [
    "from lale.lib.lale import Project\n",
    "dimr = DisparateImpactRemover(sensitive_attribute=protected_attr)\n",
    "proj = Project(columns=[i for i, name in enumerate(creditg.feature_names)\n",
    "                        if name != protected_attr])\n",
    "planned_fairer = dimr >> proj >> (LR | XGBoost | SVM)\n",
    "lale.helpers.to_graphviz(planned_fairer)"
   ]
  },
  {
   "cell_type": "markdown",
   "metadata": {},
   "source": [
    "Unlike accuracy, which is a metric that can be computed from\n",
    "predicted labels alone, fairness metrics such as disparate\n",
    "impact need to look not just at labels but also at features.\n",
    "For instance, disparate impact is defined by comparing outcomes\n",
    "between a privileged group and an unprivileged group, so it\n",
    "needs to check the protected attribute to determine group\n",
    "membership for the sample person at hand. Unfortunately, the\n",
    "need to look at the features from the test dataset means we\n",
    "cannot use the simple Lale HyperoptClassifier that we saw\n",
    "earlier. Instead, we will write more low-level code to use the\n",
    "hyperopt library directly.\n",
    "\n",
    "First, we define a loss function that incorporates both accuracy\n",
    "and disparate impact. The objective will be to minimize the loss.\n",
    "If the disparate impact is outside of  a margin of 10% around its\n",
    "ideal of 1, the loss is 100, a high value. Otherwise, the loss is\n",
    "(1 - accuracy), thus rewarding high accuracy by returning low loss."
   ]
  },
  {
   "cell_type": "code",
   "execution_count": 13,
   "metadata": {},
   "outputs": [],
   "source": [
    "def metrics_to_loss(metrics):\n",
    "    if metrics['disparate_impact'] < 0.9 or 1.1 < metrics['disparate_impact']:\n",
    "        return 100\n",
    "    else:\n",
    "        return 1.0 - metrics['accuracy']"
   ]
  },
  {
   "cell_type": "markdown",
   "metadata": {},
   "source": [
    "The following code implements a search that uses the above\n",
    "loss function for hyperopt, along with 3-fold cross validation\n",
    "to improve generalization. The cross-validation uses two different\n",
    "ways for representing the data: pandas DataFrames for training\n",
    "the scikit-learn compatible pipeline and AIF360 Datasets for\n",
    "measuring the disparate impact."
   ]
  },
  {
   "cell_type": "code",
   "execution_count": 14,
   "metadata": {},
   "outputs": [],
   "source": [
    "import hyperopt\n",
    "import lale.search.op2hp\n",
    "import statistics\n",
    "import numpy as np\n",
    "\n",
    "def search(planned, dataset, max_evals):\n",
    "    test_ds = dataset.split(3, shuffle=True, seed=42)\n",
    "    test_df = [to_dataframes(ds) for ds in test_ds]\n",
    "    train_df = [(pd.concat([Xy[0] for j, Xy in enumerate(test_df) if i != j]),\n",
    "                 pd.concat([Xy[1] for j, Xy in enumerate(test_df) if i != j]))\n",
    "                for i in range(len(test_df))]\n",
    "    def point_to_trained(search_point, train_X, train_y):\n",
    "        trainable = lale.helpers.create_instance_from_hyperopt_search_space(\n",
    "            planned, search_point)\n",
    "        trained = trainable.fit(train_X, train_y)\n",
    "        return trained\n",
    "    def objective(search_point):\n",
    "        losses = []\n",
    "        for i in range(len(test_ds)):\n",
    "            try:\n",
    "                trained = point_to_trained(search_point, *train_df[i])\n",
    "            except BaseException as e:\n",
    "                losses.append(100)\n",
    "            else:\n",
    "                metrics = evaluate(trained, test_ds[i])\n",
    "                losses.append(metrics_to_loss(metrics))\n",
    "        loss = 100.0 if 100 in losses else statistics.mean(losses)\n",
    "        return {'loss': loss, 'status': hyperopt.STATUS_OK}\n",
    "    search_space = lale.search.op2hp.hyperopt_search_space(planned)\n",
    "    trials = hyperopt.Trials()\n",
    "    rstate = np.random.RandomState(42)\n",
    "    hyperopt.fmin(objective, search_space, hyperopt.tpe.suggest,\n",
    "                  max_evals, trials, rstate)\n",
    "    best_point = hyperopt.space_eval(search_space, trials.argmin)\n",
    "    result = point_to_trained(best_point, *to_dataframes(dataset))\n",
    "    return result"
   ]
  },
  {
   "cell_type": "markdown",
   "metadata": {},
   "source": [
    "Now, we have all the pieces in place to use AI Automation\n",
    "on our `planned_fairer` pipeline for both accuracy and\n",
    "disparate impact."
   ]
  },
  {
   "cell_type": "code",
   "execution_count": 15,
   "metadata": {},
   "outputs": [
    {
     "name": "stdout",
     "output_type": "stream",
     "text": [
      "100%|███████████| 50/50 [04:47<00:00,  3.18s/it, best loss: 0.2785419952801927]\n",
      "{'accuracy': 0.7366666666666667, 'disparate_impact': 1.0158210583742497}\n"
     ]
    },
    {
     "data": {
      "image/svg+xml": [
       "<?xml version=\"1.0\" encoding=\"UTF-8\" standalone=\"no\"?>\n",
       "<!DOCTYPE svg PUBLIC \"-//W3C//DTD SVG 1.1//EN\"\n",
       " \"http://www.w3.org/Graphics/SVG/1.1/DTD/svg11.dtd\">\n",
       "<!-- Generated by graphviz version 2.38.0 (20140413.2041)\n",
       " -->\n",
       "<!-- Title: %3 Pages: 1 -->\n",
       "<svg width=\"267pt\" height=\"65pt\"\n",
       " viewBox=\"0.00 0.00 267.20 64.57\" xmlns=\"http://www.w3.org/2000/svg\" xmlns:xlink=\"http://www.w3.org/1999/xlink\">\n",
       "<g id=\"graph0\" class=\"graph\" transform=\"scale(1 1) rotate(0) translate(4 60.5685)\">\n",
       "<title>%3</title>\n",
       "<polygon fill=\"white\" stroke=\"none\" points=\"-4,4 -4,-60.5685 263.196,-60.5685 263.196,4 -4,4\"/>\n",
       "<!-- 0 -->\n",
       "<g id=\"node1\" class=\"node\"><title>0</title>\n",
       "<g id=\"a_node1\"><a xlink:href=\"https://aif360.readthedocs.io/en/latest/modules/preprocessing.html#disparate-impact-remover\" xlink:title=\"DisparateImpactRemover(repair_level=0.6610601696258476, sensitive_attribute=&#39;sex&#39;)\">\n",
       "<ellipse fill=\"white\" stroke=\"black\" cx=\"39.598\" cy=\"-28.2843\" rx=\"39.6962\" ry=\"28.0702\"/>\n",
       "<text text-anchor=\"middle\" x=\"39.598\" y=\"-37.4843\" font-family=\"Times,serif\" font-size=\"11.00\">Disparate&#45;</text>\n",
       "<text text-anchor=\"middle\" x=\"39.598\" y=\"-25.4843\" font-family=\"Times,serif\" font-size=\"11.00\">Impact&#45;</text>\n",
       "<text text-anchor=\"middle\" x=\"39.598\" y=\"-13.4843\" font-family=\"Times,serif\" font-size=\"11.00\">Remover</text>\n",
       "</a>\n",
       "</g>\n",
       "</g>\n",
       "<!-- 1 -->\n",
       "<g id=\"node2\" class=\"node\"><title>1</title>\n",
       "<g id=\"a_node2\"><a xlink:href=\"https://lale.readthedocs.io/en/latest/modules/lale.lib.lale.project.html\" xlink:title=\"Project(columns=[0, 1, 2, 3, 4, 5, 6, 8, 9, 10, 11, 12, 13, 14, 15, 16, 17, 18, 19, 20, 21, 22, 23, 24, 25, 26, 27, 28, 29, 30, 31, 32, 33, 34, 35, 36, 37, 38, 39, 40, 41, 42, 43, 44, 45, 46, 47, 48, 49, 50, 51, 52, 53, 54, 55, 56, 57])\">\n",
       "<ellipse fill=\"white\" stroke=\"black\" cx=\"142.196\" cy=\"-28.2843\" rx=\"27\" ry=\"18\"/>\n",
       "<text text-anchor=\"middle\" x=\"142.196\" y=\"-25.4843\" font-family=\"Times,serif\" font-size=\"11.00\">Project</text>\n",
       "</a>\n",
       "</g>\n",
       "</g>\n",
       "<!-- 0&#45;&gt;1 -->\n",
       "<g id=\"edge1\" class=\"edge\"><title>0&#45;&gt;1</title>\n",
       "<path fill=\"none\" stroke=\"black\" d=\"M79.2041,-28.2843C87.6193,-28.2843 96.4967,-28.2843 104.822,-28.2843\"/>\n",
       "<polygon fill=\"black\" stroke=\"black\" points=\"104.995,-31.7844 114.995,-28.2843 104.995,-24.7844 104.995,-31.7844\"/>\n",
       "</g>\n",
       "<!-- 2 -->\n",
       "<g id=\"node3\" class=\"node\"><title>2</title>\n",
       "<g id=\"a_node3\"><a xlink:title=\"XGBoost(colsample_bylevel=0.5263259791147545, colsample_bytree=0.6208249589301228, learning_rate=0.3698978135325321, max_depth=17, min_child_weight=11, n_estimators=112, reg_alpha=0.5471207034155989, reg_lambda=0.9203332694595137, subsample=0.533586418...\">\n",
       "<ellipse fill=\"white\" stroke=\"black\" cx=\"232.196\" cy=\"-28.2843\" rx=\"27\" ry=\"19.6\"/>\n",
       "<text text-anchor=\"middle\" x=\"232.196\" y=\"-31.4843\" font-family=\"Times,serif\" font-size=\"11.00\">XG&#45;</text>\n",
       "<text text-anchor=\"middle\" x=\"232.196\" y=\"-19.4843\" font-family=\"Times,serif\" font-size=\"11.00\">Boost</text>\n",
       "</a>\n",
       "</g>\n",
       "</g>\n",
       "<!-- 1&#45;&gt;2 -->\n",
       "<g id=\"edge2\" class=\"edge\"><title>1&#45;&gt;2</title>\n",
       "<path fill=\"none\" stroke=\"black\" d=\"M169.599,-28.2843C177.589,-28.2843 186.507,-28.2843 195.02,-28.2843\"/>\n",
       "<polygon fill=\"black\" stroke=\"black\" points=\"195.115,-31.7844 205.115,-28.2843 195.115,-24.7844 195.115,-31.7844\"/>\n",
       "</g>\n",
       "</g>\n",
       "</svg>\n"
      ],
      "text/plain": [
       "<graphviz.dot.Digraph at 0x7f304a11e2e8>"
      ]
     },
     "execution_count": 15,
     "metadata": {},
     "output_type": "execute_result"
    }
   ],
   "source": [
    "trained_fairer = search(planned_fairer, train_ds, 50)\n",
    "print(evaluate(trained_fairer, test_ds))\n",
    "lale.helpers.to_graphviz(trained_fairer)"
   ]
  },
  {
   "cell_type": "markdown",
   "metadata": {},
   "source": [
    "As the result demonstrates, the best model found by AI Automation\n",
    "has similar accuracy and better disparate impact as the one we saw\n",
    "before. Also, it has tuned the repair level and\n",
    "has picked and tuned a classifier."
   ]
  },
  {
   "cell_type": "code",
   "execution_count": 16,
   "metadata": {},
   "outputs": [
    {
     "data": {
      "text/markdown": [
       "```python\n",
       "disparate_impact_remover = DisparateImpactRemover(repair_level=0.6610601696258476, sensitive_attribute='sex')\n",
       "project = Project(columns=[0, 1, 2, 3, 4, 5, 6, 8, 9, 10, 11, 12, 13, 14, 15, 16, 17, 18, 19, 20, 21, 22, 23, 24, 25, 26, 27, 28, 29, 30, 31, 32, 33, 34, 35, 36, 37, 38, 39, 40, 41, 42, 43, 44, 45, 46, 47, 48, 49, 50, 51, 52, 53, 54, 55, 56, 57])\n",
       "xgboost = XGBoost(colsample_bylevel=0.5263259791147545, colsample_bytree=0.6208249589301228, learning_rate=0.3698978135325321, max_depth=17, min_child_weight=11, n_estimators=112, reg_alpha=0.5471207034155989, reg_lambda=0.9203332694595137, subsample=0.5335864182335385)\n",
       "pipeline = disparate_impact_remover >> project >> xgboost\n",
       "```"
      ],
      "text/plain": [
       "<IPython.core.display.Markdown object>"
      ]
     },
     "metadata": {},
     "output_type": "display_data"
    }
   ],
   "source": [
    "lale.pretty_print.ipython_display(trained_fairer, show_imports=False)"
   ]
  },
  {
   "cell_type": "markdown",
   "metadata": {},
   "source": [
    "These results may vary by dataset and search space.\n",
    "\n",
    "In summary, this blog post showed you how to use AI Automation\n",
    "from Lale, while incorporating a fairness mitigation technique\n",
    "into the pipeline and a fairness metric into the objective.\n",
    "Of course, this blog post only scratches the surface of what can\n",
    "be done with AI Automation and AI Fairness. We encourage you to\n",
    "check out the open-source projects Lale and AIF360 and use them\n",
    "to build your own fair and accurate models!\n",
    "\n",
    "- Lale: https://github.com/IBM/lale\n",
    "- AIF360: https://aif360.mybluemix.net/"
   ]
  }
 ],
 "metadata": {
  "kernelspec": {
   "display_name": "Python 3",
   "language": "python",
   "name": "python3"
  },
  "language_info": {
   "codemirror_mode": {
    "name": "ipython",
    "version": 3
   },
   "file_extension": ".py",
   "mimetype": "text/x-python",
   "name": "python",
   "nbconvert_exporter": "python",
   "pygments_lexer": "ipython3",
   "version": "3.6.5"
  }
 },
 "nbformat": 4,
 "nbformat_minor": 2
}
