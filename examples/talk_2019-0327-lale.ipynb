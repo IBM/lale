{
 "cells": [
  {
   "cell_type": "markdown",
   "metadata": {},
   "source": [
    "# Lale: Language for Automated Learning Exploration\n",
    "\n",
    "Martin Hirzel, Kiran Kate, Avi Shinnar, Guillaume Baudart, and Pari Ram\n",
    "\n",
    "27 March 2019\n",
    "\n",
    "## Value Proposition\n",
    "\n",
    "* Automation: facilitate automated search and composition of pipelines\n",
    "* Portability: independent of library or programming language, cloud-ready\n",
    "* Correctness: single source of truth, correct by construction, type-checked\n",
    "* Usability: leverage sklearn mind-share, popularity, and codes\n",
    "\n",
    "<img src=\"img/2019-0327-value.jpg\" style=\"width:50%\" align=\"left\">"
   ]
  },
  {
   "cell_type": "markdown",
   "metadata": {},
   "source": [
    "## Usability\n",
    "\n",
    "To make Lale easy to learn and use, its APIs imitate those of\n",
    "[sklearn](https://scikit-learn.org/), with init, fit, and predict,\n",
    "and with pipelines. That said, Lale makes some careful changes\n",
    "beyond sklearn to foster correctness."
   ]
  },
  {
   "cell_type": "code",
   "execution_count": 1,
   "metadata": {},
   "outputs": [
    {
     "name": "stdout",
     "output_type": "stream",
     "text": [
      "truth  [2, 1, 1, 0, 2, 0, 1, 1, 0, 0, 1, 0, 1, 1, 2, 0, 2, 1, 1, 0, 0, 2, 2, 0, 2, 1, 0, 2, 1, 0]\n"
     ]
    }
   ],
   "source": [
    "from lale.datasets import load_iris_df\n",
    "(X_train, y_train), (X_test, y_test) = load_iris_df()\n",
    "print('truth  {}'.format(y_test.tolist()))"
   ]
  },
  {
   "cell_type": "code",
   "execution_count": 2,
   "metadata": {},
   "outputs": [
    {
     "name": "stdout",
     "output_type": "stream",
     "text": [
      "actual [2, 2, 1, 0, 2, 0, 2, 2, 0, 0, 2, 0, 2, 1, 2, 0, 2, 2, 1, 0, 0, 2, 2, 0, 2, 2, 0, 2, 1, 0]\n"
     ]
    }
   ],
   "source": [
    "from lale.lib.sklearn import LogisticRegression\n",
    "trainable = LogisticRegression(LogisticRegression.solver.lbfgs, C=0.01)\n",
    "trained = trainable.fit(X_train, y_train)\n",
    "predictions = trained.predict(X_test)\n",
    "print('actual {}'.format(predictions.tolist()))"
   ]
  },
  {
   "cell_type": "code",
   "execution_count": 3,
   "metadata": {},
   "outputs": [
    {
     "name": "stdout",
     "output_type": "stream",
     "text": [
      "accuracy 76.7%\n"
     ]
    }
   ],
   "source": [
    "from sklearn.metrics import accuracy_score\n",
    "print('accuracy {:.1%}'.format(accuracy_score(y_test, predictions)))"
   ]
  },
  {
   "cell_type": "markdown",
   "metadata": {},
   "source": [
    "## Correctness\n",
    "\n",
    "Lale uses [JSON Schema](https://json-schema.org/) to check for valid\n",
    "hyperparameters. These schemas enable not just validation but also\n",
    "interactive documentation. Thanks to using a single source of truth, the\n",
    "documentation is correct by construction."
   ]
  },
  {
   "cell_type": "code",
   "execution_count": 4,
   "metadata": {},
   "outputs": [
    {
     "name": "stderr",
     "output_type": "stream",
     "text": [
      "Invalid configuration for LogisticRegression(solver='adam', C=0.01) due to invalid value solver=adam.\n",
      "Schema of argument solver: {\n",
      "    'description': 'Algorithm for optimization problem.',\n",
      "    'enum': ['newton-cg', 'lbfgs', 'liblinear', 'sag', 'saga'],\n",
      "    'default': 'liblinear'}\n",
      "Value: adam\n"
     ]
    }
   ],
   "source": [
    "import jsonschema, sys\n",
    "try:\n",
    "    LogisticRegression(solver='adam', C=0.01)\n",
    "except jsonschema.ValidationError as e:\n",
    "    print(e.message, file=sys.stderr)"
   ]
  },
  {
   "cell_type": "code",
   "execution_count": 5,
   "metadata": {},
   "outputs": [
    {
     "data": {
      "text/plain": [
       "{'description': 'Inverse regularization strength. Smaller values specify stronger regularization.',\n",
       " 'type': 'number',\n",
       " 'distribution': 'loguniform',\n",
       " 'minimum': 0.0,\n",
       " 'exclusiveMinimum': True,\n",
       " 'default': 1.0,\n",
       " 'minimumForOptimizer': 0.03125,\n",
       " 'maximumForOptimizer': 32768}"
      ]
     },
     "execution_count": 5,
     "metadata": {},
     "output_type": "execute_result"
    }
   ],
   "source": [
    "LogisticRegression.hyperparam_schema('C')"
   ]
  },
  {
   "cell_type": "code",
   "execution_count": 6,
   "metadata": {},
   "outputs": [
    {
     "name": "stdout",
     "output_type": "stream",
     "text": [
      "{'solver': 'liblinear', 'penalty': 'l2', 'dual': False, 'C': 1.0, 'tol': 0.0001, 'fit_intercept': True, 'intercept_scaling': 1.0, 'class_weight': None, 'random_state': None, 'max_iter': 100, 'multi_class': 'ovr', 'verbose': 0, 'warm_start': False, 'n_jobs': None}\n"
     ]
    }
   ],
   "source": [
    "print(LogisticRegression.hyperparam_defaults())"
   ]
  },
  {
   "cell_type": "markdown",
   "metadata": {},
   "source": [
    "## Automation\n",
    "\n",
    "Lale can convert types to search spaces via a compiler from JSON Schema to\n",
    "[hyperopt](http://hyperopt.github.io/hyperopt/). We are also\n",
    "actively working towards various other forms of AI automation using various\n",
    "other tools."
   ]
  },
  {
   "cell_type": "code",
   "execution_count": 7,
   "metadata": {},
   "outputs": [
    {
     "name": "stdout",
     "output_type": "stream",
     "text": [
      "100%|█████████████████████████| 10/10 [00:01<00:00,  5.42it/s, best loss: -1.0]\n",
      "best accuracy 100.0%\n",
      "best hyperparams: {'C': 19766.56131116369, 'class_weight': None, 'dual': False, 'fit_intercept': False, 'multi_class': 'multinomial', 'name': 'lale.lib.sklearn.logistic_regression.LogisticRegression', 'penalty': 'l2', 'solver': 'sag', 'tol': 0.09189866109557217}\n"
     ]
    }
   ],
   "source": [
    "from lale.search.op2hp import hyperopt_search_space\n",
    "import lale.helpers\n",
    "from hyperopt import STATUS_OK, Trials, fmin, tpe, space_eval\n",
    "import warnings\n",
    "warnings.filterwarnings(\"ignore\")\n",
    "\n",
    "def objective(hyperparams):\n",
    "    trainable = LogisticRegression(**lale.helpers.dict_without(hyperparams, 'name'))\n",
    "    trained = trainable.fit(X_train, y_train)\n",
    "    predictions = trained.predict(X_test)\n",
    "    return {'loss': -accuracy_score(y_test, predictions), 'status': STATUS_OK}\n",
    "\n",
    "search_space = hyperopt_search_space(LogisticRegression)\n",
    "\n",
    "trials = Trials()\n",
    "fmin(objective, search_space, algo=tpe.suggest, max_evals=10, trials=trials)\n",
    "print(f'best accuracy {-min(trials.losses()):.1%}')\n",
    "print(f'best hyperparams: {space_eval(search_space, trials.argmin)}')"
   ]
  },
  {
   "cell_type": "markdown",
   "metadata": {},
   "source": [
    "## Portability\n",
    "\n",
    "Lale is designed for portability across libraries, languages, and platforms\n",
    "by:\n",
    "\n",
    "* Embracing JSON Schema\n",
    "* Minimizing direct code dependency on sklearn\n",
    "* Discouraging in-place mutation of models\n",
    "\n",
    "JSON Schema [implementations](https://json-schema.org/implementations.html):\n",
    "\n",
    "<img src=\"img/2019-0327-portability.jpg\" style=\"width:80%\" align=\"left\">"
   ]
  },
  {
   "cell_type": "markdown",
   "metadata": {},
   "source": [
    "## Composition\n",
    "\n",
    "Lale supports composite models, which resemble sklearn pipelines but are\n",
    "more expressive.\n",
    "\n",
    "* or (`|`) implements algorithmic choice\n",
    "* pipe (`>>`) implements sequential composition\n",
    "* and (`&`) implements parallel composition"
   ]
  },
  {
   "cell_type": "code",
   "execution_count": 8,
   "metadata": {},
   "outputs": [
    {
     "data": {
      "image/svg+xml": [
       "<?xml version=\"1.0\" encoding=\"UTF-8\" standalone=\"no\"?>\n",
       "<!DOCTYPE svg PUBLIC \"-//W3C//DTD SVG 1.1//EN\"\n",
       " \"http://www.w3.org/Graphics/SVG/1.1/DTD/svg11.dtd\">\n",
       "<!-- Generated by graphviz version 2.38.0 (20140413.2041)\n",
       " -->\n",
       "<!-- Title: cluster:(root) Pages: 1 -->\n",
       "<svg width=\"196pt\" height=\"166pt\"\n",
       " viewBox=\"0.00 0.00 196.02 166.00\" xmlns=\"http://www.w3.org/2000/svg\" xmlns:xlink=\"http://www.w3.org/1999/xlink\">\n",
       "<g id=\"graph0\" class=\"graph\" transform=\"scale(1 1) rotate(0) translate(4 162)\">\n",
       "<title>cluster:(root)</title>\n",
       "<g id=\"a_graph0\"><a xlink:title=\"(root) = ...\">\n",
       "<polygon fill=\"white\" stroke=\"none\" points=\"-4,4 -4,-162 192.024,-162 192.024,4 -4,4\"/>\n",
       "</a>\n",
       "</g>\n",
       "<g id=\"clust1\" class=\"cluster\"><title>cluster:choice</title>\n",
       "<g id=\"a_clust1\"><a xlink:title=\"choice = logistic_regression | k_neighbors_classifier\">\n",
       "<polygon fill=\"#7ec0ee\" stroke=\"black\" points=\"82,-8 82,-150 180.024,-150 180.024,-8 82,-8\"/>\n",
       "<text text-anchor=\"middle\" x=\"131.012\" y=\"-134.8\" font-family=\"Times,serif\" font-size=\"14.00\">Choice</text>\n",
       "</a>\n",
       "</g>\n",
       "</g>\n",
       "<!-- pca -->\n",
       "<g id=\"node1\" class=\"node\"><title>pca</title>\n",
       "<g id=\"a_node1\"><a xlink:href=\"https://scikit-learn.org/stable/modules/generated/sklearn.decomposition.PCA.html\" xlink:title=\"pca = PCA\">\n",
       "<ellipse fill=\"#7ec0ee\" stroke=\"black\" cx=\"27\" cy=\"-99\" rx=\"27\" ry=\"18\"/>\n",
       "<text text-anchor=\"middle\" x=\"27\" y=\"-96.2\" font-family=\"Times,serif\" font-size=\"11.00\">PCA</text>\n",
       "</a>\n",
       "</g>\n",
       "</g>\n",
       "<!-- logistic_regression -->\n",
       "<g id=\"node2\" class=\"node\"><title>logistic_regression</title>\n",
       "<g id=\"a_node2\"><a xlink:href=\"http://scikit-learn.org/stable/modules/generated/sklearn.linear_model.LogisticRegression.html\" xlink:title=\"logistic_regression = LogisticRegression\">\n",
       "<ellipse fill=\"#7ec0ee\" stroke=\"black\" cx=\"131.012\" cy=\"-99\" rx=\"41.0244\" ry=\"19.6\"/>\n",
       "<text text-anchor=\"middle\" x=\"131.012\" y=\"-102.2\" font-family=\"Times,serif\" font-size=\"11.00\">Logistic&#45;</text>\n",
       "<text text-anchor=\"middle\" x=\"131.012\" y=\"-90.2\" font-family=\"Times,serif\" font-size=\"11.00\">Regression</text>\n",
       "</a>\n",
       "</g>\n",
       "</g>\n",
       "<!-- pca&#45;&gt;logistic_regression -->\n",
       "<g id=\"edge1\" class=\"edge\"><title>pca&#45;&gt;logistic_regression</title>\n",
       "<path fill=\"none\" stroke=\"black\" d=\"M54.0059,-99C61.8976,-99 70.85,-99 79.7712,-99\"/>\n",
       "<polygon fill=\"black\" stroke=\"black\" points=\"72.0002,-102.5 82,-99 71.9998,-95.5004 72.0002,-102.5\"/>\n",
       "</g>\n",
       "<!-- k_neighbors_classifier -->\n",
       "<g id=\"node3\" class=\"node\"><title>k_neighbors_classifier</title>\n",
       "<g id=\"a_node3\"><a xlink:href=\"https://scikit-learn.org/stable/modules/generated/sklearn.neighbors.KNeighborsClassifier.html\" xlink:title=\"k_neighbors_classifier = KNeighborsClassifier\">\n",
       "<ellipse fill=\"#7ec0ee\" stroke=\"black\" cx=\"131.012\" cy=\"-44\" rx=\"41.0244\" ry=\"28.0702\"/>\n",
       "<text text-anchor=\"middle\" x=\"131.012\" y=\"-53.2\" font-family=\"Times,serif\" font-size=\"11.00\">K&#45;</text>\n",
       "<text text-anchor=\"middle\" x=\"131.012\" y=\"-41.2\" font-family=\"Times,serif\" font-size=\"11.00\">Neighbors&#45;</text>\n",
       "<text text-anchor=\"middle\" x=\"131.012\" y=\"-29.2\" font-family=\"Times,serif\" font-size=\"11.00\">Classifier</text>\n",
       "</a>\n",
       "</g>\n",
       "</g>\n",
       "</g>\n",
       "</svg>\n"
      ],
      "text/plain": [
       "<graphviz.dot.Digraph at 0x7f065d62e320>"
      ]
     },
     "metadata": {},
     "output_type": "display_data"
    }
   ],
   "source": [
    "from lale.lib.sklearn import PCA\n",
    "from lale.lib.sklearn import KNeighborsClassifier\n",
    "optimizable = PCA >> (LogisticRegression | KNeighborsClassifier)\n",
    "#optimizable = lale.operators.make_pipeline(PCA, LogisticRegression | KNeighborsClassifier)\n",
    "optimizable.visualize()"
   ]
  },
  {
   "cell_type": "code",
   "execution_count": 9,
   "metadata": {},
   "outputs": [
    {
     "name": "stdout",
     "output_type": "stream",
     "text": [
      " 40%|████▍      | 4/10 [00:06<00:10,  1.74s/it, best loss: -0.8838181818181818]"
     ]
    },
    {
     "name": "stderr",
     "output_type": "stream",
     "text": [
      "WARNING:lale.lib.lale.hyperopt:Exception caught in HyperoptCV:<class 'ValueError'>, Traceback (most recent call last):\n",
      "  File \"/home/hirzel/git/hirzel/lale/lale/lib/lale/hyperopt.py\", line 155, in proc_train_test\n",
      "    score, logloss, execution_time = hyperopt_train_test(params, X_train=X_train, y_train=y_train)\n",
      "  File \"/home/hirzel/git/hirzel/lale/lale/lib/lale/hyperopt.py\", line 148, in hyperopt_train_test\n",
      "    raise e\n",
      "  File \"/home/hirzel/git/hirzel/lale/lale/lib/lale/hyperopt.py\", line 128, in hyperopt_train_test\n",
      "    cv_score, logloss, execution_time = cross_val_score_track_trials(trainable, X_train, y_train, cv=self.cv, scoring=self.scoring)\n",
      "  File \"/home/hirzel/git/hirzel/lale/lale/helpers.py\", line 276, in cross_val_score_track_trials\n",
      "    score_value  = scorer(trained, X_test, y_test)\n",
      "  File \"/home/hirzel/python3.6venv/lib/python3.6/site-packages/sklearn/metrics/scorer.py\", line 91, in __call__\n",
      "    y_pred = estimator.predict(X)\n",
      "  File \"/home/hirzel/git/hirzel/lale/lale/operators.py\", line 1963, in predict\n",
      "    output = operator.predict(X = inputs)\n",
      "  File \"/home/hirzel/git/hirzel/lale/lale/operators.py\", line 1210, in predict\n",
      "    result = self._impl.predict(X)\n",
      "  File \"/home/hirzel/git/hirzel/lale/lale/lib/sklearn/k_neighbors_classifier.py\", line 194, in predict\n",
      "    return self._sklearn_model.predict(X)\n",
      "  File \"/home/hirzel/python3.6venv/lib/python3.6/site-packages/sklearn/neighbors/classification.py\", line 149, in predict\n",
      "    neigh_dist, neigh_ind = self.kneighbors(X)\n",
      "  File \"/home/hirzel/python3.6venv/lib/python3.6/site-packages/sklearn/neighbors/base.py\", line 416, in kneighbors\n",
      "    (train_size, n_neighbors)\n",
      "ValueError: Expected n_neighbors <= n_samples,  but n_samples = 95, n_neighbors = 98\n",
      " with hyperparams: ({'n_components': None, 'name': 'lale.lib.sklearn.pca.PCA', 'svd_solver': 'arpack', 'whiten': False}, {1: {'algorithm': 'kd_tree', 'metric': 'minkowski', 'n_neighbors': 98, 'name': 'lale.lib.sklearn.k_neighbors_classifier.KNeighborsClassifier', 'p': 2, 'weights': 'distance'}}), setting status to FAIL\n"
     ]
    },
    {
     "name": "stdout",
     "output_type": "stream",
     "text": [
      "100%|██████████| 10/10 [00:15<00:00,  1.56s/it, best loss: -0.9318181818181819]\n"
     ]
    }
   ],
   "source": [
    "from lale.lib.lale.hyperopt import Hyperopt\n",
    "optimizer = Hyperopt(estimator=optimizable, max_evals=10)\n",
    "trained = optimizer.fit(X_train, y_train)"
   ]
  },
  {
   "cell_type": "code",
   "execution_count": 10,
   "metadata": {},
   "outputs": [
    {
     "data": {
      "image/svg+xml": [
       "<?xml version=\"1.0\" encoding=\"UTF-8\" standalone=\"no\"?>\n",
       "<!DOCTYPE svg PUBLIC \"-//W3C//DTD SVG 1.1//EN\"\n",
       " \"http://www.w3.org/Graphics/SVG/1.1/DTD/svg11.dtd\">\n",
       "<!-- Generated by graphviz version 2.38.0 (20140413.2041)\n",
       " -->\n",
       "<!-- Title: cluster:(root) Pages: 1 -->\n",
       "<svg width=\"180pt\" height=\"48pt\"\n",
       " viewBox=\"0.00 0.00 180.02 47.60\" xmlns=\"http://www.w3.org/2000/svg\" xmlns:xlink=\"http://www.w3.org/1999/xlink\">\n",
       "<g id=\"graph0\" class=\"graph\" transform=\"scale(1 1) rotate(0) translate(4 43.598)\">\n",
       "<title>cluster:(root)</title>\n",
       "<g id=\"a_graph0\"><a xlink:title=\"(root) = ...\">\n",
       "<polygon fill=\"white\" stroke=\"none\" points=\"-4,4 -4,-43.598 176.024,-43.598 176.024,4 -4,4\"/>\n",
       "</a>\n",
       "</g>\n",
       "<!-- pca -->\n",
       "<g id=\"node1\" class=\"node\"><title>pca</title>\n",
       "<g id=\"a_node1\"><a xlink:href=\"https://scikit-learn.org/stable/modules/generated/sklearn.decomposition.PCA.html\" xlink:title=\"pca = PCA(svd_solver=&#39;full&#39;)\">\n",
       "<ellipse fill=\"white\" stroke=\"black\" cx=\"27\" cy=\"-19.799\" rx=\"27\" ry=\"18\"/>\n",
       "<text text-anchor=\"middle\" x=\"27\" y=\"-16.999\" font-family=\"Times,serif\" font-size=\"11.00\">PCA</text>\n",
       "</a>\n",
       "</g>\n",
       "</g>\n",
       "<!-- logistic_regression -->\n",
       "<g id=\"node2\" class=\"node\"><title>logistic_regression</title>\n",
       "<g id=\"a_node2\"><a xlink:href=\"http://scikit-learn.org/stable/modules/generated/sklearn.linear_model.LogisticRegression.html\" xlink:title=\"logistic_regression = LogisticRegression(C=20212.229886914443, dual=True, tol=0.08376726714168205)\">\n",
       "<ellipse fill=\"white\" stroke=\"black\" cx=\"131.012\" cy=\"-19.799\" rx=\"41.0244\" ry=\"19.6\"/>\n",
       "<text text-anchor=\"middle\" x=\"131.012\" y=\"-22.999\" font-family=\"Times,serif\" font-size=\"11.00\">Logistic&#45;</text>\n",
       "<text text-anchor=\"middle\" x=\"131.012\" y=\"-10.999\" font-family=\"Times,serif\" font-size=\"11.00\">Regression</text>\n",
       "</a>\n",
       "</g>\n",
       "</g>\n",
       "<!-- pca&#45;&gt;logistic_regression -->\n",
       "<g id=\"edge1\" class=\"edge\"><title>pca&#45;&gt;logistic_regression</title>\n",
       "<path fill=\"none\" stroke=\"black\" d=\"M54.0059,-19.799C61.8976,-19.799 70.85,-19.799 79.7712,-19.799\"/>\n",
       "<polygon fill=\"black\" stroke=\"black\" points=\"79.7721,-23.2991 89.7721,-19.799 79.772,-16.2991 79.7721,-23.2991\"/>\n",
       "</g>\n",
       "</g>\n",
       "</svg>\n"
      ],
      "text/plain": [
       "<graphviz.dot.Digraph at 0x7f06028ed9b0>"
      ]
     },
     "metadata": {},
     "output_type": "display_data"
    }
   ],
   "source": [
    "lale.helpers.best_estimator(trained).visualize()"
   ]
  },
  {
   "cell_type": "markdown",
   "metadata": {},
   "source": [
    "## Input and Output Schemas\n",
    "\n",
    "Besides schemas for hyperparameter, Lale also provides operator tags\n",
    "and schemas for input and output data of operators."
   ]
  },
  {
   "cell_type": "code",
   "execution_count": 11,
   "metadata": {},
   "outputs": [
    {
     "data": {
      "text/plain": [
       "{'pre': ['~categoricals'],\n",
       " 'op': ['estimator', 'classifier', 'interpretable'],\n",
       " 'post': ['probabilities']}"
      ]
     },
     "execution_count": 11,
     "metadata": {},
     "output_type": "execute_result"
    }
   ],
   "source": [
    "LogisticRegression.get_tags()"
   ]
  },
  {
   "cell_type": "code",
   "execution_count": 12,
   "metadata": {},
   "outputs": [
    {
     "data": {
      "text/markdown": [
       "```python\n",
       "{\n",
       "    \u0001'description': 'Input data schema for training.',\n",
       "    'type': 'object',\n",
       "    'required': ['X', 'y'],\n",
       "    'additionalProperties': false,\n",
       "    'properties': {\n",
       "        'X': {\n",
       "            'description': 'Features; the outer array is over samples.',\n",
       "            'type': 'array',\n",
       "            'items': {\n",
       "                'type': 'array',\n",
       "                'items': {\n",
       "                    'type': 'number'}}},\n",
       "        'y': {\n",
       "            'description': 'Target class labels; the array is over samples.',\n",
       "            'anyOf': [\n",
       "            {   'type': 'array',\n",
       "                'items': {\n",
       "                    'type': 'number'}},\n",
       "            {   'type': 'array',\n",
       "                'items': {\n",
       "                    'type': 'string'}}]}}}\n",
       "```"
      ],
      "text/plain": [
       "<IPython.core.display.Markdown object>"
      ]
     },
     "metadata": {},
     "output_type": "display_data"
    }
   ],
   "source": [
    "from lale.pretty_print import ipython_display\n",
    "ipython_display(LogisticRegression.get_schema('input_fit'))"
   ]
  },
  {
   "cell_type": "code",
   "execution_count": 13,
   "metadata": {},
   "outputs": [
    {
     "data": {
      "text/markdown": [
       "```python\n",
       "{\n",
       "    \u0001'description': 'Predicted class label per sample.',\n",
       "    'anyOf': [\n",
       "    {   'type': 'array',\n",
       "        'items': {\n",
       "            'type': 'number'}},\n",
       "    {   'type': 'array',\n",
       "        'items': {\n",
       "            'type': 'string'}}]}\n",
       "```"
      ],
      "text/plain": [
       "<IPython.core.display.Markdown object>"
      ]
     },
     "metadata": {},
     "output_type": "display_data"
    }
   ],
   "source": [
    "ipython_display(LogisticRegression.get_schema('output_predict'))"
   ]
  },
  {
   "cell_type": "markdown",
   "metadata": {},
   "source": [
    "## Terminology\n",
    "\n",
    "* An **operator** is a transformer or estimator and has **properties**.\n",
    "\n",
    "* An operator can be an **individual operator** or a **pipeline**,\n",
    "  which is a composite operator that has **elements**.\n",
    "\n",
    "* The lifecycle **state** of an operator determines which properties\n",
    "  are already bound and which are still free. There are four states:\n",
    "  meta-model, planned, trainable, and trained.\n",
    "\n",
    "Composition is orthogonal to lifecycle states.\n",
    "\n",
    "<img src=\"img/2019-0327-terminology.jpg\" style=\"width:70%\" align=\"left\">"
   ]
  },
  {
   "cell_type": "markdown",
   "metadata": {},
   "source": [
    "## Related Work\n",
    "\n",
    "* *Sklearn*. Incumbent for composition. Lale follows sklearn conventions\n",
    "  and adds value for automation, portability, and correctness.\n",
    "\n",
    "* *Hyperopt*. Incumbent for automation. Lale adds value for usability,\n",
    "  portability, and correctness.\n",
    "\n",
    "* *Kubeflow*. Platform for deployment and training. Lale is higher-level,\n",
    "  could probably use Kubeflow as back-end."
   ]
  }
 ],
 "metadata": {
  "kernelspec": {
   "display_name": "Python 3",
   "language": "python",
   "name": "python3"
  },
  "language_info": {
   "codemirror_mode": {
    "name": "ipython",
    "version": 3
   },
   "file_extension": ".py",
   "mimetype": "text/x-python",
   "name": "python",
   "nbconvert_exporter": "python",
   "pygments_lexer": "ipython3",
   "version": "3.6.5"
  }
 },
 "nbformat": 4,
 "nbformat_minor": 2
}
