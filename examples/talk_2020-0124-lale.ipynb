{
 "cells": [
  {
   "cell_type": "markdown",
   "execution_count": null,
   "metadata": {},
   "outputs": [],
   "source": [
    "### Example Dataset"
   ]
  },
  {
   "cell_type": "code",
   "execution_count": 1,
   "metadata": {},
   "outputs": [
    {
     "data": {
      "text/html": "<div>\n<style scoped>\n    .dataframe tbody tr th:only-of-type {\n        vertical-align: middle;\n    }\n\n    .dataframe tbody tr th {\n        vertical-align: top;\n    }\n\n    .dataframe thead th {\n        text-align: right;\n    }\n</style>\n<table border=\"1\" class=\"dataframe\">\n  <thead>\n    <tr style=\"text-align: right;\">\n      <th></th>\n      <th>y</th>\n      <th>checking_status</th>\n      <th>duration</th>\n      <th>credit_history</th>\n      <th>purpose</th>\n      <th>credit_amount</th>\n      <th>savings_status</th>\n      <th>employment</th>\n      <th>installment_commitment</th>\n      <th>personal_status</th>\n      <th>...</th>\n      <th>residence_since</th>\n      <th>property_magnitude</th>\n      <th>age</th>\n      <th>other_payment_plans</th>\n      <th>housing</th>\n      <th>existing_credits</th>\n      <th>job</th>\n      <th>num_dependents</th>\n      <th>own_telephone</th>\n      <th>foreign_worker</th>\n    </tr>\n  </thead>\n  <tbody>\n    <tr>\n      <td>835</td>\n      <td>0</td>\n      <td>&lt;0</td>\n      <td>12.0</td>\n      <td>no credits/all paid</td>\n      <td>new car</td>\n      <td>1082.0</td>\n      <td>&lt;100</td>\n      <td>1&lt;=X&lt;4</td>\n      <td>4.0</td>\n      <td>male single</td>\n      <td>...</td>\n      <td>4.0</td>\n      <td>car</td>\n      <td>48.0</td>\n      <td>bank</td>\n      <td>own</td>\n      <td>2.0</td>\n      <td>skilled</td>\n      <td>1.0</td>\n      <td>none</td>\n      <td>yes</td>\n    </tr>\n    <tr>\n      <td>192</td>\n      <td>0</td>\n      <td>0&lt;=X&lt;200</td>\n      <td>27.0</td>\n      <td>existing paid</td>\n      <td>business</td>\n      <td>3915.0</td>\n      <td>&lt;100</td>\n      <td>1&lt;=X&lt;4</td>\n      <td>4.0</td>\n      <td>male single</td>\n      <td>...</td>\n      <td>2.0</td>\n      <td>car</td>\n      <td>36.0</td>\n      <td>none</td>\n      <td>own</td>\n      <td>1.0</td>\n      <td>skilled</td>\n      <td>2.0</td>\n      <td>yes</td>\n      <td>yes</td>\n    </tr>\n    <tr>\n      <td>629</td>\n      <td>1</td>\n      <td>no checking</td>\n      <td>9.0</td>\n      <td>existing paid</td>\n      <td>education</td>\n      <td>3832.0</td>\n      <td>no known savings</td>\n      <td>&gt;=7</td>\n      <td>1.0</td>\n      <td>male single</td>\n      <td>...</td>\n      <td>4.0</td>\n      <td>real estate</td>\n      <td>64.0</td>\n      <td>none</td>\n      <td>own</td>\n      <td>1.0</td>\n      <td>unskilled resident</td>\n      <td>1.0</td>\n      <td>none</td>\n      <td>yes</td>\n    </tr>\n    <tr>\n      <td>559</td>\n      <td>0</td>\n      <td>0&lt;=X&lt;200</td>\n      <td>18.0</td>\n      <td>critical/other existing credit</td>\n      <td>furniture/equipment</td>\n      <td>1928.0</td>\n      <td>&lt;100</td>\n      <td>&lt;1</td>\n      <td>2.0</td>\n      <td>male single</td>\n      <td>...</td>\n      <td>2.0</td>\n      <td>real estate</td>\n      <td>31.0</td>\n      <td>none</td>\n      <td>own</td>\n      <td>2.0</td>\n      <td>unskilled resident</td>\n      <td>1.0</td>\n      <td>none</td>\n      <td>yes</td>\n    </tr>\n    <tr>\n      <td>684</td>\n      <td>1</td>\n      <td>0&lt;=X&lt;200</td>\n      <td>36.0</td>\n      <td>delayed previously</td>\n      <td>business</td>\n      <td>9857.0</td>\n      <td>100&lt;=X&lt;500</td>\n      <td>4&lt;=X&lt;7</td>\n      <td>1.0</td>\n      <td>male single</td>\n      <td>...</td>\n      <td>3.0</td>\n      <td>life insurance</td>\n      <td>31.0</td>\n      <td>none</td>\n      <td>own</td>\n      <td>2.0</td>\n      <td>unskilled resident</td>\n      <td>2.0</td>\n      <td>yes</td>\n      <td>yes</td>\n    </tr>\n  </tbody>\n</table>\n<p>5 rows × 21 columns</p>\n</div>",
      "text/plain": "     y checking_status  duration                  credit_history  \\\n835  0              <0      12.0             no credits/all paid   \n192  0        0<=X<200      27.0                   existing paid   \n629  1     no checking       9.0                   existing paid   \n559  0        0<=X<200      18.0  critical/other existing credit   \n684  1        0<=X<200      36.0              delayed previously   \n\n                 purpose  credit_amount    savings_status employment  \\\n835              new car         1082.0              <100     1<=X<4   \n192             business         3915.0              <100     1<=X<4   \n629            education         3832.0  no known savings        >=7   \n559  furniture/equipment         1928.0              <100         <1   \n684             business         9857.0        100<=X<500     4<=X<7   \n\n     installment_commitment personal_status  ... residence_since  \\\n835                     4.0     male single  ...             4.0   \n192                     4.0     male single  ...             2.0   \n629                     1.0     male single  ...             4.0   \n559                     2.0     male single  ...             2.0   \n684                     1.0     male single  ...             3.0   \n\n     property_magnitude   age  other_payment_plans housing existing_credits  \\\n835                 car  48.0                 bank     own              2.0   \n192                 car  36.0                 none     own              1.0   \n629         real estate  64.0                 none     own              1.0   \n559         real estate  31.0                 none     own              2.0   \n684      life insurance  31.0                 none     own              2.0   \n\n                    job num_dependents  own_telephone foreign_worker  \n835             skilled            1.0           none            yes  \n192             skilled            2.0            yes            yes  \n629  unskilled resident            1.0           none            yes  \n559  unskilled resident            1.0           none            yes  \n684  unskilled resident            2.0            yes            yes  \n\n[5 rows x 21 columns]"
     },
     "execution_count": 1,
     "metadata": {},
     "output_type": "execute_result"
    }
   ],
   "source": [
    "import lale.datasets.openml\n",
    "import pandas as pd\n",
    "(train_X, train_y), (test_X, test_y) = lale.datasets.openml.fetch(\n",
    "    'credit-g', 'classification', preprocess=False)\n",
    "pd.concat([pd.DataFrame({'y': train_y}, index=train_X.index).tail(),\n",
    "           train_X.tail()], axis=1)"
   ]
  },
  {
   "cell_type": "markdown",
   "execution_count": null,
   "metadata": {},
   "outputs": [],
   "source": [
    "### Algorithm Selection and Hyperparameter Tuning"
   ]
  },
  {
   "cell_type": "code",
   "execution_count": 2,
   "metadata": {},
   "outputs": [],
   "source": [
    "from sklearn.preprocessing import Normalizer as Norm\n",
    "from sklearn.preprocessing import OneHotEncoder as OneHot\n",
    "from lale.lib.lale import Project, ConcatFeatures, NoOp\n",
    "from sklearn.linear_model import LogisticRegression as LR\n",
    "from sklearn.svm import LinearSVC\n",
    "from xgboost import XGBClassifier as XGBoost\n",
    "from lale import wrap_imported_operators\n",
    "wrap_imported_operators()"
   ]
  },
  {
   "cell_type": "code",
   "execution_count": 3,
   "metadata": {},
   "outputs": [
    {
     "data": {
      "image/svg+xml": "<?xml version=\"1.0\" encoding=\"UTF-8\" standalone=\"no\"?>\n<!DOCTYPE svg PUBLIC \"-//W3C//DTD SVG 1.1//EN\"\n \"http://www.w3.org/Graphics/SVG/1.1/DTD/svg11.dtd\">\n<!-- Generated by graphviz version 2.40.1 (20161225.0304)\n -->\n<!-- Title: cluster:(root) Pages: 1 -->\n<svg width=\"361pt\" height=\"232pt\"\n viewBox=\"0.00 0.00 360.80 232.00\" xmlns=\"http://www.w3.org/2000/svg\" xmlns:xlink=\"http://www.w3.org/1999/xlink\">\n<g id=\"graph0\" class=\"graph\" transform=\"scale(1 1) rotate(0) translate(4 228)\">\n<title>cluster:(root)</title>\n<g id=\"a_graph0\"><a xlink:title=\"(root) = ...\">\n<polygon fill=\"#ffffff\" stroke=\"transparent\" points=\"-4,4 -4,-228 356.7965,-228 356.7965,4 -4,4\"/>\n</a>\n</g>\n<g id=\"clust1\" class=\"cluster\">\n<title>cluster:choice_0</title>\n<g id=\"a_clust1\"><a xlink:title=\"choice_0 = norm | no_op\">\n<polygon fill=\"#7ec0ee\" stroke=\"#000000\" points=\"82,-99 82,-216 152,-216 152,-99 82,-99\"/>\n<text text-anchor=\"middle\" x=\"117\" y=\"-200.8\" font-family=\"Times,serif\" font-size=\"14.00\" fill=\"#000000\">Choice</text>\n</a>\n</g>\n</g>\n<g id=\"clust2\" class=\"cluster\">\n<title>cluster:choice_1</title>\n<g id=\"a_clust2\"><a xlink:title=\"choice_1 = lr | linear_svc | xg_boost\">\n<polygon fill=\"#7ec0ee\" stroke=\"#000000\" points=\"272.0139,-8 272.0139,-169 344.7965,-169 344.7965,-8 272.0139,-8\"/>\n<text text-anchor=\"middle\" x=\"308.4052\" y=\"-153.8\" font-family=\"Times,serif\" font-size=\"14.00\" fill=\"#000000\">Choice</text>\n</a>\n</g>\n</g>\n<!-- project_0 -->\n<g id=\"node1\" class=\"node\">\n<title>project_0</title>\n<g id=\"a_node1\"><a xlink:href=\"https://lale.readthedocs.io/en/latest/modules/lale.lib.lale.project.html\" xlink:title=\"project_0 = Project(columns={&#39;type&#39;: &#39;number&#39;})\">\n<ellipse fill=\"#b0e2ff\" stroke=\"#000000\" cx=\"27\" cy=\"-168\" rx=\"27\" ry=\"18\"/>\n<text text-anchor=\"middle\" x=\"27\" y=\"-164.7\" font-family=\"Times,serif\" font-size=\"11.00\" fill=\"#000000\">Project</text>\n</a>\n</g>\n</g>\n<!-- norm -->\n<g id=\"node2\" class=\"node\">\n<title>norm</title>\n<g id=\"a_node2\"><a xlink:href=\"https://scikit-learn.org/stable/modules/generated/sklearn.preprocessing.Normalizer.html\" xlink:title=\"norm = Norm\">\n<ellipse fill=\"#7ec0ee\" stroke=\"#000000\" cx=\"117\" cy=\"-168\" rx=\"27\" ry=\"18\"/>\n<text text-anchor=\"middle\" x=\"117\" y=\"-164.7\" font-family=\"Times,serif\" font-size=\"11.00\" fill=\"#000000\">Norm</text>\n</a>\n</g>\n</g>\n<!-- project_0&#45;&gt;norm -->\n<g id=\"edge1\" class=\"edge\">\n<title>project_0&#45;&gt;norm</title>\n<path fill=\"none\" stroke=\"#000000\" d=\"M54.003,-168C62.0277,-168 70.9665,-168 79.5309,-168\"/>\n<polygon fill=\"#000000\" stroke=\"#000000\" points=\"72.0001,-171.5004 82,-168 71.9999,-164.5004 72.0001,-171.5004\"/>\n</g>\n<!-- concat_features -->\n<g id=\"node6\" class=\"node\">\n<title>concat_features</title>\n<g id=\"a_node6\"><a xlink:href=\"https://lale.readthedocs.io/en/latest/modules/lale.lib.lale.concat_features.html\" xlink:title=\"concat_features = ConcatFeatures()\">\n<ellipse fill=\"#ffffff\" stroke=\"#000000\" cx=\"212.0069\" cy=\"-121\" rx=\"32.0139\" ry=\"18.2703\"/>\n<text text-anchor=\"middle\" x=\"212.0069\" y=\"-123.2\" font-family=\"Times,serif\" font-size=\"11.00\" fill=\"#000000\">Concat&#45;</text>\n<text text-anchor=\"middle\" x=\"212.0069\" y=\"-112.2\" font-family=\"Times,serif\" font-size=\"11.00\" fill=\"#000000\">Features</text>\n</a>\n</g>\n</g>\n<!-- norm&#45;&gt;concat_features -->\n<g id=\"edge3\" class=\"edge\">\n<title>norm&#45;&gt;concat_features</title>\n<path fill=\"none\" stroke=\"#000000\" d=\"M151.9985,-150.6862C160.5762,-146.4428 169.7395,-141.9098 178.2571,-137.6961\"/>\n<polygon fill=\"#000000\" stroke=\"#000000\" points=\"180.0055,-140.7361 187.4167,-133.1648 176.9016,-134.4618 180.0055,-140.7361\"/>\n</g>\n<!-- no_op -->\n<g id=\"node3\" class=\"node\">\n<title>no_op</title>\n<g id=\"a_node3\"><a xlink:href=\"https://lale.readthedocs.io/en/latest/modules/lale.lib.lale.no_op.html\" xlink:title=\"no_op = NoOp\">\n<ellipse fill=\"#ffffff\" stroke=\"#000000\" cx=\"117\" cy=\"-125\" rx=\"27\" ry=\"18.2703\"/>\n<text text-anchor=\"middle\" x=\"117\" y=\"-127.2\" font-family=\"Times,serif\" font-size=\"11.00\" fill=\"#000000\">No&#45;</text>\n<text text-anchor=\"middle\" x=\"117\" y=\"-116.2\" font-family=\"Times,serif\" font-size=\"11.00\" fill=\"#000000\">Op</text>\n</a>\n</g>\n</g>\n<!-- project_1 -->\n<g id=\"node4\" class=\"node\">\n<title>project_1</title>\n<g id=\"a_node4\"><a xlink:href=\"https://lale.readthedocs.io/en/latest/modules/lale.lib.lale.project.html\" xlink:title=\"project_1 = Project(columns={&#39;type&#39;: &#39;string&#39;})\">\n<ellipse fill=\"#b0e2ff\" stroke=\"#000000\" cx=\"27\" cy=\"-73\" rx=\"27\" ry=\"18\"/>\n<text text-anchor=\"middle\" x=\"27\" y=\"-69.7\" font-family=\"Times,serif\" font-size=\"11.00\" fill=\"#000000\">Project</text>\n</a>\n</g>\n</g>\n<!-- one_hot -->\n<g id=\"node5\" class=\"node\">\n<title>one_hot</title>\n<g id=\"a_node5\"><a xlink:href=\"https://scikit-learn.org/stable/modules/generated/sklearn.preprocessing.OneHotEncoder.html\" xlink:title=\"one_hot = OneHot\">\n<ellipse fill=\"#7ec0ee\" stroke=\"#000000\" cx=\"117\" cy=\"-73\" rx=\"27\" ry=\"18.2703\"/>\n<text text-anchor=\"middle\" x=\"117\" y=\"-75.2\" font-family=\"Times,serif\" font-size=\"11.00\" fill=\"#000000\">One&#45;</text>\n<text text-anchor=\"middle\" x=\"117\" y=\"-64.2\" font-family=\"Times,serif\" font-size=\"11.00\" fill=\"#000000\">Hot</text>\n</a>\n</g>\n</g>\n<!-- project_1&#45;&gt;one_hot -->\n<g id=\"edge2\" class=\"edge\">\n<title>project_1&#45;&gt;one_hot</title>\n<path fill=\"none\" stroke=\"#000000\" d=\"M54.003,-73C62.0277,-73 70.9665,-73 79.5309,-73\"/>\n<polygon fill=\"#000000\" stroke=\"#000000\" points=\"79.7051,-76.5001 89.705,-73 79.705,-69.5001 79.7051,-76.5001\"/>\n</g>\n<!-- one_hot&#45;&gt;concat_features -->\n<g id=\"edge4\" class=\"edge\">\n<title>one_hot&#45;&gt;concat_features</title>\n<path fill=\"none\" stroke=\"#000000\" d=\"M139.0353,-84.1328C150.7686,-90.0608 165.445,-97.4757 178.5531,-104.0982\"/>\n<polygon fill=\"#000000\" stroke=\"#000000\" points=\"177.2522,-107.3623 187.7561,-108.7478 180.4088,-101.1144 177.2522,-107.3623\"/>\n</g>\n<!-- lr -->\n<g id=\"node7\" class=\"node\">\n<title>lr</title>\n<g id=\"a_node7\"><a xlink:href=\"http://scikit-learn.org/stable/modules/generated/sklearn.linear_model.LogisticRegression.html\" xlink:title=\"lr = LR\">\n<ellipse fill=\"#7ec0ee\" stroke=\"#000000\" cx=\"308.4052\" cy=\"-121\" rx=\"27\" ry=\"18\"/>\n<text text-anchor=\"middle\" x=\"308.4052\" y=\"-117.7\" font-family=\"Times,serif\" font-size=\"11.00\" fill=\"#000000\">LR</text>\n</a>\n</g>\n</g>\n<!-- concat_features&#45;&gt;lr -->\n<g id=\"edge5\" class=\"edge\">\n<title>concat_features&#45;&gt;lr</title>\n<path fill=\"none\" stroke=\"#000000\" d=\"M244.1062,-121C252.7667,-121 262.2107,-121 271.1282,-121\"/>\n<polygon fill=\"#000000\" stroke=\"#000000\" points=\"262.0143,-124.5011 272.0139,-121 262.0135,-117.5011 262.0143,-124.5011\"/>\n</g>\n<!-- linear_svc -->\n<g id=\"node8\" class=\"node\">\n<title>linear_svc</title>\n<g id=\"a_node8\"><a xlink:href=\"https://scikit-learn.org/stable/modules/generated/sklearn.svm.LinearSVC.html\" xlink:title=\"linear_svc = LinearSVC(dual=False)\">\n<ellipse fill=\"#b0e2ff\" stroke=\"#000000\" cx=\"308.4052\" cy=\"-78\" rx=\"28.283\" ry=\"18.2703\"/>\n<text text-anchor=\"middle\" x=\"308.4052\" y=\"-80.2\" font-family=\"Times,serif\" font-size=\"11.00\" fill=\"#000000\">Linear&#45;</text>\n<text text-anchor=\"middle\" x=\"308.4052\" y=\"-69.2\" font-family=\"Times,serif\" font-size=\"11.00\" fill=\"#000000\">SVC</text>\n</a>\n</g>\n</g>\n<!-- xg_boost -->\n<g id=\"node9\" class=\"node\">\n<title>xg_boost</title>\n<g id=\"a_node9\"><a xlink:href=\"https://xgboost.readthedocs.io/en/latest/python/python_api.html#module-xgboost.sklearn\" xlink:title=\"xg_boost = XGBoost\">\n<ellipse fill=\"#7ec0ee\" stroke=\"#000000\" cx=\"308.4052\" cy=\"-34\" rx=\"27\" ry=\"18.2703\"/>\n<text text-anchor=\"middle\" x=\"308.4052\" y=\"-36.2\" font-family=\"Times,serif\" font-size=\"11.00\" fill=\"#000000\">XG&#45;</text>\n<text text-anchor=\"middle\" x=\"308.4052\" y=\"-25.2\" font-family=\"Times,serif\" font-size=\"11.00\" fill=\"#000000\">Boost</text>\n</a>\n</g>\n</g>\n</g>\n</svg>\n",
      "text/plain": "<graphviz.dot.Digraph at 0x125341c50>"
     },
     "execution_count": 3,
     "metadata": {},
     "output_type": "execute_result"
    }
   ],
   "source": [
    "from lale.operators import make_pipeline, make_union\n",
    "\n",
    "planned_pipeline = make_pipeline(\n",
    "    make_union(\n",
    "        make_pipeline(Project(columns={'type': 'number'}), Norm | NoOp),\n",
    "        make_pipeline(Project(columns={'type': 'string'}), OneHot)),\n",
    "    LR | LinearSVC(dual=False)| XGBoost)\n",
    "planned_pipeline.visualize()"
   ]
  },
  {
   "cell_type": "code",
   "execution_count": 4,
   "metadata": {},
   "outputs": [
    {
     "name": "stdout",
     "output_type": "stream",
     "text": "100%|██████████| 10/10 [01:08<00:00,  7.50s/it, best loss: -0.7477378283151825]\n"
    }
   ],
   "source": [
    "from lale.lib.lale import Hyperopt\n",
    "trained_pipeline = planned_pipeline.auto_configure(\n",
    "    train_X, train_y, Hyperopt, cv=3, max_evals=10)"
   ]
  },
  {
   "cell_type": "markdown",
   "execution_count": null,
   "metadata": {},
   "outputs": [],
   "source": [
    "### Displaying Automation Results"
   ]
  },
  {
   "cell_type": "code",
   "execution_count": 5,
   "metadata": {},
   "outputs": [
    {
     "name": "stdout",
     "output_type": "stream",
     "text": "accuracy 72.1%\n"
    }
   ],
   "source": [
    "from sklearn.metrics import accuracy_score\n",
    "predictions = trained_pipeline.predict(test_X)\n",
    "print(f'accuracy {accuracy_score(test_y, predictions):.1%}')"
   ]
  },
  {
   "cell_type": "code",
   "execution_count": 6,
   "metadata": {},
   "outputs": [
    {
     "data": {
      "image/svg+xml": "<?xml version=\"1.0\" encoding=\"UTF-8\" standalone=\"no\"?>\n<!DOCTYPE svg PUBLIC \"-//W3C//DTD SVG 1.1//EN\"\n \"http://www.w3.org/Graphics/SVG/1.1/DTD/svg11.dtd\">\n<!-- Generated by graphviz version 2.40.1 (20161225.0304)\n -->\n<!-- Title: cluster:(root) Pages: 1 -->\n<svg width=\"345pt\" height=\"87pt\"\n viewBox=\"0.00 0.00 344.80 87.38\" xmlns=\"http://www.w3.org/2000/svg\" xmlns:xlink=\"http://www.w3.org/1999/xlink\">\n<g id=\"graph0\" class=\"graph\" transform=\"scale(1 1) rotate(0) translate(4 83.3848)\">\n<title>cluster:(root)</title>\n<g id=\"a_graph0\"><a xlink:title=\"(root) = ...\">\n<polygon fill=\"#ffffff\" stroke=\"transparent\" points=\"-4,4 -4,-83.3848 340.7965,-83.3848 340.7965,4 -4,4\"/>\n</a>\n</g>\n<!-- project_0 -->\n<g id=\"node1\" class=\"node\">\n<title>project_0</title>\n<g id=\"a_node1\"><a xlink:href=\"https://lale.readthedocs.io/en/latest/modules/lale.lib.lale.project.html\" xlink:title=\"project_0 = Project(columns={&#39;type&#39;: &#39;number&#39;})\">\n<ellipse fill=\"#ffffff\" stroke=\"#000000\" cx=\"27\" cy=\"-61.3848\" rx=\"27\" ry=\"18\"/>\n<text text-anchor=\"middle\" x=\"27\" y=\"-58.0848\" font-family=\"Times,serif\" font-size=\"11.00\" fill=\"#000000\">Project</text>\n</a>\n</g>\n</g>\n<!-- norm -->\n<g id=\"node2\" class=\"node\">\n<title>norm</title>\n<g id=\"a_node2\"><a xlink:href=\"https://scikit-learn.org/stable/modules/generated/sklearn.preprocessing.Normalizer.html\" xlink:title=\"norm = Norm(norm=&#39;l1&#39;)\">\n<ellipse fill=\"#ffffff\" stroke=\"#000000\" cx=\"117\" cy=\"-61.3848\" rx=\"27\" ry=\"18\"/>\n<text text-anchor=\"middle\" x=\"117\" y=\"-58.0848\" font-family=\"Times,serif\" font-size=\"11.00\" fill=\"#000000\">Norm</text>\n</a>\n</g>\n</g>\n<!-- project_0&#45;&gt;norm -->\n<g id=\"edge1\" class=\"edge\">\n<title>project_0&#45;&gt;norm</title>\n<path fill=\"none\" stroke=\"#000000\" d=\"M54.003,-61.3848C62.0277,-61.3848 70.9665,-61.3848 79.5309,-61.3848\"/>\n<polygon fill=\"#000000\" stroke=\"#000000\" points=\"79.7051,-64.8849 89.705,-61.3848 79.705,-57.8849 79.7051,-64.8849\"/>\n</g>\n<!-- concat_features -->\n<g id=\"node5\" class=\"node\">\n<title>concat_features</title>\n<g id=\"a_node5\"><a xlink:href=\"https://lale.readthedocs.io/en/latest/modules/lale.lib.lale.concat_features.html\" xlink:title=\"concat_features = ConcatFeatures()\">\n<ellipse fill=\"#ffffff\" stroke=\"#000000\" cx=\"212.0069\" cy=\"-39.3848\" rx=\"32.0139\" ry=\"18.2703\"/>\n<text text-anchor=\"middle\" x=\"212.0069\" y=\"-41.5848\" font-family=\"Times,serif\" font-size=\"11.00\" fill=\"#000000\">Concat&#45;</text>\n<text text-anchor=\"middle\" x=\"212.0069\" y=\"-30.5848\" font-family=\"Times,serif\" font-size=\"11.00\" fill=\"#000000\">Features</text>\n</a>\n</g>\n</g>\n<!-- norm&#45;&gt;concat_features -->\n<g id=\"edge3\" class=\"edge\">\n<title>norm&#45;&gt;concat_features</title>\n<path fill=\"none\" stroke=\"#000000\" d=\"M142.9611,-55.3732C151.9319,-53.2959 162.2031,-50.9174 172.033,-48.6412\"/>\n<polygon fill=\"#000000\" stroke=\"#000000\" points=\"173.0913,-51.9888 182.044,-46.3231 171.5121,-45.1693 173.0913,-51.9888\"/>\n</g>\n<!-- project_1 -->\n<g id=\"node3\" class=\"node\">\n<title>project_1</title>\n<g id=\"a_node3\"><a xlink:href=\"https://lale.readthedocs.io/en/latest/modules/lale.lib.lale.project.html\" xlink:title=\"project_1 = Project(columns={&#39;type&#39;: &#39;string&#39;})\">\n<ellipse fill=\"#ffffff\" stroke=\"#000000\" cx=\"27\" cy=\"-18.3848\" rx=\"27\" ry=\"18\"/>\n<text text-anchor=\"middle\" x=\"27\" y=\"-15.0848\" font-family=\"Times,serif\" font-size=\"11.00\" fill=\"#000000\">Project</text>\n</a>\n</g>\n</g>\n<!-- one_hot -->\n<g id=\"node4\" class=\"node\">\n<title>one_hot</title>\n<g id=\"a_node4\"><a xlink:href=\"https://scikit-learn.org/stable/modules/generated/sklearn.preprocessing.OneHotEncoder.html\" xlink:title=\"one_hot = OneHot()\">\n<ellipse fill=\"#ffffff\" stroke=\"#000000\" cx=\"117\" cy=\"-18.3848\" rx=\"27\" ry=\"18.2703\"/>\n<text text-anchor=\"middle\" x=\"117\" y=\"-20.5848\" font-family=\"Times,serif\" font-size=\"11.00\" fill=\"#000000\">One&#45;</text>\n<text text-anchor=\"middle\" x=\"117\" y=\"-9.5848\" font-family=\"Times,serif\" font-size=\"11.00\" fill=\"#000000\">Hot</text>\n</a>\n</g>\n</g>\n<!-- project_1&#45;&gt;one_hot -->\n<g id=\"edge2\" class=\"edge\">\n<title>project_1&#45;&gt;one_hot</title>\n<path fill=\"none\" stroke=\"#000000\" d=\"M54.003,-18.3848C62.0277,-18.3848 70.9665,-18.3848 79.5309,-18.3848\"/>\n<polygon fill=\"#000000\" stroke=\"#000000\" points=\"79.7051,-21.8849 89.705,-18.3848 79.705,-14.8849 79.7051,-21.8849\"/>\n</g>\n<!-- one_hot&#45;&gt;concat_features -->\n<g id=\"edge4\" class=\"edge\">\n<title>one_hot&#45;&gt;concat_features</title>\n<path fill=\"none\" stroke=\"#000000\" d=\"M142.9611,-24.1231C151.9319,-26.106 162.2031,-28.3763 172.033,-30.5491\"/>\n<polygon fill=\"#000000\" stroke=\"#000000\" points=\"171.5242,-34.021 182.044,-32.7619 173.0351,-27.186 171.5242,-34.021\"/>\n</g>\n<!-- linear_svc -->\n<g id=\"node6\" class=\"node\">\n<title>linear_svc</title>\n<g id=\"a_node6\"><a xlink:href=\"https://scikit-learn.org/stable/modules/generated/sklearn.svm.LinearSVC.html\" xlink:title=\"linear_svc = LinearSVC(dual=False, C=9773.459065896624, tol=0.0006905227182226334)\">\n<ellipse fill=\"#ffffff\" stroke=\"#000000\" cx=\"308.4052\" cy=\"-39.3848\" rx=\"28.283\" ry=\"18.2703\"/>\n<text text-anchor=\"middle\" x=\"308.4052\" y=\"-41.5848\" font-family=\"Times,serif\" font-size=\"11.00\" fill=\"#000000\">Linear&#45;</text>\n<text text-anchor=\"middle\" x=\"308.4052\" y=\"-30.5848\" font-family=\"Times,serif\" font-size=\"11.00\" fill=\"#000000\">SVC</text>\n</a>\n</g>\n</g>\n<!-- concat_features&#45;&gt;linear_svc -->\n<g id=\"edge5\" class=\"edge\">\n<title>concat_features&#45;&gt;linear_svc</title>\n<path fill=\"none\" stroke=\"#000000\" d=\"M244.1062,-39.3848C252.361,-39.3848 261.3278,-39.3848 269.8719,-39.3848\"/>\n<polygon fill=\"#000000\" stroke=\"#000000\" points=\"270.008,-42.8849 280.008,-39.3848 270.0079,-35.8849 270.008,-42.8849\"/>\n</g>\n</g>\n</svg>\n",
      "text/plain": "<graphviz.dot.Digraph at 0x108cdffd0>"
     },
     "execution_count": 6,
     "metadata": {},
     "output_type": "execute_result"
    }
   ],
   "source": [
    "trained_pipeline.visualize()"
   ]
  },
  {
   "cell_type": "code",
   "execution_count": 7,
   "metadata": {},
   "outputs": [
    {
     "data": {
      "text/markdown": "```python\nproject_0 = Project(columns={'type': 'number'})\nnorm = Norm(norm='l1')\nproject_1 = Project(columns={'type': 'string'})\nlinear_svc = LinearSVC(dual=False, C=9773.459065896624, tol=0.0006905227182226334)\npipeline = ((project_0 >> norm) & (project_1 >> OneHot())) >> ConcatFeatures() >> linear_svc\n```",
      "text/plain": "<IPython.core.display.Markdown object>"
     },
     "metadata": {},
     "output_type": "display_data"
    }
   ],
   "source": [
    "trained_pipeline.pretty_print(ipython_display=True, show_imports=False)"
   ]
  },
  {
   "cell_type": "markdown",
   "execution_count": null,
   "metadata": {},
   "outputs": [],
   "source": [
    "### Call for Users and Contributors\n",
    "\n",
    "- Repository: https://github.com/IBM/lale\n",
    "\n",
    "- [Guide for scikit-learn users](https://nbviewer.jupyter.org/github/IBM/lale/blob/master/examples/docs_guide_for_sklearn_users.ipynb)\n",
    "\n",
    "- [How to add new operators](https://nbviewer.jupyter.org/github/IBM/lale/blob/master/examples/docs_new_operators.ipynb)\n",
    "\n",
    "<img src=\"https://github.com/IBM/lale/raw/master/docs/img/lale_logo.jpg\" style=\"width:300px\" align=\"left\">"
   ]
  },
  {
   "cell_type": "markdown",
   "execution_count": null,
   "metadata": {},
   "outputs": [],
   "source": [
    "### Grammar Example"
   ]
  },
  {
   "cell_type": "code",
   "execution_count": 8,
   "metadata": {},
   "outputs": [],
   "source": [
    "from sklearn.decomposition import PCA\n",
    "from sklearn.preprocessing import PolynomialFeatures as PolyFeat\n",
    "wrap_imported_operators()"
   ]
  },
  {
   "cell_type": "code",
   "execution_count": 9,
   "metadata": {},
   "outputs": [
    {
     "data": {
      "image/svg+xml": "<?xml version=\"1.0\" encoding=\"UTF-8\" standalone=\"no\"?>\n<!DOCTYPE svg PUBLIC \"-//W3C//DTD SVG 1.1//EN\"\n \"http://www.w3.org/Graphics/SVG/1.1/DTD/svg11.dtd\">\n<!-- Generated by graphviz version 2.40.1 (20161225.0304)\n -->\n<!-- Title: cluster:(root) Pages: 1 -->\n<svg width=\"407pt\" height=\"380pt\"\n viewBox=\"0.00 0.00 406.78 380.00\" xmlns=\"http://www.w3.org/2000/svg\" xmlns:xlink=\"http://www.w3.org/1999/xlink\">\n<g id=\"graph0\" class=\"graph\" transform=\"scale(1 1) rotate(0) translate(4 376)\">\n<title>cluster:(root)</title>\n<g id=\"a_graph0\"><a xlink:title=\"(root) = ...\">\n<polygon fill=\"#ffffff\" stroke=\"transparent\" points=\"-4,4 -4,-376 402.7826,-376 402.7826,4 -4,4\"/>\n</a>\n</g>\n<g id=\"clust1\" class=\"cluster\">\n<title>cluster:choice_0</title>\n<g id=\"a_clust1\"><a xlink:title=\"choice_0 = no_op_0 | pipeline_1\">\n<polygon fill=\"#7ec0ee\" stroke=\"#000000\" points=\"8,-8 8,-364 310,-364 310,-8 8,-8\"/>\n<text text-anchor=\"middle\" x=\"159\" y=\"-348.8\" font-family=\"Times,serif\" font-size=\"14.00\" fill=\"#000000\">Choice</text>\n</a>\n</g>\n</g>\n<g id=\"clust2\" class=\"cluster\">\n<title>cluster:pipeline_1</title>\n<g id=\"a_clust2\"><a xlink:title=\"pipeline_1 = ...\">\n<path fill=\"#7ec0ee\" stroke=\"#000000\" d=\"M28,-60C28,-60 290,-60 290,-60 296,-60 302,-66 302,-72 302,-72 302,-322 302,-322 302,-328 296,-334 290,-334 290,-334 28,-334 28,-334 22,-334 16,-328 16,-322 16,-322 16,-72 16,-72 16,-66 22,-60 28,-60\"/>\n</a>\n</g>\n</g>\n<g id=\"clust3\" class=\"cluster\">\n<title>cluster:choice_1</title>\n<g id=\"a_clust3\"><a xlink:title=\"choice_1 = no_op_1 | pipeline_2\">\n<polygon fill=\"#7ec0ee\" stroke=\"#000000\" points=\"24,-68 24,-326 216,-326 216,-68 24,-68\"/>\n<text text-anchor=\"middle\" x=\"120\" y=\"-310.8\" font-family=\"Times,serif\" font-size=\"14.00\" fill=\"#000000\">Choice</text>\n</a>\n</g>\n</g>\n<g id=\"clust4\" class=\"cluster\">\n<title>cluster:pipeline_2</title>\n<g id=\"a_clust4\"><a xlink:title=\"pipeline_2 = ...\">\n<path fill=\"#7ec0ee\" stroke=\"#000000\" d=\"M44,-120C44,-120 196,-120 196,-120 202,-120 208,-126 208,-132 208,-132 208,-284 208,-284 208,-290 202,-296 196,-296 196,-296 44,-296 44,-296 38,-296 32,-290 32,-284 32,-284 32,-132 32,-132 32,-126 38,-120 44,-120\"/>\n</a>\n</g>\n</g>\n<g id=\"clust5\" class=\"cluster\">\n<title>cluster:choice_2</title>\n<g id=\"a_clust5\"><a xlink:title=\"choice_2 = no_op_2\">\n<polygon fill=\"#7ec0ee\" stroke=\"#000000\" points=\"40,-214 40,-288 110,-288 110,-214 40,-214\"/>\n<text text-anchor=\"middle\" x=\"75\" y=\"-272.8\" font-family=\"Times,serif\" font-size=\"14.00\" fill=\"#000000\">Choice</text>\n</a>\n</g>\n</g>\n<g id=\"clust6\" class=\"cluster\">\n<title>cluster:choice_3</title>\n<g id=\"a_clust6\"><a xlink:title=\"choice_3 = pca_0 | norm_0 | poly_feat_0\">\n<polygon fill=\"#7ec0ee\" stroke=\"#000000\" points=\"130,-128 130,-288 200,-288 200,-128 130,-128\"/>\n<text text-anchor=\"middle\" x=\"165\" y=\"-272.8\" font-family=\"Times,serif\" font-size=\"14.00\" fill=\"#000000\">Choice</text>\n</a>\n</g>\n</g>\n<g id=\"clust7\" class=\"cluster\">\n<title>cluster:choice_4</title>\n<g id=\"a_clust7\"><a xlink:title=\"choice_4 = pca_1 | norm_1 | poly_feat_1\">\n<polygon fill=\"#7ec0ee\" stroke=\"#000000\" points=\"224,-128 224,-288 294,-288 294,-128 224,-128\"/>\n<text text-anchor=\"middle\" x=\"259\" y=\"-272.8\" font-family=\"Times,serif\" font-size=\"14.00\" fill=\"#000000\">Choice</text>\n</a>\n</g>\n</g>\n<g id=\"clust8\" class=\"cluster\">\n<title>cluster:choice_5</title>\n<g id=\"a_clust8\"><a xlink:title=\"choice_5 = lr | linear_svc | xg_boost\">\n<polygon fill=\"#7ec0ee\" stroke=\"#000000\" points=\"318,-127 318,-288 390.7826,-288 390.7826,-127 318,-127\"/>\n<text text-anchor=\"middle\" x=\"354.3913\" y=\"-272.8\" font-family=\"Times,serif\" font-size=\"14.00\" fill=\"#000000\">Choice</text>\n</a>\n</g>\n</g>\n<!-- no_op_0 -->\n<g id=\"node1\" class=\"node\">\n<title>no_op_0</title>\n<g id=\"a_node1\"><a xlink:href=\"https://lale.readthedocs.io/en/latest/modules/lale.lib.lale.no_op.html\" xlink:title=\"no_op_0 = NoOp\">\n<ellipse fill=\"#ffffff\" stroke=\"#000000\" cx=\"75\" cy=\"-34\" rx=\"27\" ry=\"18.2703\"/>\n<text text-anchor=\"middle\" x=\"75\" y=\"-36.2\" font-family=\"Times,serif\" font-size=\"11.00\" fill=\"#000000\">No&#45;</text>\n<text text-anchor=\"middle\" x=\"75\" y=\"-25.2\" font-family=\"Times,serif\" font-size=\"11.00\" fill=\"#000000\">Op</text>\n</a>\n</g>\n</g>\n<!-- no_op_1 -->\n<g id=\"node2\" class=\"node\">\n<title>no_op_1</title>\n<g id=\"a_node2\"><a xlink:href=\"https://lale.readthedocs.io/en/latest/modules/lale.lib.lale.no_op.html\" xlink:title=\"no_op_1 = NoOp\">\n<ellipse fill=\"#ffffff\" stroke=\"#000000\" cx=\"75\" cy=\"-94\" rx=\"27\" ry=\"18.2703\"/>\n<text text-anchor=\"middle\" x=\"75\" y=\"-96.2\" font-family=\"Times,serif\" font-size=\"11.00\" fill=\"#000000\">No&#45;</text>\n<text text-anchor=\"middle\" x=\"75\" y=\"-85.2\" font-family=\"Times,serif\" font-size=\"11.00\" fill=\"#000000\">Op</text>\n</a>\n</g>\n</g>\n<!-- no_op_2 -->\n<g id=\"node3\" class=\"node\">\n<title>no_op_2</title>\n<g id=\"a_node3\"><a xlink:href=\"https://lale.readthedocs.io/en/latest/modules/lale.lib.lale.no_op.html\" xlink:title=\"no_op_2 = NoOp\">\n<ellipse fill=\"#ffffff\" stroke=\"#000000\" cx=\"75\" cy=\"-240\" rx=\"27\" ry=\"18.2703\"/>\n<text text-anchor=\"middle\" x=\"75\" y=\"-242.2\" font-family=\"Times,serif\" font-size=\"11.00\" fill=\"#000000\">No&#45;</text>\n<text text-anchor=\"middle\" x=\"75\" y=\"-231.2\" font-family=\"Times,serif\" font-size=\"11.00\" fill=\"#000000\">Op</text>\n</a>\n</g>\n</g>\n<!-- pca_0 -->\n<g id=\"node4\" class=\"node\">\n<title>pca_0</title>\n<g id=\"a_node4\"><a xlink:href=\"https://scikit-learn.org/stable/modules/generated/sklearn.decomposition.PCA.html\" xlink:title=\"pca_0 = PCA\">\n<ellipse fill=\"#7ec0ee\" stroke=\"#000000\" cx=\"165\" cy=\"-240\" rx=\"27\" ry=\"18\"/>\n<text text-anchor=\"middle\" x=\"165\" y=\"-236.7\" font-family=\"Times,serif\" font-size=\"11.00\" fill=\"#000000\">PCA</text>\n</a>\n</g>\n</g>\n<!-- no_op_2&#45;&gt;pca_0 -->\n<g id=\"edge1\" class=\"edge\">\n<title>no_op_2&#45;&gt;pca_0</title>\n<path fill=\"none\" stroke=\"#000000\" d=\"M109.9967,-240C115.7458,-240 121.7244,-240 127.5309,-240\"/>\n<polygon fill=\"#000000\" stroke=\"#000000\" points=\"120.0001,-243.5004 130,-240 119.9999,-236.5004 120.0001,-243.5004\"/>\n</g>\n<!-- pca_1 -->\n<g id=\"node7\" class=\"node\">\n<title>pca_1</title>\n<g id=\"a_node7\"><a xlink:href=\"https://scikit-learn.org/stable/modules/generated/sklearn.decomposition.PCA.html\" xlink:title=\"pca_1 = PCA\">\n<ellipse fill=\"#7ec0ee\" stroke=\"#000000\" cx=\"259\" cy=\"-240\" rx=\"27\" ry=\"18\"/>\n<text text-anchor=\"middle\" x=\"259\" y=\"-236.7\" font-family=\"Times,serif\" font-size=\"11.00\" fill=\"#000000\">PCA</text>\n</a>\n</g>\n</g>\n<!-- pca_0&#45;&gt;pca_1 -->\n<g id=\"edge2\" class=\"edge\">\n<title>pca_0&#45;&gt;pca_1</title>\n<path fill=\"none\" stroke=\"#000000\" d=\"M215.9984,-240C217.9646,-240 219.9215,-240 221.8551,-240\"/>\n<polygon fill=\"#000000\" stroke=\"#000000\" points=\"214.0002,-243.5005 224,-240 213.9998,-236.5005 214.0002,-243.5005\"/>\n</g>\n<!-- norm_0 -->\n<g id=\"node5\" class=\"node\">\n<title>norm_0</title>\n<g id=\"a_node5\"><a xlink:href=\"https://scikit-learn.org/stable/modules/generated/sklearn.preprocessing.Normalizer.html\" xlink:title=\"norm_0 = Norm\">\n<ellipse fill=\"#7ec0ee\" stroke=\"#000000\" cx=\"165\" cy=\"-197\" rx=\"27\" ry=\"18\"/>\n<text text-anchor=\"middle\" x=\"165\" y=\"-193.7\" font-family=\"Times,serif\" font-size=\"11.00\" fill=\"#000000\">Norm</text>\n</a>\n</g>\n</g>\n<!-- poly_feat_0 -->\n<g id=\"node6\" class=\"node\">\n<title>poly_feat_0</title>\n<g id=\"a_node6\"><a xlink:href=\"https://scikit-learn.org/stable/modules/generated/sklearn.preprocessing.PolynomialFeatures.html\" xlink:title=\"poly_feat_0 = PolyFeat\">\n<ellipse fill=\"#7ec0ee\" stroke=\"#000000\" cx=\"165\" cy=\"-154\" rx=\"27\" ry=\"18.2703\"/>\n<text text-anchor=\"middle\" x=\"165\" y=\"-156.2\" font-family=\"Times,serif\" font-size=\"11.00\" fill=\"#000000\">Poly&#45;</text>\n<text text-anchor=\"middle\" x=\"165\" y=\"-145.2\" font-family=\"Times,serif\" font-size=\"11.00\" fill=\"#000000\">Feat</text>\n</a>\n</g>\n</g>\n<!-- lr -->\n<g id=\"node10\" class=\"node\">\n<title>lr</title>\n<g id=\"a_node10\"><a xlink:href=\"http://scikit-learn.org/stable/modules/generated/sklearn.linear_model.LogisticRegression.html\" xlink:title=\"lr = LR\">\n<ellipse fill=\"#7ec0ee\" stroke=\"#000000\" cx=\"354.3913\" cy=\"-240\" rx=\"27\" ry=\"18\"/>\n<text text-anchor=\"middle\" x=\"354.3913\" y=\"-236.7\" font-family=\"Times,serif\" font-size=\"11.00\" fill=\"#000000\">LR</text>\n</a>\n</g>\n</g>\n<!-- pca_1&#45;&gt;lr -->\n<g id=\"edge3\" class=\"edge\">\n<title>pca_1&#45;&gt;lr</title>\n<path fill=\"none\" stroke=\"#000000\" d=\"M309.9975,-240C312.4123,-240 314.8158,-240 317.1829,-240\"/>\n<polygon fill=\"#000000\" stroke=\"#000000\" points=\"308.0004,-243.5012 318,-240 307.9996,-236.5012 308.0004,-243.5012\"/>\n</g>\n<!-- norm_1 -->\n<g id=\"node8\" class=\"node\">\n<title>norm_1</title>\n<g id=\"a_node8\"><a xlink:href=\"https://scikit-learn.org/stable/modules/generated/sklearn.preprocessing.Normalizer.html\" xlink:title=\"norm_1 = Norm\">\n<ellipse fill=\"#7ec0ee\" stroke=\"#000000\" cx=\"259\" cy=\"-197\" rx=\"27\" ry=\"18\"/>\n<text text-anchor=\"middle\" x=\"259\" y=\"-193.7\" font-family=\"Times,serif\" font-size=\"11.00\" fill=\"#000000\">Norm</text>\n</a>\n</g>\n</g>\n<!-- poly_feat_1 -->\n<g id=\"node9\" class=\"node\">\n<title>poly_feat_1</title>\n<g id=\"a_node9\"><a xlink:href=\"https://scikit-learn.org/stable/modules/generated/sklearn.preprocessing.PolynomialFeatures.html\" xlink:title=\"poly_feat_1 = PolyFeat\">\n<ellipse fill=\"#7ec0ee\" stroke=\"#000000\" cx=\"259\" cy=\"-154\" rx=\"27\" ry=\"18.2703\"/>\n<text text-anchor=\"middle\" x=\"259\" y=\"-156.2\" font-family=\"Times,serif\" font-size=\"11.00\" fill=\"#000000\">Poly&#45;</text>\n<text text-anchor=\"middle\" x=\"259\" y=\"-145.2\" font-family=\"Times,serif\" font-size=\"11.00\" fill=\"#000000\">Feat</text>\n</a>\n</g>\n</g>\n<!-- linear_svc -->\n<g id=\"node11\" class=\"node\">\n<title>linear_svc</title>\n<g id=\"a_node11\"><a xlink:href=\"https://scikit-learn.org/stable/modules/generated/sklearn.svm.LinearSVC.html\" xlink:title=\"linear_svc = LinearSVC(dual=False)\">\n<ellipse fill=\"#b0e2ff\" stroke=\"#000000\" cx=\"354.3913\" cy=\"-197\" rx=\"28.283\" ry=\"18.2703\"/>\n<text text-anchor=\"middle\" x=\"354.3913\" y=\"-199.2\" font-family=\"Times,serif\" font-size=\"11.00\" fill=\"#000000\">Linear&#45;</text>\n<text text-anchor=\"middle\" x=\"354.3913\" y=\"-188.2\" font-family=\"Times,serif\" font-size=\"11.00\" fill=\"#000000\">SVC</text>\n</a>\n</g>\n</g>\n<!-- xg_boost -->\n<g id=\"node12\" class=\"node\">\n<title>xg_boost</title>\n<g id=\"a_node12\"><a xlink:href=\"https://xgboost.readthedocs.io/en/latest/python/python_api.html#module-xgboost.sklearn\" xlink:title=\"xg_boost = XGBoost\">\n<ellipse fill=\"#7ec0ee\" stroke=\"#000000\" cx=\"354.3913\" cy=\"-153\" rx=\"27\" ry=\"18.2703\"/>\n<text text-anchor=\"middle\" x=\"354.3913\" y=\"-155.2\" font-family=\"Times,serif\" font-size=\"11.00\" fill=\"#000000\">XG&#45;</text>\n<text text-anchor=\"middle\" x=\"354.3913\" y=\"-144.2\" font-family=\"Times,serif\" font-size=\"11.00\" fill=\"#000000\">Boost</text>\n</a>\n</g>\n</g>\n</g>\n</svg>\n",
      "text/plain": "<graphviz.dot.Digraph at 0x121fa3470>"
     },
     "execution_count": 9,
     "metadata": {},
     "output_type": "execute_result"
    }
   ],
   "source": [
    "from lale.grammar import Grammar\n",
    "\n",
    "g = Grammar()\n",
    "\n",
    "g.start    = make_pipeline(g.rec_tfms, g.prim_est)\n",
    "g.rec_tfms = NoOp | make_pipeline(g.rec_tfms, g.prim_tfm)\n",
    "g.prim_tfm = PCA | Norm | PolyFeat\n",
    "g.prim_est = LR | LinearSVC(dual=False) | XGBoost\n",
    "\n",
    "unrolled = g.unfold(3)\n",
    "unrolled.visualize()"
   ]
  },
  {
   "cell_type": "code",
   "execution_count": 10,
   "metadata": {},
   "outputs": [
    {
     "data": {
      "text/markdown": "```python\nlinear_svc = LinearSVC(dual=False)\npipeline = (NoOp | (NoOp | (NoOp) >> (PCA | Norm | PolyFeat)) >> (PCA | Norm | PolyFeat)) >> (LR | linear_svc | XGBoost)\n```",
      "text/plain": "<IPython.core.display.Markdown object>"
     },
     "metadata": {},
     "output_type": "display_data"
    }
   ],
   "source": [
    "unrolled.pretty_print(ipython_display=True, show_imports=False)"
   ]
  }
 ],
 "metadata": {
  "kernelspec": {
   "display_name": "Python 3",
   "language": "python",
   "name": "python3"
  },
  "language_info": {
   "codemirror_mode": {
    "name": "ipython",
    "version": 3
   },
   "file_extension": ".py",
   "mimetype": "text/x-python",
   "name": "python",
   "nbconvert_exporter": "python",
   "pygments_lexer": "ipython3",
   "version": "3.7.1-final"
  }
 },
 "nbformat": 4,
 "nbformat_minor": 2
}